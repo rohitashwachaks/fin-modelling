{
 "cells": [
  {
   "cell_type": "markdown",
   "id": "ccc14217",
   "metadata": {},
   "source": [
    "# Prediction"
   ]
  },
  {
   "cell_type": "code",
   "execution_count": 1,
   "id": "db6c3e2d",
   "metadata": {},
   "outputs": [],
   "source": [
    "import pandas as pd\n",
    "from sklearn.preprocessing import StandardScaler\n",
    "from sklearn.decomposition import PCA\n",
    "import matplotlib.pyplot as plt\n",
    "from sklearn.linear_model import LogisticRegression\n",
    "from sklearn.model_selection import train_test_split\n",
    "from sklearn.ensemble import RandomForestClassifier\n",
    "from sklearn.metrics import accuracy_score\n",
    "from sklearn.ensemble import GradientBoostingClassifier\n",
    "\n",
    "import imblearn\n",
    "from imblearn.over_sampling import RandomOverSampler\n",
    "from imblearn.over_sampling import SMOTE, ADASYN\n"
   ]
  },
  {
   "cell_type": "code",
   "execution_count": 2,
   "id": "f87656f3",
   "metadata": {},
   "outputs": [
    {
     "data": {
      "text/html": [
       "<div>\n",
       "<style scoped>\n",
       "    .dataframe tbody tr th:only-of-type {\n",
       "        vertical-align: middle;\n",
       "    }\n",
       "\n",
       "    .dataframe tbody tr th {\n",
       "        vertical-align: top;\n",
       "    }\n",
       "\n",
       "    .dataframe thead th {\n",
       "        text-align: right;\n",
       "    }\n",
       "</style>\n",
       "<table border=\"1\" class=\"dataframe\">\n",
       "  <thead>\n",
       "    <tr style=\"text-align: right;\">\n",
       "      <th></th>\n",
       "      <th>filename</th>\n",
       "      <th>text</th>\n",
       "      <th>cik_x</th>\n",
       "      <th>date</th>\n",
       "      <th>grade</th>\n",
       "      <th>clean_text</th>\n",
       "      <th>positive_sentiment_mean</th>\n",
       "      <th>positive_sentiment_std</th>\n",
       "      <th>negetive_sentiment_mean</th>\n",
       "      <th>negetive_sentiment_std</th>\n",
       "      <th>...</th>\n",
       "      <th>priusa</th>\n",
       "      <th>sic</th>\n",
       "      <th>spcindcd</th>\n",
       "      <th>spcseccd</th>\n",
       "      <th>spcsrc</th>\n",
       "      <th>state</th>\n",
       "      <th>stko</th>\n",
       "      <th>weburl</th>\n",
       "      <th>dldte</th>\n",
       "      <th>ipodate</th>\n",
       "    </tr>\n",
       "  </thead>\n",
       "  <tbody>\n",
       "    <tr>\n",
       "      <th>0</th>\n",
       "      <td>./data/processed/txt/fallen/0001144519_2005-12...</td>\n",
       "      <td>10-K 1 a06-6603_110k.htm ANNUAL REPORT PURSUAN...</td>\n",
       "      <td>1144519</td>\n",
       "      <td>0</td>\n",
       "      <td>fallen</td>\n",
       "      <td>10k 1 a066603110k.htm annual report pursuant s...</td>\n",
       "      <td>0.116778</td>\n",
       "      <td>0.159499</td>\n",
       "      <td>0.043752</td>\n",
       "      <td>0.098366</td>\n",
       "      <td>...</td>\n",
       "      <td>1.0</td>\n",
       "      <td>2040.0</td>\n",
       "      <td>250.0</td>\n",
       "      <td>978.0</td>\n",
       "      <td>B</td>\n",
       "      <td>MO</td>\n",
       "      <td>0.0</td>\n",
       "      <td>www.bunge.com</td>\n",
       "      <td>NaN</td>\n",
       "      <td>NaN</td>\n",
       "    </tr>\n",
       "    <tr>\n",
       "      <th>1</th>\n",
       "      <td>./data/processed/txt/fallen/0000027500_2001-11...</td>\n",
       "      <td>10-Q 1 d93287e10-q.txt FORM 10-Q FOR QUARTER E...</td>\n",
       "      <td>27500</td>\n",
       "      <td>0</td>\n",
       "      <td>fallen</td>\n",
       "      <td>10q 1 d93287e10q.txt form 10q quarter ended no...</td>\n",
       "      <td>0.020338</td>\n",
       "      <td>0.090538</td>\n",
       "      <td>0.004755</td>\n",
       "      <td>0.044588</td>\n",
       "      <td>...</td>\n",
       "      <td>NaN</td>\n",
       "      <td>NaN</td>\n",
       "      <td>NaN</td>\n",
       "      <td>NaN</td>\n",
       "      <td>NaN</td>\n",
       "      <td>NaN</td>\n",
       "      <td>NaN</td>\n",
       "      <td>NaN</td>\n",
       "      <td>NaN</td>\n",
       "      <td>NaN</td>\n",
       "    </tr>\n",
       "    <tr>\n",
       "      <th>2</th>\n",
       "      <td>./data/processed/txt/fallen/0000095521_2005-12...</td>\n",
       "      <td>10-Q 1 d10q.htm FORM 10-Q Form 10-Q UNITED STA...</td>\n",
       "      <td>95521</td>\n",
       "      <td>0</td>\n",
       "      <td>fallen</td>\n",
       "      <td>10q 1 d10q.htm form 10q form 10q united state ...</td>\n",
       "      <td>0.112517</td>\n",
       "      <td>0.163165</td>\n",
       "      <td>0.023437</td>\n",
       "      <td>0.069721</td>\n",
       "      <td>...</td>\n",
       "      <td>1.0</td>\n",
       "      <td>5141.0</td>\n",
       "      <td>217.0</td>\n",
       "      <td>978.0</td>\n",
       "      <td>B-</td>\n",
       "      <td>MN</td>\n",
       "      <td>0.0</td>\n",
       "      <td>www.supervalu.com</td>\n",
       "      <td>22/10/2018</td>\n",
       "      <td>NaN</td>\n",
       "    </tr>\n",
       "    <tr>\n",
       "      <th>3</th>\n",
       "      <td>./data/processed/txt/fallen/0000003333_2005-05...</td>\n",
       "      <td>10-Q 1 v09820e10vq.htm FORM 10-Q e10vq Table o...</td>\n",
       "      <td>3333</td>\n",
       "      <td>0</td>\n",
       "      <td>fallen</td>\n",
       "      <td>10q 1 v09820e10vq.htm form 10q e10vq table con...</td>\n",
       "      <td>0.119319</td>\n",
       "      <td>0.158512</td>\n",
       "      <td>0.045622</td>\n",
       "      <td>0.107093</td>\n",
       "      <td>...</td>\n",
       "      <td>1.0</td>\n",
       "      <td>5411.0</td>\n",
       "      <td>440.0</td>\n",
       "      <td>978.0</td>\n",
       "      <td>B+</td>\n",
       "      <td>ID</td>\n",
       "      <td>0.0</td>\n",
       "      <td>NaN</td>\n",
       "      <td>02/06/2006</td>\n",
       "      <td>NaN</td>\n",
       "    </tr>\n",
       "    <tr>\n",
       "      <th>4</th>\n",
       "      <td>./data/processed/txt/fallen/0001016179_2001-06...</td>\n",
       "      <td>10-Q 1 p65397e10-q.htm 10-Q e10-q UNITED STATE...</td>\n",
       "      <td>1016179</td>\n",
       "      <td>0</td>\n",
       "      <td>fallen</td>\n",
       "      <td>10q 1 p65397e10q.htm 10q e10q united state sec...</td>\n",
       "      <td>0.103316</td>\n",
       "      <td>0.156175</td>\n",
       "      <td>0.024699</td>\n",
       "      <td>0.084460</td>\n",
       "      <td>...</td>\n",
       "      <td>1.0</td>\n",
       "      <td>2840.0</td>\n",
       "      <td>320.0</td>\n",
       "      <td>978.0</td>\n",
       "      <td>NaN</td>\n",
       "      <td>AZ</td>\n",
       "      <td>0.0</td>\n",
       "      <td>www.dialsoap.com</td>\n",
       "      <td>30/03/2004</td>\n",
       "      <td>30/07/1996</td>\n",
       "    </tr>\n",
       "  </tbody>\n",
       "</table>\n",
       "<p>5 rows × 996 columns</p>\n",
       "</div>"
      ],
      "text/plain": [
       "                                            filename  \\\n",
       "0  ./data/processed/txt/fallen/0001144519_2005-12...   \n",
       "1  ./data/processed/txt/fallen/0000027500_2001-11...   \n",
       "2  ./data/processed/txt/fallen/0000095521_2005-12...   \n",
       "3  ./data/processed/txt/fallen/0000003333_2005-05...   \n",
       "4  ./data/processed/txt/fallen/0001016179_2001-06...   \n",
       "\n",
       "                                                text    cik_x  date   grade  \\\n",
       "0  10-K 1 a06-6603_110k.htm ANNUAL REPORT PURSUAN...  1144519     0  fallen   \n",
       "1  10-Q 1 d93287e10-q.txt FORM 10-Q FOR QUARTER E...    27500     0  fallen   \n",
       "2  10-Q 1 d10q.htm FORM 10-Q Form 10-Q UNITED STA...    95521     0  fallen   \n",
       "3  10-Q 1 v09820e10vq.htm FORM 10-Q e10vq Table o...     3333     0  fallen   \n",
       "4  10-Q 1 p65397e10-q.htm 10-Q e10-q UNITED STATE...  1016179     0  fallen   \n",
       "\n",
       "                                          clean_text  positive_sentiment_mean  \\\n",
       "0  10k 1 a066603110k.htm annual report pursuant s...                 0.116778   \n",
       "1  10q 1 d93287e10q.txt form 10q quarter ended no...                 0.020338   \n",
       "2  10q 1 d10q.htm form 10q form 10q united state ...                 0.112517   \n",
       "3  10q 1 v09820e10vq.htm form 10q e10vq table con...                 0.119319   \n",
       "4  10q 1 p65397e10q.htm 10q e10q united state sec...                 0.103316   \n",
       "\n",
       "   positive_sentiment_std  negetive_sentiment_mean  negetive_sentiment_std  \\\n",
       "0                0.159499                 0.043752                0.098366   \n",
       "1                0.090538                 0.004755                0.044588   \n",
       "2                0.163165                 0.023437                0.069721   \n",
       "3                0.158512                 0.045622                0.107093   \n",
       "4                0.156175                 0.024699                0.084460   \n",
       "\n",
       "   ...  priusa     sic  spcindcd  spcseccd  spcsrc  state stko  \\\n",
       "0  ...     1.0  2040.0     250.0     978.0       B     MO  0.0   \n",
       "1  ...     NaN     NaN       NaN       NaN     NaN    NaN  NaN   \n",
       "2  ...     1.0  5141.0     217.0     978.0      B-     MN  0.0   \n",
       "3  ...     1.0  5411.0     440.0     978.0      B+     ID  0.0   \n",
       "4  ...     1.0  2840.0     320.0     978.0     NaN     AZ  0.0   \n",
       "\n",
       "              weburl       dldte     ipodate  \n",
       "0      www.bunge.com         NaN         NaN  \n",
       "1                NaN         NaN         NaN  \n",
       "2  www.supervalu.com  22/10/2018         NaN  \n",
       "3                NaN  02/06/2006         NaN  \n",
       "4   www.dialsoap.com  30/03/2004  30/07/1996  \n",
       "\n",
       "[5 rows x 996 columns]"
      ]
     },
     "execution_count": 2,
     "metadata": {},
     "output_type": "execute_result"
    }
   ],
   "source": [
    "df = pd.read_excel('cosument_staple.xlsx')\n",
    "df.columns\n",
    "df.drop(['Unnamed: 0','Unnamed: 0.1'],axis=1,inplace=True)\n",
    "df.head()"
   ]
  },
  {
   "cell_type": "code",
   "execution_count": 3,
   "id": "f6c77da1",
   "metadata": {},
   "outputs": [],
   "source": [
    "#dropping columns with over 10% missing values\n",
    "for i in df:\n",
    "    if(df[i].isna().sum() > 6):\n",
    "        df.drop(i,axis=1,inplace=True)\n",
    "df = df.dropna()"
   ]
  },
  {
   "cell_type": "code",
   "execution_count": 4,
   "id": "b830aedf",
   "metadata": {
    "scrolled": false
   },
   "outputs": [
    {
     "data": {
      "text/plain": [
       "0    90\n",
       "1    28\n",
       "Name: grade, dtype: int64"
      ]
     },
     "execution_count": 4,
     "metadata": {},
     "output_type": "execute_result"
    }
   ],
   "source": [
    "#changing from string to numeric\n",
    "df['grade'] = df['grade'].apply(lambda x: 1 if x == 'fallen' else 0)\n",
    "df['grade'].value_counts()"
   ]
  },
  {
   "cell_type": "code",
   "execution_count": 5,
   "id": "e2b6d0fb",
   "metadata": {},
   "outputs": [],
   "source": [
    "#dropping non_numeric columns\n",
    "drop_non_numeric = []\n",
    "for i in df.columns:\n",
    "    if(df[i].dtype == 'O'):\n",
    "        drop_non_numeric.append(i)\n",
    "\n",
    "df.drop(drop_non_numeric, axis=1,inplace=True)"
   ]
  },
  {
   "cell_type": "code",
   "execution_count": 6,
   "id": "64a4ce78",
   "metadata": {},
   "outputs": [],
   "source": [
    "#dropping cols with 0 standard deviation\n",
    "for i in df:\n",
    "    if(df[i].std() == 0.0):\n",
    "        df.drop(i, axis=1,inplace=True)"
   ]
  },
  {
   "cell_type": "code",
   "execution_count": 7,
   "id": "b8682d65",
   "metadata": {},
   "outputs": [],
   "source": [
    "#drop cols with low unique values\n",
    "low_unique = []\n",
    "for i in range(5, len(df.columns)):\n",
    "    if(len(df.iloc[:,i].value_counts()) <= 11):\n",
    "        low_unique.append(df.columns[i])\n",
    "        \n",
    "df.drop(low_unique, axis=1,inplace=True)    "
   ]
  },
  {
   "cell_type": "code",
   "execution_count": 8,
   "id": "c3e7e9de",
   "metadata": {},
   "outputs": [],
   "source": [
    "#manually dropping some other columns\n",
    "drop_cols = ['cik_x','cik_year','year','gvkey','fyear']\n",
    "df.drop(drop_cols, axis=1,inplace=True)"
   ]
  },
  {
   "cell_type": "code",
   "execution_count": 9,
   "id": "1340db16",
   "metadata": {},
   "outputs": [],
   "source": [
    "#scaling the financial data\n",
    "scaler = StandardScaler()\n",
    "X = scaler.fit_transform(df.iloc[:,8:])"
   ]
  },
  {
   "cell_type": "code",
   "execution_count": 10,
   "id": "9b5a5fb7",
   "metadata": {},
   "outputs": [
    {
     "data": {
      "text/plain": [
       "Text(0, 0.5, 'Explained variance')"
      ]
     },
     "execution_count": 10,
     "metadata": {},
     "output_type": "execute_result"
    },
    {
     "data": {
      "image/png": "[encoded data removed]",
      "text/plain": [
       "<Figure size 432x288 with 1 Axes>"
      ]
     },
     "metadata": {
      "needs_background": "light"
     },
     "output_type": "display_data"
    }
   ],
   "source": [
    "#finding principal components to reduce dimensionality and remove the correlation between the variables\n",
    "pca = PCA(n_components=110)\n",
    "pca.fit(X)\n",
    "\n",
    "plt.plot(pd.Series(pca.explained_variance_ratio_.cumsum()))\n",
    "plt.hlines(y = 0.8, xmin= plt.gca().get_xlim()[0], xmax= plt.gca().get_xlim()[1], colors= 'red', linestyles='dotted')\n",
    "plt.xlabel('Number of principal components')\n",
    "plt.ylabel('Explained variance')\n",
    "# pd.Series(pca.explained_variance_ratio_.cumsum())[:7]"
   ]
  },
  {
   "cell_type": "code",
   "execution_count": 11,
   "id": "9f1afe36",
   "metadata": {},
   "outputs": [],
   "source": [
    "#choose 20 principal components and add to the dataset\n",
    "prin_components = 7\n",
    "pca = PCA(n_components= prin_components)\n",
    "transformed = pca.fit_transform(X)\n",
    "names = []\n",
    "root = 'Prin_'\n",
    "for i in range(1,prin_components+1):\n",
    "    names.append(root + str(i))  \n",
    "df = df.iloc[:,0:8]\n",
    "df[names] = transformed"
   ]
  },
  {
   "cell_type": "code",
   "execution_count": 12,
   "id": "014dfe33",
   "metadata": {},
   "outputs": [],
   "source": [
    "#reset index\n",
    "df.reset_index(inplace=True)\n",
    "df.drop('index',axis=1,inplace=True)"
   ]
  },
  {
   "cell_type": "markdown",
   "id": "2b999edb",
   "metadata": {},
   "source": [
    "## Correlation plot"
   ]
  },
  {
   "cell_type": "code",
   "execution_count": 13,
   "id": "5d5e739d",
   "metadata": {},
   "outputs": [],
   "source": [
    "import seaborn as sns"
   ]
  },
  {
   "cell_type": "code",
   "execution_count": 14,
   "id": "628fe889",
   "metadata": {},
   "outputs": [
    {
     "data": {
      "text/html": [
       "<div>\n",
       "<style scoped>\n",
       "    .dataframe tbody tr th:only-of-type {\n",
       "        vertical-align: middle;\n",
       "    }\n",
       "\n",
       "    .dataframe tbody tr th {\n",
       "        vertical-align: top;\n",
       "    }\n",
       "\n",
       "    .dataframe thead th {\n",
       "        text-align: right;\n",
       "    }\n",
       "</style>\n",
       "<table border=\"1\" class=\"dataframe\">\n",
       "  <thead>\n",
       "    <tr style=\"text-align: right;\">\n",
       "      <th></th>\n",
       "      <th>grade</th>\n",
       "      <th>positive_sentiment_mean</th>\n",
       "      <th>positive_sentiment_std</th>\n",
       "      <th>negetive_sentiment_mean</th>\n",
       "      <th>negetive_sentiment_std</th>\n",
       "      <th>total_words</th>\n",
       "      <th>risky_words</th>\n",
       "      <th>fog_index</th>\n",
       "    </tr>\n",
       "  </thead>\n",
       "  <tbody>\n",
       "    <tr>\n",
       "      <th>grade</th>\n",
       "      <td>1.000000</td>\n",
       "      <td>0.033370</td>\n",
       "      <td>0.075011</td>\n",
       "      <td>-0.010071</td>\n",
       "      <td>0.005221</td>\n",
       "      <td>0.293760</td>\n",
       "      <td>0.207100</td>\n",
       "      <td>-0.187317</td>\n",
       "    </tr>\n",
       "    <tr>\n",
       "      <th>positive_sentiment_mean</th>\n",
       "      <td>0.033370</td>\n",
       "      <td>1.000000</td>\n",
       "      <td>0.719720</td>\n",
       "      <td>0.610611</td>\n",
       "      <td>0.497357</td>\n",
       "      <td>-0.018052</td>\n",
       "      <td>-0.044288</td>\n",
       "      <td>-0.567128</td>\n",
       "    </tr>\n",
       "    <tr>\n",
       "      <th>positive_sentiment_std</th>\n",
       "      <td>0.075011</td>\n",
       "      <td>0.719720</td>\n",
       "      <td>1.000000</td>\n",
       "      <td>0.129129</td>\n",
       "      <td>0.080149</td>\n",
       "      <td>0.180884</td>\n",
       "      <td>0.111450</td>\n",
       "      <td>-0.459706</td>\n",
       "    </tr>\n",
       "    <tr>\n",
       "      <th>negetive_sentiment_mean</th>\n",
       "      <td>-0.010071</td>\n",
       "      <td>0.610611</td>\n",
       "      <td>0.129129</td>\n",
       "      <td>1.000000</td>\n",
       "      <td>0.944566</td>\n",
       "      <td>-0.219537</td>\n",
       "      <td>-0.079659</td>\n",
       "      <td>-0.324373</td>\n",
       "    </tr>\n",
       "    <tr>\n",
       "      <th>negetive_sentiment_std</th>\n",
       "      <td>0.005221</td>\n",
       "      <td>0.497357</td>\n",
       "      <td>0.080149</td>\n",
       "      <td>0.944566</td>\n",
       "      <td>1.000000</td>\n",
       "      <td>-0.226877</td>\n",
       "      <td>-0.141219</td>\n",
       "      <td>-0.287474</td>\n",
       "    </tr>\n",
       "    <tr>\n",
       "      <th>total_words</th>\n",
       "      <td>0.293760</td>\n",
       "      <td>-0.018052</td>\n",
       "      <td>0.180884</td>\n",
       "      <td>-0.219537</td>\n",
       "      <td>-0.226877</td>\n",
       "      <td>1.000000</td>\n",
       "      <td>0.863380</td>\n",
       "      <td>-0.421063</td>\n",
       "    </tr>\n",
       "    <tr>\n",
       "      <th>risky_words</th>\n",
       "      <td>0.207100</td>\n",
       "      <td>-0.044288</td>\n",
       "      <td>0.111450</td>\n",
       "      <td>-0.079659</td>\n",
       "      <td>-0.141219</td>\n",
       "      <td>0.863380</td>\n",
       "      <td>1.000000</td>\n",
       "      <td>-0.342969</td>\n",
       "    </tr>\n",
       "    <tr>\n",
       "      <th>fog_index</th>\n",
       "      <td>-0.187317</td>\n",
       "      <td>-0.567128</td>\n",
       "      <td>-0.459706</td>\n",
       "      <td>-0.324373</td>\n",
       "      <td>-0.287474</td>\n",
       "      <td>-0.421063</td>\n",
       "      <td>-0.342969</td>\n",
       "      <td>1.000000</td>\n",
       "    </tr>\n",
       "  </tbody>\n",
       "</table>\n",
       "</div>"
      ],
      "text/plain": [
       "                            grade  positive_sentiment_mean  \\\n",
       "grade                    1.000000                 0.033370   \n",
       "positive_sentiment_mean  0.033370                 1.000000   \n",
       "positive_sentiment_std   0.075011                 0.719720   \n",
       "negetive_sentiment_mean -0.010071                 0.610611   \n",
       "negetive_sentiment_std   0.005221                 0.497357   \n",
       "total_words              0.293760                -0.018052   \n",
       "risky_words              0.207100                -0.044288   \n",
       "fog_index               -0.187317                -0.567128   \n",
       "\n",
       "                         positive_sentiment_std  negetive_sentiment_mean  \\\n",
       "grade                                  0.075011                -0.010071   \n",
       "positive_sentiment_mean                0.719720                 0.610611   \n",
       "positive_sentiment_std                 1.000000                 0.129129   \n",
       "negetive_sentiment_mean                0.129129                 1.000000   \n",
       "negetive_sentiment_std                 0.080149                 0.944566   \n",
       "total_words                            0.180884                -0.219537   \n",
       "risky_words                            0.111450                -0.079659   \n",
       "fog_index                             -0.459706                -0.324373   \n",
       "\n",
       "                         negetive_sentiment_std  total_words  risky_words  \\\n",
       "grade                                  0.005221     0.293760     0.207100   \n",
       "positive_sentiment_mean                0.497357    -0.018052    -0.044288   \n",
       "positive_sentiment_std                 0.080149     0.180884     0.111450   \n",
       "negetive_sentiment_mean                0.944566    -0.219537    -0.079659   \n",
       "negetive_sentiment_std                 1.000000    -0.226877    -0.141219   \n",
       "total_words                           -0.226877     1.000000     0.863380   \n",
       "risky_words                           -0.141219     0.863380     1.000000   \n",
       "fog_index                             -0.287474    -0.421063    -0.342969   \n",
       "\n",
       "                         fog_index  \n",
       "grade                    -0.187317  \n",
       "positive_sentiment_mean  -0.567128  \n",
       "positive_sentiment_std   -0.459706  \n",
       "negetive_sentiment_mean  -0.324373  \n",
       "negetive_sentiment_std   -0.287474  \n",
       "total_words              -0.421063  \n",
       "risky_words              -0.342969  \n",
       "fog_index                 1.000000  "
      ]
     },
     "execution_count": 14,
     "metadata": {},
     "output_type": "execute_result"
    },
    {
     "data": {
      "image/png": "[encoded data removed]",
      "text/plain": [
       "<Figure size 432x288 with 2 Axes>"
      ]
     },
     "metadata": {
      "needs_background": "light"
     },
     "output_type": "display_data"
    }
   ],
   "source": [
    "sns.heatmap(df.iloc[:,:8].corr(), center= 0, annot= True)\n",
    "df.iloc[:,:8].corr()"
   ]
  },
  {
   "cell_type": "code",
   "execution_count": 15,
   "id": "78ec375d",
   "metadata": {},
   "outputs": [
    {
     "name": "stderr",
     "output_type": "stream",
     "text": [
      "/var/folders/y3/v6fyb_rs72bcn7ftc3lvwvmw0000gn/T/ipykernel_72854/3234124924.py:1: FutureWarning: Indexing with multiple keys (implicitly converted to a tuple of keys) will be deprecated, use a list instead.\n",
      "  df.groupby(['grade'])['positive_sentiment_mean','negetive_sentiment_mean'].agg(['mean', 'std','count'])\n"
     ]
    },
    {
     "data": {
      "text/html": [
       "<div>\n",
       "<style scoped>\n",
       "    .dataframe tbody tr th:only-of-type {\n",
       "        vertical-align: middle;\n",
       "    }\n",
       "\n",
       "    .dataframe tbody tr th {\n",
       "        vertical-align: top;\n",
       "    }\n",
       "\n",
       "    .dataframe thead tr th {\n",
       "        text-align: left;\n",
       "    }\n",
       "\n",
       "    .dataframe thead tr:last-of-type th {\n",
       "        text-align: right;\n",
       "    }\n",
       "</style>\n",
       "<table border=\"1\" class=\"dataframe\">\n",
       "  <thead>\n",
       "    <tr>\n",
       "      <th></th>\n",
       "      <th colspan=\"3\" halign=\"left\">positive_sentiment_mean</th>\n",
       "      <th colspan=\"3\" halign=\"left\">negetive_sentiment_mean</th>\n",
       "    </tr>\n",
       "    <tr>\n",
       "      <th></th>\n",
       "      <th>mean</th>\n",
       "      <th>std</th>\n",
       "      <th>count</th>\n",
       "      <th>mean</th>\n",
       "      <th>std</th>\n",
       "      <th>count</th>\n",
       "    </tr>\n",
       "    <tr>\n",
       "      <th>grade</th>\n",
       "      <th></th>\n",
       "      <th></th>\n",
       "      <th></th>\n",
       "      <th></th>\n",
       "      <th></th>\n",
       "      <th></th>\n",
       "    </tr>\n",
       "  </thead>\n",
       "  <tbody>\n",
       "    <tr>\n",
       "      <th>0</th>\n",
       "      <td>0.096337</td>\n",
       "      <td>0.021849</td>\n",
       "      <td>90</td>\n",
       "      <td>0.035831</td>\n",
       "      <td>0.015113</td>\n",
       "      <td>90</td>\n",
       "    </tr>\n",
       "    <tr>\n",
       "      <th>1</th>\n",
       "      <td>0.097985</td>\n",
       "      <td>0.018847</td>\n",
       "      <td>28</td>\n",
       "      <td>0.035471</td>\n",
       "      <td>0.016088</td>\n",
       "      <td>28</td>\n",
       "    </tr>\n",
       "  </tbody>\n",
       "</table>\n",
       "</div>"
      ],
      "text/plain": [
       "      positive_sentiment_mean                 negetive_sentiment_mean  \\\n",
       "                         mean       std count                    mean   \n",
       "grade                                                                   \n",
       "0                    0.096337  0.021849    90                0.035831   \n",
       "1                    0.097985  0.018847    28                0.035471   \n",
       "\n",
       "                       \n",
       "            std count  \n",
       "grade                  \n",
       "0      0.015113    90  \n",
       "1      0.016088    28  "
      ]
     },
     "execution_count": 15,
     "metadata": {},
     "output_type": "execute_result"
    }
   ],
   "source": [
    "df.groupby(['grade'])['positive_sentiment_mean','negetive_sentiment_mean'].agg(['mean', 'std','count'])"
   ]
  },
  {
   "cell_type": "code",
   "execution_count": 16,
   "id": "a30ee991",
   "metadata": {},
   "outputs": [],
   "source": [
    "df.columns\n",
    "df.to_csv('ready_prediction.csv', index= False)"
   ]
  },
  {
   "cell_type": "markdown",
   "id": "a499a5b1",
   "metadata": {},
   "source": [
    "# Making predictions"
   ]
  },
  {
   "cell_type": "code",
   "execution_count": 17,
   "id": "e29cb011",
   "metadata": {},
   "outputs": [
    {
     "data": {
      "text/html": [
       "<div>\n",
       "<style scoped>\n",
       "    .dataframe tbody tr th:only-of-type {\n",
       "        vertical-align: middle;\n",
       "    }\n",
       "\n",
       "    .dataframe tbody tr th {\n",
       "        vertical-align: top;\n",
       "    }\n",
       "\n",
       "    .dataframe thead th {\n",
       "        text-align: right;\n",
       "    }\n",
       "</style>\n",
       "<table border=\"1\" class=\"dataframe\">\n",
       "  <thead>\n",
       "    <tr style=\"text-align: right;\">\n",
       "      <th></th>\n",
       "      <th>grade</th>\n",
       "      <th>positive_sentiment_mean</th>\n",
       "      <th>positive_sentiment_std</th>\n",
       "      <th>negetive_sentiment_mean</th>\n",
       "      <th>negetive_sentiment_std</th>\n",
       "      <th>total_words</th>\n",
       "      <th>risky_words</th>\n",
       "      <th>fog_index</th>\n",
       "      <th>Prin_1</th>\n",
       "      <th>Prin_2</th>\n",
       "      <th>Prin_3</th>\n",
       "      <th>Prin_4</th>\n",
       "      <th>Prin_5</th>\n",
       "      <th>Prin_6</th>\n",
       "      <th>Prin_7</th>\n",
       "    </tr>\n",
       "  </thead>\n",
       "  <tbody>\n",
       "    <tr>\n",
       "      <th>0</th>\n",
       "      <td>1</td>\n",
       "      <td>0.116778</td>\n",
       "      <td>0.159499</td>\n",
       "      <td>0.043752</td>\n",
       "      <td>0.098366</td>\n",
       "      <td>39397</td>\n",
       "      <td>72</td>\n",
       "      <td>12.034930</td>\n",
       "      <td>-3.074640</td>\n",
       "      <td>-2.380002</td>\n",
       "      <td>2.762110</td>\n",
       "      <td>-3.849244</td>\n",
       "      <td>6.780101</td>\n",
       "      <td>-0.551360</td>\n",
       "      <td>1.993345</td>\n",
       "    </tr>\n",
       "    <tr>\n",
       "      <th>1</th>\n",
       "      <td>1</td>\n",
       "      <td>0.112517</td>\n",
       "      <td>0.163165</td>\n",
       "      <td>0.023437</td>\n",
       "      <td>0.069721</td>\n",
       "      <td>7228</td>\n",
       "      <td>7</td>\n",
       "      <td>15.203633</td>\n",
       "      <td>-3.699426</td>\n",
       "      <td>3.808443</td>\n",
       "      <td>0.529490</td>\n",
       "      <td>-0.473043</td>\n",
       "      <td>-1.151270</td>\n",
       "      <td>-0.831529</td>\n",
       "      <td>-0.660592</td>\n",
       "    </tr>\n",
       "    <tr>\n",
       "      <th>2</th>\n",
       "      <td>1</td>\n",
       "      <td>0.119319</td>\n",
       "      <td>0.158512</td>\n",
       "      <td>0.045622</td>\n",
       "      <td>0.107093</td>\n",
       "      <td>9659</td>\n",
       "      <td>4</td>\n",
       "      <td>14.915270</td>\n",
       "      <td>7.983510</td>\n",
       "      <td>-0.302242</td>\n",
       "      <td>0.623295</td>\n",
       "      <td>-0.569538</td>\n",
       "      <td>-2.182751</td>\n",
       "      <td>-1.319191</td>\n",
       "      <td>-0.575629</td>\n",
       "    </tr>\n",
       "    <tr>\n",
       "      <th>3</th>\n",
       "      <td>1</td>\n",
       "      <td>0.103316</td>\n",
       "      <td>0.156175</td>\n",
       "      <td>0.024699</td>\n",
       "      <td>0.084460</td>\n",
       "      <td>6439</td>\n",
       "      <td>3</td>\n",
       "      <td>15.558712</td>\n",
       "      <td>-7.179240</td>\n",
       "      <td>8.942990</td>\n",
       "      <td>-1.178760</td>\n",
       "      <td>0.651984</td>\n",
       "      <td>-0.739280</td>\n",
       "      <td>-1.183608</td>\n",
       "      <td>0.836427</td>\n",
       "    </tr>\n",
       "    <tr>\n",
       "      <th>4</th>\n",
       "      <td>1</td>\n",
       "      <td>0.052281</td>\n",
       "      <td>0.121900</td>\n",
       "      <td>0.013744</td>\n",
       "      <td>0.062331</td>\n",
       "      <td>5392</td>\n",
       "      <td>3</td>\n",
       "      <td>13.909565</td>\n",
       "      <td>8.179785</td>\n",
       "      <td>0.518949</td>\n",
       "      <td>-0.215438</td>\n",
       "      <td>0.291537</td>\n",
       "      <td>-1.366998</td>\n",
       "      <td>-1.128439</td>\n",
       "      <td>-0.270722</td>\n",
       "    </tr>\n",
       "  </tbody>\n",
       "</table>\n",
       "</div>"
      ],
      "text/plain": [
       "   grade  positive_sentiment_mean  positive_sentiment_std  \\\n",
       "0      1                 0.116778                0.159499   \n",
       "1      1                 0.112517                0.163165   \n",
       "2      1                 0.119319                0.158512   \n",
       "3      1                 0.103316                0.156175   \n",
       "4      1                 0.052281                0.121900   \n",
       "\n",
       "   negetive_sentiment_mean  negetive_sentiment_std  total_words  risky_words  \\\n",
       "0                 0.043752                0.098366        39397           72   \n",
       "1                 0.023437                0.069721         7228            7   \n",
       "2                 0.045622                0.107093         9659            4   \n",
       "3                 0.024699                0.084460         6439            3   \n",
       "4                 0.013744                0.062331         5392            3   \n",
       "\n",
       "   fog_index    Prin_1    Prin_2    Prin_3    Prin_4    Prin_5    Prin_6  \\\n",
       "0  12.034930 -3.074640 -2.380002  2.762110 -3.849244  6.780101 -0.551360   \n",
       "1  15.203633 -3.699426  3.808443  0.529490 -0.473043 -1.151270 -0.831529   \n",
       "2  14.915270  7.983510 -0.302242  0.623295 -0.569538 -2.182751 -1.319191   \n",
       "3  15.558712 -7.179240  8.942990 -1.178760  0.651984 -0.739280 -1.183608   \n",
       "4  13.909565  8.179785  0.518949 -0.215438  0.291537 -1.366998 -1.128439   \n",
       "\n",
       "     Prin_7  \n",
       "0  1.993345  \n",
       "1 -0.660592  \n",
       "2 -0.575629  \n",
       "3  0.836427  \n",
       "4 -0.270722  "
      ]
     },
     "execution_count": 17,
     "metadata": {},
     "output_type": "execute_result"
    }
   ],
   "source": [
    "df = pd.read_csv('ready_prediction.csv')\n",
    "df.head()"
   ]
  },
  {
   "cell_type": "code",
   "execution_count": 18,
   "id": "a102a520",
   "metadata": {},
   "outputs": [],
   "source": [
    "Y = df.iloc[:,0]\n",
    "X = df.iloc[:,1:]"
   ]
  },
  {
   "cell_type": "code",
   "execution_count": 44,
   "id": "5730c212",
   "metadata": {},
   "outputs": [],
   "source": [
    "from sklearn.metrics import confusion_matrix\n",
    "import numpy as np\n",
    "from sklearn import metrics\n",
    "\n",
    "def print_confusion(model, X_test, y_test, plots):\n",
    "    y_pred_proba = model.predict_proba(X_test)[::,1]\n",
    "\n",
    "    #create ROC curve\n",
    "    fpr, tpr, _ = metrics.roc_curve(y_test,  y_pred_proba)\n",
    "    auc = metrics.roc_auc_score(y_test, y_pred_proba)\n",
    "    \n",
    "    # # Youden’s J statistic\n",
    "    # metric = tpr - fpr\n",
    "    # GMean Statistic\n",
    "    metric = np.sqrt(tpr*(1-fpr))\n",
    "\n",
    "    # Find index of largest value\n",
    "    ix = np.argmax(metric)\n",
    "    \n",
    "    threshold = round(_[ix],4)\n",
    "    \n",
    "    y_pred = np.where(y_pred_proba > threshold, 1, 0)\n",
    "    test_acc = (y_test == y_pred).mean()\n",
    "    \n",
    "    if (y_test == model.predict(X_test)).mean() > test_acc:\n",
    "        threshold = 0.5\n",
    "\n",
    "    train_acc = (y_train == np.where(model.predict_proba(X_train)[::,1] > threshold, 1, 0)).mean()\n",
    "    print('\\tTraining accuracy', round(train_acc,2))\n",
    "    \n",
    "\n",
    "    print('\\tTest accuracy', round(test_acc,2))\n",
    "    print()\n",
    "    \n",
    "\n",
    "    cf_matrix = confusion_matrix(y_test, y_pred)\n",
    "\n",
    "    if plots:\n",
    "        fig, ax = plt.subplots(1,2, figsize=(10, 5))\n",
    "\n",
    "        ax[0].plot(fpr,tpr,label=\"AUC=\"+str(round(auc,4)))\n",
    "        ax[0].plot([0,1], [0,1], linestyle='--', label='No Skill')\n",
    "        ax[0].scatter(fpr[ix], tpr[ix], marker='o', color='black', label= f'Best at {round(threshold, 4)}')\n",
    "        ax[0].legend(loc=4)\n",
    "        ax[0].set_ylabel('True Positive Rate')\n",
    "        ax[0].set_xlabel('False Positive Rate')\n",
    "        ax[0].set_title('ROC Curve')\n",
    "        # plt.show()\n",
    "\n",
    "        group_names = ['True Neg','False Pos','False Neg','True Pos']\n",
    "        group_counts = ['{0:0.0f}'.format(value) for value in cf_matrix.flatten()]\n",
    "        labels = [f'{v1}\\n{v2}' for v1, v2 in zip(group_names,group_counts)]\n",
    "        # group_percentages = ['{0:.2%}'.format(value) for value in cf_matrix.flatten()/np.sum(cf_matrix)]\n",
    "        # labels = [f'{v1}\\n{v2}\\n{v3}' for v1, v2, v3 in zip(group_names,group_counts,group_percentages)]\n",
    "        labels = np.asarray(labels).reshape(2,2)\n",
    "        \n",
    "        ax[1] = sns.heatmap(cf_matrix, annot= labels, fmt= '', cmap='Blues')\n",
    "        ax[1].set_xlabel('Actual')\n",
    "        ax[1].set_ylabel('Predicted')\n",
    "        ax[1].set_xticklabels(['Fallen','Not Fallen'])\n",
    "        ax[1].set_yticklabels(['Fallen','Not Fallen'])\n",
    "        ax[1].set_title(f'Confusion Matrix @ threshold = {round(threshold,2)}')\n",
    "        plt.show()\n",
    "    return train_acc, test_acc\n"
   ]
  },
  {
   "cell_type": "code",
   "execution_count": 48,
   "id": "58353f43",
   "metadata": {},
   "outputs": [],
   "source": [
    "\n",
    "def model_v2(X_train, X_test, y_train, y_test, plots = True):    \n",
    "    #logistic regression classifier (scale total words etc)\n",
    "    lr = LogisticRegression(random_state=0, max_iter=1000).fit(X_train, y_train)\n",
    "    print('Logistic Regression:')\n",
    "    lr_train, lr_test = print_confusion(lr, X_test, y_test, plots)\n",
    "   \n",
    "    #random forest classifier\n",
    "    rf = RandomForestClassifier(n_estimators = 100, random_state=0, criterion= 'gini')\n",
    "    rf.fit(X_train, y_train)\n",
    "    print('Random Forest:')\n",
    "    rf_train, rf_test = print_confusion(rf, X_test, y_test, plots)\n",
    "    \n",
    "    #gradient boosting classifier\n",
    "    gb = GradientBoostingClassifier(n_estimators=20,max_depth= 2, random_state=0)\n",
    "    gb.fit(X_train, y_train)\n",
    "    print('Gradient Boosting:')\n",
    "    gb_train, gb_test = print_confusion(gb, X_test, y_test, plots)\n",
    "    \n",
    "    if plots:\n",
    "        plt_train = [lr_train, rf_train, gb_train]\n",
    "        plt_test = [lr_test, rf_test, gb_test]\n",
    "        value = ['LR','RF','GBM']\n",
    "        fig, ax = plt.subplots(1,2, sharex= True, sharey= True)\n",
    "        ax[0].bar(height = plt_train, x= value)\n",
    "        ax[0].set_title('Training Accuracy')\n",
    "        ax[1].set_title('Test Accuracy')\n",
    "        ax[1].bar(height = plt_test, x= value)\n",
    "        plt.show()"
   ]
  },
  {
   "cell_type": "code",
   "execution_count": 49,
   "id": "8387f4a1",
   "metadata": {},
   "outputs": [
    {
     "name": "stdout",
     "output_type": "stream",
     "text": [
      "Logistic Regression:\n",
      "\tTraining accuracy 0.77\n",
      "\tTest accuracy 0.75\n",
      "\n",
      "Random Forest:\n",
      "\tTraining accuracy 0.99\n",
      "\tTest accuracy 0.58\n",
      "\n",
      "Gradient Boosting:\n",
      "\tTraining accuracy 0.87\n",
      "\tTest accuracy 0.62\n",
      "\n"
     ]
    }
   ],
   "source": [
    "X_train, X_test, y_train, y_test = train_test_split(X, Y, test_size=0.2, random_state=42)\n",
    "model_v2(X_train, X_test, y_train, y_test, plots = False)"
   ]
  },
  {
   "cell_type": "markdown",
   "id": "02184b0e",
   "metadata": {},
   "source": [
    "But there is class imbalance, so lets sample the data and try again"
   ]
  },
  {
   "cell_type": "code",
   "execution_count": 50,
   "id": "c9f7471c",
   "metadata": {},
   "outputs": [
    {
     "name": "stdout",
     "output_type": "stream",
     "text": [
      "Logistic Regression:\n",
      "\tTraining accuracy 0.49\n",
      "\tTest accuracy 0.47\n",
      "\n"
     ]
    },
    {
     "data": {
      "image/png": "[encoded data removed]",
      "text/plain": [
       "<Figure size 720x360 with 3 Axes>"
      ]
     },
     "metadata": {
      "needs_background": "light"
     },
     "output_type": "display_data"
    },
    {
     "name": "stdout",
     "output_type": "stream",
     "text": [
      "Random Forest:\n",
      "\tTraining accuracy 0.99\n",
      "\tTest accuracy 0.89\n",
      "\n"
     ]
    },
    {
     "data": {
      "image/png": "[encoded data removed]",
      "text/plain": [
       "<Figure size 720x360 with 3 Axes>"
      ]
     },
     "metadata": {
      "needs_background": "light"
     },
     "output_type": "display_data"
    },
    {
     "name": "stdout",
     "output_type": "stream",
     "text": [
      "Gradient Boosting:\n",
      "\tTraining accuracy 0.92\n",
      "\tTest accuracy 0.86\n",
      "\n"
     ]
    },
    {
     "data": {
      "image/png": "[encoded data removed]",
      "text/plain": [
       "<Figure size 720x360 with 3 Axes>"
      ]
     },
     "metadata": {
      "needs_background": "light"
     },
     "output_type": "display_data"
    },
    {
     "data": {
      "image/png": "[encoded data removed]",
      "text/plain": [
       "<Figure size 432x288 with 2 Axes>"
      ]
     },
     "metadata": {
      "needs_background": "light"
     },
     "output_type": "display_data"
    }
   ],
   "source": [
    "#random oversampling\n",
    "oversample = RandomOverSampler(sampling_strategy='minority')\n",
    "# oversample = RandomOverSampler(sampling_strategy='auto')\n",
    "\n",
    "X_oversampled, Y_oversampled = oversample.fit_resample(X, Y)\n",
    "\n",
    "X_train, X_test, y_train, y_test = train_test_split(X_oversampled, Y_oversampled, test_size=0.2, random_state=42)\n",
    "# model_v2(X_train, X_test, y_train, y_test, plots = False)\n",
    "model_v2(X_train, X_test, y_train, y_test)#, plots = False)"
   ]
  },
  {
   "cell_type": "code",
   "execution_count": 51,
   "id": "4b6ada9f",
   "metadata": {},
   "outputs": [
    {
     "name": "stdout",
     "output_type": "stream",
     "text": [
      "Logistic Regression:\n",
      "\tTraining accuracy 0.49\n",
      "\tTest accuracy 0.47\n",
      "\n",
      "Random Forest:\n",
      "\tTraining accuracy 1.0\n",
      "\tTest accuracy 0.81\n",
      "\n",
      "Gradient Boosting:\n",
      "\tTraining accuracy 0.9\n",
      "\tTest accuracy 0.78\n",
      "\n"
     ]
    }
   ],
   "source": [
    "#SMOTE\n",
    "smote = SMOTE(sampling_strategy='minority', k_neighbors=3)\n",
    "X_smote, Y_smote = smote.fit_resample(X, Y)\n",
    "\n",
    "X_train, X_test, y_train, y_test = train_test_split(X_smote, Y_smote, test_size=0.2, random_state=42)\n",
    "model_v2(X_train, X_test, y_train, y_test, plots = False)"
   ]
  }
 ],
 "metadata": {
  "colab": {
   "name": "Ratings Downgrade Prediction.ipynb",
   "provenance": []
  },
  "kernelspec": {
   "display_name": "Python 3",
   "language": "python",
   "name": "python3"
  },
  "language_info": {
   "codemirror_mode": {
    "name": "ipython",
    "version": 3
   },
   "file_extension": ".py",
   "mimetype": "text/x-python",
   "name": "python",
   "nbconvert_exporter": "python",
   "pygments_lexer": "ipython3",
   "version": "3.9.7"
  }
 },
 "nbformat": 4,
 "nbformat_minor": 5
}
