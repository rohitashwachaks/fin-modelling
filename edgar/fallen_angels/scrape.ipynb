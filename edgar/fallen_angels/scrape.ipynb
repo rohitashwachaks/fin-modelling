{
 "cells": [
  {
   "cell_type": "code",
   "execution_count": 3,
   "metadata": {},
   "outputs": [],
   "source": [
    "import pandas as pd\n",
    "from pathlib import Path\n",
    "import sys, os\n",
    "import datetime\n",
    "import pandas as pd\n",
    "import time\n",
    "\n",
    "from ut_msba_edgar_scraper import Downloader"
   ]
  },
  {
   "cell_type": "code",
   "execution_count": 4,
   "metadata": {},
   "outputs": [],
   "source": [
    "downloader = Downloader()"
   ]
  },
  {
   "cell_type": "code",
   "execution_count": 5,
   "metadata": {},
   "outputs": [
    {
     "data": {
      "text/html": [
       "<div>\n",
       "<style scoped>\n",
       "    .dataframe tbody tr th:only-of-type {\n",
       "        vertical-align: middle;\n",
       "    }\n",
       "\n",
       "    .dataframe tbody tr th {\n",
       "        vertical-align: top;\n",
       "    }\n",
       "\n",
       "    .dataframe thead th {\n",
       "        text-align: right;\n",
       "    }\n",
       "</style>\n",
       "<table border=\"1\" class=\"dataframe\">\n",
       "  <thead>\n",
       "    <tr style=\"text-align: right;\">\n",
       "      <th></th>\n",
       "      <th>datadate</th>\n",
       "      <th>gvkey</th>\n",
       "      <th>tic</th>\n",
       "    </tr>\n",
       "  </thead>\n",
       "  <tbody>\n",
       "    <tr>\n",
       "      <th>0</th>\n",
       "      <td>1993-04-30</td>\n",
       "      <td>7063</td>\n",
       "      <td>HST</td>\n",
       "    </tr>\n",
       "    <tr>\n",
       "      <th>1</th>\n",
       "      <td>2001-05-31</td>\n",
       "      <td>8692</td>\n",
       "      <td>PCH</td>\n",
       "    </tr>\n",
       "    <tr>\n",
       "      <th>2</th>\n",
       "      <td>2008-09-30</td>\n",
       "      <td>15142</td>\n",
       "      <td>STAR</td>\n",
       "    </tr>\n",
       "    <tr>\n",
       "      <th>3</th>\n",
       "      <td>2008-09-30</td>\n",
       "      <td>27780</td>\n",
       "      <td>SITC</td>\n",
       "    </tr>\n",
       "    <tr>\n",
       "      <th>4</th>\n",
       "      <td>2008-09-30</td>\n",
       "      <td>30384</td>\n",
       "      <td>FR</td>\n",
       "    </tr>\n",
       "    <tr>\n",
       "      <th>5</th>\n",
       "      <td>2014-03-31</td>\n",
       "      <td>30637</td>\n",
       "      <td>VRE</td>\n",
       "    </tr>\n",
       "    <tr>\n",
       "      <th>6</th>\n",
       "      <td>2006-11-30</td>\n",
       "      <td>174022</td>\n",
       "      <td>RLGY</td>\n",
       "    </tr>\n",
       "  </tbody>\n",
       "</table>\n",
       "</div>"
      ],
      "text/plain": [
       "    datadate   gvkey   tic\n",
       "0 1993-04-30    7063   HST\n",
       "1 2001-05-31    8692   PCH\n",
       "2 2008-09-30   15142  STAR\n",
       "3 2008-09-30   27780  SITC\n",
       "4 2008-09-30   30384    FR\n",
       "5 2014-03-31   30637   VRE\n",
       "6 2006-11-30  174022  RLGY"
      ]
     },
     "execution_count": 5,
     "metadata": {},
     "output_type": "execute_result"
    }
   ],
   "source": [
    "fallen_angels = pd.read_csv('fallen_angels.csv')\n",
    "fallen_angels.datadate = pd.to_datetime(fallen_angels.datadate)\n",
    "fallen_angels"
   ]
  },
  {
   "cell_type": "code",
   "execution_count": 6,
   "metadata": {},
   "outputs": [
    {
     "data": {
      "text/plain": [
       "('1993-04-30', '1991-04-30')"
      ]
     },
     "execution_count": 6,
     "metadata": {},
     "output_type": "execute_result"
    }
   ],
   "source": [
    "# fallen_angels.iloc[0].datadate.strftime('%Y-%m-%d')\n",
    "date = fallen_angels.iloc[0].datadate\n",
    "date.strftime('%Y-%m-%d'), date.replace(year = date.year -2).strftime('%Y-%m-%d')\n"
   ]
  },
  {
   "cell_type": "code",
   "execution_count": 7,
   "metadata": {},
   "outputs": [],
   "source": [
    "def fetch_reports(args):\n",
    "    downloader = Downloader()\n",
    "    report_type, date, gvkey = args\n",
    "    date = datetime.datetime(year = 2002, month=1, day= 1) if date.year <2000 else date\n",
    "    after_date = date.replace(year = date.year -2) if date.year >=2002 else datetime.datetime(year = 2000, month=1, day= 1)\n",
    "    \n",
    "    print(f\"{report_type}, {date.strftime('%Y-%m-%d')}, {after_date.strftime('%Y-%m-%d')}, {gvkey}\")\n",
    "    \n",
    "    filings_list = downloader.get_filings(report_type,\n",
    "                                        gvkey, \n",
    "                                        before= date.strftime('%Y-%m-%d'),\n",
    "                                        after = after_date.strftime('%Y-%m-%d'))\n",
    "    \n",
    "    for filing in filings_list:\n",
    "        with open(f'data/{repr(filing)}.html','wb') as f:\n",
    "            f.write(filing.get_report())\n",
    "    "
   ]
  },
  {
   "cell_type": "code",
   "execution_count": 8,
   "metadata": {},
   "outputs": [
    {
     "name": "stdout",
     "output_type": "stream",
     "text": [
      "10-K, 2001-05-31, 2000-01-01, 8692\n",
      "10-Q, 2001-05-31, 2000-01-01, 8692\n",
      "10-K, 2008-09-30, 2006-09-30, 15142\n",
      "10-Q, 2008-09-30, 2006-09-30, 15142\n",
      "10-K, 2008-09-30, 2006-09-30, 27780\n",
      "10-Q, 2008-09-30, 2006-09-30, 27780\n",
      "10-K, 2008-09-30, 2006-09-30, 30384\n",
      "10-Q, 2008-09-30, 2006-09-30, 30384\n",
      "10-K, 2014-03-31, 2012-03-31, 30637\n",
      "10-Q, 2014-03-31, 2012-03-31, 30637\n",
      "10-K, 2006-11-30, 2004-11-30, 174022\n",
      "10-Q, 2006-11-30, 2004-11-30, 174022\n"
     ]
    }
   ],
   "source": [
    "os.makedirs('data', exist_ok = True)\n",
    "for index, rows in fallen_angels.iterrows():\n",
    "    if rows.datadate.year >= 2000:\n",
    "        for report_type in ['10-K','10-Q']:\n",
    "            fetch_reports((report_type, rows.datadate,rows.gvkey))\n"
   ]
  },
  {
   "cell_type": "code",
   "execution_count": null,
   "metadata": {},
   "outputs": [],
   "source": []
  }
 ],
 "metadata": {
  "interpreter": {
   "hash": "e977757c12efd7edc355d4bfc73cb288660b7eabd32e8af9dce074334f507a80"
  },
  "kernelspec": {
   "display_name": "Python 3.9.7 ('finance')",
   "language": "python",
   "name": "python3"
  },
  "language_info": {
   "codemirror_mode": {
    "name": "ipython",
    "version": 3
   },
   "file_extension": ".py",
   "mimetype": "text/x-python",
   "name": "python",
   "nbconvert_exporter": "python",
   "pygments_lexer": "ipython3",
   "version": "3.9.7"
  },
  "orig_nbformat": 4
 },
 "nbformat": 4,
 "nbformat_minor": 2
}
