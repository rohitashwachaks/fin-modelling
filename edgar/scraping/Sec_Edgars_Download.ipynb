{
 "cells": [
  {
   "cell_type": "code",
   "execution_count": 2,
   "id": "15861eed",
   "metadata": {},
   "outputs": [],
   "source": [
    "# !pip install -U sec-edgar-downloader"
   ]
  },
  {
   "cell_type": "code",
   "execution_count": 8,
   "id": "49c68558",
   "metadata": {},
   "outputs": [],
   "source": [
    "from sec_edgar_downloader import Downloader\n",
    "from tqdm import tqdm"
   ]
  },
  {
   "cell_type": "code",
   "execution_count": 9,
   "id": "b0a06cd6",
   "metadata": {},
   "outputs": [],
   "source": [
    "#get(filing, ticker_or_cik, *, amount=None, after=None, before=None, include_amends=False, download_details=True, query='')"
   ]
  },
  {
   "cell_type": "code",
   "execution_count": 10,
   "id": "96377931",
   "metadata": {},
   "outputs": [],
   "source": [
    "dl = Downloader()"
   ]
  },
  {
   "cell_type": "code",
   "execution_count": 11,
   "id": "5a855137",
   "metadata": {},
   "outputs": [
    {
     "name": "stderr",
     "output_type": "stream",
     "text": [
      " 50%|█████     | 1/2 [00:58<00:58, 58.50s/it]"
     ]
    },
    {
     "name": "stdout",
     "output_type": "stream",
     "text": [
      "Skipping filing detail download for '0001032210-00-001961' due to network error: 404 Client Error: Not Found for url: https://www.sec.gov/Archives/edgar/data/0000789019/000103221000001961/0001.txt.\n",
      "Skipping filing detail download for '0001032210-01-000273' due to network error: 404 Client Error: Not Found for url: https://www.sec.gov/Archives/edgar/data/0000789019/000103221001000273/0001.txt.\n"
     ]
    },
    {
     "name": "stderr",
     "output_type": "stream",
     "text": [
      "100%|██████████| 2/2 [03:12<00:00, 96.36s/it] "
     ]
    },
    {
     "name": "stdout",
     "output_type": "stream",
     "text": [
      "Skipping filing detail download for '0001032210-00-500038' due to network error: 404 Client Error: Not Found for url: https://www.sec.gov/Archives/edgar/data/0000789019/000103221000500038/0001.txt.\n"
     ]
    },
    {
     "name": "stderr",
     "output_type": "stream",
     "text": [
      "\n"
     ]
    }
   ],
   "source": [
    "filings = ['10-K','10-Q']\n",
    "companies = ['AAPL', 'MSFT']\n",
    "for f in tqdm(filings):\n",
    "    for c in companies:\n",
    "        dl.get(f,c, download_details=True)"
   ]
  },
  {
   "cell_type": "code",
   "execution_count": 12,
   "id": "b55fa8b5",
   "metadata": {},
   "outputs": [
    {
     "data": {
      "text/plain": [
       "1"
      ]
     },
     "execution_count": 12,
     "metadata": {},
     "output_type": "execute_result"
    }
   ],
   "source": [
    "dl.get('10-K','AMZN', amount=1)"
   ]
  },
  {
   "cell_type": "code",
   "execution_count": null,
   "id": "45dfc4fc",
   "metadata": {},
   "outputs": [],
   "source": []
  }
 ],
 "metadata": {
  "kernelspec": {
   "display_name": "Python 3",
   "language": "python",
   "name": "python3"
  },
  "language_info": {
   "codemirror_mode": {
    "name": "ipython",
    "version": 3
   },
   "file_extension": ".py",
   "mimetype": "text/x-python",
   "name": "python",
   "nbconvert_exporter": "python",
   "pygments_lexer": "ipython3",
   "version": "3.9.7"
  }
 },
 "nbformat": 4,
 "nbformat_minor": 5
}
