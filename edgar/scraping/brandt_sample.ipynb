{
    "cells": [
        {
            "cell_type": "markdown",
            "metadata": {
                "id": "egbMWTrlPOS7"
            },
            "source": [
                "# Example Scraping Code\n",
                "\n",
                "Right now, we are using the option that Kumar didn't want us to use. It's basically a just-in-time scraper. Hopefully no one gets blocked.\n",
                "\n",
                "We also haven't added much exception handling so you will probably have to add your own Try/except blocks to catch weird shit.\n",
                "\n",
                "[Link to Github with Code](https://github.com/Brandt-moreThan4/msba-sec-edgar-downloader)"
            ]
        },
        {
            "cell_type": "code",
            "execution_count": 1,
            "metadata": {
                "colab": {
                    "base_uri": "https://localhost:8080/"
                },
                "executionInfo": {
                    "elapsed": 2685,
                    "status": "ok",
                    "timestamp": 1646592673108,
                    "user": {
                        "displayName": "Brandt Green",
                        "photoUrl": "https://lh3.googleusercontent.com/a-/AOh14Gj7x43y0NeZfA2aifq1jQZ_b_c3-_dgmzrNof94=s64",
                        "userId": "15671417242015805856"
                    },
                    "user_tz": 360
                },
                "id": "XrUSkxNraAUK",
                "outputId": "bfd8144e-8531-4a58-ea6b-5207c1ff8ae3"
            },
            "outputs": [],
            "source": [
                "# ! pip install -i https://test.pypi.org/simple/ ut-msba-edgar-scraper"
            ]
        },
        {
            "cell_type": "code",
            "execution_count": 3,
            "metadata": {
                "colab": {
                    "base_uri": "https://localhost:8080/"
                },
                "executionInfo": {
                    "elapsed": 6231,
                    "status": "ok",
                    "timestamp": 1646592679335,
                    "user": {
                        "displayName": "Brandt Green",
                        "photoUrl": "https://lh3.googleusercontent.com/a-/AOh14Gj7x43y0NeZfA2aifq1jQZ_b_c3-_dgmzrNof94=s64",
                        "userId": "15671417242015805856"
                    },
                    "user_tz": 360
                },
                "id": "8Dzatw-fE53_",
                "outputId": "cbb146ff-16ec-4c65-c635-82d786b5cc00"
            },
            "outputs": [],
            "source": [
                "# !pip install -i https://test.pypi.org/simple/ ut-msba-edgar-scraper==1.9.0\n",
                "# !pip install faker"
            ]
        },
        {
            "cell_type": "code",
            "execution_count": 4,
            "metadata": {
                "executionInfo": {
                    "elapsed": 5132,
                    "status": "ok",
                    "timestamp": 1646592684464,
                    "user": {
                        "displayName": "Brandt Green",
                        "photoUrl": "https://lh3.googleusercontent.com/a-/AOh14Gj7x43y0NeZfA2aifq1jQZ_b_c3-_dgmzrNof94=s64",
                        "userId": "15671417242015805856"
                    },
                    "user_tz": 360
                },
                "id": "NHX0SGk599YE"
            },
            "outputs": [],
            "source": [
                "import pandas as pd\n",
                "from pathlib import Path\n",
                "import sys\n",
                "import datetime\n",
                "import pandas as pd\n",
                "import time\n",
                "\n",
                "from ut_msba_edgar_scraper import Downloader\n",
                "import ut_msba_edgar_scraper"
            ]
        },
        {
            "cell_type": "markdown",
            "metadata": {
                "id": "OOEzmnueH9bs"
            },
            "source": [
                "The downloader object is the puppet master that controls everything else, so you always need to instantiate it first."
            ]
        },
        {
            "cell_type": "code",
            "execution_count": 5,
            "metadata": {
                "executionInfo": {
                    "elapsed": 9,
                    "status": "ok",
                    "timestamp": 1646592684464,
                    "user": {
                        "displayName": "Brandt Green",
                        "photoUrl": "https://lh3.googleusercontent.com/a-/AOh14Gj7x43y0NeZfA2aifq1jQZ_b_c3-_dgmzrNof94=s64",
                        "userId": "15671417242015805856"
                    },
                    "user_tz": 360
                },
                "id": "BWfK0-dyH7qx"
            },
            "outputs": [],
            "source": [
                "downloader = Downloader()"
            ]
        },
        {
            "cell_type": "markdown",
            "metadata": {
                "id": "gqskDxZGIR9L"
            },
            "source": [
                "The below code block will grab a list of 'filings' objects. These objects are the main thing you want to work with. They contain information about the filings, and they have methods that will scrape the report for you.\n",
                "\n",
                "This will query the edgar database at least once, so it will probably take .2ish seconds to run."
            ]
        },
        {
            "cell_type": "code",
            "execution_count": 7,
            "metadata": {
                "colab": {
                    "base_uri": "https://localhost:8080/"
                },
                "executionInfo": {
                    "elapsed": 1348,
                    "status": "ok",
                    "timestamp": 1646592685804,
                    "user": {
                        "displayName": "Brandt Green",
                        "photoUrl": "https://lh3.googleusercontent.com/a-/AOh14Gj7x43y0NeZfA2aifq1jQZ_b_c3-_dgmzrNof94=s64",
                        "userId": "15671417242015805856"
                    },
                    "user_tz": 360
                },
                "id": "P4QNkm6A99YR",
                "outputId": "b80faba1-763d-44a5-a5e1-9b02ac51177d"
            },
            "outputs": [
                {
                    "name": "stdout",
                    "output_type": "stream",
                    "text": [
                        "[0000001750_2002-05-31_10-K, 0000001750_2003-05-31_10-K, 0000001750_2004-05-31_10-K, 0000001750_2005-05-31_10-K, 0000001750_2006-05-31_10-K, 0000001750_2007-05-31_10-K, 0000001750_2008-05-31_10-K, 0000001750_2009-05-31_10-K, 0000001750_2010-05-31_10-K, 0000001750_2011-05-31_10-K, 0000001750_2012-05-31_10-K, 0000001750_2013-05-31_10-K, 0000001750_2014-05-31_10-K, 0000001750_2015-05-31_10-K]\n"
                    ]
                }
            ],
            "source": [
                "filings_list = downloader.get_filings('10-K','1004', before='2015-07-15') # The second argument is the gvkey. The first is the report.\n",
                "\n",
                "print(filings_list) # You can see there are a bunch of filings in this list. "
            ]
        },
        {
            "cell_type": "markdown",
            "metadata": {
                "id": "AnZCQKseJ9-7"
            },
            "source": [
                "The filings are sorted in asending order by their data date, so to get the most recent filing you just index from the back:"
            ]
        },
        {
            "cell_type": "code",
            "execution_count": 8,
            "metadata": {
                "executionInfo": {
                    "elapsed": 16,
                    "status": "ok",
                    "timestamp": 1646592685804,
                    "user": {
                        "displayName": "Brandt Green",
                        "photoUrl": "https://lh3.googleusercontent.com/a-/AOh14Gj7x43y0NeZfA2aifq1jQZ_b_c3-_dgmzrNof94=s64",
                        "userId": "15671417242015805856"
                    },
                    "user_tz": 360
                },
                "id": "9uSiJecCJvCq"
            },
            "outputs": [],
            "source": [
                "filing = filings_list[-1] "
            ]
        },
        {
            "cell_type": "markdown",
            "metadata": {
                "id": "DcquIKniKOlM"
            },
            "source": [
                "Below, we examine several of the potentially helpful attributes of the filing object."
            ]
        },
        {
            "cell_type": "code",
            "execution_count": 9,
            "metadata": {
                "colab": {
                    "base_uri": "https://localhost:8080/",
                    "height": 35
                },
                "executionInfo": {
                    "elapsed": 16,
                    "status": "ok",
                    "timestamp": 1646592685805,
                    "user": {
                        "displayName": "Brandt Green",
                        "photoUrl": "https://lh3.googleusercontent.com/a-/AOh14Gj7x43y0NeZfA2aifq1jQZ_b_c3-_dgmzrNof94=s64",
                        "userId": "15671417242015805856"
                    },
                    "user_tz": 360
                },
                "id": "rsHgyK94K0s1",
                "outputId": "2cf4678a-b0e1-4b3f-a7fd-97024c746927"
            },
            "outputs": [
                {
                    "data": {
                        "application/vnd.google.colaboratory.intrinsic+json": {
                            "type": "string"
                        },
                        "text/plain": [
                            "'AAR CORP  (AIR)  (CIK 0000001750)'"
                        ]
                    },
                    "execution_count": 9,
                    "metadata": {},
                    "output_type": "execute_result"
                }
            ],
            "source": [
                "filing.edgar_name"
            ]
        },
        {
            "cell_type": "code",
            "execution_count": 10,
            "metadata": {
                "colab": {
                    "base_uri": "https://localhost:8080/",
                    "height": 35
                },
                "executionInfo": {
                    "elapsed": 13,
                    "status": "ok",
                    "timestamp": 1646592685805,
                    "user": {
                        "displayName": "Brandt Green",
                        "photoUrl": "https://lh3.googleusercontent.com/a-/AOh14Gj7x43y0NeZfA2aifq1jQZ_b_c3-_dgmzrNof94=s64",
                        "userId": "15671417242015805856"
                    },
                    "user_tz": 360
                },
                "id": "GPk6LF_gKa3b",
                "outputId": "adb032c1-17bf-45f9-e972-487a50ace563"
            },
            "outputs": [
                {
                    "data": {
                        "application/vnd.google.colaboratory.intrinsic+json": {
                            "type": "string"
                        },
                        "text/plain": [
                            "'0000001750'"
                        ]
                    },
                    "execution_count": 10,
                    "metadata": {},
                    "output_type": "execute_result"
                }
            ],
            "source": [
                "filing.cik # The unique number that edgar associates with companies"
            ]
        },
        {
            "cell_type": "code",
            "execution_count": 11,
            "metadata": {
                "colab": {
                    "base_uri": "https://localhost:8080/",
                    "height": 35
                },
                "executionInfo": {
                    "elapsed": 12,
                    "status": "ok",
                    "timestamp": 1646592685806,
                    "user": {
                        "displayName": "Brandt Green",
                        "photoUrl": "https://lh3.googleusercontent.com/a-/AOh14Gj7x43y0NeZfA2aifq1jQZ_b_c3-_dgmzrNof94=s64",
                        "userId": "15671417242015805856"
                    },
                    "user_tz": 360
                },
                "id": "QsDiT8NMLB6A",
                "outputId": "98498768-a99e-4d1a-af61-b391b525a39c"
            },
            "outputs": [
                {
                    "data": {
                        "application/vnd.google.colaboratory.intrinsic+json": {
                            "type": "string"
                        },
                        "text/plain": [
                            "'0001047469-15-006136'"
                        ]
                    },
                    "execution_count": 11,
                    "metadata": {},
                    "output_type": "execute_result"
                }
            ],
            "source": [
                "filing.accession_number # This number is unique for every filing"
            ]
        },
        {
            "cell_type": "code",
            "execution_count": 12,
            "metadata": {
                "colab": {
                    "base_uri": "https://localhost:8080/",
                    "height": 35
                },
                "executionInfo": {
                    "elapsed": 11,
                    "status": "ok",
                    "timestamp": 1646592685806,
                    "user": {
                        "displayName": "Brandt Green",
                        "photoUrl": "https://lh3.googleusercontent.com/a-/AOh14Gj7x43y0NeZfA2aifq1jQZ_b_c3-_dgmzrNof94=s64",
                        "userId": "15671417242015805856"
                    },
                    "user_tz": 360
                },
                "id": "M082QkPkK84o",
                "outputId": "7067d9e9-fd2c-4d51-cf39-d92f7b298048"
            },
            "outputs": [
                {
                    "data": {
                        "application/vnd.google.colaboratory.intrinsic+json": {
                            "type": "string"
                        },
                        "text/plain": [
                            "'10-K'"
                        ]
                    },
                    "execution_count": 12,
                    "metadata": {},
                    "output_type": "execute_result"
                }
            ],
            "source": [
                "filing.report_type"
            ]
        },
        {
            "cell_type": "code",
            "execution_count": 13,
            "metadata": {
                "colab": {
                    "base_uri": "https://localhost:8080/",
                    "height": 35
                },
                "executionInfo": {
                    "elapsed": 11,
                    "status": "ok",
                    "timestamp": 1646592685807,
                    "user": {
                        "displayName": "Brandt Green",
                        "photoUrl": "https://lh3.googleusercontent.com/a-/AOh14Gj7x43y0NeZfA2aifq1jQZ_b_c3-_dgmzrNof94=s64",
                        "userId": "15671417242015805856"
                    },
                    "user_tz": 360
                },
                "id": "m2ZfKtd7LV06",
                "outputId": "4a241858-654c-4457-a82b-ad4d0f68b606"
            },
            "outputs": [
                {
                    "data": {
                        "application/vnd.google.colaboratory.intrinsic+json": {
                            "type": "string"
                        },
                        "text/plain": [
                            "'2015-05-31'"
                        ]
                    },
                    "execution_count": 13,
                    "metadata": {},
                    "output_type": "execute_result"
                }
            ],
            "source": [
                "filing.period_end_date # the period end date that was scraped from edgar"
            ]
        },
        {
            "cell_type": "code",
            "execution_count": 14,
            "metadata": {
                "colab": {
                    "base_uri": "https://localhost:8080/"
                },
                "executionInfo": {
                    "elapsed": 401,
                    "status": "ok",
                    "timestamp": 1646592686197,
                    "user": {
                        "displayName": "Brandt Green",
                        "photoUrl": "https://lh3.googleusercontent.com/a-/AOh14Gj7x43y0NeZfA2aifq1jQZ_b_c3-_dgmzrNof94=s64",
                        "userId": "15671417242015805856"
                    },
                    "user_tz": 360
                },
                "id": "kkJ16Hc8K80f",
                "outputId": "cc3bb0f8-7ab0-4d85-e20b-7cd1704cca75"
            },
            "outputs": [
                {
                    "data": {
                        "text/plain": [
                            "Timestamp('2015-05-31 00:00:00')"
                        ]
                    },
                    "execution_count": 14,
                    "metadata": {},
                    "output_type": "execute_result"
                }
            ],
            "source": [
                "filing.data_date # Same as above, but converted to pd.datetime for easy filtering and stuff"
            ]
        },
        {
            "cell_type": "code",
            "execution_count": 15,
            "metadata": {
                "colab": {
                    "base_uri": "https://localhost:8080/",
                    "height": 35
                },
                "executionInfo": {
                    "elapsed": 11,
                    "status": "ok",
                    "timestamp": 1646592686198,
                    "user": {
                        "displayName": "Brandt Green",
                        "photoUrl": "https://lh3.googleusercontent.com/a-/AOh14Gj7x43y0NeZfA2aifq1jQZ_b_c3-_dgmzrNof94=s64",
                        "userId": "15671417242015805856"
                    },
                    "user_tz": 360
                },
                "id": "6bHUJzD1K8w_",
                "outputId": "e3a0e04f-4955-4f13-ee47-1cf8d051435f"
            },
            "outputs": [
                {
                    "data": {
                        "application/vnd.google.colaboratory.intrinsic+json": {
                            "type": "string"
                        },
                        "text/plain": [
                            "'https://www.sec.gov/Archives/edgar/data/0000001750/000104746915006136/a2225345z10-k.htm'"
                        ]
                    },
                    "execution_count": 15,
                    "metadata": {},
                    "output_type": "execute_result"
                }
            ],
            "source": [
                "filing.filing_details_url # This is the url of the report that will be scraped."
            ]
        },
        {
            "cell_type": "code",
            "execution_count": 15,
            "metadata": {
                "executionInfo": {
                    "elapsed": 10,
                    "status": "ok",
                    "timestamp": 1646592686199,
                    "user": {
                        "displayName": "Brandt Green",
                        "photoUrl": "https://lh3.googleusercontent.com/a-/AOh14Gj7x43y0NeZfA2aifq1jQZ_b_c3-_dgmzrNof94=s64",
                        "userId": "15671417242015805856"
                    },
                    "user_tz": 360
                },
                "id": "bV69oOOCK8rx"
            },
            "outputs": [],
            "source": []
        },
        {
            "cell_type": "markdown",
            "metadata": {
                "id": "MYEdRJyNMrfK"
            },
            "source": [
                "## Scraping the report:\n",
                "\n",
                "Be aware that every call to 'get_report' will scrape edgar. It will probably take around .2ish seconds."
            ]
        },
        {
            "cell_type": "code",
            "execution_count": 16,
            "metadata": {
                "colab": {
                    "base_uri": "https://localhost:8080/"
                },
                "executionInfo": {
                    "elapsed": 3696,
                    "status": "ok",
                    "timestamp": 1646592689885,
                    "user": {
                        "displayName": "Brandt Green",
                        "photoUrl": "https://lh3.googleusercontent.com/a-/AOh14Gj7x43y0NeZfA2aifq1jQZ_b_c3-_dgmzrNof94=s64",
                        "userId": "15671417242015805856"
                    },
                    "user_tz": 360
                },
                "id": "9yDoUuT5MrRs",
                "outputId": "2046aa70-36ba-4784-8044-0b48cb9185d4"
            },
            "outputs": [],
            "source": [
                "raw_report = filing.get_report() # This returns the report in html format\n",
                "print(raw_report)"
            ]
        }
    ],
    "metadata": {
        "interpreter": {
            "hash": "e977757c12efd7edc355d4bfc73cb288660b7eabd32e8af9dce074334f507a80"
        },
        "kernelspec": {
            "display_name": "Python 3.9.7 ('finance')",
            "language": "python",
            "name": "python3"
        },
        "language_info": {
            "codemirror_mode": {
                "name": "ipython",
                "version": 3
            },
            "file_extension": ".py",
            "mimetype": "text/x-python",
            "name": "python",
            "nbconvert_exporter": "python",
            "pygments_lexer": "ipython3",
            "version": "3.9.7"
        },
        "orig_nbformat": 4
    },
    "nbformat": 4,
    "nbformat_minor": 2
}
