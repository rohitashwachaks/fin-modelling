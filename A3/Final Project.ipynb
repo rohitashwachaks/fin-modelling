{
 "cells": [
  {
   "cell_type": "code",
   "execution_count": 2,
   "id": "71e281aa",
   "metadata": {},
   "outputs": [
    {
     "name": "stderr",
     "output_type": "stream",
     "text": [
      "[nltk_data] Downloading package stopwords to\n",
      "[nltk_data]     /Users/rchaks/nltk_data...\n",
      "[nltk_data]   Package stopwords is already up-to-date!\n",
      "[nltk_data] Downloading package wordnet to /Users/rchaks/nltk_data...\n",
      "[nltk_data]   Package wordnet is already up-to-date!\n",
      "[nltk_data] Downloading package punkt to /Users/rchaks/nltk_data...\n",
      "[nltk_data]   Package punkt is already up-to-date!\n",
      "[nltk_data] Downloading package omw-1.4 to /Users/rchaks/nltk_data...\n",
      "[nltk_data]   Package omw-1.4 is already up-to-date!\n"
     ]
    },
    {
     "name": "stdout",
     "output_type": "stream",
     "text": [
      "Loading library list...\n",
      "Done\n"
     ]
    }
   ],
   "source": [
    "import pandas as pd\n",
    "import numpy as np\n",
    "import spacy\n",
    "import nltk\n",
    "import re\n",
    "\n",
    "import nltk\n",
    "from nltk.corpus import stopwords \n",
    "from nltk.stem.wordnet import WordNetLemmatizer\n",
    "import string\n",
    "from nltk.tokenize import word_tokenize\n",
    "\n",
    "nltk.download('stopwords')\n",
    "nltk.download('wordnet')\n",
    "nltk.download('punkt')\n",
    "nltk.download('omw-1.4')\n",
    "\n",
    "from string import punctuation\n",
    "stop_words = set( stopwords.words('english'))\n",
    "\n",
    "from vaderSentiment.vaderSentiment import SentimentIntensityAnalyzer\n",
    "from sklearn.feature_extraction.text import TfidfVectorizer\n",
    "\n",
    "spacy.load('en_core_web_lg')\n",
    "\n",
    "import os\n",
    "from os import walk\n",
    "\n",
    "import wrds\n",
    "connection = wrds.Connection()"
   ]
  },
  {
   "cell_type": "code",
   "execution_count": 3,
   "id": "fc7d6dc6",
   "metadata": {},
   "outputs": [
    {
     "name": "stderr",
     "output_type": "stream",
     "text": [
      "/var/folders/y3/v6fyb_rs72bcn7ftc3lvwvmw0000gn/T/ipykernel_1469/1632988303.py:5: TqdmDeprecationWarning: This function will be removed in tqdm==5.0.0\n",
      "Please use `tqdm.notebook.tqdm` instead of `tqdm.tqdm_notebook`\n",
      "  tqdm_notebook().pandas()\n"
     ]
    },
    {
     "data": {
      "application/vnd.jupyter.widget-view+json": {
       "model_id": "5ac13f7e1dd64e1fb3f97aa6bf9addd5",
       "version_major": 2,
       "version_minor": 0
      },
      "text/plain": [
       "0it [00:00, ?it/s]"
      ]
     },
     "metadata": {},
     "output_type": "display_data"
    }
   ],
   "source": [
    "# from tqdm.notebook import tqdm\n",
    "# tqdm.pandas()\n",
    "\n",
    "from tqdm import tqdm, tqdm_notebook\n",
    "tqdm_notebook().pandas()"
   ]
  },
  {
   "cell_type": "code",
   "execution_count": 4,
   "id": "ecab5339",
   "metadata": {},
   "outputs": [
    {
     "data": {
      "text/plain": [
       "['ciqkeydev',\n",
       " 'ciqkeydeveventtype',\n",
       " 'ciqkeydevobjectroletype',\n",
       " 'ciqkeydevstatus',\n",
       " 'ciqkeydevtoobjecttoeventtype',\n",
       " 'wrds_keydev']"
      ]
     },
     "execution_count": 4,
     "metadata": {},
     "output_type": "execute_result"
    }
   ],
   "source": [
    "# SELECT *\n",
    "# FROM ciq_keydev.wrds_keydev keydev\n",
    "# INNER JOIN (\n",
    "#         SELECT DISTINCT permno, gvkey\n",
    "#         FROM wrdsapps_finratio.firm_ratio\n",
    "#         WHERE ticker = '{tic}'\n",
    "#     ) x ON x.gvkey = keydev.gvkey\n",
    "# LIMIT 10\n",
    "connection.list_tables('ciq_keydev')\n",
    "# connection.list_libraries()"
   ]
  },
  {
   "cell_type": "markdown",
   "id": "d8eabc0e",
   "metadata": {},
   "source": [
    "Most important date = max( announceddate,  entereddate,  lastmodifieddate)\n",
    "\n",
    "primary key: event.keydevid\n",
    "\n",
    "companyid, statustype, objectroletype ??\n"
   ]
  },
  {
   "cell_type": "code",
   "execution_count": 5,
   "id": "9024ab54",
   "metadata": {},
   "outputs": [],
   "source": [
    "def query_data(start_date, end_date):\n",
    "    sql_string = \"\"\"\n",
    "                SELECT event.keydevid, companyname, gvkey, headline, situation, event.mostimportantdateutc, keydeveventtypeid, eventtype\n",
    "                FROM ciq_keydev.ciqkeydev event\n",
    "                INNER JOIN ciq_keydev.wrds_keydev ON wrds_keydev.keydevid = event.keydevid\n",
    "                WHERE event.mostimportantdateutc >= '{start_date}' AND event.mostimportantdateutc < '{end_date}'\n",
    "                AND gvkey IS NOT NULL\n",
    "                AND situation IS NOT NULL\n",
    "                AND headline IS NOT NULL\n",
    "                ORDER BY event.mostimportantdateutc, gvkey, keydeveventtypeid ASC\n",
    "                \"\"\".format(start_date = start_date, end_date = end_date)\n",
    "    df = connection.raw_sql(sql_string)\n",
    "    df.mostimportantdateutc = df.mostimportantdateutc.dt.date\n",
    "    df.rename({'mostimportantdateutc':'date'}, axis=1, inplace=True)\n",
    "    df.dropna(subset=['headline','situation'], inplace= True)\n",
    "    df.reset_index(drop=True, inplace=True)\n",
    "    df.set_index('date', inplace=True)\n",
    "    return df"
   ]
  },
  {
   "cell_type": "code",
   "execution_count": 34,
   "id": "5c27ea95",
   "metadata": {},
   "outputs": [
    {
     "ename": "AttributeError",
     "evalue": "'dict' object has no attribute 'to_csv'",
     "output_type": "error",
     "traceback": [
      "\u001b[0;31m---------------------------------------------------------------------------\u001b[0m",
      "\u001b[0;31mAttributeError\u001b[0m                            Traceback (most recent call last)",
      "\u001b[0;32m/var/folders/y3/v6fyb_rs72bcn7ftc3lvwvmw0000gn/T/ipykernel_1469/454051769.py\u001b[0m in \u001b[0;36m<module>\u001b[0;34m\u001b[0m\n\u001b[1;32m      6\u001b[0m \u001b[0mdf\u001b[0m\u001b[0;34m.\u001b[0m\u001b[0mset_index\u001b[0m\u001b[0;34m(\u001b[0m\u001b[0;34m'keydeveventtypeid'\u001b[0m\u001b[0;34m,\u001b[0m \u001b[0minplace\u001b[0m\u001b[0;34m=\u001b[0m\u001b[0;32mTrue\u001b[0m\u001b[0;34m)\u001b[0m\u001b[0;34m\u001b[0m\u001b[0;34m\u001b[0m\u001b[0m\n\u001b[1;32m      7\u001b[0m \u001b[0mdf\u001b[0m \u001b[0;34m=\u001b[0m \u001b[0mdf\u001b[0m\u001b[0;34m.\u001b[0m\u001b[0mto_dict\u001b[0m\u001b[0;34m(\u001b[0m\u001b[0;34m)\u001b[0m\u001b[0;34m[\u001b[0m\u001b[0;34m'keydeveventtypename'\u001b[0m\u001b[0;34m]\u001b[0m\u001b[0;34m\u001b[0m\u001b[0;34m\u001b[0m\u001b[0m\n\u001b[0;32m----> 8\u001b[0;31m \u001b[0mdf\u001b[0m\u001b[0;34m.\u001b[0m\u001b[0mto_csv\u001b[0m\u001b[0;34m(\u001b[0m\u001b[0;34m'keydeveventtypeid.csv'\u001b[0m\u001b[0;34m)\u001b[0m\u001b[0;34m\u001b[0m\u001b[0;34m\u001b[0m\u001b[0m\n\u001b[0m\u001b[1;32m      9\u001b[0m \u001b[0mdf\u001b[0m\u001b[0;34m\u001b[0m\u001b[0;34m\u001b[0m\u001b[0m\n",
      "\u001b[0;31mAttributeError\u001b[0m: 'dict' object has no attribute 'to_csv'"
     ]
    }
   ],
   "source": [
    "sql_string = \"\"\"\n",
    "                SELECT DISTINCT CAST(keydeveventtypeid AS INT), keydeveventtypename\n",
    "                FROM ciq_keydev.ciqkeydeveventtype event\n",
    "            \"\"\"\n",
    "df = connection.raw_sql(sql_string)\n",
    "df.set_index('keydeveventtypeid', inplace=True)\n",
    "df = df.to_dict()['keydeveventtypename']\n",
    "df"
   ]
  },
  {
   "cell_type": "code",
   "execution_count": 6,
   "id": "c57b96c2",
   "metadata": {},
   "outputs": [],
   "source": [
    "# start_date = '2001-01-01'\n",
    "# end_date = '2006-01-01'\n",
    "# df = query_data(start_date=start_date, end_date=end_date)\n",
    "# df.to_csv(f'keydev_data_{start_date}_{end_date}.csv')"
   ]
  },
  {
   "cell_type": "code",
   "execution_count": 7,
   "id": "2dfa9b2c",
   "metadata": {},
   "outputs": [],
   "source": [
    "# start_date = '2006-01-01'\n",
    "# end_date = '2011-01-01'\n",
    "# df = query_data(start_date=start_date, end_date=end_date)\n",
    "# df.to_csv(f'keydev_data_{start_date}_{end_date}.csv')"
   ]
  },
  {
   "cell_type": "code",
   "execution_count": 8,
   "id": "4a91fce5",
   "metadata": {},
   "outputs": [],
   "source": [
    "# start_date = '2011-01-01'\n",
    "# end_date = '2016-01-01'\n",
    "# df = query_data(start_date=start_date, end_date=end_date)\n",
    "# df.to_csv(f'keydev_data_{start_date}_{end_date}.csv')"
   ]
  },
  {
   "cell_type": "code",
   "execution_count": 9,
   "id": "c4b75090",
   "metadata": {},
   "outputs": [],
   "source": [
    "# start_date = '2016-01-01'\n",
    "# end_date = '2021-01-01'\n",
    "# df = query_data(start_date=start_date, end_date=end_date)\n",
    "# df.to_csv(f'keydev_data_{start_date}_{end_date}.csv')"
   ]
  },
  {
   "cell_type": "code",
   "execution_count": 10,
   "id": "bace7acd",
   "metadata": {},
   "outputs": [
    {
     "data": {
      "text/html": [
       "<div>\n",
       "<style scoped>\n",
       "    .dataframe tbody tr th:only-of-type {\n",
       "        vertical-align: middle;\n",
       "    }\n",
       "\n",
       "    .dataframe tbody tr th {\n",
       "        vertical-align: top;\n",
       "    }\n",
       "\n",
       "    .dataframe thead th {\n",
       "        text-align: right;\n",
       "    }\n",
       "</style>\n",
       "<table border=\"1\" class=\"dataframe\">\n",
       "  <thead>\n",
       "    <tr style=\"text-align: right;\">\n",
       "      <th></th>\n",
       "      <th>keydevid</th>\n",
       "      <th>companyname</th>\n",
       "      <th>gvkey</th>\n",
       "      <th>headline</th>\n",
       "      <th>situation</th>\n",
       "      <th>keydeveventtypeid</th>\n",
       "      <th>eventtype</th>\n",
       "    </tr>\n",
       "    <tr>\n",
       "      <th>date</th>\n",
       "      <th></th>\n",
       "      <th></th>\n",
       "      <th></th>\n",
       "      <th></th>\n",
       "      <th></th>\n",
       "      <th></th>\n",
       "      <th></th>\n",
       "    </tr>\n",
       "  </thead>\n",
       "  <tbody>\n",
       "    <tr>\n",
       "      <th>2010-01-01</th>\n",
       "      <td>83821114.0</td>\n",
       "      <td>Cardinal Health, Inc.</td>\n",
       "      <td>002751</td>\n",
       "      <td>Memphis Internal Medicine PLLC Subleases the N...</td>\n",
       "      <td>Memphis Internal Medicine PLLC has signed an e...</td>\n",
       "      <td>23.0</td>\n",
       "      <td>Client Announcements</td>\n",
       "    </tr>\n",
       "    <tr>\n",
       "      <th>2010-01-01</th>\n",
       "      <td>83821109.0</td>\n",
       "      <td>The Coca-Cola Company</td>\n",
       "      <td>003144</td>\n",
       "      <td>The Coca-Cola Company Promotes Kathleen Ciaram...</td>\n",
       "      <td>The Coca-Cola Company has announced that Kathl...</td>\n",
       "      <td>16.0</td>\n",
       "      <td>Executive/Board Changes - Other</td>\n",
       "    </tr>\n",
       "    <tr>\n",
       "      <th>2010-01-01</th>\n",
       "      <td>84133417.0</td>\n",
       "      <td>Ford Motor Company</td>\n",
       "      <td>004839</td>\n",
       "      <td>Ford Motor Co. to Reduce Production in Europe</td>\n",
       "      <td>Ford Motor Co. will cut production in Europe i...</td>\n",
       "      <td>21.0</td>\n",
       "      <td>Discontinued Operations/Downsizings</td>\n",
       "    </tr>\n",
       "    <tr>\n",
       "      <th>2010-01-01</th>\n",
       "      <td>84655520.0</td>\n",
       "      <td>Siemens Water Technologies Corp.</td>\n",
       "      <td>008015</td>\n",
       "      <td>Siemens Water Technologies Corp. acquired Indu...</td>\n",
       "      <td>Siemens Water Technologies Corp. acquired Indu...</td>\n",
       "      <td>81.0</td>\n",
       "      <td>M&amp;A Transaction Closings</td>\n",
       "    </tr>\n",
       "    <tr>\n",
       "      <th>2010-01-01</th>\n",
       "      <td>84159853.0</td>\n",
       "      <td>Shell plc</td>\n",
       "      <td>012384</td>\n",
       "      <td>Royal Dutch Shell plc Moves Closer to Chukchi ...</td>\n",
       "      <td>Royal Dutch Shell plc has secured an important...</td>\n",
       "      <td>41.0</td>\n",
       "      <td>Product-Related Announcements</td>\n",
       "    </tr>\n",
       "    <tr>\n",
       "      <th>...</th>\n",
       "      <td>...</td>\n",
       "      <td>...</td>\n",
       "      <td>...</td>\n",
       "      <td>...</td>\n",
       "      <td>...</td>\n",
       "      <td>...</td>\n",
       "      <td>...</td>\n",
       "    </tr>\n",
       "    <tr>\n",
       "      <th>2010-12-31</th>\n",
       "      <td>117717582.0</td>\n",
       "      <td>Beaumont Select Corporations Inc.</td>\n",
       "      <td>105560</td>\n",
       "      <td>Beaumont Select Corps. Inc. Announces Executiv...</td>\n",
       "      <td>Beaumont Select Corps. Inc. announced that it ...</td>\n",
       "      <td>16.0</td>\n",
       "      <td>Executive/Board Changes - Other</td>\n",
       "    </tr>\n",
       "    <tr>\n",
       "      <th>2010-12-31</th>\n",
       "      <td>117715312.0</td>\n",
       "      <td>Suncor Energy Inc.</td>\n",
       "      <td>015070</td>\n",
       "      <td>Parkland Income Fund Receives Notice from Sunc...</td>\n",
       "      <td>Parkland Income Fund announced that, as expect...</td>\n",
       "      <td>23.0</td>\n",
       "      <td>Client Announcements</td>\n",
       "    </tr>\n",
       "    <tr>\n",
       "      <th>2010-12-31</th>\n",
       "      <td>117684828.0</td>\n",
       "      <td>Engro Corporation Limited</td>\n",
       "      <td>202033</td>\n",
       "      <td>EnGro Corporation Limited Opens Single Train U...</td>\n",
       "      <td>Engro Corporation Limited has started producti...</td>\n",
       "      <td>31.0</td>\n",
       "      <td>Business Expansions</td>\n",
       "    </tr>\n",
       "    <tr>\n",
       "      <th>2010-12-31</th>\n",
       "      <td>117716306.0</td>\n",
       "      <td>FP Newspapers Inc.</td>\n",
       "      <td>148851</td>\n",
       "      <td>FP Newspapers Income Fund Pays Special Distrib...</td>\n",
       "      <td>FP Newspapers Income Fund announced that its s...</td>\n",
       "      <td>94.0</td>\n",
       "      <td>Special Dividend Announced</td>\n",
       "    </tr>\n",
       "    <tr>\n",
       "      <th>2010-12-31</th>\n",
       "      <td>117685839.0</td>\n",
       "      <td>SK Innovation Co., Ltd.</td>\n",
       "      <td>285205</td>\n",
       "      <td>SK Energy Co., Ltd. to Restructure Business fo...</td>\n",
       "      <td>SK Energy Co., Ltd. announced that it will spi...</td>\n",
       "      <td>32.0</td>\n",
       "      <td>Business Reorganizations</td>\n",
       "    </tr>\n",
       "  </tbody>\n",
       "</table>\n",
       "<p>834206 rows × 7 columns</p>\n",
       "</div>"
      ],
      "text/plain": [
       "               keydevid                        companyname   gvkey  \\\n",
       "date                                                                 \n",
       "2010-01-01   83821114.0              Cardinal Health, Inc.  002751   \n",
       "2010-01-01   83821109.0              The Coca-Cola Company  003144   \n",
       "2010-01-01   84133417.0                 Ford Motor Company  004839   \n",
       "2010-01-01   84655520.0   Siemens Water Technologies Corp.  008015   \n",
       "2010-01-01   84159853.0                          Shell plc  012384   \n",
       "...                 ...                                ...     ...   \n",
       "2010-12-31  117717582.0  Beaumont Select Corporations Inc.  105560   \n",
       "2010-12-31  117715312.0                 Suncor Energy Inc.  015070   \n",
       "2010-12-31  117684828.0          Engro Corporation Limited  202033   \n",
       "2010-12-31  117716306.0                 FP Newspapers Inc.  148851   \n",
       "2010-12-31  117685839.0            SK Innovation Co., Ltd.  285205   \n",
       "\n",
       "                                                     headline  \\\n",
       "date                                                            \n",
       "2010-01-01  Memphis Internal Medicine PLLC Subleases the N...   \n",
       "2010-01-01  The Coca-Cola Company Promotes Kathleen Ciaram...   \n",
       "2010-01-01      Ford Motor Co. to Reduce Production in Europe   \n",
       "2010-01-01  Siemens Water Technologies Corp. acquired Indu...   \n",
       "2010-01-01  Royal Dutch Shell plc Moves Closer to Chukchi ...   \n",
       "...                                                       ...   \n",
       "2010-12-31  Beaumont Select Corps. Inc. Announces Executiv...   \n",
       "2010-12-31  Parkland Income Fund Receives Notice from Sunc...   \n",
       "2010-12-31  EnGro Corporation Limited Opens Single Train U...   \n",
       "2010-12-31  FP Newspapers Income Fund Pays Special Distrib...   \n",
       "2010-12-31  SK Energy Co., Ltd. to Restructure Business fo...   \n",
       "\n",
       "                                                    situation  \\\n",
       "date                                                            \n",
       "2010-01-01  Memphis Internal Medicine PLLC has signed an e...   \n",
       "2010-01-01  The Coca-Cola Company has announced that Kathl...   \n",
       "2010-01-01  Ford Motor Co. will cut production in Europe i...   \n",
       "2010-01-01  Siemens Water Technologies Corp. acquired Indu...   \n",
       "2010-01-01  Royal Dutch Shell plc has secured an important...   \n",
       "...                                                       ...   \n",
       "2010-12-31  Beaumont Select Corps. Inc. announced that it ...   \n",
       "2010-12-31  Parkland Income Fund announced that, as expect...   \n",
       "2010-12-31  Engro Corporation Limited has started producti...   \n",
       "2010-12-31  FP Newspapers Income Fund announced that its s...   \n",
       "2010-12-31  SK Energy Co., Ltd. announced that it will spi...   \n",
       "\n",
       "            keydeveventtypeid                            eventtype  \n",
       "date                                                                \n",
       "2010-01-01               23.0                 Client Announcements  \n",
       "2010-01-01               16.0      Executive/Board Changes - Other  \n",
       "2010-01-01               21.0  Discontinued Operations/Downsizings  \n",
       "2010-01-01               81.0             M&A Transaction Closings  \n",
       "2010-01-01               41.0        Product-Related Announcements  \n",
       "...                       ...                                  ...  \n",
       "2010-12-31               16.0      Executive/Board Changes - Other  \n",
       "2010-12-31               23.0                 Client Announcements  \n",
       "2010-12-31               31.0                  Business Expansions  \n",
       "2010-12-31               94.0           Special Dividend Announced  \n",
       "2010-12-31               32.0             Business Reorganizations  \n",
       "\n",
       "[834206 rows x 7 columns]"
      ]
     },
     "execution_count": 10,
     "metadata": {},
     "output_type": "execute_result"
    }
   ],
   "source": [
    "start_date = '2010-01-01'\n",
    "end_date = '2011-01-01'\n",
    "df = query_data(start_date=start_date, end_date=end_date)\n",
    "df"
   ]
  },
  {
   "cell_type": "code",
   "execution_count": 11,
   "id": "fd920871",
   "metadata": {},
   "outputs": [
    {
     "data": {
      "text/plain": [
       "<AxesSubplot:>"
      ]
     },
     "execution_count": 11,
     "metadata": {},
     "output_type": "execute_result"
    },
    {
     "data": {
      "image/png": "[encoded data removed]",
      "text/plain": [
       "<Figure size 432x288 with 1 Axes>"
      ]
     },
     "metadata": {
      "needs_background": "light"
     },
     "output_type": "display_data"
    }
   ],
   "source": [
    "df.keydeveventtypeid.value_counts().sort_values(ascending=False).plot()"
   ]
  },
  {
   "cell_type": "code",
   "execution_count": 12,
   "id": "ce6271d1",
   "metadata": {},
   "outputs": [
    {
     "data": {
      "text/plain": [
       "gvkey   date        keydeveventtypeid\n",
       "105547  2010-03-26  87.0                 244\n",
       "        2010-01-26  87.0                 202\n",
       "        2010-04-27  87.0                 190\n",
       "        2010-02-23  87.0                 188\n",
       "        2010-06-25  87.0                 126\n",
       "271015  2010-03-22  75.0                 123\n",
       "105547  2010-05-25  87.0                 112\n",
       "207353  2010-03-22  75.0                 108\n",
       "105547  2010-09-27  87.0                  70\n",
       "        2010-07-23  87.0                  67\n",
       "Name: companyname, dtype: int64"
      ]
     },
     "execution_count": 12,
     "metadata": {},
     "output_type": "execute_result"
    }
   ],
   "source": [
    "df.groupby(['gvkey','date','keydeveventtypeid'])['companyname'].count().sort_values(ascending=False).head(10)"
   ]
  },
  {
   "cell_type": "code",
   "execution_count": 13,
   "id": "509d571b",
   "metadata": {},
   "outputs": [
    {
     "data": {
      "text/plain": [
       "<AxesSubplot:xlabel='gvkey'>"
      ]
     },
     "execution_count": 13,
     "metadata": {},
     "output_type": "execute_result"
    },
    {
     "data": {
      "image/png": "[encoded data removed]",
      "text/plain": [
       "<Figure size 432x288 with 1 Axes>"
      ]
     },
     "metadata": {
      "needs_background": "light"
     },
     "output_type": "display_data"
    }
   ],
   "source": [
    "df.groupby(['gvkey'])['keydeveventtypeid'].count().sort_values(ascending=False).plot()"
   ]
  },
  {
   "cell_type": "markdown",
   "id": "49ca43ac",
   "metadata": {},
   "source": [
    "# Sentiment"
   ]
  },
  {
   "cell_type": "code",
   "execution_count": 14,
   "id": "15647eae",
   "metadata": {},
   "outputs": [
    {
     "data": {
      "text/plain": [
       "keydevid             0\n",
       "companyname          0\n",
       "gvkey                0\n",
       "headline             0\n",
       "situation            0\n",
       "keydeveventtypeid    0\n",
       "eventtype            0\n",
       "dtype: int64"
      ]
     },
     "execution_count": 14,
     "metadata": {},
     "output_type": "execute_result"
    }
   ],
   "source": [
    "df.isna().sum()"
   ]
  },
  {
   "cell_type": "code",
   "execution_count": 15,
   "id": "672b737b",
   "metadata": {},
   "outputs": [
    {
     "data": {
      "application/vnd.jupyter.widget-view+json": {
       "model_id": "88f909b0f0254619b7e2f1d2c88c2fba",
       "version_major": 2,
       "version_minor": 0
      },
      "text/plain": [
       "  0%|          | 0/834206 [00:00<?, ?it/s]"
      ]
     },
     "metadata": {},
     "output_type": "display_data"
    }
   ],
   "source": [
    "analyser = SentimentIntensityAnalyzer()\n",
    "\n",
    "def get_sentiment(review, **kwargs):\n",
    "    sentiment_scores = [analyser.polarity_scores(sentence) for sentence in review.split('.')]\n",
    "    sentiment_scores = [(item['pos'], item['neg']) for item in sentiment_scores]\n",
    "    pos, neg = list(zip(*sentiment_scores))\n",
    "    return np.mean(pos), np.std(pos), np.mean(neg), np.std(neg)\n",
    "\n",
    "sentiment = df['situation'].progress_apply(get_sentiment)\n",
    "sentiment = list(zip(*sentiment))\n",
    "df['pos_mean'] = sentiment[0]\n",
    "df['pos_std'] = sentiment[1]\n",
    "df['neg_mean'] = sentiment[2]\n",
    "df['neg_std'] = sentiment[3]"
   ]
  },
  {
   "cell_type": "code",
   "execution_count": 16,
   "id": "96756a1b",
   "metadata": {},
   "outputs": [
    {
     "data": {
      "text/html": [
       "<div>\n",
       "<style scoped>\n",
       "    .dataframe tbody tr th:only-of-type {\n",
       "        vertical-align: middle;\n",
       "    }\n",
       "\n",
       "    .dataframe tbody tr th {\n",
       "        vertical-align: top;\n",
       "    }\n",
       "\n",
       "    .dataframe thead th {\n",
       "        text-align: right;\n",
       "    }\n",
       "</style>\n",
       "<table border=\"1\" class=\"dataframe\">\n",
       "  <thead>\n",
       "    <tr style=\"text-align: right;\">\n",
       "      <th></th>\n",
       "      <th>keydevid</th>\n",
       "      <th>companyname</th>\n",
       "      <th>gvkey</th>\n",
       "      <th>headline</th>\n",
       "      <th>situation</th>\n",
       "      <th>keydeveventtypeid</th>\n",
       "      <th>eventtype</th>\n",
       "      <th>pos_mean</th>\n",
       "      <th>pos_std</th>\n",
       "      <th>neg_mean</th>\n",
       "      <th>neg_std</th>\n",
       "    </tr>\n",
       "    <tr>\n",
       "      <th>date</th>\n",
       "      <th></th>\n",
       "      <th></th>\n",
       "      <th></th>\n",
       "      <th></th>\n",
       "      <th></th>\n",
       "      <th></th>\n",
       "      <th></th>\n",
       "      <th></th>\n",
       "      <th></th>\n",
       "      <th></th>\n",
       "      <th></th>\n",
       "    </tr>\n",
       "  </thead>\n",
       "  <tbody>\n",
       "    <tr>\n",
       "      <th>2010-01-01</th>\n",
       "      <td>83821114.0</td>\n",
       "      <td>Cardinal Health, Inc.</td>\n",
       "      <td>002751</td>\n",
       "      <td>Memphis Internal Medicine PLLC Subleases the N...</td>\n",
       "      <td>Memphis Internal Medicine PLLC has signed an e...</td>\n",
       "      <td>23.0</td>\n",
       "      <td>Client Announcements</td>\n",
       "      <td>0.000000</td>\n",
       "      <td>0.000000</td>\n",
       "      <td>0.0000</td>\n",
       "      <td>0.000000</td>\n",
       "    </tr>\n",
       "    <tr>\n",
       "      <th>2010-01-01</th>\n",
       "      <td>83821109.0</td>\n",
       "      <td>The Coca-Cola Company</td>\n",
       "      <td>003144</td>\n",
       "      <td>The Coca-Cola Company Promotes Kathleen Ciaram...</td>\n",
       "      <td>The Coca-Cola Company has announced that Kathl...</td>\n",
       "      <td>16.0</td>\n",
       "      <td>Executive/Board Changes - Other</td>\n",
       "      <td>0.045600</td>\n",
       "      <td>0.055938</td>\n",
       "      <td>0.0000</td>\n",
       "      <td>0.000000</td>\n",
       "    </tr>\n",
       "    <tr>\n",
       "      <th>2010-01-01</th>\n",
       "      <td>84133417.0</td>\n",
       "      <td>Ford Motor Company</td>\n",
       "      <td>004839</td>\n",
       "      <td>Ford Motor Co. to Reduce Production in Europe</td>\n",
       "      <td>Ford Motor Co. will cut production in Europe i...</td>\n",
       "      <td>21.0</td>\n",
       "      <td>Discontinued Operations/Downsizings</td>\n",
       "      <td>0.000000</td>\n",
       "      <td>0.000000</td>\n",
       "      <td>0.0722</td>\n",
       "      <td>0.094018</td>\n",
       "    </tr>\n",
       "    <tr>\n",
       "      <th>2010-01-01</th>\n",
       "      <td>84655520.0</td>\n",
       "      <td>Siemens Water Technologies Corp.</td>\n",
       "      <td>008015</td>\n",
       "      <td>Siemens Water Technologies Corp. acquired Indu...</td>\n",
       "      <td>Siemens Water Technologies Corp. acquired Indu...</td>\n",
       "      <td>81.0</td>\n",
       "      <td>M&amp;A Transaction Closings</td>\n",
       "      <td>0.000000</td>\n",
       "      <td>0.000000</td>\n",
       "      <td>0.0000</td>\n",
       "      <td>0.000000</td>\n",
       "    </tr>\n",
       "    <tr>\n",
       "      <th>2010-01-01</th>\n",
       "      <td>84159853.0</td>\n",
       "      <td>Shell plc</td>\n",
       "      <td>012384</td>\n",
       "      <td>Royal Dutch Shell plc Moves Closer to Chukchi ...</td>\n",
       "      <td>Royal Dutch Shell plc has secured an important...</td>\n",
       "      <td>41.0</td>\n",
       "      <td>Product-Related Announcements</td>\n",
       "      <td>0.078000</td>\n",
       "      <td>0.097069</td>\n",
       "      <td>0.0000</td>\n",
       "      <td>0.000000</td>\n",
       "    </tr>\n",
       "    <tr>\n",
       "      <th>...</th>\n",
       "      <td>...</td>\n",
       "      <td>...</td>\n",
       "      <td>...</td>\n",
       "      <td>...</td>\n",
       "      <td>...</td>\n",
       "      <td>...</td>\n",
       "      <td>...</td>\n",
       "      <td>...</td>\n",
       "      <td>...</td>\n",
       "      <td>...</td>\n",
       "      <td>...</td>\n",
       "    </tr>\n",
       "    <tr>\n",
       "      <th>2010-12-31</th>\n",
       "      <td>117717582.0</td>\n",
       "      <td>Beaumont Select Corporations Inc.</td>\n",
       "      <td>105560</td>\n",
       "      <td>Beaumont Select Corps. Inc. Announces Executiv...</td>\n",
       "      <td>Beaumont Select Corps. Inc. announced that it ...</td>\n",
       "      <td>16.0</td>\n",
       "      <td>Executive/Board Changes - Other</td>\n",
       "      <td>0.013333</td>\n",
       "      <td>0.029814</td>\n",
       "      <td>0.0000</td>\n",
       "      <td>0.000000</td>\n",
       "    </tr>\n",
       "    <tr>\n",
       "      <th>2010-12-31</th>\n",
       "      <td>117715312.0</td>\n",
       "      <td>Suncor Energy Inc.</td>\n",
       "      <td>015070</td>\n",
       "      <td>Parkland Income Fund Receives Notice from Sunc...</td>\n",
       "      <td>Parkland Income Fund announced that, as expect...</td>\n",
       "      <td>23.0</td>\n",
       "      <td>Client Announcements</td>\n",
       "      <td>0.088750</td>\n",
       "      <td>0.089122</td>\n",
       "      <td>0.0000</td>\n",
       "      <td>0.000000</td>\n",
       "    </tr>\n",
       "    <tr>\n",
       "      <th>2010-12-31</th>\n",
       "      <td>117684828.0</td>\n",
       "      <td>Engro Corporation Limited</td>\n",
       "      <td>202033</td>\n",
       "      <td>EnGro Corporation Limited Opens Single Train U...</td>\n",
       "      <td>Engro Corporation Limited has started producti...</td>\n",
       "      <td>31.0</td>\n",
       "      <td>Business Expansions</td>\n",
       "      <td>0.075600</td>\n",
       "      <td>0.095200</td>\n",
       "      <td>0.0502</td>\n",
       "      <td>0.068709</td>\n",
       "    </tr>\n",
       "    <tr>\n",
       "      <th>2010-12-31</th>\n",
       "      <td>117716306.0</td>\n",
       "      <td>FP Newspapers Inc.</td>\n",
       "      <td>148851</td>\n",
       "      <td>FP Newspapers Income Fund Pays Special Distrib...</td>\n",
       "      <td>FP Newspapers Income Fund announced that its s...</td>\n",
       "      <td>94.0</td>\n",
       "      <td>Special Dividend Announced</td>\n",
       "      <td>0.043000</td>\n",
       "      <td>0.074478</td>\n",
       "      <td>0.0000</td>\n",
       "      <td>0.000000</td>\n",
       "    </tr>\n",
       "    <tr>\n",
       "      <th>2010-12-31</th>\n",
       "      <td>117685839.0</td>\n",
       "      <td>SK Innovation Co., Ltd.</td>\n",
       "      <td>285205</td>\n",
       "      <td>SK Energy Co., Ltd. to Restructure Business fo...</td>\n",
       "      <td>SK Energy Co., Ltd. announced that it will spi...</td>\n",
       "      <td>32.0</td>\n",
       "      <td>Business Reorganizations</td>\n",
       "      <td>0.153167</td>\n",
       "      <td>0.185026</td>\n",
       "      <td>0.0000</td>\n",
       "      <td>0.000000</td>\n",
       "    </tr>\n",
       "  </tbody>\n",
       "</table>\n",
       "<p>834206 rows × 11 columns</p>\n",
       "</div>"
      ],
      "text/plain": [
       "               keydevid                        companyname   gvkey  \\\n",
       "date                                                                 \n",
       "2010-01-01   83821114.0              Cardinal Health, Inc.  002751   \n",
       "2010-01-01   83821109.0              The Coca-Cola Company  003144   \n",
       "2010-01-01   84133417.0                 Ford Motor Company  004839   \n",
       "2010-01-01   84655520.0   Siemens Water Technologies Corp.  008015   \n",
       "2010-01-01   84159853.0                          Shell plc  012384   \n",
       "...                 ...                                ...     ...   \n",
       "2010-12-31  117717582.0  Beaumont Select Corporations Inc.  105560   \n",
       "2010-12-31  117715312.0                 Suncor Energy Inc.  015070   \n",
       "2010-12-31  117684828.0          Engro Corporation Limited  202033   \n",
       "2010-12-31  117716306.0                 FP Newspapers Inc.  148851   \n",
       "2010-12-31  117685839.0            SK Innovation Co., Ltd.  285205   \n",
       "\n",
       "                                                     headline  \\\n",
       "date                                                            \n",
       "2010-01-01  Memphis Internal Medicine PLLC Subleases the N...   \n",
       "2010-01-01  The Coca-Cola Company Promotes Kathleen Ciaram...   \n",
       "2010-01-01      Ford Motor Co. to Reduce Production in Europe   \n",
       "2010-01-01  Siemens Water Technologies Corp. acquired Indu...   \n",
       "2010-01-01  Royal Dutch Shell plc Moves Closer to Chukchi ...   \n",
       "...                                                       ...   \n",
       "2010-12-31  Beaumont Select Corps. Inc. Announces Executiv...   \n",
       "2010-12-31  Parkland Income Fund Receives Notice from Sunc...   \n",
       "2010-12-31  EnGro Corporation Limited Opens Single Train U...   \n",
       "2010-12-31  FP Newspapers Income Fund Pays Special Distrib...   \n",
       "2010-12-31  SK Energy Co., Ltd. to Restructure Business fo...   \n",
       "\n",
       "                                                    situation  \\\n",
       "date                                                            \n",
       "2010-01-01  Memphis Internal Medicine PLLC has signed an e...   \n",
       "2010-01-01  The Coca-Cola Company has announced that Kathl...   \n",
       "2010-01-01  Ford Motor Co. will cut production in Europe i...   \n",
       "2010-01-01  Siemens Water Technologies Corp. acquired Indu...   \n",
       "2010-01-01  Royal Dutch Shell plc has secured an important...   \n",
       "...                                                       ...   \n",
       "2010-12-31  Beaumont Select Corps. Inc. announced that it ...   \n",
       "2010-12-31  Parkland Income Fund announced that, as expect...   \n",
       "2010-12-31  Engro Corporation Limited has started producti...   \n",
       "2010-12-31  FP Newspapers Income Fund announced that its s...   \n",
       "2010-12-31  SK Energy Co., Ltd. announced that it will spi...   \n",
       "\n",
       "            keydeveventtypeid                            eventtype  pos_mean  \\\n",
       "date                                                                           \n",
       "2010-01-01               23.0                 Client Announcements  0.000000   \n",
       "2010-01-01               16.0      Executive/Board Changes - Other  0.045600   \n",
       "2010-01-01               21.0  Discontinued Operations/Downsizings  0.000000   \n",
       "2010-01-01               81.0             M&A Transaction Closings  0.000000   \n",
       "2010-01-01               41.0        Product-Related Announcements  0.078000   \n",
       "...                       ...                                  ...       ...   \n",
       "2010-12-31               16.0      Executive/Board Changes - Other  0.013333   \n",
       "2010-12-31               23.0                 Client Announcements  0.088750   \n",
       "2010-12-31               31.0                  Business Expansions  0.075600   \n",
       "2010-12-31               94.0           Special Dividend Announced  0.043000   \n",
       "2010-12-31               32.0             Business Reorganizations  0.153167   \n",
       "\n",
       "             pos_std  neg_mean   neg_std  \n",
       "date                                      \n",
       "2010-01-01  0.000000    0.0000  0.000000  \n",
       "2010-01-01  0.055938    0.0000  0.000000  \n",
       "2010-01-01  0.000000    0.0722  0.094018  \n",
       "2010-01-01  0.000000    0.0000  0.000000  \n",
       "2010-01-01  0.097069    0.0000  0.000000  \n",
       "...              ...       ...       ...  \n",
       "2010-12-31  0.029814    0.0000  0.000000  \n",
       "2010-12-31  0.089122    0.0000  0.000000  \n",
       "2010-12-31  0.095200    0.0502  0.068709  \n",
       "2010-12-31  0.074478    0.0000  0.000000  \n",
       "2010-12-31  0.185026    0.0000  0.000000  \n",
       "\n",
       "[834206 rows x 11 columns]"
      ]
     },
     "execution_count": 16,
     "metadata": {},
     "output_type": "execute_result"
    }
   ],
   "source": [
    "df"
   ]
  },
  {
   "cell_type": "code",
   "execution_count": 17,
   "id": "3249657b",
   "metadata": {},
   "outputs": [],
   "source": [
    "# Topic Modelling"
   ]
  },
  {
   "cell_type": "code",
   "execution_count": 18,
   "id": "ccd6e4b1",
   "metadata": {},
   "outputs": [
    {
     "data": {
      "application/vnd.jupyter.widget-view+json": {
       "model_id": "6786a7dbb2bc485ca5efa08eaea7eac5",
       "version_major": 2,
       "version_minor": 0
      },
      "text/plain": [
       "  0%|          | 0/834206 [00:00<?, ?it/s]"
      ]
     },
     "metadata": {},
     "output_type": "display_data"
    },
    {
     "ename": "KeyboardInterrupt",
     "evalue": "",
     "output_type": "error",
     "traceback": [
      "\u001b[0;31m---------------------------------------------------------------------------\u001b[0m",
      "\u001b[0;31mKeyboardInterrupt\u001b[0m                         Traceback (most recent call last)",
      "\u001b[0;32m/var/folders/y3/v6fyb_rs72bcn7ftc3lvwvmw0000gn/T/ipykernel_1469/403984899.py\u001b[0m in \u001b[0;36m<module>\u001b[0;34m\u001b[0m\n\u001b[1;32m     24\u001b[0m     \u001b[0;32mreturn\u001b[0m \u001b[0mtweet\u001b[0m\u001b[0;34m\u001b[0m\u001b[0;34m\u001b[0m\u001b[0m\n\u001b[1;32m     25\u001b[0m \u001b[0;34m\u001b[0m\u001b[0m\n\u001b[0;32m---> 26\u001b[0;31m \u001b[0mdf\u001b[0m\u001b[0;34m[\u001b[0m\u001b[0;34m'clean_situation'\u001b[0m\u001b[0;34m]\u001b[0m \u001b[0;34m=\u001b[0m \u001b[0mdf\u001b[0m\u001b[0;34m[\u001b[0m\u001b[0;34m'situation'\u001b[0m\u001b[0;34m]\u001b[0m\u001b[0;34m.\u001b[0m\u001b[0mprogress_apply\u001b[0m\u001b[0;34m(\u001b[0m\u001b[0mclean_tweet\u001b[0m\u001b[0;34m)\u001b[0m\u001b[0;34m\u001b[0m\u001b[0;34m\u001b[0m\u001b[0m\n\u001b[0m",
      "\u001b[0;32m~/opt/anaconda3/envs/finance/lib/python3.9/site-packages/tqdm/std.py\u001b[0m in \u001b[0;36minner\u001b[0;34m(df, func, *args, **kwargs)\u001b[0m\n\u001b[1;32m    812\u001b[0m                 \u001b[0;31m# on the df using our wrapper (which provides bar updating)\u001b[0m\u001b[0;34m\u001b[0m\u001b[0;34m\u001b[0m\u001b[0m\n\u001b[1;32m    813\u001b[0m                 \u001b[0;32mtry\u001b[0m\u001b[0;34m:\u001b[0m\u001b[0;34m\u001b[0m\u001b[0;34m\u001b[0m\u001b[0m\n\u001b[0;32m--> 814\u001b[0;31m                     \u001b[0;32mreturn\u001b[0m \u001b[0mgetattr\u001b[0m\u001b[0;34m(\u001b[0m\u001b[0mdf\u001b[0m\u001b[0;34m,\u001b[0m \u001b[0mdf_function\u001b[0m\u001b[0;34m)\u001b[0m\u001b[0;34m(\u001b[0m\u001b[0mwrapper\u001b[0m\u001b[0;34m,\u001b[0m \u001b[0;34m**\u001b[0m\u001b[0mkwargs\u001b[0m\u001b[0;34m)\u001b[0m\u001b[0;34m\u001b[0m\u001b[0;34m\u001b[0m\u001b[0m\n\u001b[0m\u001b[1;32m    815\u001b[0m                 \u001b[0;32mfinally\u001b[0m\u001b[0;34m:\u001b[0m\u001b[0;34m\u001b[0m\u001b[0;34m\u001b[0m\u001b[0m\n\u001b[1;32m    816\u001b[0m                     \u001b[0mt\u001b[0m\u001b[0;34m.\u001b[0m\u001b[0mclose\u001b[0m\u001b[0;34m(\u001b[0m\u001b[0;34m)\u001b[0m\u001b[0;34m\u001b[0m\u001b[0;34m\u001b[0m\u001b[0m\n",
      "\u001b[0;32m~/opt/anaconda3/envs/finance/lib/python3.9/site-packages/pandas/core/series.py\u001b[0m in \u001b[0;36mapply\u001b[0;34m(self, func, convert_dtype, args, **kwargs)\u001b[0m\n\u001b[1;32m   4355\u001b[0m         \u001b[0mdtype\u001b[0m\u001b[0;34m:\u001b[0m \u001b[0mfloat64\u001b[0m\u001b[0;34m\u001b[0m\u001b[0;34m\u001b[0m\u001b[0m\n\u001b[1;32m   4356\u001b[0m         \"\"\"\n\u001b[0;32m-> 4357\u001b[0;31m         \u001b[0;32mreturn\u001b[0m \u001b[0mSeriesApply\u001b[0m\u001b[0;34m(\u001b[0m\u001b[0mself\u001b[0m\u001b[0;34m,\u001b[0m \u001b[0mfunc\u001b[0m\u001b[0;34m,\u001b[0m \u001b[0mconvert_dtype\u001b[0m\u001b[0;34m,\u001b[0m \u001b[0margs\u001b[0m\u001b[0;34m,\u001b[0m \u001b[0mkwargs\u001b[0m\u001b[0;34m)\u001b[0m\u001b[0;34m.\u001b[0m\u001b[0mapply\u001b[0m\u001b[0;34m(\u001b[0m\u001b[0;34m)\u001b[0m\u001b[0;34m\u001b[0m\u001b[0;34m\u001b[0m\u001b[0m\n\u001b[0m\u001b[1;32m   4358\u001b[0m \u001b[0;34m\u001b[0m\u001b[0m\n\u001b[1;32m   4359\u001b[0m     def _reduce(\n",
      "\u001b[0;32m~/opt/anaconda3/envs/finance/lib/python3.9/site-packages/pandas/core/apply.py\u001b[0m in \u001b[0;36mapply\u001b[0;34m(self)\u001b[0m\n\u001b[1;32m   1041\u001b[0m             \u001b[0;32mreturn\u001b[0m \u001b[0mself\u001b[0m\u001b[0;34m.\u001b[0m\u001b[0mapply_str\u001b[0m\u001b[0;34m(\u001b[0m\u001b[0;34m)\u001b[0m\u001b[0;34m\u001b[0m\u001b[0;34m\u001b[0m\u001b[0m\n\u001b[1;32m   1042\u001b[0m \u001b[0;34m\u001b[0m\u001b[0m\n\u001b[0;32m-> 1043\u001b[0;31m         \u001b[0;32mreturn\u001b[0m \u001b[0mself\u001b[0m\u001b[0;34m.\u001b[0m\u001b[0mapply_standard\u001b[0m\u001b[0;34m(\u001b[0m\u001b[0;34m)\u001b[0m\u001b[0;34m\u001b[0m\u001b[0;34m\u001b[0m\u001b[0m\n\u001b[0m\u001b[1;32m   1044\u001b[0m \u001b[0;34m\u001b[0m\u001b[0m\n\u001b[1;32m   1045\u001b[0m     \u001b[0;32mdef\u001b[0m \u001b[0magg\u001b[0m\u001b[0;34m(\u001b[0m\u001b[0mself\u001b[0m\u001b[0;34m)\u001b[0m\u001b[0;34m:\u001b[0m\u001b[0;34m\u001b[0m\u001b[0;34m\u001b[0m\u001b[0m\n",
      "\u001b[0;32m~/opt/anaconda3/envs/finance/lib/python3.9/site-packages/pandas/core/apply.py\u001b[0m in \u001b[0;36mapply_standard\u001b[0;34m(self)\u001b[0m\n\u001b[1;32m   1097\u001b[0m                 \u001b[0;31m# List[Union[Callable[..., Any], str]]]]]\"; expected\u001b[0m\u001b[0;34m\u001b[0m\u001b[0;34m\u001b[0m\u001b[0m\n\u001b[1;32m   1098\u001b[0m                 \u001b[0;31m# \"Callable[[Any], Any]\"\u001b[0m\u001b[0;34m\u001b[0m\u001b[0;34m\u001b[0m\u001b[0m\n\u001b[0;32m-> 1099\u001b[0;31m                 mapped = lib.map_infer(\n\u001b[0m\u001b[1;32m   1100\u001b[0m                     \u001b[0mvalues\u001b[0m\u001b[0;34m,\u001b[0m\u001b[0;34m\u001b[0m\u001b[0;34m\u001b[0m\u001b[0m\n\u001b[1;32m   1101\u001b[0m                     \u001b[0mf\u001b[0m\u001b[0;34m,\u001b[0m  \u001b[0;31m# type: ignore[arg-type]\u001b[0m\u001b[0;34m\u001b[0m\u001b[0;34m\u001b[0m\u001b[0m\n",
      "\u001b[0;32m~/opt/anaconda3/envs/finance/lib/python3.9/site-packages/pandas/_libs/lib.pyx\u001b[0m in \u001b[0;36mpandas._libs.lib.map_infer\u001b[0;34m()\u001b[0m\n",
      "\u001b[0;32m~/opt/anaconda3/envs/finance/lib/python3.9/site-packages/tqdm/std.py\u001b[0m in \u001b[0;36mwrapper\u001b[0;34m(*args, **kwargs)\u001b[0m\n\u001b[1;32m    807\u001b[0m                     \u001b[0;31m# take a fast or slow code path; so stop when t.total==t.n\u001b[0m\u001b[0;34m\u001b[0m\u001b[0;34m\u001b[0m\u001b[0m\n\u001b[1;32m    808\u001b[0m                     \u001b[0mt\u001b[0m\u001b[0;34m.\u001b[0m\u001b[0mupdate\u001b[0m\u001b[0;34m(\u001b[0m\u001b[0mn\u001b[0m\u001b[0;34m=\u001b[0m\u001b[0;36m1\u001b[0m \u001b[0;32mif\u001b[0m \u001b[0;32mnot\u001b[0m \u001b[0mt\u001b[0m\u001b[0;34m.\u001b[0m\u001b[0mtotal\u001b[0m \u001b[0;32mor\u001b[0m \u001b[0mt\u001b[0m\u001b[0;34m.\u001b[0m\u001b[0mn\u001b[0m \u001b[0;34m<\u001b[0m \u001b[0mt\u001b[0m\u001b[0;34m.\u001b[0m\u001b[0mtotal\u001b[0m \u001b[0;32melse\u001b[0m \u001b[0;36m0\u001b[0m\u001b[0;34m)\u001b[0m\u001b[0;34m\u001b[0m\u001b[0;34m\u001b[0m\u001b[0m\n\u001b[0;32m--> 809\u001b[0;31m                     \u001b[0;32mreturn\u001b[0m \u001b[0mfunc\u001b[0m\u001b[0;34m(\u001b[0m\u001b[0;34m*\u001b[0m\u001b[0margs\u001b[0m\u001b[0;34m,\u001b[0m \u001b[0;34m**\u001b[0m\u001b[0mkwargs\u001b[0m\u001b[0;34m)\u001b[0m\u001b[0;34m\u001b[0m\u001b[0;34m\u001b[0m\u001b[0m\n\u001b[0m\u001b[1;32m    810\u001b[0m \u001b[0;34m\u001b[0m\u001b[0m\n\u001b[1;32m    811\u001b[0m                 \u001b[0;31m# Apply the provided function (in **kwargs)\u001b[0m\u001b[0;34m\u001b[0m\u001b[0;34m\u001b[0m\u001b[0m\n",
      "\u001b[0;32m/var/folders/y3/v6fyb_rs72bcn7ftc3lvwvmw0000gn/T/ipykernel_1469/403984899.py\u001b[0m in \u001b[0;36mclean_tweet\u001b[0;34m(tweet, bigrams)\u001b[0m\n\u001b[1;32m     16\u001b[0m                             if word not in my_stopwords] # remove stopwords\n\u001b[1;32m     17\u001b[0m \u001b[0;34m\u001b[0m\u001b[0m\n\u001b[0;32m---> 18\u001b[0;31m     tweet_token_list = [word_rooter(word) if '#' not in word else word\n\u001b[0m\u001b[1;32m     19\u001b[0m                         for word in tweet_token_list] # apply word rooter\n\u001b[1;32m     20\u001b[0m     \u001b[0;32mif\u001b[0m \u001b[0mbigrams\u001b[0m\u001b[0;34m:\u001b[0m\u001b[0;34m\u001b[0m\u001b[0;34m\u001b[0m\u001b[0m\n",
      "\u001b[0;32m/var/folders/y3/v6fyb_rs72bcn7ftc3lvwvmw0000gn/T/ipykernel_1469/403984899.py\u001b[0m in \u001b[0;36m<listcomp>\u001b[0;34m(.0)\u001b[0m\n\u001b[1;32m     16\u001b[0m                             if word not in my_stopwords] # remove stopwords\n\u001b[1;32m     17\u001b[0m \u001b[0;34m\u001b[0m\u001b[0m\n\u001b[0;32m---> 18\u001b[0;31m     tweet_token_list = [word_rooter(word) if '#' not in word else word\n\u001b[0m\u001b[1;32m     19\u001b[0m                         for word in tweet_token_list] # apply word rooter\n\u001b[1;32m     20\u001b[0m     \u001b[0;32mif\u001b[0m \u001b[0mbigrams\u001b[0m\u001b[0;34m:\u001b[0m\u001b[0;34m\u001b[0m\u001b[0;34m\u001b[0m\u001b[0m\n",
      "\u001b[0;32m~/opt/anaconda3/envs/finance/lib/python3.9/site-packages/nltk/stem/porter.py\u001b[0m in \u001b[0;36mstem\u001b[0;34m(self, word, to_lowercase)\u001b[0m\n\u001b[1;32m    672\u001b[0m         \u001b[0mstem\u001b[0m \u001b[0;34m=\u001b[0m \u001b[0mself\u001b[0m\u001b[0;34m.\u001b[0m\u001b[0m_step2\u001b[0m\u001b[0;34m(\u001b[0m\u001b[0mstem\u001b[0m\u001b[0;34m)\u001b[0m\u001b[0;34m\u001b[0m\u001b[0;34m\u001b[0m\u001b[0m\n\u001b[1;32m    673\u001b[0m         \u001b[0mstem\u001b[0m \u001b[0;34m=\u001b[0m \u001b[0mself\u001b[0m\u001b[0;34m.\u001b[0m\u001b[0m_step3\u001b[0m\u001b[0;34m(\u001b[0m\u001b[0mstem\u001b[0m\u001b[0;34m)\u001b[0m\u001b[0;34m\u001b[0m\u001b[0;34m\u001b[0m\u001b[0m\n\u001b[0;32m--> 674\u001b[0;31m         \u001b[0mstem\u001b[0m \u001b[0;34m=\u001b[0m \u001b[0mself\u001b[0m\u001b[0;34m.\u001b[0m\u001b[0m_step4\u001b[0m\u001b[0;34m(\u001b[0m\u001b[0mstem\u001b[0m\u001b[0;34m)\u001b[0m\u001b[0;34m\u001b[0m\u001b[0;34m\u001b[0m\u001b[0m\n\u001b[0m\u001b[1;32m    675\u001b[0m         \u001b[0mstem\u001b[0m \u001b[0;34m=\u001b[0m \u001b[0mself\u001b[0m\u001b[0;34m.\u001b[0m\u001b[0m_step5a\u001b[0m\u001b[0;34m(\u001b[0m\u001b[0mstem\u001b[0m\u001b[0;34m)\u001b[0m\u001b[0;34m\u001b[0m\u001b[0;34m\u001b[0m\u001b[0m\n\u001b[1;32m    676\u001b[0m         \u001b[0mstem\u001b[0m \u001b[0;34m=\u001b[0m \u001b[0mself\u001b[0m\u001b[0;34m.\u001b[0m\u001b[0m_step5b\u001b[0m\u001b[0;34m(\u001b[0m\u001b[0mstem\u001b[0m\u001b[0;34m)\u001b[0m\u001b[0;34m\u001b[0m\u001b[0;34m\u001b[0m\u001b[0m\n",
      "\u001b[0;32m~/opt/anaconda3/envs/finance/lib/python3.9/site-packages/nltk/stem/porter.py\u001b[0m in \u001b[0;36m_step4\u001b[0;34m(self, word)\u001b[0m\n\u001b[1;32m    571\u001b[0m         \u001b[0mmeasure_gt_1\u001b[0m \u001b[0;34m=\u001b[0m \u001b[0;32mlambda\u001b[0m \u001b[0mstem\u001b[0m\u001b[0;34m:\u001b[0m \u001b[0mself\u001b[0m\u001b[0;34m.\u001b[0m\u001b[0m_measure\u001b[0m\u001b[0;34m(\u001b[0m\u001b[0mstem\u001b[0m\u001b[0;34m)\u001b[0m \u001b[0;34m>\u001b[0m \u001b[0;36m1\u001b[0m\u001b[0;34m\u001b[0m\u001b[0;34m\u001b[0m\u001b[0m\n\u001b[1;32m    572\u001b[0m \u001b[0;34m\u001b[0m\u001b[0m\n\u001b[0;32m--> 573\u001b[0;31m         return self._apply_rule_list(\n\u001b[0m\u001b[1;32m    574\u001b[0m             \u001b[0mword\u001b[0m\u001b[0;34m,\u001b[0m\u001b[0;34m\u001b[0m\u001b[0;34m\u001b[0m\u001b[0m\n\u001b[1;32m    575\u001b[0m             [\n",
      "\u001b[0;32m~/opt/anaconda3/envs/finance/lib/python3.9/site-packages/nltk/stem/porter.py\u001b[0m in \u001b[0;36m_apply_rule_list\u001b[0;34m(self, word, rules)\u001b[0m\n\u001b[1;32m    264\u001b[0m                     \u001b[0;31m# Don't try any further rules\u001b[0m\u001b[0;34m\u001b[0m\u001b[0;34m\u001b[0m\u001b[0m\n\u001b[1;32m    265\u001b[0m                     \u001b[0;32mreturn\u001b[0m \u001b[0mword\u001b[0m\u001b[0;34m\u001b[0m\u001b[0;34m\u001b[0m\u001b[0m\n\u001b[0;32m--> 266\u001b[0;31m             \u001b[0;32mif\u001b[0m \u001b[0mword\u001b[0m\u001b[0;34m.\u001b[0m\u001b[0mendswith\u001b[0m\u001b[0;34m(\u001b[0m\u001b[0msuffix\u001b[0m\u001b[0;34m)\u001b[0m\u001b[0;34m:\u001b[0m\u001b[0;34m\u001b[0m\u001b[0;34m\u001b[0m\u001b[0m\n\u001b[0m\u001b[1;32m    267\u001b[0m                 \u001b[0mstem\u001b[0m \u001b[0;34m=\u001b[0m \u001b[0mself\u001b[0m\u001b[0;34m.\u001b[0m\u001b[0m_replace_suffix\u001b[0m\u001b[0;34m(\u001b[0m\u001b[0mword\u001b[0m\u001b[0;34m,\u001b[0m \u001b[0msuffix\u001b[0m\u001b[0;34m,\u001b[0m \u001b[0;34m\"\"\u001b[0m\u001b[0;34m)\u001b[0m\u001b[0;34m\u001b[0m\u001b[0;34m\u001b[0m\u001b[0m\n\u001b[1;32m    268\u001b[0m                 \u001b[0;32mif\u001b[0m \u001b[0mcondition\u001b[0m \u001b[0;32mis\u001b[0m \u001b[0;32mNone\u001b[0m \u001b[0;32mor\u001b[0m \u001b[0mcondition\u001b[0m\u001b[0;34m(\u001b[0m\u001b[0mstem\u001b[0m\u001b[0;34m)\u001b[0m\u001b[0;34m:\u001b[0m\u001b[0;34m\u001b[0m\u001b[0;34m\u001b[0m\u001b[0m\n",
      "\u001b[0;31mKeyboardInterrupt\u001b[0m: "
     ]
    }
   ],
   "source": [
    "import nltk\n",
    "from nltk.tokenize import RegexpTokenizer\n",
    "from nltk.corpus import stopwords\n",
    "\n",
    "my_stopwords = nltk.corpus.stopwords.words('english')\n",
    "word_rooter = nltk.stem.snowball.PorterStemmer(ignore_stopwords=False).stem\n",
    "my_punctuation = '!\"$%&\\'()*+,-./:;<=>?[\\\\]^_`{|}~•@'\n",
    "\n",
    "# cleaning master function\n",
    "def clean_tweet(tweet, bigrams=False):\n",
    "    tweet = tweet.lower() # lower case\n",
    "    tweet = re.sub('['+my_punctuation + ']+', ' ', tweet) # strip punctuation\n",
    "    tweet = re.sub('\\s+', ' ', tweet) #remove double spacing\n",
    "    tweet = re.sub('([0-9]+)', '', tweet) # remove numbers\n",
    "    tweet_token_list = [word for word in tweet.split(' ')\n",
    "                            if word not in my_stopwords] # remove stopwords\n",
    "\n",
    "    tweet_token_list = [word_rooter(word) if '#' not in word else word\n",
    "                        for word in tweet_token_list] # apply word rooter\n",
    "    if bigrams:\n",
    "        tweet_token_list = tweet_token_list+[tweet_token_list[i]+'_'+tweet_token_list[i+1]\n",
    "                                            for i in range(len(tweet_token_list)-1)]\n",
    "    tweet = ' '.join(tweet_token_list)\n",
    "    return tweet\n",
    "\n",
    "df['clean_situation'] = df['situation'].progress_apply(clean_tweet)"
   ]
  },
  {
   "cell_type": "code",
   "execution_count": null,
   "id": "452daad7",
   "metadata": {},
   "outputs": [
    {
     "name": "stderr",
     "output_type": "stream",
     "text": [
      "C:\\Users\\Hatricano\\Anaconda3\\lib\\site-packages\\sklearn\\feature_extraction\\text.py:396: UserWarning: Your stop_words may be inconsistent with your preprocessing. Tokenizing the stop words generated tokens ['doe', 'ha', 'wa'] not in stop_words.\n",
      "  warnings.warn(\n"
     ]
    }
   ],
   "source": [
    "stopwords_nltk=set(stopwords.words('english'))\n",
    "wordnet_lemmatizer = WordNetLemmatizer()\n",
    "stopwords_nltk=set(stopwords.words('english'))\n",
    "word_tokenizer=RegexpTokenizer(r'\\w+')\n",
    "\n",
    "\n",
    "def tokenize_text(version_desc):\n",
    "    lowercase=version_desc.lower()\n",
    "    text = wordnet_lemmatizer.lemmatize(lowercase)\n",
    "    tokens = word_tokenizer.tokenize(text)\n",
    "    return tokens\n",
    "\n",
    "\n",
    "vec_words = CountVectorizer(tokenizer=tokenize_text,stop_words=stopwords_nltk,decode_error='ignore')\n",
    "total_features_words = vec_words.fit_transform(df['clean_situation'])"
   ]
  },
  {
   "cell_type": "code",
   "execution_count": null,
   "id": "c09d448a",
   "metadata": {},
   "outputs": [],
   "source": [
    "from sklearn.decomposition import LatentDirichletAllocation\n",
    "number_of_topics = 10\n",
    "model = LatentDirichletAllocation(n_components=number_of_topics, random_state=0)\n",
    "model.fit(total_features_words)"
   ]
  },
  {
   "cell_type": "code",
   "execution_count": null,
   "id": "e7a776cc",
   "metadata": {},
   "outputs": [],
   "source": [
    "def display_topics(model, feature_names, no_top_words):\n",
    "    topic_dict = {}\n",
    "    for topic_idx, topic in enumerate(model.components_):\n",
    "        topic_dict[\"Topic %d words\" % (topic_idx)]= ['{}'.format(feature_names[i])\n",
    "                        for i in topic.argsort()[:-no_top_words - 1:-1]]\n",
    "        topic_dict[\"Topic %d weights\" % (topic_idx)]= ['{:.1f}'.format(topic[i])\n",
    "                        for i in topic.argsort()[:-no_top_words - 1:-1]]\n",
    "    return pd.DataFrame(topic_dict)"
   ]
  },
  {
   "cell_type": "code",
   "execution_count": null,
   "id": "405cf8ca",
   "metadata": {},
   "outputs": [],
   "source": [
    "no_top_words = 10\n",
    "display_topics(model, tf_feature_names, no_top_words)"
   ]
  }
 ],
 "metadata": {
  "kernelspec": {
   "display_name": "Python 3",
   "language": "python",
   "name": "python3"
  },
  "language_info": {
   "codemirror_mode": {
    "name": "ipython",
    "version": 3
   },
   "file_extension": ".py",
   "mimetype": "text/x-python",
   "name": "python",
   "nbconvert_exporter": "python",
   "pygments_lexer": "ipython3",
   "version": "3.9.7"
  }
 },
 "nbformat": 4,
 "nbformat_minor": 5
}
