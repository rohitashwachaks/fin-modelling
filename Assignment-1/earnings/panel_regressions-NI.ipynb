{
 "cells": [
  {
   "cell_type": "code",
   "execution_count": 2,
   "id": "0d39906e",
   "metadata": {},
   "outputs": [],
   "source": [
    "import numpy as np\n",
    "import pandas as pd\n",
    "from linearmodels import PanelOLS\n",
    "from linearmodels import RandomEffects\n",
    "\n",
    "#data is unique by gvkey and fyear\n",
    "data = pd.read_csv('fundamentals_annual.csv')\n",
    "\n",
    "income = pd.read_csv('income.csv')\n",
    "data = data.merge(income, on = ['gvkey','fyear'],  suffixes=('', '_drop'))\n",
    "data = data[[c for c in data.columns if not c.endswith('_drop')]]\n",
    "\n",
    "shares = pd.read_csv('shares.csv')\n",
    "data = data.merge(shares, on = ['gvkey','fyear'],  suffixes=('', '_drop'))\n",
    "data = data[[c for c in data.columns if not c.endswith('_drop')]]\n",
    "\n",
    "data.drop(['consol','popsrc','indfmt'],axis=1,inplace=True) #same for all rows\n",
    "data.drop(['dvpd','opiti','tii','uopi'], axis=1, inplace=True) #NaN values only\n",
    "data.drop(['datadate','tic','conm','fyr'],axis=1,inplace=True) #dont need these fields\n",
    "\n",
    "data.sort_values(by=['gvkey','fyear'],inplace=True) #sort by gvkey and fyear"
   ]
  },
  {
   "cell_type": "code",
   "execution_count": 3,
   "id": "1fe80244",
   "metadata": {},
   "outputs": [],
   "source": [
    "#define a threshold for missing values\n",
    "perc = 5.0 \n",
    "min_count =  int(((100-perc)/100)*data.shape[0] + 1)\n",
    "data = data.dropna( axis=1, thresh=min_count)\n",
    "\n",
    "#drop columns with zero variance\n",
    "for i in data.columns:\n",
    "    if(len(data[i].unique()) == 1):\n",
    "        data.drop(i, axis=1,inplace=True)\n",
    "\n",
    "#row-wise NA dropping\n",
    "data.dropna(inplace=True)"
   ]
  },
  {
   "cell_type": "code",
   "execution_count": 4,
   "id": "8708d2ba",
   "metadata": {},
   "outputs": [],
   "source": [
    "#shifting the NI column to remove look ahead bias\n",
    "df = data[data.columns]\n",
    "ni = df.groupby('gvkey')['ni'].shift(-1)\n",
    "df['ni'] = ni\n",
    "df.dropna(inplace=True)"
   ]
  },
  {
   "cell_type": "code",
   "execution_count": 5,
   "id": "644a0b38",
   "metadata": {},
   "outputs": [],
   "source": [
    "ind = df.groupby(['gvkey']).tail(2).index\n",
    "df_test = df.filter(items = ind , axis=0)\n",
    "df_train = df.drop(df.groupby(['gvkey']).tail(2).index)"
   ]
  },
  {
   "cell_type": "code",
   "execution_count": 6,
   "id": "ac5caea0",
   "metadata": {},
   "outputs": [],
   "source": [
    "\"\"\" Perform a forward-backward feature selection \n",
    "    based on p-value from statsmodels.api.OLS\n",
    "    Arguments:\n",
    "        X - pandas.DataFrame with candidate features\n",
    "        y - list-like with the target\n",
    "        initial_list - list of features to start with (column names of X)\n",
    "        threshold_in - include a feature if its p-value < threshold_in\n",
    "        threshold_out - exclude a feature if its p-value > threshold_out\n",
    "        verbose - whether to print the sequence of inclusions and exclusions\n",
    "    Returns: list of selected features \n",
    "    Always set threshold_in < threshold_out to avoid infinite looping.\n",
    "\"\"\"\n",
    "def stepwise_selection(df, X, y, reg_model, initial_list=[], threshold_in=0.01, threshold_out = 0.05, verbose=True):\n",
    "    included = list(initial_list)\n",
    "    while True:\n",
    "        changed=False\n",
    "        # forward step\n",
    "        excluded = list(set(X.columns)-set(included))\n",
    "        new_pval = pd.Series(index=excluded)\n",
    "        for new_column in excluded:\n",
    "            exog = sm.add_constant(pd.DataFrame(X[included+[new_column]]))\n",
    "            model = reg_model(df.ni, exog).fit()\n",
    "            new_pval[new_column] = model.pvalues[new_column]\n",
    "        best_pval = new_pval.min()\n",
    "        if best_pval < threshold_in:\n",
    "            best_feature = new_pval.idxmin()\n",
    "            included.append(best_feature)\n",
    "            changed=True\n",
    "            if verbose:\n",
    "                print('Add  {:30} with p-value {:.6}'.format(best_feature, best_pval))\n",
    "\n",
    "        # backward step\n",
    "        model = reg_model(df.ni, sm.add_constant(pd.DataFrame(X[included]))).fit()\n",
    "        # use all coefs except intercept\n",
    "        pvalues = model.pvalues.iloc[1:]\n",
    "        worst_pval = pvalues.max() # null if pvalues is empty\n",
    "        if worst_pval > threshold_out:\n",
    "            changed=True\n",
    "            worst_feature = pvalues.idxmax()\n",
    "            included.remove(worst_feature)\n",
    "            if verbose:\n",
    "                print('Drop {:30} with p-value {:.6}'.format(worst_feature, worst_pval))\n",
    "        if not changed:\n",
    "            break\n",
    "    return included\n",
    "\n"
   ]
  },
  {
   "cell_type": "code",
   "execution_count": 7,
   "id": "4463e7a9",
   "metadata": {},
   "outputs": [],
   "source": [
    "#Panel Regression data preparation\n",
    "import statsmodels.api as sm\n",
    "from linearmodels.panel import PooledOLS\n",
    "cols = list(df.columns)\n",
    "cols.remove('gvkey')\n",
    "cols.remove('fyear')\n",
    "cols.remove('ni')\n",
    "gvkey = data['gvkey']\n",
    "fyear = data['fyear']\n",
    "df_train['fyear'] = fyear\n",
    "df_train['gvkey'] = gvkey\n",
    "df_train = df_train.set_index(['gvkey','fyear'])\n",
    "\n",
    "df_test['fyear'] = fyear\n",
    "df_test['gvkey'] = gvkey\n",
    "df_test = df_test.set_index(['gvkey','fyear'])\n",
    "\n",
    "X = df_train.drop('ni',axis=1)\n",
    "y = df_train['ni']"
   ]
  },
  {
   "cell_type": "code",
   "execution_count": 12,
   "id": "46265849",
   "metadata": {},
   "outputs": [],
   "source": [
    "from sklearn.metrics import r2_score\n",
    "def test_pred(exog, model):\n",
    "    ans = model.predict(exog)\n",
    "    y_pred = ans.reset_index()['predictions']\n",
    "    print(r2_score(df_test['ni'],y_pred))\n",
    "    rmse = sum((df_test['ni'].reset_index()['ni']**2 - y_pred**2))**(1/2)\n",
    "    print(rmse)"
   ]
  },
  {
   "cell_type": "code",
   "execution_count": 13,
   "id": "23550d38",
   "metadata": {},
   "outputs": [
    {
     "name": "stderr",
     "output_type": "stream",
     "text": [
      "/var/folders/7m/5lfwdytd2fz79pwphsdykfbw0000gn/T/ipykernel_17928/1392687859.py:19: DeprecationWarning: The default dtype for empty Series will be 'object' instead of 'float64' in a future version. Specify a dtype explicitly to silence this warning.\n",
      "  new_pval = pd.Series(index=excluded)\n",
      "/Users/kalyanilimaye/opt/anaconda3/lib/python3.9/site-packages/statsmodels/tsa/tsatools.py:142: FutureWarning: In a future version of pandas all arguments of concat except for the argument 'objs' will be keyword-only\n",
      "  x = pd.concat(x[::order], 1)\n"
     ]
    },
    {
     "name": "stdout",
     "output_type": "stream",
     "text": [
      "Add  ebit                           with p-value 0.0\n",
      "Add  ebitda                         with p-value 0.0\n",
      "Add  at                             with p-value 0.0\n",
      "Add  dltt                           with p-value 2.22045e-16\n",
      "Add  dvt                            with p-value 4.55636e-13\n",
      "Add  pi                             with p-value 9.77887e-08\n",
      "Add  cshpri                         with p-value 3.5142e-07\n",
      "Add  gp                             with p-value 4.25471e-07\n",
      "Add  ap                             with p-value 5.50495e-07\n",
      "Drop at                             with p-value 0.243381\n",
      "Add  seq                            with p-value 5.62209e-06\n",
      "Add  icapt                          with p-value 5.12923e-14\n",
      "Add  txt                            with p-value 0.000270234\n",
      "Add  ch                             with p-value 0.000797542\n",
      "Add  revt                           with p-value 0.000375084\n",
      "Add  csho                           with p-value 0.00367426\n",
      "0.6965735155723121\n",
      "10981.678606823869\n"
     ]
    }
   ],
   "source": [
    "result = stepwise_selection(df_train,X,y,reg_model = PooledOLS)\n",
    "exog_vars = result\n",
    "exog = sm.add_constant(df_train[exog_vars])\n",
    "pooled_res = PooledOLS(df_train.ni, exog).fit()\n",
    "exog = sm.add_constant(df_test[exog_vars])\n",
    "test_pred(exog, pooled_res)"
   ]
  },
  {
   "cell_type": "code",
   "execution_count": 14,
   "id": "8b689753",
   "metadata": {},
   "outputs": [
    {
     "name": "stderr",
     "output_type": "stream",
     "text": [
      "/var/folders/7m/5lfwdytd2fz79pwphsdykfbw0000gn/T/ipykernel_17928/1392687859.py:19: DeprecationWarning: The default dtype for empty Series will be 'object' instead of 'float64' in a future version. Specify a dtype explicitly to silence this warning.\n",
      "  new_pval = pd.Series(index=excluded)\n",
      "/Users/kalyanilimaye/opt/anaconda3/lib/python3.9/site-packages/statsmodels/tsa/tsatools.py:142: FutureWarning: In a future version of pandas all arguments of concat except for the argument 'objs' will be keyword-only\n",
      "  x = pd.concat(x[::order], 1)\n"
     ]
    },
    {
     "name": "stdout",
     "output_type": "stream",
     "text": [
      "Add  ebit                           with p-value 0.0\n",
      "Add  ebitda                         with p-value 0.0\n",
      "Add  at                             with p-value 0.0\n",
      "Add  dltt                           with p-value 2.22045e-16\n",
      "Add  dvt                            with p-value 4.55636e-13\n",
      "Add  pi                             with p-value 9.77887e-08\n",
      "Add  cshpri                         with p-value 3.5142e-07\n",
      "Add  gp                             with p-value 4.25471e-07\n",
      "Add  ap                             with p-value 5.50495e-07\n",
      "Drop at                             with p-value 0.243381\n",
      "Add  seq                            with p-value 5.62209e-06\n",
      "Add  icapt                          with p-value 5.12923e-14\n",
      "Add  txt                            with p-value 0.000270234\n",
      "Add  ch                             with p-value 0.000797542\n",
      "Add  revt                           with p-value 0.000375084\n",
      "Add  csho                           with p-value 0.00367426\n",
      "0.6965735155723121\n",
      "10981.678606823869\n"
     ]
    }
   ],
   "source": [
    "#RandomEffects Regression\n",
    "from linearmodels.panel import RandomEffects\n",
    "result = stepwise_selection(df_train,X,y,reg_model = RandomEffects)\n",
    "exog_vars = result\n",
    "exog = sm.add_constant(df_train[exog_vars])\n",
    "re_res = RandomEffects(df_train.ni, exog).fit()\n",
    "\n",
    "exog = sm.add_constant(df_test[exog_vars])\n",
    "test_pred(exog, re_res)"
   ]
  },
  {
   "cell_type": "code",
   "execution_count": 15,
   "id": "903680df",
   "metadata": {
    "scrolled": true
   },
   "outputs": [
    {
     "name": "stderr",
     "output_type": "stream",
     "text": [
      "/var/folders/7m/5lfwdytd2fz79pwphsdykfbw0000gn/T/ipykernel_17928/1392687859.py:19: DeprecationWarning: The default dtype for empty Series will be 'object' instead of 'float64' in a future version. Specify a dtype explicitly to silence this warning.\n",
      "  new_pval = pd.Series(index=excluded)\n",
      "/Users/kalyanilimaye/opt/anaconda3/lib/python3.9/site-packages/statsmodels/tsa/tsatools.py:142: FutureWarning: In a future version of pandas all arguments of concat except for the argument 'objs' will be keyword-only\n",
      "  x = pd.concat(x[::order], 1)\n"
     ]
    },
    {
     "name": "stdout",
     "output_type": "stream",
     "text": [
      "Add  ebit                           with p-value 0.0\n",
      "Add  ebitda                         with p-value 0.0\n",
      "Add  at                             with p-value 0.0\n",
      "Add  icapt                          with p-value 0.0\n",
      "Add  pi                             with p-value 0.0\n",
      "Drop icapt                          with p-value 0.95356\n",
      "Add  txt                            with p-value 5.35759e-07\n",
      "Drop ebitda                         with p-value 0.636802\n",
      "Add  revt                           with p-value 3.69627e-09\n",
      "Add  ap                             with p-value 0.0066993\n",
      "Add  ebitda                         with p-value 0.00047346\n",
      "0.6038566080637257\n",
      "(5.791922776270194e-15+94.58927717449237j)\n"
     ]
    }
   ],
   "source": [
    "#Between OLS regression\n",
    "from linearmodels.panel import BetweenOLS\n",
    "result = stepwise_selection(df_train,X,y,reg_model = BetweenOLS)\n",
    "exog_vars = result\n",
    "exog = sm.add_constant(df_train[exog_vars])\n",
    "be_res = BetweenOLS(df_train.ni, exog).fit()\n",
    "exog = sm.add_constant(df_test[exog_vars])\n",
    "test_pred(exog, be_res)"
   ]
  },
  {
   "cell_type": "code",
   "execution_count": 17,
   "id": "2b1c997c",
   "metadata": {},
   "outputs": [],
   "source": [
    "#PanelOLS regression - entity effects is true\n",
    "# exog = sm.add_constant(df_train[result])\n",
    "# mod = PanelOLS(df_train.ni, exog, entity_effects=True, drop_absorbed=True).fit()\n",
    "\n",
    "# exog = sm.add_constant(df_test.drop('ni',axis=1))\n",
    "# test_pred(exog, mod)"
   ]
  },
  {
   "cell_type": "code",
   "execution_count": null,
   "id": "677b3f25",
   "metadata": {},
   "outputs": [],
   "source": [
    "# #time effects is true\n",
    "\n",
    "# exog = sm.add_constant(X)\n",
    "# mod = PanelOLS(df_train.ni, exog, entity_effects=True, time_effects=True, drop_absorbed =True).fit()\n",
    "\n",
    "# exog = sm.add_constant(df_test[exog_vars])\n",
    "# test_pred(exog, ans, mod)"
   ]
  },
  {
   "cell_type": "code",
   "execution_count": null,
   "id": "bb921d2a",
   "metadata": {},
   "outputs": [],
   "source": []
  }
 ],
 "metadata": {
  "kernelspec": {
   "display_name": "Python 3 (ipykernel)",
   "language": "python",
   "name": "python3"
  },
  "language_info": {
   "codemirror_mode": {
    "name": "ipython",
    "version": 3
   },
   "file_extension": ".py",
   "mimetype": "text/x-python",
   "name": "python",
   "nbconvert_exporter": "python",
   "pygments_lexer": "ipython3",
   "version": "3.9.7"
  }
 },
 "nbformat": 4,
 "nbformat_minor": 5
}
