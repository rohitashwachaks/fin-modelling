{
 "cells": [
  {
   "cell_type": "code",
   "execution_count": 3,
   "id": "1184f06d",
   "metadata": {},
   "outputs": [
    {
     "name": "stderr",
     "output_type": "stream",
     "text": [
      "[nltk_data] Downloading package stopwords to\n",
      "[nltk_data]     /Users/rchaks/nltk_data...\n",
      "[nltk_data]   Package stopwords is already up-to-date!\n",
      "[nltk_data] Downloading package wordnet to /Users/rchaks/nltk_data...\n",
      "[nltk_data]   Package wordnet is already up-to-date!\n",
      "[nltk_data] Downloading package punkt to /Users/rchaks/nltk_data...\n",
      "[nltk_data]   Package punkt is already up-to-date!\n",
      "[nltk_data] Downloading package omw-1.4 to /Users/rchaks/nltk_data...\n",
      "[nltk_data]   Package omw-1.4 is already up-to-date!\n"
     ]
    }
   ],
   "source": [
    "import pandas as pd\n",
    "import numpy as np\n",
    "import spacy\n",
    "import nltk\n",
    "from matplotlib import pyplot as plt\n",
    "\n",
    "import nltk\n",
    "from nltk.corpus import stopwords \n",
    "from nltk.stem.wordnet import WordNetLemmatizer\n",
    "import string\n",
    "from nltk.tokenize import word_tokenize\n",
    "\n",
    "nltk.download('stopwords')\n",
    "nltk.download('wordnet')\n",
    "nltk.download('punkt')\n",
    "nltk.download('omw-1.4')\n",
    "\n",
    "from string import punctuation\n",
    "stop_words = set( stopwords.words('english'))\n",
    "\n",
    "from vaderSentiment.vaderSentiment import SentimentIntensityAnalyzer\n",
    "from sklearn.feature_extraction.text import TfidfVectorizer\n",
    "\n",
    "spacy.load('en_core_web_lg')\n",
    "\n",
    "import os\n",
    "from os import walk\n",
    "from tqdm import tqdm\n",
    "from tqdm.notebook import tqdm as tqdm_notebook\n",
    "import numpy as np\n",
    "import seaborn as sns\n",
    "\n",
    "tqdm_notebook.pandas()\n",
    "\n",
    "\n",
    "%matplotlib inline"
   ]
  },
  {
   "cell_type": "markdown",
   "id": "fcfa7f82",
   "metadata": {},
   "source": [
    "# Identify Fallen Angels"
   ]
  },
  {
   "cell_type": "code",
   "execution_count": 2,
   "id": "7bd14ca6",
   "metadata": {},
   "outputs": [
    {
     "data": {
      "text/html": [
       "<div>\n",
       "<style scoped>\n",
       "    .dataframe tbody tr th:only-of-type {\n",
       "        vertical-align: middle;\n",
       "    }\n",
       "\n",
       "    .dataframe tbody tr th {\n",
       "        vertical-align: top;\n",
       "    }\n",
       "\n",
       "    .dataframe thead th {\n",
       "        text-align: right;\n",
       "    }\n",
       "</style>\n",
       "<table border=\"1\" class=\"dataframe\">\n",
       "  <thead>\n",
       "    <tr style=\"text-align: right;\">\n",
       "      <th></th>\n",
       "      <th>gvkey</th>\n",
       "      <th>splticrm</th>\n",
       "      <th>datadate</th>\n",
       "      <th>busdesc</th>\n",
       "      <th>cik</th>\n",
       "      <th>ggroup</th>\n",
       "      <th>gind</th>\n",
       "      <th>gsector</th>\n",
       "      <th>sic</th>\n",
       "      <th>conm</th>\n",
       "      <th>tic</th>\n",
       "      <th>cusip</th>\n",
       "    </tr>\n",
       "  </thead>\n",
       "  <tbody>\n",
       "    <tr>\n",
       "      <th>0</th>\n",
       "      <td>1003</td>\n",
       "      <td>NaN</td>\n",
       "      <td>20040630</td>\n",
       "      <td>A.A. Importing Company, Inc. designs, manufact...</td>\n",
       "      <td>730052</td>\n",
       "      <td>2550</td>\n",
       "      <td>255040</td>\n",
       "      <td>25</td>\n",
       "      <td>5712</td>\n",
       "      <td>A.A. IMPORTING CO INC</td>\n",
       "      <td>ANTQ</td>\n",
       "      <td>354100</td>\n",
       "    </tr>\n",
       "    <tr>\n",
       "      <th>1</th>\n",
       "      <td>1003</td>\n",
       "      <td>NaN</td>\n",
       "      <td>20040731</td>\n",
       "      <td>A.A. Importing Company, Inc. designs, manufact...</td>\n",
       "      <td>730052</td>\n",
       "      <td>2550</td>\n",
       "      <td>255040</td>\n",
       "      <td>25</td>\n",
       "      <td>5712</td>\n",
       "      <td>A.A. IMPORTING CO INC</td>\n",
       "      <td>ANTQ</td>\n",
       "      <td>354100</td>\n",
       "    </tr>\n",
       "    <tr>\n",
       "      <th>2</th>\n",
       "      <td>1003</td>\n",
       "      <td>NaN</td>\n",
       "      <td>20040831</td>\n",
       "      <td>A.A. Importing Company, Inc. designs, manufact...</td>\n",
       "      <td>730052</td>\n",
       "      <td>2550</td>\n",
       "      <td>255040</td>\n",
       "      <td>25</td>\n",
       "      <td>5712</td>\n",
       "      <td>A.A. IMPORTING CO INC</td>\n",
       "      <td>ANTQ</td>\n",
       "      <td>354100</td>\n",
       "    </tr>\n",
       "    <tr>\n",
       "      <th>3</th>\n",
       "      <td>1003</td>\n",
       "      <td>NaN</td>\n",
       "      <td>20040930</td>\n",
       "      <td>A.A. Importing Company, Inc. designs, manufact...</td>\n",
       "      <td>730052</td>\n",
       "      <td>2550</td>\n",
       "      <td>255040</td>\n",
       "      <td>25</td>\n",
       "      <td>5712</td>\n",
       "      <td>A.A. IMPORTING CO INC</td>\n",
       "      <td>ANTQ</td>\n",
       "      <td>354100</td>\n",
       "    </tr>\n",
       "    <tr>\n",
       "      <th>4</th>\n",
       "      <td>1003</td>\n",
       "      <td>NaN</td>\n",
       "      <td>20041031</td>\n",
       "      <td>A.A. Importing Company, Inc. designs, manufact...</td>\n",
       "      <td>730052</td>\n",
       "      <td>2550</td>\n",
       "      <td>255040</td>\n",
       "      <td>25</td>\n",
       "      <td>5712</td>\n",
       "      <td>A.A. IMPORTING CO INC</td>\n",
       "      <td>ANTQ</td>\n",
       "      <td>354100</td>\n",
       "    </tr>\n",
       "  </tbody>\n",
       "</table>\n",
       "</div>"
      ],
      "text/plain": [
       "   gvkey  splticrm  datadate  \\\n",
       "0   1003       NaN  20040630   \n",
       "1   1003       NaN  20040731   \n",
       "2   1003       NaN  20040831   \n",
       "3   1003       NaN  20040930   \n",
       "4   1003       NaN  20041031   \n",
       "\n",
       "                                             busdesc     cik  ggroup    gind  \\\n",
       "0  A.A. Importing Company, Inc. designs, manufact...  730052    2550  255040   \n",
       "1  A.A. Importing Company, Inc. designs, manufact...  730052    2550  255040   \n",
       "2  A.A. Importing Company, Inc. designs, manufact...  730052    2550  255040   \n",
       "3  A.A. Importing Company, Inc. designs, manufact...  730052    2550  255040   \n",
       "4  A.A. Importing Company, Inc. designs, manufact...  730052    2550  255040   \n",
       "\n",
       "   gsector   sic                   conm   tic   cusip  \n",
       "0       25  5712  A.A. IMPORTING CO INC  ANTQ  354100  \n",
       "1       25  5712  A.A. IMPORTING CO INC  ANTQ  354100  \n",
       "2       25  5712  A.A. IMPORTING CO INC  ANTQ  354100  \n",
       "3       25  5712  A.A. IMPORTING CO INC  ANTQ  354100  \n",
       "4       25  5712  A.A. IMPORTING CO INC  ANTQ  354100  "
      ]
     },
     "execution_count": 2,
     "metadata": {},
     "output_type": "execute_result"
    }
   ],
   "source": [
    "pd.read_csv('data_files/all_downgrades.csv', low_memory= False, nrows = 100).head()"
   ]
  },
  {
   "cell_type": "code",
   "execution_count": 3,
   "id": "ad60f048",
   "metadata": {},
   "outputs": [
    {
     "data": {
      "text/html": [
       "<div>\n",
       "<style scoped>\n",
       "    .dataframe tbody tr th:only-of-type {\n",
       "        vertical-align: middle;\n",
       "    }\n",
       "\n",
       "    .dataframe tbody tr th {\n",
       "        vertical-align: top;\n",
       "    }\n",
       "\n",
       "    .dataframe thead th {\n",
       "        text-align: right;\n",
       "    }\n",
       "</style>\n",
       "<table border=\"1\" class=\"dataframe\">\n",
       "  <thead>\n",
       "    <tr style=\"text-align: right;\">\n",
       "      <th></th>\n",
       "      <th>gvkey</th>\n",
       "      <th>splticrm</th>\n",
       "      <th>cik</th>\n",
       "      <th>gsector</th>\n",
       "      <th>tic</th>\n",
       "      <th>year</th>\n",
       "      <th>next_splticrm</th>\n",
       "    </tr>\n",
       "    <tr>\n",
       "      <th>datadate</th>\n",
       "      <th></th>\n",
       "      <th></th>\n",
       "      <th></th>\n",
       "      <th></th>\n",
       "      <th></th>\n",
       "      <th></th>\n",
       "      <th></th>\n",
       "    </tr>\n",
       "  </thead>\n",
       "  <tbody>\n",
       "    <tr>\n",
       "      <th>2000-01-31</th>\n",
       "      <td>1004</td>\n",
       "      <td>BBB</td>\n",
       "      <td>1750.0</td>\n",
       "      <td>20.0</td>\n",
       "      <td>AIR</td>\n",
       "      <td>2000</td>\n",
       "      <td>BBB</td>\n",
       "    </tr>\n",
       "    <tr>\n",
       "      <th>2000-02-29</th>\n",
       "      <td>1004</td>\n",
       "      <td>BBB</td>\n",
       "      <td>1750.0</td>\n",
       "      <td>20.0</td>\n",
       "      <td>AIR</td>\n",
       "      <td>2000</td>\n",
       "      <td>BBB</td>\n",
       "    </tr>\n",
       "    <tr>\n",
       "      <th>2000-03-31</th>\n",
       "      <td>1004</td>\n",
       "      <td>BBB</td>\n",
       "      <td>1750.0</td>\n",
       "      <td>20.0</td>\n",
       "      <td>AIR</td>\n",
       "      <td>2000</td>\n",
       "      <td>BBB</td>\n",
       "    </tr>\n",
       "    <tr>\n",
       "      <th>2000-04-30</th>\n",
       "      <td>1004</td>\n",
       "      <td>BBB</td>\n",
       "      <td>1750.0</td>\n",
       "      <td>20.0</td>\n",
       "      <td>AIR</td>\n",
       "      <td>2000</td>\n",
       "      <td>BBB</td>\n",
       "    </tr>\n",
       "    <tr>\n",
       "      <th>2000-05-31</th>\n",
       "      <td>1004</td>\n",
       "      <td>BBB</td>\n",
       "      <td>1750.0</td>\n",
       "      <td>20.0</td>\n",
       "      <td>AIR</td>\n",
       "      <td>2000</td>\n",
       "      <td>BBB</td>\n",
       "    </tr>\n",
       "    <tr>\n",
       "      <th>...</th>\n",
       "      <td>...</td>\n",
       "      <td>...</td>\n",
       "      <td>...</td>\n",
       "      <td>...</td>\n",
       "      <td>...</td>\n",
       "      <td>...</td>\n",
       "      <td>...</td>\n",
       "    </tr>\n",
       "    <tr>\n",
       "      <th>2016-09-30</th>\n",
       "      <td>316056</td>\n",
       "      <td>BBB-</td>\n",
       "      <td>1579241.0</td>\n",
       "      <td>20.0</td>\n",
       "      <td>ALLE</td>\n",
       "      <td>2016</td>\n",
       "      <td>BBB-</td>\n",
       "    </tr>\n",
       "    <tr>\n",
       "      <th>2016-10-31</th>\n",
       "      <td>316056</td>\n",
       "      <td>BBB-</td>\n",
       "      <td>1579241.0</td>\n",
       "      <td>20.0</td>\n",
       "      <td>ALLE</td>\n",
       "      <td>2016</td>\n",
       "      <td>BBB-</td>\n",
       "    </tr>\n",
       "    <tr>\n",
       "      <th>2016-11-30</th>\n",
       "      <td>316056</td>\n",
       "      <td>BBB-</td>\n",
       "      <td>1579241.0</td>\n",
       "      <td>20.0</td>\n",
       "      <td>ALLE</td>\n",
       "      <td>2016</td>\n",
       "      <td>BBB-</td>\n",
       "    </tr>\n",
       "    <tr>\n",
       "      <th>2016-12-31</th>\n",
       "      <td>316056</td>\n",
       "      <td>BBB-</td>\n",
       "      <td>1579241.0</td>\n",
       "      <td>20.0</td>\n",
       "      <td>ALLE</td>\n",
       "      <td>2016</td>\n",
       "      <td>BBB-</td>\n",
       "    </tr>\n",
       "    <tr>\n",
       "      <th>2017-01-31</th>\n",
       "      <td>316056</td>\n",
       "      <td>BBB-</td>\n",
       "      <td>1579241.0</td>\n",
       "      <td>20.0</td>\n",
       "      <td>ALLE</td>\n",
       "      <td>2017</td>\n",
       "      <td>BBB-</td>\n",
       "    </tr>\n",
       "  </tbody>\n",
       "</table>\n",
       "<p>412442 rows × 7 columns</p>\n",
       "</div>"
      ],
      "text/plain": [
       "             gvkey splticrm        cik  gsector   tic  year next_splticrm\n",
       "datadate                                                                 \n",
       "2000-01-31    1004      BBB     1750.0     20.0   AIR  2000           BBB\n",
       "2000-02-29    1004      BBB     1750.0     20.0   AIR  2000           BBB\n",
       "2000-03-31    1004      BBB     1750.0     20.0   AIR  2000           BBB\n",
       "2000-04-30    1004      BBB     1750.0     20.0   AIR  2000           BBB\n",
       "2000-05-31    1004      BBB     1750.0     20.0   AIR  2000           BBB\n",
       "...            ...      ...        ...      ...   ...   ...           ...\n",
       "2016-09-30  316056     BBB-  1579241.0     20.0  ALLE  2016          BBB-\n",
       "2016-10-31  316056     BBB-  1579241.0     20.0  ALLE  2016          BBB-\n",
       "2016-11-30  316056     BBB-  1579241.0     20.0  ALLE  2016          BBB-\n",
       "2016-12-31  316056     BBB-  1579241.0     20.0  ALLE  2016          BBB-\n",
       "2017-01-31  316056     BBB-  1579241.0     20.0  ALLE  2017          BBB-\n",
       "\n",
       "[412442 rows x 7 columns]"
      ]
     },
     "execution_count": 3,
     "metadata": {},
     "output_type": "execute_result"
    }
   ],
   "source": [
    "used_cols = ['gvkey','splticrm', 'datadate', 'cik','gsector','tic']\n",
    "\n",
    "df = pd.read_csv('data_files/all_downgrades.csv',  usecols= used_cols)#.drop(['rating_drop','Next Filing Rating'], axis=1)\n",
    "# df.rename(columns={\n",
    "#     'Next Filing Rating': 'next_splticrm'\n",
    "#     }, inplace=True)\n",
    "\n",
    "df['datadate'] = pd.to_datetime(df['datadate'], format='%Y%m%d')\n",
    "df['year'] = df['datadate'].dt.year\n",
    "df = df.set_index('datadate')\n",
    "\n",
    "df['next_splticrm'] = df.groupby(['gvkey'])['splticrm'].shift(-1)\n",
    "df.dropna(inplace=True)\n",
    "df"
   ]
  },
  {
   "cell_type": "code",
   "execution_count": 4,
   "id": "e86306c2",
   "metadata": {},
   "outputs": [],
   "source": [
    "# df = pd.read_csv('consumer_staples.csv')#.drop('Unnamed: 0', axis = 1)\n",
    "# df['datadate'] = pd.to_datetime(df['datadate'])\n",
    "# df['year'] = df['datadate'].dt.year\n",
    "\n",
    "# df = df.set_index('datadate')\n",
    "# df = df.dropna(subset = ['splticrm'])\n",
    "\n",
    "# df['next_splticrm'] = df.groupby(['gvkey'])['splticrm'].shift(-1)\n",
    "# # df = df.dropna(subset = ['next_splticrm'])\n",
    "\n",
    "# df.dropna(inplace=True)\n",
    "# df"
   ]
  },
  {
   "cell_type": "code",
   "execution_count": 5,
   "id": "be432574",
   "metadata": {
    "colab": {
     "base_uri": "https://localhost:8080/"
    },
    "id": "be432574",
    "outputId": "bf16c65c-0f8f-4913-cb56-9fdab414f098"
   },
   "outputs": [
    {
     "data": {
      "text/plain": [
       "Index(['BBB', 'BBB+', 'BBB-', 'B+', 'BB-', 'A-', 'B', 'BB', 'A', 'BB+', 'A+',\n",
       "       'B-', 'AA-', 'CCC+', 'AA', 'D', 'CCC', 'AAA', 'AA+', 'CC', 'CCC-',\n",
       "       'SD'],\n",
       "      dtype='object')"
      ]
     },
     "execution_count": 5,
     "metadata": {},
     "output_type": "execute_result"
    }
   ],
   "source": [
    "df.splticrm.value_counts().index"
   ]
  },
  {
   "cell_type": "code",
   "execution_count": 6,
   "id": "d3a42a6f",
   "metadata": {},
   "outputs": [
    {
     "data": {
      "text/html": [
       "<div>\n",
       "<style scoped>\n",
       "    .dataframe tbody tr th:only-of-type {\n",
       "        vertical-align: middle;\n",
       "    }\n",
       "\n",
       "    .dataframe tbody tr th {\n",
       "        vertical-align: top;\n",
       "    }\n",
       "\n",
       "    .dataframe thead th {\n",
       "        text-align: right;\n",
       "    }\n",
       "</style>\n",
       "<table border=\"1\" class=\"dataframe\">\n",
       "  <thead>\n",
       "    <tr style=\"text-align: right;\">\n",
       "      <th></th>\n",
       "      <th>gvkey</th>\n",
       "      <th>splticrm</th>\n",
       "      <th>cik</th>\n",
       "      <th>gsector</th>\n",
       "      <th>tic</th>\n",
       "      <th>year</th>\n",
       "      <th>next_splticrm</th>\n",
       "      <th>grade</th>\n",
       "    </tr>\n",
       "    <tr>\n",
       "      <th>datadate</th>\n",
       "      <th></th>\n",
       "      <th></th>\n",
       "      <th></th>\n",
       "      <th></th>\n",
       "      <th></th>\n",
       "      <th></th>\n",
       "      <th></th>\n",
       "      <th></th>\n",
       "    </tr>\n",
       "  </thead>\n",
       "  <tbody>\n",
       "    <tr>\n",
       "      <th>2000-01-31</th>\n",
       "      <td>1004</td>\n",
       "      <td>BBB</td>\n",
       "      <td>1750.0</td>\n",
       "      <td>20.0</td>\n",
       "      <td>AIR</td>\n",
       "      <td>2000</td>\n",
       "      <td>BBB</td>\n",
       "      <td>invest</td>\n",
       "    </tr>\n",
       "    <tr>\n",
       "      <th>2000-02-29</th>\n",
       "      <td>1004</td>\n",
       "      <td>BBB</td>\n",
       "      <td>1750.0</td>\n",
       "      <td>20.0</td>\n",
       "      <td>AIR</td>\n",
       "      <td>2000</td>\n",
       "      <td>BBB</td>\n",
       "      <td>invest</td>\n",
       "    </tr>\n",
       "    <tr>\n",
       "      <th>2000-03-31</th>\n",
       "      <td>1004</td>\n",
       "      <td>BBB</td>\n",
       "      <td>1750.0</td>\n",
       "      <td>20.0</td>\n",
       "      <td>AIR</td>\n",
       "      <td>2000</td>\n",
       "      <td>BBB</td>\n",
       "      <td>invest</td>\n",
       "    </tr>\n",
       "    <tr>\n",
       "      <th>2000-04-30</th>\n",
       "      <td>1004</td>\n",
       "      <td>BBB</td>\n",
       "      <td>1750.0</td>\n",
       "      <td>20.0</td>\n",
       "      <td>AIR</td>\n",
       "      <td>2000</td>\n",
       "      <td>BBB</td>\n",
       "      <td>invest</td>\n",
       "    </tr>\n",
       "    <tr>\n",
       "      <th>2000-05-31</th>\n",
       "      <td>1004</td>\n",
       "      <td>BBB</td>\n",
       "      <td>1750.0</td>\n",
       "      <td>20.0</td>\n",
       "      <td>AIR</td>\n",
       "      <td>2000</td>\n",
       "      <td>BBB</td>\n",
       "      <td>invest</td>\n",
       "    </tr>\n",
       "    <tr>\n",
       "      <th>...</th>\n",
       "      <td>...</td>\n",
       "      <td>...</td>\n",
       "      <td>...</td>\n",
       "      <td>...</td>\n",
       "      <td>...</td>\n",
       "      <td>...</td>\n",
       "      <td>...</td>\n",
       "      <td>...</td>\n",
       "    </tr>\n",
       "    <tr>\n",
       "      <th>2016-09-30</th>\n",
       "      <td>316056</td>\n",
       "      <td>BBB-</td>\n",
       "      <td>1579241.0</td>\n",
       "      <td>20.0</td>\n",
       "      <td>ALLE</td>\n",
       "      <td>2016</td>\n",
       "      <td>BBB-</td>\n",
       "      <td>junk</td>\n",
       "    </tr>\n",
       "    <tr>\n",
       "      <th>2016-10-31</th>\n",
       "      <td>316056</td>\n",
       "      <td>BBB-</td>\n",
       "      <td>1579241.0</td>\n",
       "      <td>20.0</td>\n",
       "      <td>ALLE</td>\n",
       "      <td>2016</td>\n",
       "      <td>BBB-</td>\n",
       "      <td>junk</td>\n",
       "    </tr>\n",
       "    <tr>\n",
       "      <th>2016-11-30</th>\n",
       "      <td>316056</td>\n",
       "      <td>BBB-</td>\n",
       "      <td>1579241.0</td>\n",
       "      <td>20.0</td>\n",
       "      <td>ALLE</td>\n",
       "      <td>2016</td>\n",
       "      <td>BBB-</td>\n",
       "      <td>junk</td>\n",
       "    </tr>\n",
       "    <tr>\n",
       "      <th>2016-12-31</th>\n",
       "      <td>316056</td>\n",
       "      <td>BBB-</td>\n",
       "      <td>1579241.0</td>\n",
       "      <td>20.0</td>\n",
       "      <td>ALLE</td>\n",
       "      <td>2016</td>\n",
       "      <td>BBB-</td>\n",
       "      <td>junk</td>\n",
       "    </tr>\n",
       "    <tr>\n",
       "      <th>2017-01-31</th>\n",
       "      <td>316056</td>\n",
       "      <td>BBB-</td>\n",
       "      <td>1579241.0</td>\n",
       "      <td>20.0</td>\n",
       "      <td>ALLE</td>\n",
       "      <td>2017</td>\n",
       "      <td>BBB-</td>\n",
       "      <td>junk</td>\n",
       "    </tr>\n",
       "  </tbody>\n",
       "</table>\n",
       "<p>412442 rows × 8 columns</p>\n",
       "</div>"
      ],
      "text/plain": [
       "             gvkey splticrm        cik  gsector   tic  year next_splticrm  \\\n",
       "datadate                                                                    \n",
       "2000-01-31    1004      BBB     1750.0     20.0   AIR  2000           BBB   \n",
       "2000-02-29    1004      BBB     1750.0     20.0   AIR  2000           BBB   \n",
       "2000-03-31    1004      BBB     1750.0     20.0   AIR  2000           BBB   \n",
       "2000-04-30    1004      BBB     1750.0     20.0   AIR  2000           BBB   \n",
       "2000-05-31    1004      BBB     1750.0     20.0   AIR  2000           BBB   \n",
       "...            ...      ...        ...      ...   ...   ...           ...   \n",
       "2016-09-30  316056     BBB-  1579241.0     20.0  ALLE  2016          BBB-   \n",
       "2016-10-31  316056     BBB-  1579241.0     20.0  ALLE  2016          BBB-   \n",
       "2016-11-30  316056     BBB-  1579241.0     20.0  ALLE  2016          BBB-   \n",
       "2016-12-31  316056     BBB-  1579241.0     20.0  ALLE  2016          BBB-   \n",
       "2017-01-31  316056     BBB-  1579241.0     20.0  ALLE  2017          BBB-   \n",
       "\n",
       "             grade  \n",
       "datadate            \n",
       "2000-01-31  invest  \n",
       "2000-02-29  invest  \n",
       "2000-03-31  invest  \n",
       "2000-04-30  invest  \n",
       "2000-05-31  invest  \n",
       "...            ...  \n",
       "2016-09-30    junk  \n",
       "2016-10-31    junk  \n",
       "2016-11-30    junk  \n",
       "2016-12-31    junk  \n",
       "2017-01-31    junk  \n",
       "\n",
       "[412442 rows x 8 columns]"
      ]
     },
     "execution_count": 6,
     "metadata": {},
     "output_type": "execute_result"
    }
   ],
   "source": [
    "def is_invest_grade(rating: str)->bool:\n",
    "    return rating.startswith('A') or rating in {'BBB','BBB+'}\n",
    "\n",
    "def junk_drop(rating:pd.Series, next_rating:pd.Series)->pd.Series:\n",
    "    out = []\n",
    "    for item in zip(rating, next_rating):\n",
    "        grade = 'invest'\n",
    "        if is_invest_grade(item[0]) == True:\n",
    "            if is_invest_grade(item[1]) == False:\n",
    "                grade = 'fallen'\n",
    "        else:\n",
    "            grade = 'junk'\n",
    "        \n",
    "        out.append(grade)\n",
    "    return out\n",
    "\n",
    "\n",
    "df['grade'] = junk_drop(df['splticrm'],df['next_splticrm'])\n",
    "df"
   ]
  },
  {
   "cell_type": "code",
   "execution_count": 7,
   "id": "14426c74",
   "metadata": {},
   "outputs": [
    {
     "data": {
      "text/plain": [
       "junk      226526\n",
       "invest    185276\n",
       "fallen       640\n",
       "Name: grade, dtype: int64"
      ]
     },
     "execution_count": 7,
     "metadata": {},
     "output_type": "execute_result"
    }
   ],
   "source": [
    "df.grade.value_counts()"
   ]
  },
  {
   "cell_type": "code",
   "execution_count": 8,
   "id": "32199573",
   "metadata": {},
   "outputs": [],
   "source": [
    "def compare(x):\n",
    "    '''\n",
    "    Returns recods of Sectors where there is at least one fallen angel \n",
    "    '''\n",
    "    return any(x=='fallen') # Returns True if any item in the security is 'fallen' in given year and industry"
   ]
  },
  {
   "cell_type": "code",
   "execution_count": 9,
   "id": "aba72776",
   "metadata": {},
   "outputs": [
    {
     "name": "stderr",
     "output_type": "stream",
     "text": [
      "/var/folders/y3/v6fyb_rs72bcn7ftc3lvwvmw0000gn/T/ipykernel_43618/910460148.py:1: UserWarning: Boolean Series key will be reindexed to match DataFrame index.\n",
      "  df = df.reset_index().set_index(['year','gsector'])[df.groupby(['year','gsector'])['grade'].apply(compare)].reset_index()\n"
     ]
    },
    {
     "data": {
      "text/html": [
       "<div>\n",
       "<style scoped>\n",
       "    .dataframe tbody tr th:only-of-type {\n",
       "        vertical-align: middle;\n",
       "    }\n",
       "\n",
       "    .dataframe tbody tr th {\n",
       "        vertical-align: top;\n",
       "    }\n",
       "\n",
       "    .dataframe thead th {\n",
       "        text-align: right;\n",
       "    }\n",
       "</style>\n",
       "<table border=\"1\" class=\"dataframe\">\n",
       "  <thead>\n",
       "    <tr style=\"text-align: right;\">\n",
       "      <th></th>\n",
       "      <th>year</th>\n",
       "      <th>gsector</th>\n",
       "      <th>gvkey</th>\n",
       "      <th>splticrm</th>\n",
       "      <th>cik</th>\n",
       "      <th>tic</th>\n",
       "      <th>next_splticrm</th>\n",
       "      <th>grade</th>\n",
       "    </tr>\n",
       "    <tr>\n",
       "      <th>datadate</th>\n",
       "      <th></th>\n",
       "      <th></th>\n",
       "      <th></th>\n",
       "      <th></th>\n",
       "      <th></th>\n",
       "      <th></th>\n",
       "      <th></th>\n",
       "      <th></th>\n",
       "    </tr>\n",
       "  </thead>\n",
       "  <tbody>\n",
       "    <tr>\n",
       "      <th>2000-01-31</th>\n",
       "      <td>2000</td>\n",
       "      <td>20.0</td>\n",
       "      <td>1004</td>\n",
       "      <td>BBB</td>\n",
       "      <td>1750.0</td>\n",
       "      <td>AIR</td>\n",
       "      <td>BBB</td>\n",
       "      <td>invest</td>\n",
       "    </tr>\n",
       "    <tr>\n",
       "      <th>2000-02-29</th>\n",
       "      <td>2000</td>\n",
       "      <td>20.0</td>\n",
       "      <td>1004</td>\n",
       "      <td>BBB</td>\n",
       "      <td>1750.0</td>\n",
       "      <td>AIR</td>\n",
       "      <td>BBB</td>\n",
       "      <td>invest</td>\n",
       "    </tr>\n",
       "    <tr>\n",
       "      <th>2000-03-31</th>\n",
       "      <td>2000</td>\n",
       "      <td>20.0</td>\n",
       "      <td>1004</td>\n",
       "      <td>BBB</td>\n",
       "      <td>1750.0</td>\n",
       "      <td>AIR</td>\n",
       "      <td>BBB</td>\n",
       "      <td>invest</td>\n",
       "    </tr>\n",
       "    <tr>\n",
       "      <th>2000-04-30</th>\n",
       "      <td>2000</td>\n",
       "      <td>20.0</td>\n",
       "      <td>1004</td>\n",
       "      <td>BBB</td>\n",
       "      <td>1750.0</td>\n",
       "      <td>AIR</td>\n",
       "      <td>BBB</td>\n",
       "      <td>invest</td>\n",
       "    </tr>\n",
       "    <tr>\n",
       "      <th>2000-05-31</th>\n",
       "      <td>2000</td>\n",
       "      <td>20.0</td>\n",
       "      <td>1004</td>\n",
       "      <td>BBB</td>\n",
       "      <td>1750.0</td>\n",
       "      <td>AIR</td>\n",
       "      <td>BBB</td>\n",
       "      <td>invest</td>\n",
       "    </tr>\n",
       "    <tr>\n",
       "      <th>...</th>\n",
       "      <td>...</td>\n",
       "      <td>...</td>\n",
       "      <td>...</td>\n",
       "      <td>...</td>\n",
       "      <td>...</td>\n",
       "      <td>...</td>\n",
       "      <td>...</td>\n",
       "      <td>...</td>\n",
       "    </tr>\n",
       "    <tr>\n",
       "      <th>2016-08-31</th>\n",
       "      <td>2016</td>\n",
       "      <td>10.0</td>\n",
       "      <td>287882</td>\n",
       "      <td>BBB</td>\n",
       "      <td>1444406.0</td>\n",
       "      <td>EC</td>\n",
       "      <td>BBB</td>\n",
       "      <td>invest</td>\n",
       "    </tr>\n",
       "    <tr>\n",
       "      <th>2016-09-30</th>\n",
       "      <td>2016</td>\n",
       "      <td>10.0</td>\n",
       "      <td>287882</td>\n",
       "      <td>BBB</td>\n",
       "      <td>1444406.0</td>\n",
       "      <td>EC</td>\n",
       "      <td>BBB</td>\n",
       "      <td>invest</td>\n",
       "    </tr>\n",
       "    <tr>\n",
       "      <th>2016-10-31</th>\n",
       "      <td>2016</td>\n",
       "      <td>10.0</td>\n",
       "      <td>287882</td>\n",
       "      <td>BBB</td>\n",
       "      <td>1444406.0</td>\n",
       "      <td>EC</td>\n",
       "      <td>BBB</td>\n",
       "      <td>invest</td>\n",
       "    </tr>\n",
       "    <tr>\n",
       "      <th>2016-11-30</th>\n",
       "      <td>2016</td>\n",
       "      <td>10.0</td>\n",
       "      <td>287882</td>\n",
       "      <td>BBB</td>\n",
       "      <td>1444406.0</td>\n",
       "      <td>EC</td>\n",
       "      <td>BBB</td>\n",
       "      <td>invest</td>\n",
       "    </tr>\n",
       "    <tr>\n",
       "      <th>2016-12-31</th>\n",
       "      <td>2016</td>\n",
       "      <td>10.0</td>\n",
       "      <td>287882</td>\n",
       "      <td>BBB</td>\n",
       "      <td>1444406.0</td>\n",
       "      <td>EC</td>\n",
       "      <td>BBB</td>\n",
       "      <td>invest</td>\n",
       "    </tr>\n",
       "  </tbody>\n",
       "</table>\n",
       "<p>167899 rows × 8 columns</p>\n",
       "</div>"
      ],
      "text/plain": [
       "            year  gsector   gvkey splticrm        cik  tic next_splticrm  \\\n",
       "datadate                                                                   \n",
       "2000-01-31  2000     20.0    1004      BBB     1750.0  AIR           BBB   \n",
       "2000-02-29  2000     20.0    1004      BBB     1750.0  AIR           BBB   \n",
       "2000-03-31  2000     20.0    1004      BBB     1750.0  AIR           BBB   \n",
       "2000-04-30  2000     20.0    1004      BBB     1750.0  AIR           BBB   \n",
       "2000-05-31  2000     20.0    1004      BBB     1750.0  AIR           BBB   \n",
       "...          ...      ...     ...      ...        ...  ...           ...   \n",
       "2016-08-31  2016     10.0  287882      BBB  1444406.0   EC           BBB   \n",
       "2016-09-30  2016     10.0  287882      BBB  1444406.0   EC           BBB   \n",
       "2016-10-31  2016     10.0  287882      BBB  1444406.0   EC           BBB   \n",
       "2016-11-30  2016     10.0  287882      BBB  1444406.0   EC           BBB   \n",
       "2016-12-31  2016     10.0  287882      BBB  1444406.0   EC           BBB   \n",
       "\n",
       "             grade  \n",
       "datadate            \n",
       "2000-01-31  invest  \n",
       "2000-02-29  invest  \n",
       "2000-03-31  invest  \n",
       "2000-04-30  invest  \n",
       "2000-05-31  invest  \n",
       "...            ...  \n",
       "2016-08-31  invest  \n",
       "2016-09-30  invest  \n",
       "2016-10-31  invest  \n",
       "2016-11-30  invest  \n",
       "2016-12-31  invest  \n",
       "\n",
       "[167899 rows x 8 columns]"
      ]
     },
     "execution_count": 9,
     "metadata": {},
     "output_type": "execute_result"
    }
   ],
   "source": [
    "df = df.reset_index().set_index(['year','gsector'])[df.groupby(['year','gsector'])['grade'].apply(compare)].reset_index()\n",
    "df = df[df.grade != 'junk']  # discarding junk bonds\n",
    "df = df.set_index('datadate')\n",
    "df"
   ]
  },
  {
   "cell_type": "code",
   "execution_count": 10,
   "id": "f0f31606",
   "metadata": {},
   "outputs": [
    {
     "data": {
      "text/html": [
       "<div>\n",
       "<style scoped>\n",
       "    .dataframe tbody tr th:only-of-type {\n",
       "        vertical-align: middle;\n",
       "    }\n",
       "\n",
       "    .dataframe tbody tr th {\n",
       "        vertical-align: top;\n",
       "    }\n",
       "\n",
       "    .dataframe thead th {\n",
       "        text-align: right;\n",
       "    }\n",
       "</style>\n",
       "<table border=\"1\" class=\"dataframe\">\n",
       "  <thead>\n",
       "    <tr style=\"text-align: right;\">\n",
       "      <th></th>\n",
       "      <th>grade</th>\n",
       "      <th>fallen</th>\n",
       "      <th>invest</th>\n",
       "    </tr>\n",
       "    <tr>\n",
       "      <th>year</th>\n",
       "      <th>gsector</th>\n",
       "      <th></th>\n",
       "      <th></th>\n",
       "    </tr>\n",
       "  </thead>\n",
       "  <tbody>\n",
       "    <tr>\n",
       "      <th rowspan=\"5\" valign=\"top\">2000</th>\n",
       "      <th>10.0</th>\n",
       "      <td>3</td>\n",
       "      <td>989</td>\n",
       "    </tr>\n",
       "    <tr>\n",
       "      <th>15.0</th>\n",
       "      <td>8</td>\n",
       "      <td>1052</td>\n",
       "    </tr>\n",
       "    <tr>\n",
       "      <th>20.0</th>\n",
       "      <td>5</td>\n",
       "      <td>1386</td>\n",
       "    </tr>\n",
       "    <tr>\n",
       "      <th>25.0</th>\n",
       "      <td>9</td>\n",
       "      <td>1040</td>\n",
       "    </tr>\n",
       "    <tr>\n",
       "      <th>35.0</th>\n",
       "      <td>3</td>\n",
       "      <td>585</td>\n",
       "    </tr>\n",
       "    <tr>\n",
       "      <th>...</th>\n",
       "      <th>...</th>\n",
       "      <td>...</td>\n",
       "      <td>...</td>\n",
       "    </tr>\n",
       "    <tr>\n",
       "      <th rowspan=\"4\" valign=\"top\">2016</th>\n",
       "      <th>40.0</th>\n",
       "      <td>2</td>\n",
       "      <td>2110</td>\n",
       "    </tr>\n",
       "    <tr>\n",
       "      <th>45.0</th>\n",
       "      <td>1</td>\n",
       "      <td>559</td>\n",
       "    </tr>\n",
       "    <tr>\n",
       "      <th>55.0</th>\n",
       "      <td>2</td>\n",
       "      <td>2090</td>\n",
       "    </tr>\n",
       "    <tr>\n",
       "      <th>60.0</th>\n",
       "      <td>1</td>\n",
       "      <td>507</td>\n",
       "    </tr>\n",
       "    <tr>\n",
       "      <th>2017</th>\n",
       "      <th>25.0</th>\n",
       "      <td>1</td>\n",
       "      <td>53</td>\n",
       "    </tr>\n",
       "  </tbody>\n",
       "</table>\n",
       "<p>161 rows × 2 columns</p>\n",
       "</div>"
      ],
      "text/plain": [
       "grade         fallen  invest\n",
       "year gsector                \n",
       "2000 10.0          3     989\n",
       "     15.0          8    1052\n",
       "     20.0          5    1386\n",
       "     25.0          9    1040\n",
       "     35.0          3     585\n",
       "...              ...     ...\n",
       "2016 40.0          2    2110\n",
       "     45.0          1     559\n",
       "     55.0          2    2090\n",
       "     60.0          1     507\n",
       "2017 25.0          1      53\n",
       "\n",
       "[161 rows x 2 columns]"
      ]
     },
     "execution_count": 10,
     "metadata": {},
     "output_type": "execute_result"
    }
   ],
   "source": [
    "df.groupby(['gsector','year','grade']).size().unstack().to_csv('check_downgrades.csv')\n",
    "df.groupby(['year','gsector','grade']).size().unstack()"
   ]
  },
  {
   "cell_type": "code",
   "execution_count": 11,
   "id": "41ea0c40",
   "metadata": {},
   "outputs": [],
   "source": [
    "with open('gvkeys.txt', 'w') as f:\n",
    "    [f.write(str(x)+'\\n') for x in df.gvkey.unique()]"
   ]
  },
  {
   "cell_type": "markdown",
   "id": "e4c3e121",
   "metadata": {},
   "source": [
    "# Annuals Data"
   ]
  },
  {
   "cell_type": "code",
   "execution_count": 12,
   "id": "a8b7e5b4",
   "metadata": {},
   "outputs": [],
   "source": [
    "subset_cols = ['gvkey',\n",
    "# 'conm',\n",
    "# 'ggroup',\n",
    "'datadate',\n",
    "'fyear',\n",
    "'indfmt',\n",
    "'consol',\n",
    "'popsrc',\n",
    "'datafmt',\n",
    "'tic',\n",
    "'curcd',\n",
    "'at',\n",
    "'gp',\n",
    "'invt',\n",
    "'nits',\n",
    "'oiadp',\n",
    "'revt',\n",
    "'txt',\n",
    "'cik',\n",
    "'costat',\n",
    "'mkvalt']"
   ]
  },
  {
   "cell_type": "code",
   "execution_count": 13,
   "id": "a3bd9dc2",
   "metadata": {
    "colab": {
     "base_uri": "https://localhost:8080/",
     "height": 382
    },
    "id": "a3bd9dc2",
    "outputId": "b376bc8e-280f-479c-8283-a47acb483043"
   },
   "outputs": [
    {
     "name": "stdout",
     "output_type": "stream",
     "text": [
      "(31432, 19)\n"
     ]
    },
    {
     "data": {
      "text/html": [
       "<div>\n",
       "<style scoped>\n",
       "    .dataframe tbody tr th:only-of-type {\n",
       "        vertical-align: middle;\n",
       "    }\n",
       "\n",
       "    .dataframe tbody tr th {\n",
       "        vertical-align: top;\n",
       "    }\n",
       "\n",
       "    .dataframe thead th {\n",
       "        text-align: right;\n",
       "    }\n",
       "</style>\n",
       "<table border=\"1\" class=\"dataframe\">\n",
       "  <thead>\n",
       "    <tr style=\"text-align: right;\">\n",
       "      <th></th>\n",
       "      <th>gvkey</th>\n",
       "      <th>datadate</th>\n",
       "      <th>fyear</th>\n",
       "      <th>indfmt</th>\n",
       "      <th>consol</th>\n",
       "      <th>popsrc</th>\n",
       "      <th>datafmt</th>\n",
       "      <th>tic</th>\n",
       "      <th>curcd</th>\n",
       "      <th>at</th>\n",
       "      <th>gp</th>\n",
       "      <th>invt</th>\n",
       "      <th>nits</th>\n",
       "      <th>oiadp</th>\n",
       "      <th>revt</th>\n",
       "      <th>txt</th>\n",
       "      <th>cik</th>\n",
       "      <th>costat</th>\n",
       "      <th>mkvalt</th>\n",
       "    </tr>\n",
       "  </thead>\n",
       "  <tbody>\n",
       "    <tr>\n",
       "      <th>0</th>\n",
       "      <td>1004</td>\n",
       "      <td>2000-05-31</td>\n",
       "      <td>2000</td>\n",
       "      <td>INDL</td>\n",
       "      <td>C</td>\n",
       "      <td>D</td>\n",
       "      <td>STD</td>\n",
       "      <td>AIR</td>\n",
       "      <td>USD</td>\n",
       "      <td>740.998</td>\n",
       "      <td>191.226</td>\n",
       "      <td>336.018</td>\n",
       "      <td>NaN</td>\n",
       "      <td>70.658</td>\n",
       "      <td>1024.333</td>\n",
       "      <td>14.363</td>\n",
       "      <td>1750</td>\n",
       "      <td>A</td>\n",
       "      <td>372.7519</td>\n",
       "    </tr>\n",
       "    <tr>\n",
       "      <th>1</th>\n",
       "      <td>1004</td>\n",
       "      <td>2001-05-31</td>\n",
       "      <td>2001</td>\n",
       "      <td>INDL</td>\n",
       "      <td>C</td>\n",
       "      <td>D</td>\n",
       "      <td>STD</td>\n",
       "      <td>AIR</td>\n",
       "      <td>USD</td>\n",
       "      <td>701.854</td>\n",
       "      <td>160.444</td>\n",
       "      <td>320.590</td>\n",
       "      <td>NaN</td>\n",
       "      <td>45.790</td>\n",
       "      <td>874.255</td>\n",
       "      <td>1.689</td>\n",
       "      <td>1750</td>\n",
       "      <td>A</td>\n",
       "      <td>377.1180</td>\n",
       "    </tr>\n",
       "    <tr>\n",
       "      <th>2</th>\n",
       "      <td>1004</td>\n",
       "      <td>2002-05-31</td>\n",
       "      <td>2002</td>\n",
       "      <td>INDL</td>\n",
       "      <td>C</td>\n",
       "      <td>D</td>\n",
       "      <td>STD</td>\n",
       "      <td>AIR</td>\n",
       "      <td>USD</td>\n",
       "      <td>710.199</td>\n",
       "      <td>112.244</td>\n",
       "      <td>286.588</td>\n",
       "      <td>NaN</td>\n",
       "      <td>4.711</td>\n",
       "      <td>638.721</td>\n",
       "      <td>-39.290</td>\n",
       "      <td>1750</td>\n",
       "      <td>A</td>\n",
       "      <td>364.5928</td>\n",
       "    </tr>\n",
       "    <tr>\n",
       "      <th>3</th>\n",
       "      <td>1004</td>\n",
       "      <td>2003-05-31</td>\n",
       "      <td>2003</td>\n",
       "      <td>INDL</td>\n",
       "      <td>C</td>\n",
       "      <td>D</td>\n",
       "      <td>STD</td>\n",
       "      <td>AIR</td>\n",
       "      <td>USD</td>\n",
       "      <td>686.621</td>\n",
       "      <td>109.590</td>\n",
       "      <td>259.954</td>\n",
       "      <td>NaN</td>\n",
       "      <td>3.573</td>\n",
       "      <td>606.337</td>\n",
       "      <td>-7.080</td>\n",
       "      <td>1750</td>\n",
       "      <td>A</td>\n",
       "      <td>143.3295</td>\n",
       "    </tr>\n",
       "    <tr>\n",
       "      <th>4</th>\n",
       "      <td>1004</td>\n",
       "      <td>2004-05-31</td>\n",
       "      <td>2004</td>\n",
       "      <td>INDL</td>\n",
       "      <td>C</td>\n",
       "      <td>D</td>\n",
       "      <td>STD</td>\n",
       "      <td>AIR</td>\n",
       "      <td>USD</td>\n",
       "      <td>709.292</td>\n",
       "      <td>128.656</td>\n",
       "      <td>247.245</td>\n",
       "      <td>NaN</td>\n",
       "      <td>20.811</td>\n",
       "      <td>651.958</td>\n",
       "      <td>-1.797</td>\n",
       "      <td>1750</td>\n",
       "      <td>A</td>\n",
       "      <td>308.9071</td>\n",
       "    </tr>\n",
       "  </tbody>\n",
       "</table>\n",
       "</div>"
      ],
      "text/plain": [
       "   gvkey   datadate  fyear indfmt consol popsrc datafmt  tic curcd       at  \\\n",
       "0   1004 2000-05-31   2000   INDL      C      D     STD  AIR   USD  740.998   \n",
       "1   1004 2001-05-31   2001   INDL      C      D     STD  AIR   USD  701.854   \n",
       "2   1004 2002-05-31   2002   INDL      C      D     STD  AIR   USD  710.199   \n",
       "3   1004 2003-05-31   2003   INDL      C      D     STD  AIR   USD  686.621   \n",
       "4   1004 2004-05-31   2004   INDL      C      D     STD  AIR   USD  709.292   \n",
       "\n",
       "        gp     invt  nits   oiadp      revt     txt   cik costat    mkvalt  \n",
       "0  191.226  336.018   NaN  70.658  1024.333  14.363  1750      A  372.7519  \n",
       "1  160.444  320.590   NaN  45.790   874.255   1.689  1750      A  377.1180  \n",
       "2  112.244  286.588   NaN   4.711   638.721 -39.290  1750      A  364.5928  \n",
       "3  109.590  259.954   NaN   3.573   606.337  -7.080  1750      A  143.3295  \n",
       "4  128.656  247.245   NaN  20.811   651.958  -1.797  1750      A  308.9071  "
      ]
     },
     "execution_count": 13,
     "metadata": {},
     "output_type": "execute_result"
    }
   ],
   "source": [
    "annual_data = pd.read_csv('data_files/annuals_data.csv', low_memory= False, usecols = subset_cols)\n",
    "# fill na ciks\n",
    "annual_data['datadate'] = pd.to_datetime(annual_data['datadate'])\n",
    "annual_data['fyear'] = annual_data['datadate'].dt.year\n",
    "print(annual_data.shape)\n",
    "annual_data.head()"
   ]
  },
  {
   "cell_type": "code",
   "execution_count": 14,
   "id": "dd1d7f40",
   "metadata": {},
   "outputs": [
    {
     "data": {
      "text/plain": [
       "(1566,)"
      ]
     },
     "execution_count": 14,
     "metadata": {},
     "output_type": "execute_result"
    }
   ],
   "source": [
    "annual_data.gvkey.unique().shape"
   ]
  },
  {
   "cell_type": "code",
   "execution_count": 15,
   "id": "78ee3804",
   "metadata": {},
   "outputs": [
    {
     "data": {
      "text/plain": [
       "0"
      ]
     },
     "execution_count": 15,
     "metadata": {},
     "output_type": "execute_result"
    }
   ],
   "source": [
    "annual_data.isna().sum()['cik']"
   ]
  },
  {
   "cell_type": "code",
   "execution_count": 16,
   "id": "76752a24",
   "metadata": {
    "colab": {
     "base_uri": "https://localhost:8080/",
     "height": 1000
    },
    "id": "76752a24",
    "outputId": "39a0dece-4eef-450d-c4d3-964932c7de03"
   },
   "outputs": [
    {
     "data": {
      "text/plain": [
       "(203316, 24)"
      ]
     },
     "execution_count": 16,
     "metadata": {},
     "output_type": "execute_result"
    }
   ],
   "source": [
    "merged_data = pd.merge(df.reset_index(),annual_data.drop(['datadate','tic','cik'],axis= 1), how = 'left', left_on = ['gvkey','year'], right_on = ['gvkey','fyear'])\n",
    "merged_data.shape"
   ]
  },
  {
   "cell_type": "code",
   "execution_count": 17,
   "id": "57373529",
   "metadata": {},
   "outputs": [
    {
     "data": {
      "text/html": [
       "<div>\n",
       "<style scoped>\n",
       "    .dataframe tbody tr th:only-of-type {\n",
       "        vertical-align: middle;\n",
       "    }\n",
       "\n",
       "    .dataframe tbody tr th {\n",
       "        vertical-align: top;\n",
       "    }\n",
       "\n",
       "    .dataframe thead th {\n",
       "        text-align: right;\n",
       "    }\n",
       "</style>\n",
       "<table border=\"1\" class=\"dataframe\">\n",
       "  <thead>\n",
       "    <tr style=\"text-align: right;\">\n",
       "      <th></th>\n",
       "      <th>year</th>\n",
       "      <th>gsector</th>\n",
       "      <th>gvkey</th>\n",
       "      <th>cik</th>\n",
       "      <th>fyear</th>\n",
       "      <th>at</th>\n",
       "      <th>gp</th>\n",
       "      <th>invt</th>\n",
       "      <th>nits</th>\n",
       "      <th>oiadp</th>\n",
       "      <th>revt</th>\n",
       "      <th>txt</th>\n",
       "      <th>mkvalt</th>\n",
       "    </tr>\n",
       "  </thead>\n",
       "  <tbody>\n",
       "    <tr>\n",
       "      <th>count</th>\n",
       "      <td>203316.000000</td>\n",
       "      <td>203316.000000</td>\n",
       "      <td>203316.000000</td>\n",
       "      <td>2.033160e+05</td>\n",
       "      <td>189319.000000</td>\n",
       "      <td>1.890520e+05</td>\n",
       "      <td>153779.000000</td>\n",
       "      <td>158848.000000</td>\n",
       "      <td>8.772000e+03</td>\n",
       "      <td>153779.000000</td>\n",
       "      <td>189047.000000</td>\n",
       "      <td>189047.000000</td>\n",
       "      <td>108882.000000</td>\n",
       "    </tr>\n",
       "    <tr>\n",
       "      <th>mean</th>\n",
       "      <td>2007.684939</td>\n",
       "      <td>37.174841</td>\n",
       "      <td>39120.309961</td>\n",
       "      <td>6.622253e+05</td>\n",
       "      <td>2007.721861</td>\n",
       "      <td>9.941891e+04</td>\n",
       "      <td>5758.811292</td>\n",
       "      <td>3521.507943</td>\n",
       "      <td>6.325947e+03</td>\n",
       "      <td>2662.071302</td>\n",
       "      <td>16221.744779</td>\n",
       "      <td>557.593785</td>\n",
       "      <td>21333.377936</td>\n",
       "    </tr>\n",
       "    <tr>\n",
       "      <th>std</th>\n",
       "      <td>4.971202</td>\n",
       "      <td>14.102271</td>\n",
       "      <td>55965.888190</td>\n",
       "      <td>5.096058e+05</td>\n",
       "      <td>4.969608</td>\n",
       "      <td>3.047192e+05</td>\n",
       "      <td>11356.389007</td>\n",
       "      <td>23852.875831</td>\n",
       "      <td>1.099641e+05</td>\n",
       "      <td>6202.161648</td>\n",
       "      <td>31735.686424</td>\n",
       "      <td>1505.660549</td>\n",
       "      <td>42708.843197</td>\n",
       "    </tr>\n",
       "    <tr>\n",
       "      <th>min</th>\n",
       "      <td>2000.000000</td>\n",
       "      <td>10.000000</td>\n",
       "      <td>1004.000000</td>\n",
       "      <td>1.750000e+03</td>\n",
       "      <td>2000.000000</td>\n",
       "      <td>1.390300e+01</td>\n",
       "      <td>-76735.000000</td>\n",
       "      <td>0.000000</td>\n",
       "      <td>-4.056000e+03</td>\n",
       "      <td>-80053.000000</td>\n",
       "      <td>-15009.328000</td>\n",
       "      <td>-20612.000000</td>\n",
       "      <td>4.595200</td>\n",
       "    </tr>\n",
       "    <tr>\n",
       "      <th>25%</th>\n",
       "      <td>2003.000000</td>\n",
       "      <td>25.000000</td>\n",
       "      <td>6682.000000</td>\n",
       "      <td>7.846000e+04</td>\n",
       "      <td>2003.000000</td>\n",
       "      <td>4.856499e+03</td>\n",
       "      <td>585.317000</td>\n",
       "      <td>7.000000</td>\n",
       "      <td>9.500000e+01</td>\n",
       "      <td>279.805000</td>\n",
       "      <td>1700.892000</td>\n",
       "      <td>38.780000</td>\n",
       "      <td>2807.629300</td>\n",
       "    </tr>\n",
       "    <tr>\n",
       "      <th>50%</th>\n",
       "      <td>2007.000000</td>\n",
       "      <td>40.000000</td>\n",
       "      <td>13135.000000</td>\n",
       "      <td>8.042120e+05</td>\n",
       "      <td>2008.000000</td>\n",
       "      <td>1.411921e+04</td>\n",
       "      <td>1680.004000</td>\n",
       "      <td>213.690000</td>\n",
       "      <td>3.684000e+02</td>\n",
       "      <td>783.748000</td>\n",
       "      <td>4706.000000</td>\n",
       "      <td>153.031000</td>\n",
       "      <td>7312.415200</td>\n",
       "    </tr>\n",
       "    <tr>\n",
       "      <th>75%</th>\n",
       "      <td>2012.000000</td>\n",
       "      <td>45.000000</td>\n",
       "      <td>30436.000000</td>\n",
       "      <td>1.050825e+06</td>\n",
       "      <td>2012.000000</td>\n",
       "      <td>4.482100e+04</td>\n",
       "      <td>5198.463000</td>\n",
       "      <td>1033.582000</td>\n",
       "      <td>8.221000e+02</td>\n",
       "      <td>2247.000000</td>\n",
       "      <td>15345.000000</td>\n",
       "      <td>509.000000</td>\n",
       "      <td>20157.494500</td>\n",
       "    </tr>\n",
       "    <tr>\n",
       "      <th>max</th>\n",
       "      <td>2017.000000</td>\n",
       "      <td>60.000000</td>\n",
       "      <td>287882.000000</td>\n",
       "      <td>1.841666e+06</td>\n",
       "      <td>2017.000000</td>\n",
       "      <td>3.771200e+06</td>\n",
       "      <td>127608.000000</td>\n",
       "      <td>472266.229000</td>\n",
       "      <td>2.535000e+06</td>\n",
       "      <td>91996.871000</td>\n",
       "      <td>483521.000000</td>\n",
       "      <td>31045.000000</td>\n",
       "      <td>615336.455900</td>\n",
       "    </tr>\n",
       "  </tbody>\n",
       "</table>\n",
       "</div>"
      ],
      "text/plain": [
       "                year        gsector          gvkey           cik  \\\n",
       "count  203316.000000  203316.000000  203316.000000  2.033160e+05   \n",
       "mean     2007.684939      37.174841   39120.309961  6.622253e+05   \n",
       "std         4.971202      14.102271   55965.888190  5.096058e+05   \n",
       "min      2000.000000      10.000000    1004.000000  1.750000e+03   \n",
       "25%      2003.000000      25.000000    6682.000000  7.846000e+04   \n",
       "50%      2007.000000      40.000000   13135.000000  8.042120e+05   \n",
       "75%      2012.000000      45.000000   30436.000000  1.050825e+06   \n",
       "max      2017.000000      60.000000  287882.000000  1.841666e+06   \n",
       "\n",
       "               fyear            at             gp           invt  \\\n",
       "count  189319.000000  1.890520e+05  153779.000000  158848.000000   \n",
       "mean     2007.721861  9.941891e+04    5758.811292    3521.507943   \n",
       "std         4.969608  3.047192e+05   11356.389007   23852.875831   \n",
       "min      2000.000000  1.390300e+01  -76735.000000       0.000000   \n",
       "25%      2003.000000  4.856499e+03     585.317000       7.000000   \n",
       "50%      2008.000000  1.411921e+04    1680.004000     213.690000   \n",
       "75%      2012.000000  4.482100e+04    5198.463000    1033.582000   \n",
       "max      2017.000000  3.771200e+06  127608.000000  472266.229000   \n",
       "\n",
       "               nits          oiadp           revt            txt  \\\n",
       "count  8.772000e+03  153779.000000  189047.000000  189047.000000   \n",
       "mean   6.325947e+03    2662.071302   16221.744779     557.593785   \n",
       "std    1.099641e+05    6202.161648   31735.686424    1505.660549   \n",
       "min   -4.056000e+03  -80053.000000  -15009.328000  -20612.000000   \n",
       "25%    9.500000e+01     279.805000    1700.892000      38.780000   \n",
       "50%    3.684000e+02     783.748000    4706.000000     153.031000   \n",
       "75%    8.221000e+02    2247.000000   15345.000000     509.000000   \n",
       "max    2.535000e+06   91996.871000  483521.000000   31045.000000   \n",
       "\n",
       "              mkvalt  \n",
       "count  108882.000000  \n",
       "mean    21333.377936  \n",
       "std     42708.843197  \n",
       "min         4.595200  \n",
       "25%      2807.629300  \n",
       "50%      7312.415200  \n",
       "75%     20157.494500  \n",
       "max    615336.455900  "
      ]
     },
     "execution_count": 17,
     "metadata": {},
     "output_type": "execute_result"
    }
   ],
   "source": [
    "merged_data.describe()"
   ]
  },
  {
   "cell_type": "code",
   "execution_count": 18,
   "id": "df5a0b9e",
   "metadata": {},
   "outputs": [
    {
     "data": {
      "text/html": [
       "<div>\n",
       "<style scoped>\n",
       "    .dataframe tbody tr th:only-of-type {\n",
       "        vertical-align: middle;\n",
       "    }\n",
       "\n",
       "    .dataframe tbody tr th {\n",
       "        vertical-align: top;\n",
       "    }\n",
       "\n",
       "    .dataframe thead th {\n",
       "        text-align: right;\n",
       "    }\n",
       "</style>\n",
       "<table border=\"1\" class=\"dataframe\">\n",
       "  <thead>\n",
       "    <tr style=\"text-align: right;\">\n",
       "      <th></th>\n",
       "      <th>datadate</th>\n",
       "      <th>year</th>\n",
       "      <th>gsector</th>\n",
       "      <th>gvkey</th>\n",
       "      <th>splticrm</th>\n",
       "      <th>cik</th>\n",
       "      <th>tic</th>\n",
       "      <th>next_splticrm</th>\n",
       "      <th>grade</th>\n",
       "      <th>fyear</th>\n",
       "      <th>...</th>\n",
       "      <th>curcd</th>\n",
       "      <th>at</th>\n",
       "      <th>gp</th>\n",
       "      <th>invt</th>\n",
       "      <th>nits</th>\n",
       "      <th>oiadp</th>\n",
       "      <th>revt</th>\n",
       "      <th>txt</th>\n",
       "      <th>costat</th>\n",
       "      <th>mkvalt</th>\n",
       "    </tr>\n",
       "  </thead>\n",
       "  <tbody>\n",
       "    <tr>\n",
       "      <th>0</th>\n",
       "      <td>2000-01-31</td>\n",
       "      <td>2000</td>\n",
       "      <td>20.0</td>\n",
       "      <td>1004</td>\n",
       "      <td>BBB</td>\n",
       "      <td>1750.0</td>\n",
       "      <td>AIR</td>\n",
       "      <td>BBB</td>\n",
       "      <td>invest</td>\n",
       "      <td>2000.0</td>\n",
       "      <td>...</td>\n",
       "      <td>USD</td>\n",
       "      <td>740.998</td>\n",
       "      <td>191.226</td>\n",
       "      <td>336.018</td>\n",
       "      <td>NaN</td>\n",
       "      <td>70.658</td>\n",
       "      <td>1024.333</td>\n",
       "      <td>14.363</td>\n",
       "      <td>A</td>\n",
       "      <td>372.7519</td>\n",
       "    </tr>\n",
       "    <tr>\n",
       "      <th>1</th>\n",
       "      <td>2000-02-29</td>\n",
       "      <td>2000</td>\n",
       "      <td>20.0</td>\n",
       "      <td>1004</td>\n",
       "      <td>BBB</td>\n",
       "      <td>1750.0</td>\n",
       "      <td>AIR</td>\n",
       "      <td>BBB</td>\n",
       "      <td>invest</td>\n",
       "      <td>2000.0</td>\n",
       "      <td>...</td>\n",
       "      <td>USD</td>\n",
       "      <td>740.998</td>\n",
       "      <td>191.226</td>\n",
       "      <td>336.018</td>\n",
       "      <td>NaN</td>\n",
       "      <td>70.658</td>\n",
       "      <td>1024.333</td>\n",
       "      <td>14.363</td>\n",
       "      <td>A</td>\n",
       "      <td>372.7519</td>\n",
       "    </tr>\n",
       "    <tr>\n",
       "      <th>2</th>\n",
       "      <td>2000-03-31</td>\n",
       "      <td>2000</td>\n",
       "      <td>20.0</td>\n",
       "      <td>1004</td>\n",
       "      <td>BBB</td>\n",
       "      <td>1750.0</td>\n",
       "      <td>AIR</td>\n",
       "      <td>BBB</td>\n",
       "      <td>invest</td>\n",
       "      <td>2000.0</td>\n",
       "      <td>...</td>\n",
       "      <td>USD</td>\n",
       "      <td>740.998</td>\n",
       "      <td>191.226</td>\n",
       "      <td>336.018</td>\n",
       "      <td>NaN</td>\n",
       "      <td>70.658</td>\n",
       "      <td>1024.333</td>\n",
       "      <td>14.363</td>\n",
       "      <td>A</td>\n",
       "      <td>372.7519</td>\n",
       "    </tr>\n",
       "    <tr>\n",
       "      <th>3</th>\n",
       "      <td>2000-04-30</td>\n",
       "      <td>2000</td>\n",
       "      <td>20.0</td>\n",
       "      <td>1004</td>\n",
       "      <td>BBB</td>\n",
       "      <td>1750.0</td>\n",
       "      <td>AIR</td>\n",
       "      <td>BBB</td>\n",
       "      <td>invest</td>\n",
       "      <td>2000.0</td>\n",
       "      <td>...</td>\n",
       "      <td>USD</td>\n",
       "      <td>740.998</td>\n",
       "      <td>191.226</td>\n",
       "      <td>336.018</td>\n",
       "      <td>NaN</td>\n",
       "      <td>70.658</td>\n",
       "      <td>1024.333</td>\n",
       "      <td>14.363</td>\n",
       "      <td>A</td>\n",
       "      <td>372.7519</td>\n",
       "    </tr>\n",
       "    <tr>\n",
       "      <th>4</th>\n",
       "      <td>2000-05-31</td>\n",
       "      <td>2000</td>\n",
       "      <td>20.0</td>\n",
       "      <td>1004</td>\n",
       "      <td>BBB</td>\n",
       "      <td>1750.0</td>\n",
       "      <td>AIR</td>\n",
       "      <td>BBB</td>\n",
       "      <td>invest</td>\n",
       "      <td>2000.0</td>\n",
       "      <td>...</td>\n",
       "      <td>USD</td>\n",
       "      <td>740.998</td>\n",
       "      <td>191.226</td>\n",
       "      <td>336.018</td>\n",
       "      <td>NaN</td>\n",
       "      <td>70.658</td>\n",
       "      <td>1024.333</td>\n",
       "      <td>14.363</td>\n",
       "      <td>A</td>\n",
       "      <td>372.7519</td>\n",
       "    </tr>\n",
       "  </tbody>\n",
       "</table>\n",
       "<p>5 rows × 24 columns</p>\n",
       "</div>"
      ],
      "text/plain": [
       "    datadate  year  gsector  gvkey splticrm     cik  tic next_splticrm  \\\n",
       "0 2000-01-31  2000     20.0   1004      BBB  1750.0  AIR           BBB   \n",
       "1 2000-02-29  2000     20.0   1004      BBB  1750.0  AIR           BBB   \n",
       "2 2000-03-31  2000     20.0   1004      BBB  1750.0  AIR           BBB   \n",
       "3 2000-04-30  2000     20.0   1004      BBB  1750.0  AIR           BBB   \n",
       "4 2000-05-31  2000     20.0   1004      BBB  1750.0  AIR           BBB   \n",
       "\n",
       "    grade   fyear  ... curcd       at       gp     invt nits   oiadp  \\\n",
       "0  invest  2000.0  ...   USD  740.998  191.226  336.018  NaN  70.658   \n",
       "1  invest  2000.0  ...   USD  740.998  191.226  336.018  NaN  70.658   \n",
       "2  invest  2000.0  ...   USD  740.998  191.226  336.018  NaN  70.658   \n",
       "3  invest  2000.0  ...   USD  740.998  191.226  336.018  NaN  70.658   \n",
       "4  invest  2000.0  ...   USD  740.998  191.226  336.018  NaN  70.658   \n",
       "\n",
       "       revt     txt  costat    mkvalt  \n",
       "0  1024.333  14.363       A  372.7519  \n",
       "1  1024.333  14.363       A  372.7519  \n",
       "2  1024.333  14.363       A  372.7519  \n",
       "3  1024.333  14.363       A  372.7519  \n",
       "4  1024.333  14.363       A  372.7519  \n",
       "\n",
       "[5 rows x 24 columns]"
      ]
     },
     "execution_count": 18,
     "metadata": {},
     "output_type": "execute_result"
    }
   ],
   "source": [
    "merged_data.head()"
   ]
  },
  {
   "cell_type": "code",
   "execution_count": 19,
   "id": "10fa1412",
   "metadata": {},
   "outputs": [
    {
     "name": "stdout",
     "output_type": "stream",
     "text": [
      "invest    167259\n",
      "fallen       640\n",
      "Name: grade, dtype: int64\n"
     ]
    },
    {
     "data": {
      "text/html": [
       "<div>\n",
       "<style scoped>\n",
       "    .dataframe tbody tr th:only-of-type {\n",
       "        vertical-align: middle;\n",
       "    }\n",
       "\n",
       "    .dataframe tbody tr th {\n",
       "        vertical-align: top;\n",
       "    }\n",
       "\n",
       "    .dataframe thead th {\n",
       "        text-align: right;\n",
       "    }\n",
       "</style>\n",
       "<table border=\"1\" class=\"dataframe\">\n",
       "  <thead>\n",
       "    <tr style=\"text-align: right;\">\n",
       "      <th></th>\n",
       "      <th>gvkey</th>\n",
       "      <th>gsector</th>\n",
       "      <th>year</th>\n",
       "      <th>tic</th>\n",
       "      <th>cik</th>\n",
       "      <th>datadate</th>\n",
       "      <th>grade</th>\n",
       "    </tr>\n",
       "  </thead>\n",
       "  <tbody>\n",
       "    <tr>\n",
       "      <th>0</th>\n",
       "      <td>1004</td>\n",
       "      <td>20</td>\n",
       "      <td>2000</td>\n",
       "      <td>AIR</td>\n",
       "      <td>1750</td>\n",
       "      <td>2000-01-31</td>\n",
       "      <td>invest</td>\n",
       "    </tr>\n",
       "    <tr>\n",
       "      <th>1</th>\n",
       "      <td>1004</td>\n",
       "      <td>20</td>\n",
       "      <td>2000</td>\n",
       "      <td>AIR</td>\n",
       "      <td>1750</td>\n",
       "      <td>2000-02-29</td>\n",
       "      <td>invest</td>\n",
       "    </tr>\n",
       "    <tr>\n",
       "      <th>2</th>\n",
       "      <td>1004</td>\n",
       "      <td>20</td>\n",
       "      <td>2000</td>\n",
       "      <td>AIR</td>\n",
       "      <td>1750</td>\n",
       "      <td>2000-03-31</td>\n",
       "      <td>invest</td>\n",
       "    </tr>\n",
       "    <tr>\n",
       "      <th>3</th>\n",
       "      <td>1004</td>\n",
       "      <td>20</td>\n",
       "      <td>2000</td>\n",
       "      <td>AIR</td>\n",
       "      <td>1750</td>\n",
       "      <td>2000-04-30</td>\n",
       "      <td>invest</td>\n",
       "    </tr>\n",
       "    <tr>\n",
       "      <th>4</th>\n",
       "      <td>1004</td>\n",
       "      <td>20</td>\n",
       "      <td>2000</td>\n",
       "      <td>AIR</td>\n",
       "      <td>1750</td>\n",
       "      <td>2000-05-31</td>\n",
       "      <td>invest</td>\n",
       "    </tr>\n",
       "    <tr>\n",
       "      <th>...</th>\n",
       "      <td>...</td>\n",
       "      <td>...</td>\n",
       "      <td>...</td>\n",
       "      <td>...</td>\n",
       "      <td>...</td>\n",
       "      <td>...</td>\n",
       "      <td>...</td>\n",
       "    </tr>\n",
       "    <tr>\n",
       "      <th>203311</th>\n",
       "      <td>287882</td>\n",
       "      <td>10</td>\n",
       "      <td>2016</td>\n",
       "      <td>EC</td>\n",
       "      <td>1444406</td>\n",
       "      <td>2016-08-31</td>\n",
       "      <td>invest</td>\n",
       "    </tr>\n",
       "    <tr>\n",
       "      <th>203312</th>\n",
       "      <td>287882</td>\n",
       "      <td>10</td>\n",
       "      <td>2016</td>\n",
       "      <td>EC</td>\n",
       "      <td>1444406</td>\n",
       "      <td>2016-09-30</td>\n",
       "      <td>invest</td>\n",
       "    </tr>\n",
       "    <tr>\n",
       "      <th>203313</th>\n",
       "      <td>287882</td>\n",
       "      <td>10</td>\n",
       "      <td>2016</td>\n",
       "      <td>EC</td>\n",
       "      <td>1444406</td>\n",
       "      <td>2016-10-31</td>\n",
       "      <td>invest</td>\n",
       "    </tr>\n",
       "    <tr>\n",
       "      <th>203314</th>\n",
       "      <td>287882</td>\n",
       "      <td>10</td>\n",
       "      <td>2016</td>\n",
       "      <td>EC</td>\n",
       "      <td>1444406</td>\n",
       "      <td>2016-11-30</td>\n",
       "      <td>invest</td>\n",
       "    </tr>\n",
       "    <tr>\n",
       "      <th>203315</th>\n",
       "      <td>287882</td>\n",
       "      <td>10</td>\n",
       "      <td>2016</td>\n",
       "      <td>EC</td>\n",
       "      <td>1444406</td>\n",
       "      <td>2016-12-31</td>\n",
       "      <td>invest</td>\n",
       "    </tr>\n",
       "  </tbody>\n",
       "</table>\n",
       "<p>167899 rows × 7 columns</p>\n",
       "</div>"
      ],
      "text/plain": [
       "         gvkey  gsector  year  tic      cik   datadate   grade\n",
       "0         1004       20  2000  AIR     1750 2000-01-31  invest\n",
       "1         1004       20  2000  AIR     1750 2000-02-29  invest\n",
       "2         1004       20  2000  AIR     1750 2000-03-31  invest\n",
       "3         1004       20  2000  AIR     1750 2000-04-30  invest\n",
       "4         1004       20  2000  AIR     1750 2000-05-31  invest\n",
       "...        ...      ...   ...  ...      ...        ...     ...\n",
       "203311  287882       10  2016   EC  1444406 2016-08-31  invest\n",
       "203312  287882       10  2016   EC  1444406 2016-09-30  invest\n",
       "203313  287882       10  2016   EC  1444406 2016-10-31  invest\n",
       "203314  287882       10  2016   EC  1444406 2016-11-30  invest\n",
       "203315  287882       10  2016   EC  1444406 2016-12-31  invest\n",
       "\n",
       "[167899 rows x 7 columns]"
      ]
     },
     "execution_count": 19,
     "metadata": {},
     "output_type": "execute_result"
    }
   ],
   "source": [
    "# original\n",
    "\n",
    "fallen_angels = merged_data[['gvkey','gsector','year','tic','cik','datadate','grade']].drop_duplicates()\n",
    "fallen_angels.cik = fallen_angels.cik.astype(int)\n",
    "fallen_angels.year = fallen_angels.year.astype(int)\n",
    "fallen_angels.gsector = fallen_angels.gsector.astype(int)\n",
    "fallen_angels.to_csv('data_files/fallen_angels.csv', index= False)\n",
    "print(fallen_angels.grade.value_counts())\n",
    "fallen_angels"
   ]
  },
  {
   "cell_type": "code",
   "execution_count": 20,
   "id": "51a125ba",
   "metadata": {},
   "outputs": [
    {
     "data": {
      "text/html": [
       "<div>\n",
       "<style scoped>\n",
       "    .dataframe tbody tr th:only-of-type {\n",
       "        vertical-align: middle;\n",
       "    }\n",
       "\n",
       "    .dataframe tbody tr th {\n",
       "        vertical-align: top;\n",
       "    }\n",
       "\n",
       "    .dataframe thead th {\n",
       "        text-align: right;\n",
       "    }\n",
       "</style>\n",
       "<table border=\"1\" class=\"dataframe\">\n",
       "  <thead>\n",
       "    <tr style=\"text-align: right;\">\n",
       "      <th>grade</th>\n",
       "      <th>fallen</th>\n",
       "      <th>invest</th>\n",
       "    </tr>\n",
       "    <tr>\n",
       "      <th>gsector</th>\n",
       "      <th></th>\n",
       "      <th></th>\n",
       "    </tr>\n",
       "  </thead>\n",
       "  <tbody>\n",
       "    <tr>\n",
       "      <th>10</th>\n",
       "      <td>66</td>\n",
       "      <td>11676</td>\n",
       "    </tr>\n",
       "    <tr>\n",
       "      <th>15</th>\n",
       "      <td>75</td>\n",
       "      <td>13325</td>\n",
       "    </tr>\n",
       "    <tr>\n",
       "      <th>20</th>\n",
       "      <td>76</td>\n",
       "      <td>19311</td>\n",
       "    </tr>\n",
       "    <tr>\n",
       "      <th>25</th>\n",
       "      <td>80</td>\n",
       "      <td>11353</td>\n",
       "    </tr>\n",
       "    <tr>\n",
       "      <th>30</th>\n",
       "      <td>22</td>\n",
       "      <td>7198</td>\n",
       "    </tr>\n",
       "    <tr>\n",
       "      <th>35</th>\n",
       "      <td>24</td>\n",
       "      <td>7220</td>\n",
       "    </tr>\n",
       "    <tr>\n",
       "      <th>40</th>\n",
       "      <td>103</td>\n",
       "      <td>43341</td>\n",
       "    </tr>\n",
       "    <tr>\n",
       "      <th>45</th>\n",
       "      <td>43</td>\n",
       "      <td>8164</td>\n",
       "    </tr>\n",
       "    <tr>\n",
       "      <th>50</th>\n",
       "      <td>38</td>\n",
       "      <td>7120</td>\n",
       "    </tr>\n",
       "    <tr>\n",
       "      <th>55</th>\n",
       "      <td>95</td>\n",
       "      <td>34551</td>\n",
       "    </tr>\n",
       "    <tr>\n",
       "      <th>60</th>\n",
       "      <td>18</td>\n",
       "      <td>4000</td>\n",
       "    </tr>\n",
       "  </tbody>\n",
       "</table>\n",
       "</div>"
      ],
      "text/plain": [
       "grade    fallen  invest\n",
       "gsector                \n",
       "10           66   11676\n",
       "15           75   13325\n",
       "20           76   19311\n",
       "25           80   11353\n",
       "30           22    7198\n",
       "35           24    7220\n",
       "40          103   43341\n",
       "45           43    8164\n",
       "50           38    7120\n",
       "55           95   34551\n",
       "60           18    4000"
      ]
     },
     "execution_count": 20,
     "metadata": {},
     "output_type": "execute_result"
    },
    {
     "data": {
      "image/png": "[encoded data removed]",
      "text/plain": [
       "<Figure size 432x288 with 1 Axes>"
      ]
     },
     "metadata": {
      "needs_background": "light"
     },
     "output_type": "display_data"
    }
   ],
   "source": [
    "# fallen_angels.grade.value_counts()\n",
    "fallen_angels.groupby(['gsector','grade']).size().unstack().plot(kind = 'bar')\n",
    "fallen_angels.groupby(['gsector','grade']).size().unstack()"
   ]
  },
  {
   "cell_type": "markdown",
   "id": "1572f424",
   "metadata": {},
   "source": [
    "# Scrape Edgar"
   ]
  },
  {
   "cell_type": "code",
   "execution_count": 62,
   "id": "00b03b85",
   "metadata": {},
   "outputs": [],
   "source": [
    "import os\n",
    "from ut_msba_edgar_scraper import Downloader\n",
    "from datetime import datetime\n",
    "import itertools\n",
    "from tqdm import tqdm"
   ]
  },
  {
   "cell_type": "code",
   "execution_count": 99,
   "id": "ba31f378",
   "metadata": {},
   "outputs": [
    {
     "data": {
      "text/html": [
       "<div>\n",
       "<style scoped>\n",
       "    .dataframe tbody tr th:only-of-type {\n",
       "        vertical-align: middle;\n",
       "    }\n",
       "\n",
       "    .dataframe tbody tr th {\n",
       "        vertical-align: top;\n",
       "    }\n",
       "\n",
       "    .dataframe thead th {\n",
       "        text-align: right;\n",
       "    }\n",
       "</style>\n",
       "<table border=\"1\" class=\"dataframe\">\n",
       "  <thead>\n",
       "    <tr style=\"text-align: right;\">\n",
       "      <th></th>\n",
       "      <th>gvkey</th>\n",
       "      <th>gsector</th>\n",
       "      <th>year</th>\n",
       "      <th>tic</th>\n",
       "      <th>cik</th>\n",
       "      <th>datadate</th>\n",
       "      <th>grade</th>\n",
       "    </tr>\n",
       "  </thead>\n",
       "  <tbody>\n",
       "    <tr>\n",
       "      <th>0</th>\n",
       "      <td>1004</td>\n",
       "      <td>20</td>\n",
       "      <td>2000</td>\n",
       "      <td>AIR</td>\n",
       "      <td>1750</td>\n",
       "      <td>2000-01-31</td>\n",
       "      <td>invest</td>\n",
       "    </tr>\n",
       "    <tr>\n",
       "      <th>1</th>\n",
       "      <td>1004</td>\n",
       "      <td>20</td>\n",
       "      <td>2000</td>\n",
       "      <td>AIR</td>\n",
       "      <td>1750</td>\n",
       "      <td>2000-02-29</td>\n",
       "      <td>invest</td>\n",
       "    </tr>\n",
       "    <tr>\n",
       "      <th>2</th>\n",
       "      <td>1004</td>\n",
       "      <td>20</td>\n",
       "      <td>2000</td>\n",
       "      <td>AIR</td>\n",
       "      <td>1750</td>\n",
       "      <td>2000-03-31</td>\n",
       "      <td>invest</td>\n",
       "    </tr>\n",
       "    <tr>\n",
       "      <th>3</th>\n",
       "      <td>1004</td>\n",
       "      <td>20</td>\n",
       "      <td>2000</td>\n",
       "      <td>AIR</td>\n",
       "      <td>1750</td>\n",
       "      <td>2000-04-30</td>\n",
       "      <td>invest</td>\n",
       "    </tr>\n",
       "    <tr>\n",
       "      <th>4</th>\n",
       "      <td>1004</td>\n",
       "      <td>20</td>\n",
       "      <td>2000</td>\n",
       "      <td>AIR</td>\n",
       "      <td>1750</td>\n",
       "      <td>2000-05-31</td>\n",
       "      <td>invest</td>\n",
       "    </tr>\n",
       "    <tr>\n",
       "      <th>...</th>\n",
       "      <td>...</td>\n",
       "      <td>...</td>\n",
       "      <td>...</td>\n",
       "      <td>...</td>\n",
       "      <td>...</td>\n",
       "      <td>...</td>\n",
       "      <td>...</td>\n",
       "    </tr>\n",
       "    <tr>\n",
       "      <th>167894</th>\n",
       "      <td>287882</td>\n",
       "      <td>10</td>\n",
       "      <td>2016</td>\n",
       "      <td>EC</td>\n",
       "      <td>1444406</td>\n",
       "      <td>2016-08-31</td>\n",
       "      <td>invest</td>\n",
       "    </tr>\n",
       "    <tr>\n",
       "      <th>167895</th>\n",
       "      <td>287882</td>\n",
       "      <td>10</td>\n",
       "      <td>2016</td>\n",
       "      <td>EC</td>\n",
       "      <td>1444406</td>\n",
       "      <td>2016-09-30</td>\n",
       "      <td>invest</td>\n",
       "    </tr>\n",
       "    <tr>\n",
       "      <th>167896</th>\n",
       "      <td>287882</td>\n",
       "      <td>10</td>\n",
       "      <td>2016</td>\n",
       "      <td>EC</td>\n",
       "      <td>1444406</td>\n",
       "      <td>2016-10-31</td>\n",
       "      <td>invest</td>\n",
       "    </tr>\n",
       "    <tr>\n",
       "      <th>167897</th>\n",
       "      <td>287882</td>\n",
       "      <td>10</td>\n",
       "      <td>2016</td>\n",
       "      <td>EC</td>\n",
       "      <td>1444406</td>\n",
       "      <td>2016-11-30</td>\n",
       "      <td>invest</td>\n",
       "    </tr>\n",
       "    <tr>\n",
       "      <th>167898</th>\n",
       "      <td>287882</td>\n",
       "      <td>10</td>\n",
       "      <td>2016</td>\n",
       "      <td>EC</td>\n",
       "      <td>1444406</td>\n",
       "      <td>2016-12-31</td>\n",
       "      <td>invest</td>\n",
       "    </tr>\n",
       "  </tbody>\n",
       "</table>\n",
       "<p>167899 rows × 7 columns</p>\n",
       "</div>"
      ],
      "text/plain": [
       "         gvkey  gsector  year  tic      cik   datadate   grade\n",
       "0         1004       20  2000  AIR     1750 2000-01-31  invest\n",
       "1         1004       20  2000  AIR     1750 2000-02-29  invest\n",
       "2         1004       20  2000  AIR     1750 2000-03-31  invest\n",
       "3         1004       20  2000  AIR     1750 2000-04-30  invest\n",
       "4         1004       20  2000  AIR     1750 2000-05-31  invest\n",
       "...        ...      ...   ...  ...      ...        ...     ...\n",
       "167894  287882       10  2016   EC  1444406 2016-08-31  invest\n",
       "167895  287882       10  2016   EC  1444406 2016-09-30  invest\n",
       "167896  287882       10  2016   EC  1444406 2016-10-31  invest\n",
       "167897  287882       10  2016   EC  1444406 2016-11-30  invest\n",
       "167898  287882       10  2016   EC  1444406 2016-12-31  invest\n",
       "\n",
       "[167899 rows x 7 columns]"
      ]
     },
     "execution_count": 99,
     "metadata": {},
     "output_type": "execute_result"
    }
   ],
   "source": [
    "fallen_angels = pd.read_csv('data_files/fallen_angels.csv')\n",
    "fallen_angels.datadate = pd.to_datetime(fallen_angels.datadate)\n",
    "fallen_angels.year = fallen_angels.year.astype(int)\n",
    "fallen_angels = fallen_angels[fallen_angels.datadate.dt.year >= 2000]\n",
    "fallen_angels"
   ]
  },
  {
   "cell_type": "code",
   "execution_count": 100,
   "id": "2359901a",
   "metadata": {},
   "outputs": [
    {
     "data": {
      "text/html": [
       "<div>\n",
       "<style scoped>\n",
       "    .dataframe tbody tr th:only-of-type {\n",
       "        vertical-align: middle;\n",
       "    }\n",
       "\n",
       "    .dataframe tbody tr th {\n",
       "        vertical-align: top;\n",
       "    }\n",
       "\n",
       "    .dataframe thead th {\n",
       "        text-align: right;\n",
       "    }\n",
       "</style>\n",
       "<table border=\"1\" class=\"dataframe\">\n",
       "  <thead>\n",
       "    <tr style=\"text-align: right;\">\n",
       "      <th></th>\n",
       "      <th>grade</th>\n",
       "      <th>fallen</th>\n",
       "      <th>invest</th>\n",
       "    </tr>\n",
       "    <tr>\n",
       "      <th>year</th>\n",
       "      <th>gsector</th>\n",
       "      <th></th>\n",
       "      <th></th>\n",
       "    </tr>\n",
       "  </thead>\n",
       "  <tbody>\n",
       "    <tr>\n",
       "      <th rowspan=\"5\" valign=\"top\">2000</th>\n",
       "      <th>10</th>\n",
       "      <td>3</td>\n",
       "      <td>989</td>\n",
       "    </tr>\n",
       "    <tr>\n",
       "      <th>15</th>\n",
       "      <td>8</td>\n",
       "      <td>1052</td>\n",
       "    </tr>\n",
       "    <tr>\n",
       "      <th>20</th>\n",
       "      <td>5</td>\n",
       "      <td>1386</td>\n",
       "    </tr>\n",
       "    <tr>\n",
       "      <th>25</th>\n",
       "      <td>9</td>\n",
       "      <td>1040</td>\n",
       "    </tr>\n",
       "    <tr>\n",
       "      <th>35</th>\n",
       "      <td>3</td>\n",
       "      <td>585</td>\n",
       "    </tr>\n",
       "    <tr>\n",
       "      <th>...</th>\n",
       "      <th>...</th>\n",
       "      <td>...</td>\n",
       "      <td>...</td>\n",
       "    </tr>\n",
       "    <tr>\n",
       "      <th rowspan=\"4\" valign=\"top\">2016</th>\n",
       "      <th>40</th>\n",
       "      <td>2</td>\n",
       "      <td>2110</td>\n",
       "    </tr>\n",
       "    <tr>\n",
       "      <th>45</th>\n",
       "      <td>1</td>\n",
       "      <td>559</td>\n",
       "    </tr>\n",
       "    <tr>\n",
       "      <th>55</th>\n",
       "      <td>2</td>\n",
       "      <td>2090</td>\n",
       "    </tr>\n",
       "    <tr>\n",
       "      <th>60</th>\n",
       "      <td>1</td>\n",
       "      <td>507</td>\n",
       "    </tr>\n",
       "    <tr>\n",
       "      <th>2017</th>\n",
       "      <th>25</th>\n",
       "      <td>1</td>\n",
       "      <td>53</td>\n",
       "    </tr>\n",
       "  </tbody>\n",
       "</table>\n",
       "<p>161 rows × 2 columns</p>\n",
       "</div>"
      ],
      "text/plain": [
       "grade         fallen  invest\n",
       "year gsector                \n",
       "2000 10            3     989\n",
       "     15            8    1052\n",
       "     20            5    1386\n",
       "     25            9    1040\n",
       "     35            3     585\n",
       "...              ...     ...\n",
       "2016 40            2    2110\n",
       "     45            1     559\n",
       "     55            2    2090\n",
       "     60            1     507\n",
       "2017 25            1      53\n",
       "\n",
       "[161 rows x 2 columns]"
      ]
     },
     "execution_count": 100,
     "metadata": {},
     "output_type": "execute_result"
    }
   ],
   "source": [
    "fallen_angels.groupby(['year', 'gsector'])['grade'].value_counts().unstack()"
   ]
  },
  {
   "cell_type": "code",
   "execution_count": 101,
   "id": "5f184739",
   "metadata": {},
   "outputs": [
    {
     "data": {
      "text/html": [
       "<div>\n",
       "<style scoped>\n",
       "    .dataframe tbody tr th:only-of-type {\n",
       "        vertical-align: middle;\n",
       "    }\n",
       "\n",
       "    .dataframe tbody tr th {\n",
       "        vertical-align: top;\n",
       "    }\n",
       "\n",
       "    .dataframe thead th {\n",
       "        text-align: right;\n",
       "    }\n",
       "</style>\n",
       "<table border=\"1\" class=\"dataframe\">\n",
       "  <thead>\n",
       "    <tr style=\"text-align: right;\">\n",
       "      <th></th>\n",
       "      <th>gvkey</th>\n",
       "      <th>gsector</th>\n",
       "      <th>year</th>\n",
       "      <th>tic</th>\n",
       "      <th>cik</th>\n",
       "      <th>datadate</th>\n",
       "      <th>grade</th>\n",
       "    </tr>\n",
       "  </thead>\n",
       "  <tbody>\n",
       "    <tr>\n",
       "      <th>0</th>\n",
       "      <td>1004</td>\n",
       "      <td>20</td>\n",
       "      <td>2000</td>\n",
       "      <td>AIR</td>\n",
       "      <td>1750</td>\n",
       "      <td>2000-01-31</td>\n",
       "      <td>invest</td>\n",
       "    </tr>\n",
       "    <tr>\n",
       "      <th>1</th>\n",
       "      <td>1004</td>\n",
       "      <td>20</td>\n",
       "      <td>2000</td>\n",
       "      <td>AIR</td>\n",
       "      <td>1750</td>\n",
       "      <td>2000-02-29</td>\n",
       "      <td>invest</td>\n",
       "    </tr>\n",
       "    <tr>\n",
       "      <th>2</th>\n",
       "      <td>1004</td>\n",
       "      <td>20</td>\n",
       "      <td>2000</td>\n",
       "      <td>AIR</td>\n",
       "      <td>1750</td>\n",
       "      <td>2000-03-31</td>\n",
       "      <td>invest</td>\n",
       "    </tr>\n",
       "    <tr>\n",
       "      <th>3</th>\n",
       "      <td>1004</td>\n",
       "      <td>20</td>\n",
       "      <td>2000</td>\n",
       "      <td>AIR</td>\n",
       "      <td>1750</td>\n",
       "      <td>2000-04-30</td>\n",
       "      <td>invest</td>\n",
       "    </tr>\n",
       "    <tr>\n",
       "      <th>4</th>\n",
       "      <td>1004</td>\n",
       "      <td>20</td>\n",
       "      <td>2000</td>\n",
       "      <td>AIR</td>\n",
       "      <td>1750</td>\n",
       "      <td>2000-05-31</td>\n",
       "      <td>invest</td>\n",
       "    </tr>\n",
       "    <tr>\n",
       "      <th>...</th>\n",
       "      <td>...</td>\n",
       "      <td>...</td>\n",
       "      <td>...</td>\n",
       "      <td>...</td>\n",
       "      <td>...</td>\n",
       "      <td>...</td>\n",
       "      <td>...</td>\n",
       "    </tr>\n",
       "    <tr>\n",
       "      <th>167894</th>\n",
       "      <td>287882</td>\n",
       "      <td>10</td>\n",
       "      <td>2016</td>\n",
       "      <td>EC</td>\n",
       "      <td>1444406</td>\n",
       "      <td>2016-08-31</td>\n",
       "      <td>invest</td>\n",
       "    </tr>\n",
       "    <tr>\n",
       "      <th>167895</th>\n",
       "      <td>287882</td>\n",
       "      <td>10</td>\n",
       "      <td>2016</td>\n",
       "      <td>EC</td>\n",
       "      <td>1444406</td>\n",
       "      <td>2016-09-30</td>\n",
       "      <td>invest</td>\n",
       "    </tr>\n",
       "    <tr>\n",
       "      <th>167896</th>\n",
       "      <td>287882</td>\n",
       "      <td>10</td>\n",
       "      <td>2016</td>\n",
       "      <td>EC</td>\n",
       "      <td>1444406</td>\n",
       "      <td>2016-10-31</td>\n",
       "      <td>invest</td>\n",
       "    </tr>\n",
       "    <tr>\n",
       "      <th>167897</th>\n",
       "      <td>287882</td>\n",
       "      <td>10</td>\n",
       "      <td>2016</td>\n",
       "      <td>EC</td>\n",
       "      <td>1444406</td>\n",
       "      <td>2016-11-30</td>\n",
       "      <td>invest</td>\n",
       "    </tr>\n",
       "    <tr>\n",
       "      <th>167898</th>\n",
       "      <td>287882</td>\n",
       "      <td>10</td>\n",
       "      <td>2016</td>\n",
       "      <td>EC</td>\n",
       "      <td>1444406</td>\n",
       "      <td>2016-12-31</td>\n",
       "      <td>invest</td>\n",
       "    </tr>\n",
       "  </tbody>\n",
       "</table>\n",
       "<p>167899 rows × 7 columns</p>\n",
       "</div>"
      ],
      "text/plain": [
       "         gvkey  gsector  year  tic      cik   datadate   grade\n",
       "0         1004       20  2000  AIR     1750 2000-01-31  invest\n",
       "1         1004       20  2000  AIR     1750 2000-02-29  invest\n",
       "2         1004       20  2000  AIR     1750 2000-03-31  invest\n",
       "3         1004       20  2000  AIR     1750 2000-04-30  invest\n",
       "4         1004       20  2000  AIR     1750 2000-05-31  invest\n",
       "...        ...      ...   ...  ...      ...        ...     ...\n",
       "167894  287882       10  2016   EC  1444406 2016-08-31  invest\n",
       "167895  287882       10  2016   EC  1444406 2016-09-30  invest\n",
       "167896  287882       10  2016   EC  1444406 2016-10-31  invest\n",
       "167897  287882       10  2016   EC  1444406 2016-11-30  invest\n",
       "167898  287882       10  2016   EC  1444406 2016-12-31  invest\n",
       "\n",
       "[167899 rows x 7 columns]"
      ]
     },
     "execution_count": 101,
     "metadata": {},
     "output_type": "execute_result"
    }
   ],
   "source": [
    "fallen_angels"
   ]
  },
  {
   "cell_type": "code",
   "execution_count": 108,
   "id": "a4c187c9",
   "metadata": {},
   "outputs": [
    {
     "data": {
      "text/html": [
       "<div>\n",
       "<style scoped>\n",
       "    .dataframe tbody tr th:only-of-type {\n",
       "        vertical-align: middle;\n",
       "    }\n",
       "\n",
       "    .dataframe tbody tr th {\n",
       "        vertical-align: top;\n",
       "    }\n",
       "\n",
       "    .dataframe thead th {\n",
       "        text-align: right;\n",
       "    }\n",
       "</style>\n",
       "<table border=\"1\" class=\"dataframe\">\n",
       "  <thead>\n",
       "    <tr style=\"text-align: right;\">\n",
       "      <th></th>\n",
       "      <th>gvkey</th>\n",
       "      <th>gsector</th>\n",
       "      <th>year</th>\n",
       "      <th>tic</th>\n",
       "      <th>cik</th>\n",
       "      <th>grade</th>\n",
       "      <th>datadate</th>\n",
       "    </tr>\n",
       "  </thead>\n",
       "  <tbody>\n",
       "    <tr>\n",
       "      <th>0</th>\n",
       "      <td>1004</td>\n",
       "      <td>20</td>\n",
       "      <td>2000</td>\n",
       "      <td>AIR</td>\n",
       "      <td>1750</td>\n",
       "      <td>invest</td>\n",
       "      <td>2000-12-31</td>\n",
       "    </tr>\n",
       "    <tr>\n",
       "      <th>1</th>\n",
       "      <td>1004</td>\n",
       "      <td>20</td>\n",
       "      <td>2001</td>\n",
       "      <td>AIR</td>\n",
       "      <td>1750</td>\n",
       "      <td>fallen</td>\n",
       "      <td>2001-12-31</td>\n",
       "    </tr>\n",
       "    <tr>\n",
       "      <th>2</th>\n",
       "      <td>1004</td>\n",
       "      <td>20</td>\n",
       "      <td>2001</td>\n",
       "      <td>AIR</td>\n",
       "      <td>1750</td>\n",
       "      <td>invest</td>\n",
       "      <td>2001-11-30</td>\n",
       "    </tr>\n",
       "    <tr>\n",
       "      <th>3</th>\n",
       "      <td>1036</td>\n",
       "      <td>20</td>\n",
       "      <td>2000</td>\n",
       "      <td>UDI.</td>\n",
       "      <td>29590</td>\n",
       "      <td>invest</td>\n",
       "      <td>2000-12-31</td>\n",
       "    </tr>\n",
       "    <tr>\n",
       "      <th>4</th>\n",
       "      <td>1036</td>\n",
       "      <td>20</td>\n",
       "      <td>2001</td>\n",
       "      <td>UDI.</td>\n",
       "      <td>29590</td>\n",
       "      <td>invest</td>\n",
       "      <td>2001-03-31</td>\n",
       "    </tr>\n",
       "    <tr>\n",
       "      <th>...</th>\n",
       "      <td>...</td>\n",
       "      <td>...</td>\n",
       "      <td>...</td>\n",
       "      <td>...</td>\n",
       "      <td>...</td>\n",
       "      <td>...</td>\n",
       "      <td>...</td>\n",
       "    </tr>\n",
       "    <tr>\n",
       "      <th>15591</th>\n",
       "      <td>266257</td>\n",
       "      <td>40</td>\n",
       "      <td>2016</td>\n",
       "      <td>AINV</td>\n",
       "      <td>1278752</td>\n",
       "      <td>fallen</td>\n",
       "      <td>2016-01-31</td>\n",
       "    </tr>\n",
       "    <tr>\n",
       "      <th>15592</th>\n",
       "      <td>287882</td>\n",
       "      <td>10</td>\n",
       "      <td>2013</td>\n",
       "      <td>EC</td>\n",
       "      <td>1444406</td>\n",
       "      <td>invest</td>\n",
       "      <td>2013-12-31</td>\n",
       "    </tr>\n",
       "    <tr>\n",
       "      <th>15593</th>\n",
       "      <td>287882</td>\n",
       "      <td>10</td>\n",
       "      <td>2014</td>\n",
       "      <td>EC</td>\n",
       "      <td>1444406</td>\n",
       "      <td>invest</td>\n",
       "      <td>2014-12-31</td>\n",
       "    </tr>\n",
       "    <tr>\n",
       "      <th>15594</th>\n",
       "      <td>287882</td>\n",
       "      <td>10</td>\n",
       "      <td>2015</td>\n",
       "      <td>EC</td>\n",
       "      <td>1444406</td>\n",
       "      <td>invest</td>\n",
       "      <td>2015-12-31</td>\n",
       "    </tr>\n",
       "    <tr>\n",
       "      <th>15595</th>\n",
       "      <td>287882</td>\n",
       "      <td>10</td>\n",
       "      <td>2016</td>\n",
       "      <td>EC</td>\n",
       "      <td>1444406</td>\n",
       "      <td>invest</td>\n",
       "      <td>2016-12-31</td>\n",
       "    </tr>\n",
       "  </tbody>\n",
       "</table>\n",
       "<p>15596 rows × 7 columns</p>\n",
       "</div>"
      ],
      "text/plain": [
       "        gvkey  gsector  year   tic      cik   grade   datadate\n",
       "0        1004       20  2000   AIR     1750  invest 2000-12-31\n",
       "1        1004       20  2001   AIR     1750  fallen 2001-12-31\n",
       "2        1004       20  2001   AIR     1750  invest 2001-11-30\n",
       "3        1036       20  2000  UDI.    29590  invest 2000-12-31\n",
       "4        1036       20  2001  UDI.    29590  invest 2001-03-31\n",
       "...       ...      ...   ...   ...      ...     ...        ...\n",
       "15591  266257       40  2016  AINV  1278752  fallen 2016-01-31\n",
       "15592  287882       10  2013    EC  1444406  invest 2013-12-31\n",
       "15593  287882       10  2014    EC  1444406  invest 2014-12-31\n",
       "15594  287882       10  2015    EC  1444406  invest 2015-12-31\n",
       "15595  287882       10  2016    EC  1444406  invest 2016-12-31\n",
       "\n",
       "[15596 rows x 7 columns]"
      ]
     },
     "execution_count": 108,
     "metadata": {},
     "output_type": "execute_result"
    }
   ],
   "source": [
    "scrape_edgar = fallen_angels.groupby(['gvkey','gsector','year','tic','cik','grade'])['datadate'].max().reset_index()\n",
    "scrape_edgar.datadate = pd.to_datetime(scrape_edgar.datadate)\n",
    "scrape_edgar"
   ]
  },
  {
   "cell_type": "code",
   "execution_count": 109,
   "id": "ebf3a629",
   "metadata": {},
   "outputs": [],
   "source": [
    "def fetch_reports(args):\n",
    "    downloader = Downloader()\n",
    "    report_type, date, gvkey, grade = args\n",
    "    after_date = datetime(year= max(date.year-1, 2000), month=1, day=1)\n",
    "    \n",
    "    try:\n",
    "        filings_list = downloader.get_filings(report_type,\n",
    "                                            gvkey, \n",
    "                                            before= date.strftime('%Y-%m-%d'),\n",
    "                                            after = after_date.strftime('%Y-%m-%d'))\n",
    "        \n",
    "        #option -1\n",
    "        for filing in filings_list[::-1]:\n",
    "            os.makedirs(f'data/raw/{grade}/', exist_ok=True)\n",
    "            with open(f'data/raw/{grade}/{repr(filing)}.html','wb') as f:\n",
    "                f.write(filing.get_report())\n",
    "    \n",
    "    except Exception as e:\n",
    "        print(f'Failed {gvkey},{report_type},{date},{after_date}',str(e))\n",
    "    "
   ]
  },
  {
   "cell_type": "code",
   "execution_count": 122,
   "id": "a6b59914",
   "metadata": {},
   "outputs": [
    {
     "name": "stderr",
     "output_type": "stream",
     "text": [
      "  1%|          | 209/31192 [08:56<85:34:14,  9.94s/it]"
     ]
    },
    {
     "name": "stdout",
     "output_type": "stream",
     "text": [
      "Failed 1238,10-K,2000-12-31 00:00:00,2000-01-01 00:00:00 Sorry, gvkey \"1238\" is invalid. Or we do not have this gvkey in our CIK-gvkey mapping table dataframe.\n",
      "Failed 1238,10-K,2000-12-31 00:00:00,2000-01-01 00:00:00 Sorry, gvkey \"1238\" is invalid. Or we do not have this gvkey in our CIK-gvkey mapping table dataframe.\n",
      "Failed 1238,10-K,2001-12-31 00:00:00,2000-01-01 00:00:00 Sorry, gvkey \"1238\" is invalid. Or we do not have this gvkey in our CIK-gvkey mapping table dataframe.\n",
      "Failed 1238,10-K,2002-12-31 00:00:00,2001-01-01 00:00:00 Sorry, gvkey \"1238\" is invalid. Or we do not have this gvkey in our CIK-gvkey mapping table dataframe.\n"
     ]
    },
    {
     "name": "stderr",
     "output_type": "stream",
     "text": [
      "  1%|          | 253/31192 [09:38<13:11:33,  1.54s/it]"
     ]
    },
    {
     "name": "stdout",
     "output_type": "stream",
     "text": [
      "Skipping filing detail download for 'https://www.sec.gov/Archives/edgar/data/0000003370/000103605000002184/0001.txt' due to network error: 404 Client Error: Not Found for url: https://www.sec.gov/Archives/edgar/data/0000003370/000103605000002184/0001.txt.\n",
      "Failed 1246,10-K,2000-12-31 00:00:00,2000-01-01 00:00:00 local variable 'filing_text' referenced before assignment\n"
     ]
    },
    {
     "name": "stderr",
     "output_type": "stream",
     "text": [
      "  1%|          | 255/31192 [09:40<12:12:11,  1.42s/it]"
     ]
    },
    {
     "name": "stdout",
     "output_type": "stream",
     "text": [
      "Skipping filing detail download for 'https://www.sec.gov/Archives/edgar/data/0000003370/000103605000002184/0001.txt' due to network error: 404 Client Error: Not Found for url: https://www.sec.gov/Archives/edgar/data/0000003370/000103605000002184/0001.txt.\n",
      "Failed 1246,10-K,2000-12-31 00:00:00,2000-01-01 00:00:00 local variable 'filing_text' referenced before assignment\n"
     ]
    },
    {
     "name": "stderr",
     "output_type": "stream",
     "text": [
      "  1%|          | 257/31192 [09:41<10:06:01,  1.18s/it]"
     ]
    },
    {
     "name": "stdout",
     "output_type": "stream",
     "text": [
      "Skipping filing detail download for 'https://www.sec.gov/Archives/edgar/data/0000003370/000103605000002184/0001.txt' due to network error: 404 Client Error: Not Found for url: https://www.sec.gov/Archives/edgar/data/0000003370/000103605000002184/0001.txt.\n",
      "Failed 1246,10-K,2001-12-31 00:00:00,2000-01-01 00:00:00 local variable 'filing_text' referenced before assignment\n"
     ]
    },
    {
     "name": "stderr",
     "output_type": "stream",
     "text": [
      "  1%|          | 303/31192 [11:42<24:46:14,  2.89s/it]"
     ]
    },
    {
     "name": "stdout",
     "output_type": "stream",
     "text": [
      "Skipping filing detail download for 'https://www.sec.gov/Archives/edgar/data/0000773840/000095011701000640/0001.txt' due to network error: 404 Client Error: Not Found for url: https://www.sec.gov/Archives/edgar/data/0000773840/000095011701000640/0001.txt.\n",
      "Failed 1300,10-K,2000-12-31 00:00:00,2000-01-01 00:00:00 local variable 'filing_text' referenced before assignment\n"
     ]
    },
    {
     "name": "stderr",
     "output_type": "stream",
     "text": [
      "  1%|          | 307/31192 [11:44<15:27:22,  1.80s/it]"
     ]
    },
    {
     "name": "stdout",
     "output_type": "stream",
     "text": [
      "Skipping filing detail download for 'https://www.sec.gov/Archives/edgar/data/0000773840/000095011701000640/0001.txt' due to network error: 404 Client Error: Not Found for url: https://www.sec.gov/Archives/edgar/data/0000773840/000095011701000640/0001.txt.\n",
      "Failed 1300,10-K,2000-12-31 00:00:00,2000-01-01 00:00:00 local variable 'filing_text' referenced before assignment\n"
     ]
    },
    {
     "name": "stderr",
     "output_type": "stream",
     "text": [
      "  1%|          | 309/31192 [11:45<13:00:49,  1.52s/it]"
     ]
    },
    {
     "name": "stdout",
     "output_type": "stream",
     "text": [
      "Skipping filing detail download for 'https://www.sec.gov/Archives/edgar/data/0000773840/000095011701000640/0001.txt' due to network error: 404 Client Error: Not Found for url: https://www.sec.gov/Archives/edgar/data/0000773840/000095011701000640/0001.txt.\n",
      "Failed 1300,10-K,2001-12-31 00:00:00,2000-01-01 00:00:00 local variable 'filing_text' referenced before assignment\n"
     ]
    },
    {
     "name": "stderr",
     "output_type": "stream",
     "text": [
      "  1%|          | 311/31192 [11:47<12:00:21,  1.40s/it]"
     ]
    },
    {
     "name": "stdout",
     "output_type": "stream",
     "text": [
      "Skipping filing detail download for 'https://www.sec.gov/Archives/edgar/data/0000773840/000095011701000640/0001.txt' due to network error: 404 Client Error: Not Found for url: https://www.sec.gov/Archives/edgar/data/0000773840/000095011701000640/0001.txt.\n",
      "Failed 1300,10-K,2002-12-31 00:00:00,2001-01-01 00:00:00 local variable 'filing_text' referenced before assignment\n"
     ]
    },
    {
     "name": "stderr",
     "output_type": "stream",
     "text": [
      "  1%|          | 351/31192 [13:53<25:43:14,  3.00s/it]"
     ]
    },
    {
     "name": "stdout",
     "output_type": "stream",
     "text": [
      "Skipping filing detail download for 'https://www.sec.gov/Archives/edgar/data/0000004310/000000431001000005/0001.txt' due to network error: 404 Client Error: Not Found for url: https://www.sec.gov/Archives/edgar/data/0000004310/000000431001000005/0001.txt.\n",
      "Failed 1359,10-K,2000-12-31 00:00:00,2000-01-01 00:00:00 local variable 'filing_text' referenced before assignment\n"
     ]
    },
    {
     "name": "stderr",
     "output_type": "stream",
     "text": [
      "  1%|          | 355/31192 [13:55<15:35:10,  1.82s/it]"
     ]
    },
    {
     "name": "stdout",
     "output_type": "stream",
     "text": [
      "Skipping filing detail download for 'https://www.sec.gov/Archives/edgar/data/0000004310/000000431001000005/0001.txt' due to network error: 404 Client Error: Not Found for url: https://www.sec.gov/Archives/edgar/data/0000004310/000000431001000005/0001.txt.\n",
      "Failed 1359,10-K,2000-12-31 00:00:00,2000-01-01 00:00:00 local variable 'filing_text' referenced before assignment\n"
     ]
    },
    {
     "name": "stderr",
     "output_type": "stream",
     "text": [
      "  1%|          | 357/31192 [13:56<12:40:33,  1.48s/it]"
     ]
    },
    {
     "name": "stdout",
     "output_type": "stream",
     "text": [
      "Skipping filing detail download for 'https://www.sec.gov/Archives/edgar/data/0000004310/000000431001000005/0001.txt' due to network error: 404 Client Error: Not Found for url: https://www.sec.gov/Archives/edgar/data/0000004310/000000431001000005/0001.txt.\n",
      "Failed 1359,10-K,2001-12-31 00:00:00,2000-01-01 00:00:00 local variable 'filing_text' referenced before assignment\n"
     ]
    },
    {
     "name": "stderr",
     "output_type": "stream",
     "text": [
      "  2%|▏         | 705/31192 [27:15<19:59:36,  2.36s/it]"
     ]
    },
    {
     "name": "stdout",
     "output_type": "stream",
     "text": [
      "Skipping filing detail download for 'https://www.sec.gov/Archives/edgar/data/0000318154/000089843001000873/0001.txt' due to network error: 404 Client Error: Not Found for url: https://www.sec.gov/Archives/edgar/data/0000318154/000089843001000873/0001.txt.\n",
      "Failed 1602,10-K,2000-12-31 00:00:00,2000-01-01 00:00:00 local variable 'filing_text' referenced before assignment\n"
     ]
    },
    {
     "name": "stderr",
     "output_type": "stream",
     "text": [
      "  2%|▏         | 707/31192 [27:17<16:27:55,  1.94s/it]"
     ]
    },
    {
     "name": "stdout",
     "output_type": "stream",
     "text": [
      "Skipping filing detail download for 'https://www.sec.gov/Archives/edgar/data/0000318154/000089843001000873/0001.txt' due to network error: 404 Client Error: Not Found for url: https://www.sec.gov/Archives/edgar/data/0000318154/000089843001000873/0001.txt.\n",
      "Failed 1602,10-K,2000-12-31 00:00:00,2000-01-01 00:00:00 local variable 'filing_text' referenced before assignment\n"
     ]
    },
    {
     "name": "stderr",
     "output_type": "stream",
     "text": [
      "  2%|▏         | 709/31192 [27:18<13:12:04,  1.56s/it]"
     ]
    },
    {
     "name": "stdout",
     "output_type": "stream",
     "text": [
      "Skipping filing detail download for 'https://www.sec.gov/Archives/edgar/data/0000318154/000089843001000873/0001.txt' due to network error: 404 Client Error: Not Found for url: https://www.sec.gov/Archives/edgar/data/0000318154/000089843001000873/0001.txt.\n",
      "Failed 1602,10-K,2001-12-31 00:00:00,2000-01-01 00:00:00 local variable 'filing_text' referenced before assignment\n"
     ]
    },
    {
     "name": "stderr",
     "output_type": "stream",
     "text": [
      "  2%|▏         | 711/31192 [27:21<12:45:49,  1.51s/it]"
     ]
    },
    {
     "name": "stdout",
     "output_type": "stream",
     "text": [
      "Skipping filing detail download for 'https://www.sec.gov/Archives/edgar/data/0000318154/000089843001000873/0001.txt' due to network error: 404 Client Error: Not Found for url: https://www.sec.gov/Archives/edgar/data/0000318154/000089843001000873/0001.txt.\n",
      "Failed 1602,10-K,2002-12-31 00:00:00,2001-01-01 00:00:00 local variable 'filing_text' referenced before assignment\n"
     ]
    },
    {
     "name": "stderr",
     "output_type": "stream",
     "text": [
      "  2%|▏         | 729/31192 [28:14<23:11:23,  2.74s/it]"
     ]
    },
    {
     "name": "stdout",
     "output_type": "stream",
     "text": [
      "Skipping filing detail download for 'https://www.sec.gov/Archives/edgar/data/0000003133/000093176301000676/0001.txt' due to network error: 404 Client Error: Not Found for url: https://www.sec.gov/Archives/edgar/data/0000003133/000093176301000676/0001.txt.\n",
      "Failed 1619,10-K,2000-12-31 00:00:00,2000-01-01 00:00:00 local variable 'filing_text' referenced before assignment\n"
     ]
    },
    {
     "name": "stderr",
     "output_type": "stream",
     "text": [
      "  2%|▏         | 731/31192 [28:16<18:46:12,  2.22s/it]"
     ]
    },
    {
     "name": "stdout",
     "output_type": "stream",
     "text": [
      "Skipping filing detail download for 'https://www.sec.gov/Archives/edgar/data/0000003133/000093176301000676/0001.txt' due to network error: 404 Client Error: Not Found for url: https://www.sec.gov/Archives/edgar/data/0000003133/000093176301000676/0001.txt.\n",
      "Failed 1619,10-K,2000-12-31 00:00:00,2000-01-01 00:00:00 local variable 'filing_text' referenced before assignment\n"
     ]
    },
    {
     "name": "stderr",
     "output_type": "stream",
     "text": [
      "  2%|▏         | 733/31192 [28:18<14:37:26,  1.73s/it]"
     ]
    },
    {
     "name": "stdout",
     "output_type": "stream",
     "text": [
      "Skipping filing detail download for 'https://www.sec.gov/Archives/edgar/data/0000003133/000093176301000676/0001.txt' due to network error: 404 Client Error: Not Found for url: https://www.sec.gov/Archives/edgar/data/0000003133/000093176301000676/0001.txt.\n",
      "Failed 1619,10-K,2001-12-31 00:00:00,2000-01-01 00:00:00 local variable 'filing_text' referenced before assignment\n"
     ]
    },
    {
     "name": "stderr",
     "output_type": "stream",
     "text": [
      "  2%|▏         | 735/31192 [28:19<12:31:42,  1.48s/it]"
     ]
    },
    {
     "name": "stdout",
     "output_type": "stream",
     "text": [
      "Skipping filing detail download for 'https://www.sec.gov/Archives/edgar/data/0000003133/000093176301000676/0001.txt' due to network error: 404 Client Error: Not Found for url: https://www.sec.gov/Archives/edgar/data/0000003133/000093176301000676/0001.txt.\n",
      "Failed 1619,10-K,2002-12-31 00:00:00,2001-01-01 00:00:00 local variable 'filing_text' referenced before assignment\n"
     ]
    },
    {
     "name": "stderr",
     "output_type": "stream",
     "text": [
      "  3%|▎         | 911/31192 [33:14<16:47:17,  2.00s/it]"
     ]
    },
    {
     "name": "stdout",
     "output_type": "stream",
     "text": [
      "Skipping filing detail download for 'https://www.sec.gov/Archives/edgar/data/0000007084/000000708400000039/0001.txt' due to network error: 404 Client Error: Not Found for url: https://www.sec.gov/Archives/edgar/data/0000007084/000000708400000039/0001.txt.\n",
      "Failed 1722,10-K,2001-12-31 00:00:00,2000-01-01 00:00:00 local variable 'filing_text' referenced before assignment\n"
     ]
    },
    {
     "name": "stderr",
     "output_type": "stream",
     "text": [
      "  3%|▎         | 913/31192 [33:17<15:16:16,  1.82s/it]"
     ]
    },
    {
     "name": "stdout",
     "output_type": "stream",
     "text": [
      "Skipping filing detail download for 'https://www.sec.gov/Archives/edgar/data/0000007084/000000708400000039/0001.txt' due to network error: 404 Client Error: Not Found for url: https://www.sec.gov/Archives/edgar/data/0000007084/000000708400000039/0001.txt.\n",
      "Failed 1722,10-K,2000-12-31 00:00:00,2000-01-01 00:00:00 local variable 'filing_text' referenced before assignment\n"
     ]
    },
    {
     "name": "stderr",
     "output_type": "stream",
     "text": [
      "  3%|▎         | 933/31192 [34:00<21:57:05,  2.61s/it]"
     ]
    },
    {
     "name": "stdout",
     "output_type": "stream",
     "text": [
      "Skipping filing detail download for 'https://www.sec.gov/Archives/edgar/data/0000007214/000000721401000002/0001.txt' due to network error: 404 Client Error: Not Found for url: https://www.sec.gov/Archives/edgar/data/0000007214/000000721401000002/0001.txt.\n",
      "Failed 1738,10-K,2000-12-31 00:00:00,2000-01-01 00:00:00 local variable 'filing_text' referenced before assignment\n"
     ]
    },
    {
     "name": "stderr",
     "output_type": "stream",
     "text": [
      "  3%|▎         | 935/31192 [34:02<17:52:50,  2.13s/it]"
     ]
    },
    {
     "name": "stdout",
     "output_type": "stream",
     "text": [
      "Skipping filing detail download for 'https://www.sec.gov/Archives/edgar/data/0000007214/000000721401000002/0001.txt' due to network error: 404 Client Error: Not Found for url: https://www.sec.gov/Archives/edgar/data/0000007214/000000721401000002/0001.txt.\n",
      "Failed 1738,10-K,2000-12-31 00:00:00,2000-01-01 00:00:00 local variable 'filing_text' referenced before assignment\n"
     ]
    },
    {
     "name": "stderr",
     "output_type": "stream",
     "text": [
      "  3%|▎         | 937/31192 [34:03<14:10:42,  1.69s/it]"
     ]
    },
    {
     "name": "stdout",
     "output_type": "stream",
     "text": [
      "Skipping filing detail download for 'https://www.sec.gov/Archives/edgar/data/0000007214/000000721401000002/0001.txt' due to network error: 404 Client Error: Not Found for url: https://www.sec.gov/Archives/edgar/data/0000007214/000000721401000002/0001.txt.\n",
      "Failed 1738,10-K,2001-12-31 00:00:00,2000-01-01 00:00:00 local variable 'filing_text' referenced before assignment\n"
     ]
    },
    {
     "name": "stderr",
     "output_type": "stream",
     "text": [
      "  3%|▎         | 939/31192 [34:05<12:03:01,  1.43s/it]"
     ]
    },
    {
     "name": "stdout",
     "output_type": "stream",
     "text": [
      "Skipping filing detail download for 'https://www.sec.gov/Archives/edgar/data/0000007214/000000721401000002/0001.txt' due to network error: 404 Client Error: Not Found for url: https://www.sec.gov/Archives/edgar/data/0000007214/000000721401000002/0001.txt.\n",
      "Failed 1738,10-K,2002-12-31 00:00:00,2001-01-01 00:00:00 local variable 'filing_text' referenced before assignment\n"
     ]
    },
    {
     "name": "stderr",
     "output_type": "stream",
     "text": [
      "  3%|▎         | 981/31192 [35:34<12:03:12,  1.44s/it]"
     ]
    },
    {
     "name": "stdout",
     "output_type": "stream",
     "text": [
      "Skipping filing detail download for 'https://www.sec.gov/Archives/edgar/data/0000202584/000006598401000070/0001.txt' due to network error: 404 Client Error: Not Found for url: https://www.sec.gov/Archives/edgar/data/0000202584/000006598401000070/0001.txt.\n",
      "Failed 1745,10-K,2000-12-31 00:00:00,2000-01-01 00:00:00 local variable 'filing_text' referenced before assignment\n"
     ]
    },
    {
     "name": "stderr",
     "output_type": "stream",
     "text": [
      "  3%|▎         | 985/31192 [35:35<8:15:39,  1.02it/s] "
     ]
    },
    {
     "name": "stdout",
     "output_type": "stream",
     "text": [
      "Skipping filing detail download for 'https://www.sec.gov/Archives/edgar/data/0000202584/000006598401000070/0001.txt' due to network error: 404 Client Error: Not Found for url: https://www.sec.gov/Archives/edgar/data/0000202584/000006598401000070/0001.txt.\n",
      "Failed 1745,10-K,2000-12-31 00:00:00,2000-01-01 00:00:00 local variable 'filing_text' referenced before assignment\n"
     ]
    },
    {
     "name": "stderr",
     "output_type": "stream",
     "text": [
      "  3%|▎         | 987/31192 [35:36<7:03:46,  1.19it/s]"
     ]
    },
    {
     "name": "stdout",
     "output_type": "stream",
     "text": [
      "Skipping filing detail download for 'https://www.sec.gov/Archives/edgar/data/0000202584/000006598401000070/0001.txt' due to network error: 404 Client Error: Not Found for url: https://www.sec.gov/Archives/edgar/data/0000202584/000006598401000070/0001.txt.\n",
      "Failed 1745,10-K,2001-12-31 00:00:00,2000-01-01 00:00:00 local variable 'filing_text' referenced before assignment\n"
     ]
    },
    {
     "name": "stderr",
     "output_type": "stream",
     "text": [
      "  3%|▎         | 989/31192 [35:39<7:54:18,  1.06it/s]"
     ]
    },
    {
     "name": "stdout",
     "output_type": "stream",
     "text": [
      "Skipping filing detail download for 'https://www.sec.gov/Archives/edgar/data/0000202584/000006598401000070/0001.txt' due to network error: 404 Client Error: Not Found for url: https://www.sec.gov/Archives/edgar/data/0000202584/000006598401000070/0001.txt.\n",
      "Failed 1745,10-K,2002-12-31 00:00:00,2001-01-01 00:00:00 local variable 'filing_text' referenced before assignment\n"
     ]
    },
    {
     "name": "stderr",
     "output_type": "stream",
     "text": [
      "  3%|▎         | 1039/31192 [39:56<5:39:47,  1.48it/s] "
     ]
    },
    {
     "name": "stdout",
     "output_type": "stream",
     "text": [
      "Failed 1803,10-K,2000-12-31 00:00:00,2000-01-01 00:00:00 Sorry, gvkey \"1803\" is invalid. Or we do not have this gvkey in our CIK-gvkey mapping table dataframe.\n",
      "Failed 1803,10-K,2000-12-31 00:00:00,2000-01-01 00:00:00 Sorry, gvkey \"1803\" is invalid. Or we do not have this gvkey in our CIK-gvkey mapping table dataframe.\n",
      "Failed 1803,10-K,2001-12-31 00:00:00,2000-01-01 00:00:00 Sorry, gvkey \"1803\" is invalid. Or we do not have this gvkey in our CIK-gvkey mapping table dataframe.\n",
      "Failed 1803,10-K,2002-12-31 00:00:00,2001-01-01 00:00:00 Sorry, gvkey \"1803\" is invalid. Or we do not have this gvkey in our CIK-gvkey mapping table dataframe.\n",
      "Failed 1803,10-K,2003-12-31 00:00:00,2002-01-01 00:00:00 Sorry, gvkey \"1803\" is invalid. Or we do not have this gvkey in our CIK-gvkey mapping table dataframe.\n",
      "Failed 1803,10-K,2004-12-31 00:00:00,2003-01-01 00:00:00 Sorry, gvkey \"1803\" is invalid. Or we do not have this gvkey in our CIK-gvkey mapping table dataframe.\n",
      "Failed 1828,10-K,2001-12-31 00:00:00,2000-01-01 00:00:00 Sorry, gvkey \"1828\" is invalid. Or we do not have this gvkey in our CIK-gvkey mapping table dataframe.\n",
      "Failed 1828,10-K,2000-12-31 00:00:00,2000-01-01 00:00:00 Sorry, gvkey \"1828\" is invalid. Or we do not have this gvkey in our CIK-gvkey mapping table dataframe.\n",
      "Failed 1828,10-K,2002-12-31 00:00:00,2001-01-01 00:00:00 Sorry, gvkey \"1828\" is invalid. Or we do not have this gvkey in our CIK-gvkey mapping table dataframe.\n",
      "Failed 1828,10-K,2003-12-31 00:00:00,2002-01-01 00:00:00 Sorry, gvkey \"1828\" is invalid. Or we do not have this gvkey in our CIK-gvkey mapping table dataframe.\n",
      "Failed 1828,10-K,2005-12-31 00:00:00,2004-01-01 00:00:00 Sorry, gvkey \"1828\" is invalid. Or we do not have this gvkey in our CIK-gvkey mapping table dataframe.\n",
      "Failed 1828,10-K,2004-12-31 00:00:00,2003-01-01 00:00:00 Sorry, gvkey \"1828\" is invalid. Or we do not have this gvkey in our CIK-gvkey mapping table dataframe.\n",
      "Failed 1828,10-K,2006-12-31 00:00:00,2005-01-01 00:00:00 Sorry, gvkey \"1828\" is invalid. Or we do not have this gvkey in our CIK-gvkey mapping table dataframe.\n",
      "Failed 1828,10-K,2007-12-31 00:00:00,2006-01-01 00:00:00 Sorry, gvkey \"1828\" is invalid. Or we do not have this gvkey in our CIK-gvkey mapping table dataframe.\n",
      "Failed 1828,10-K,2008-12-31 00:00:00,2007-01-01 00:00:00 Sorry, gvkey \"1828\" is invalid. Or we do not have this gvkey in our CIK-gvkey mapping table dataframe.\n",
      "Failed 1828,10-K,2009-12-31 00:00:00,2008-01-01 00:00:00 Sorry, gvkey \"1828\" is invalid. Or we do not have this gvkey in our CIK-gvkey mapping table dataframe.\n",
      "Failed 1828,10-K,2010-12-31 00:00:00,2009-01-01 00:00:00 Sorry, gvkey \"1828\" is invalid. Or we do not have this gvkey in our CIK-gvkey mapping table dataframe.\n",
      "Failed 1828,10-K,2011-12-31 00:00:00,2010-01-01 00:00:00 Sorry, gvkey \"1828\" is invalid. Or we do not have this gvkey in our CIK-gvkey mapping table dataframe.\n",
      "Failed 1828,10-K,2012-12-31 00:00:00,2011-01-01 00:00:00 Sorry, gvkey \"1828\" is invalid. Or we do not have this gvkey in our CIK-gvkey mapping table dataframe.\n",
      "Failed 1828,10-K,2013-12-31 00:00:00,2012-01-01 00:00:00 Sorry, gvkey \"1828\" is invalid. Or we do not have this gvkey in our CIK-gvkey mapping table dataframe.\n",
      "Failed 1828,10-K,2014-12-31 00:00:00,2013-01-01 00:00:00 Sorry, gvkey \"1828\" is invalid. Or we do not have this gvkey in our CIK-gvkey mapping table dataframe.\n",
      "Failed 1828,10-K,2015-12-31 00:00:00,2014-01-01 00:00:00 Sorry, gvkey \"1828\" is invalid. Or we do not have this gvkey in our CIK-gvkey mapping table dataframe.\n",
      "Failed 1828,10-K,2016-12-31 00:00:00,2015-01-01 00:00:00 Sorry, gvkey \"1828\" is invalid. Or we do not have this gvkey in our CIK-gvkey mapping table dataframe.\n",
      "Failed 1831,10-K,2000-12-31 00:00:00,2000-01-01 00:00:00 Sorry, gvkey \"1831\" is invalid. Or we do not have this gvkey in our CIK-gvkey mapping table dataframe.\n",
      "Failed 1831,10-K,2000-12-31 00:00:00,2000-01-01 00:00:00 Sorry, gvkey \"1831\" is invalid. Or we do not have this gvkey in our CIK-gvkey mapping table dataframe.\n"
     ]
    },
    {
     "name": "stderr",
     "output_type": "stream",
     "text": [
      "  4%|▎         | 1115/31192 [41:37<37:58:03,  4.54s/it]"
     ]
    },
    {
     "name": "stdout",
     "output_type": "stream",
     "text": [
      "Failed 1848,10-K,2000-12-31 00:00:00,2000-01-01 00:00:00 Sorry, gvkey \"1848\" is invalid. Or we do not have this gvkey in our CIK-gvkey mapping table dataframe.\n",
      "Failed 1848,10-K,2000-12-31 00:00:00,2000-01-01 00:00:00 Sorry, gvkey \"1848\" is invalid. Or we do not have this gvkey in our CIK-gvkey mapping table dataframe.\n"
     ]
    },
    {
     "name": "stderr",
     "output_type": "stream",
     "text": [
      "  4%|▎         | 1137/31192 [42:15<17:19:49,  2.08s/it]"
     ]
    },
    {
     "name": "stdout",
     "output_type": "stream",
     "text": [
      "Skipping filing detail download for 'https://www.sec.gov/Archives/edgar/data/0000008670/000000867000000026/0001.txt' due to network error: 404 Client Error: Not Found for url: https://www.sec.gov/Archives/edgar/data/0000008670/000000867000000026/0001.txt.\n",
      "Failed 1891,10-K,2000-12-31 00:00:00,2000-01-01 00:00:00 local variable 'filing_text' referenced before assignment\n"
     ]
    },
    {
     "name": "stderr",
     "output_type": "stream",
     "text": [
      "  4%|▎         | 1139/31192 [42:18<15:09:41,  1.82s/it]"
     ]
    },
    {
     "name": "stdout",
     "output_type": "stream",
     "text": [
      "Skipping filing detail download for 'https://www.sec.gov/Archives/edgar/data/0000008670/000000867000000026/0001.txt' due to network error: 404 Client Error: Not Found for url: https://www.sec.gov/Archives/edgar/data/0000008670/000000867000000026/0001.txt.\n",
      "Failed 1891,10-K,2000-12-31 00:00:00,2000-01-01 00:00:00 local variable 'filing_text' referenced before assignment\n"
     ]
    },
    {
     "name": "stderr",
     "output_type": "stream",
     "text": [
      "  4%|▎         | 1141/31192 [42:19<11:55:11,  1.43s/it]"
     ]
    },
    {
     "name": "stdout",
     "output_type": "stream",
     "text": [
      "Skipping filing detail download for 'https://www.sec.gov/Archives/edgar/data/0000008670/000000867000000026/0001.txt' due to network error: 404 Client Error: Not Found for url: https://www.sec.gov/Archives/edgar/data/0000008670/000000867000000026/0001.txt.\n",
      "Failed 1891,10-K,2001-12-31 00:00:00,2000-01-01 00:00:00 local variable 'filing_text' referenced before assignment\n"
     ]
    },
    {
     "name": "stderr",
     "output_type": "stream",
     "text": [
      "  4%|▍         | 1211/31192 [43:48<9:56:44,  1.19s/it] "
     ]
    },
    {
     "name": "stdout",
     "output_type": "stream",
     "text": [
      "Skipping filing detail download for 'https://www.sec.gov/Archives/edgar/data/0000008868/000000886801000003/0001.txt' due to network error: 404 Client Error: Not Found for url: https://www.sec.gov/Archives/edgar/data/0000008868/000000886801000003/0001.txt.\n",
      "Failed 1920,10-K,2001-12-31 00:00:00,2000-01-01 00:00:00 local variable 'filing_text' referenced before assignment\n"
     ]
    },
    {
     "name": "stderr",
     "output_type": "stream",
     "text": [
      "  4%|▍         | 1215/31192 [43:51<8:36:07,  1.03s/it]"
     ]
    },
    {
     "name": "stdout",
     "output_type": "stream",
     "text": [
      "Skipping filing detail download for 'https://www.sec.gov/Archives/edgar/data/0000008868/000000886801000003/0001.txt' due to network error: 404 Client Error: Not Found for url: https://www.sec.gov/Archives/edgar/data/0000008868/000000886801000003/0001.txt.\n",
      "Failed 1920,10-K,2000-12-31 00:00:00,2000-01-01 00:00:00 local variable 'filing_text' referenced before assignment\n"
     ]
    },
    {
     "name": "stderr",
     "output_type": "stream",
     "text": [
      "  4%|▍         | 1217/31192 [43:55<10:12:14,  1.23s/it]"
     ]
    },
    {
     "name": "stdout",
     "output_type": "stream",
     "text": [
      "Skipping filing detail download for 'https://www.sec.gov/Archives/edgar/data/0000008868/000000886801000003/0001.txt' due to network error: 404 Client Error: Not Found for url: https://www.sec.gov/Archives/edgar/data/0000008868/000000886801000003/0001.txt.\n",
      "Failed 1920,10-K,2002-12-31 00:00:00,2001-01-01 00:00:00 local variable 'filing_text' referenced before assignment\n"
     ]
    },
    {
     "name": "stderr",
     "output_type": "stream",
     "text": [
      "  4%|▍         | 1299/31192 [45:43<19:38:17,  2.37s/it]"
     ]
    },
    {
     "name": "stdout",
     "output_type": "stream",
     "text": [
      "Skipping filing detail download for 'https://www.sec.gov/Archives/edgar/data/0000009466/000095016901000114/0001.txt' due to network error: 404 Client Error: Not Found for url: https://www.sec.gov/Archives/edgar/data/0000009466/000095016901000114/0001.txt.\n",
      "Failed 1995,10-K,2000-12-31 00:00:00,2000-01-01 00:00:00 local variable 'filing_text' referenced before assignment\n"
     ]
    },
    {
     "name": "stderr",
     "output_type": "stream",
     "text": [
      "  4%|▍         | 1301/31192 [45:45<16:37:37,  2.00s/it]"
     ]
    },
    {
     "name": "stdout",
     "output_type": "stream",
     "text": [
      "Skipping filing detail download for 'https://www.sec.gov/Archives/edgar/data/0000009466/000095016901000114/0001.txt' due to network error: 404 Client Error: Not Found for url: https://www.sec.gov/Archives/edgar/data/0000009466/000095016901000114/0001.txt.\n",
      "Failed 1995,10-K,2000-12-31 00:00:00,2000-01-01 00:00:00 local variable 'filing_text' referenced before assignment\n"
     ]
    },
    {
     "name": "stderr",
     "output_type": "stream",
     "text": [
      "  4%|▍         | 1303/31192 [45:48<14:47:49,  1.78s/it]"
     ]
    },
    {
     "name": "stdout",
     "output_type": "stream",
     "text": [
      "Skipping filing detail download for 'https://www.sec.gov/Archives/edgar/data/0000009466/000095016901000114/0001.txt' due to network error: 404 Client Error: Not Found for url: https://www.sec.gov/Archives/edgar/data/0000009466/000095016901000114/0001.txt.\n",
      "Failed 1995,10-K,2001-12-31 00:00:00,2000-01-01 00:00:00 local variable 'filing_text' referenced before assignment\n"
     ]
    },
    {
     "name": "stderr",
     "output_type": "stream",
     "text": [
      "  4%|▍         | 1305/31192 [45:52<16:17:46,  1.96s/it]"
     ]
    },
    {
     "name": "stdout",
     "output_type": "stream",
     "text": [
      "Skipping filing detail download for 'https://www.sec.gov/Archives/edgar/data/0000009466/000095016901000114/0001.txt' due to network error: 404 Client Error: Not Found for url: https://www.sec.gov/Archives/edgar/data/0000009466/000095016901000114/0001.txt.\n",
      "Failed 1995,10-K,2002-12-31 00:00:00,2001-01-01 00:00:00 local variable 'filing_text' referenced before assignment\n"
     ]
    },
    {
     "name": "stderr",
     "output_type": "stream",
     "text": [
      "  5%|▌         | 1575/31192 [52:17<11:30:44,  1.40s/it]"
     ]
    },
    {
     "name": "stdout",
     "output_type": "stream",
     "text": [
      "Failed 2137,10-K,2000-12-31 00:00:00,2000-01-01 00:00:00 Sorry, gvkey \"2137\" is invalid. Or we do not have this gvkey in our CIK-gvkey mapping table dataframe.\n",
      "Failed 2137,10-K,2000-12-31 00:00:00,2000-01-01 00:00:00 Sorry, gvkey \"2137\" is invalid. Or we do not have this gvkey in our CIK-gvkey mapping table dataframe.\n",
      "Failed 2137,10-K,2002-12-31 00:00:00,2001-01-01 00:00:00 Sorry, gvkey \"2137\" is invalid. Or we do not have this gvkey in our CIK-gvkey mapping table dataframe.\n",
      "Failed 2137,10-K,2001-12-31 00:00:00,2000-01-01 00:00:00 Sorry, gvkey \"2137\" is invalid. Or we do not have this gvkey in our CIK-gvkey mapping table dataframe.\n",
      "Failed 2137,10-K,2004-12-31 00:00:00,2003-01-01 00:00:00 Sorry, gvkey \"2137\" is invalid. Or we do not have this gvkey in our CIK-gvkey mapping table dataframe.\n",
      "Failed 2137,10-K,2003-12-31 00:00:00,2002-01-01 00:00:00 Sorry, gvkey \"2137\" is invalid. Or we do not have this gvkey in our CIK-gvkey mapping table dataframe.\n",
      "Failed 2137,10-K,2005-12-31 00:00:00,2004-01-01 00:00:00 Sorry, gvkey \"2137\" is invalid. Or we do not have this gvkey in our CIK-gvkey mapping table dataframe.\n",
      "Failed 2137,10-K,2006-12-31 00:00:00,2005-01-01 00:00:00 Sorry, gvkey \"2137\" is invalid. Or we do not have this gvkey in our CIK-gvkey mapping table dataframe.\n",
      "Failed 2137,10-K,2007-12-31 00:00:00,2006-01-01 00:00:00 Sorry, gvkey \"2137\" is invalid. Or we do not have this gvkey in our CIK-gvkey mapping table dataframe.\n",
      "Failed 2137,10-K,2009-12-31 00:00:00,2008-01-01 00:00:00 Sorry, gvkey \"2137\" is invalid. Or we do not have this gvkey in our CIK-gvkey mapping table dataframe.\n",
      "Failed 2137,10-K,2008-12-31 00:00:00,2007-01-01 00:00:00 Sorry, gvkey \"2137\" is invalid. Or we do not have this gvkey in our CIK-gvkey mapping table dataframe.\n",
      "Failed 2137,10-K,2010-12-31 00:00:00,2009-01-01 00:00:00 Sorry, gvkey \"2137\" is invalid. Or we do not have this gvkey in our CIK-gvkey mapping table dataframe.\n",
      "Failed 2137,10-K,2011-12-31 00:00:00,2010-01-01 00:00:00 Sorry, gvkey \"2137\" is invalid. Or we do not have this gvkey in our CIK-gvkey mapping table dataframe.\n",
      "Failed 2137,10-K,2012-12-31 00:00:00,2011-01-01 00:00:00 Sorry, gvkey \"2137\" is invalid. Or we do not have this gvkey in our CIK-gvkey mapping table dataframe.\n",
      "Failed 2137,10-K,2013-12-31 00:00:00,2012-01-01 00:00:00 Sorry, gvkey \"2137\" is invalid. Or we do not have this gvkey in our CIK-gvkey mapping table dataframe.\n",
      "Failed 2137,10-K,2015-12-31 00:00:00,2014-01-01 00:00:00 Sorry, gvkey \"2137\" is invalid. Or we do not have this gvkey in our CIK-gvkey mapping table dataframe.\n",
      "Failed 2137,10-K,2014-12-31 00:00:00,2013-01-01 00:00:00 Sorry, gvkey \"2137\" is invalid. Or we do not have this gvkey in our CIK-gvkey mapping table dataframe.\n",
      "Failed 2141,10-K,2000-12-31 00:00:00,2000-01-01 00:00:00 Sorry, gvkey \"2141\" is invalid. Or we do not have this gvkey in our CIK-gvkey mapping table dataframe.\n",
      "Failed 2141,10-K,2000-12-31 00:00:00,2000-01-01 00:00:00 Sorry, gvkey \"2141\" is invalid. Or we do not have this gvkey in our CIK-gvkey mapping table dataframe.\n",
      "Failed 2141,10-K,2002-12-31 00:00:00,2001-01-01 00:00:00 Sorry, gvkey \"2141\" is invalid. Or we do not have this gvkey in our CIK-gvkey mapping table dataframe.\n",
      "Failed 2141,10-K,2001-12-31 00:00:00,2000-01-01 00:00:00 Sorry, gvkey \"2141\" is invalid. Or we do not have this gvkey in our CIK-gvkey mapping table dataframe.\n",
      "Failed 2141,10-K,2004-12-31 00:00:00,2003-01-01 00:00:00 Sorry, gvkey \"2141\" is invalid. Or we do not have this gvkey in our CIK-gvkey mapping table dataframe.\n",
      "Failed 2141,10-K,2003-12-31 00:00:00,2002-01-01 00:00:00 Sorry, gvkey \"2141\" is invalid. Or we do not have this gvkey in our CIK-gvkey mapping table dataframe.\n",
      "Failed 2141,10-K,2005-12-31 00:00:00,2004-01-01 00:00:00 Sorry, gvkey \"2141\" is invalid. Or we do not have this gvkey in our CIK-gvkey mapping table dataframe.\n",
      "Failed 2141,10-K,2006-12-31 00:00:00,2005-01-01 00:00:00 Sorry, gvkey \"2141\" is invalid. Or we do not have this gvkey in our CIK-gvkey mapping table dataframe.\n",
      "Failed 2141,10-K,2007-12-31 00:00:00,2006-01-01 00:00:00 Sorry, gvkey \"2141\" is invalid. Or we do not have this gvkey in our CIK-gvkey mapping table dataframe.\n",
      "Failed 2141,10-K,2010-12-31 00:00:00,2009-01-01 00:00:00 Sorry, gvkey \"2141\" is invalid. Or we do not have this gvkey in our CIK-gvkey mapping table dataframe.\n",
      "Failed 2141,10-K,2009-12-31 00:00:00,2008-01-01 00:00:00 Sorry, gvkey \"2141\" is invalid. Or we do not have this gvkey in our CIK-gvkey mapping table dataframe.\n",
      "Failed 2141,10-K,2011-12-31 00:00:00,2010-01-01 00:00:00 Sorry, gvkey \"2141\" is invalid. Or we do not have this gvkey in our CIK-gvkey mapping table dataframe.\n",
      "Failed 2141,10-K,2012-12-31 00:00:00,2011-01-01 00:00:00 Sorry, gvkey \"2141\" is invalid. Or we do not have this gvkey in our CIK-gvkey mapping table dataframe.\n",
      "Failed 2141,10-K,2013-12-31 00:00:00,2012-01-01 00:00:00 Sorry, gvkey \"2141\" is invalid. Or we do not have this gvkey in our CIK-gvkey mapping table dataframe.\n"
     ]
    },
    {
     "name": "stderr",
     "output_type": "stream",
     "text": [
      "  6%|▌         | 1849/31192 [1:00:07<25:44:52,  3.16s/it]"
     ]
    },
    {
     "name": "stdout",
     "output_type": "stream",
     "text": [
      "Skipping filing detail download for 'https://www.sec.gov/Archives/edgar/data/0000012927/000001292701000004/0001.txt' due to network error: 404 Client Error: Not Found for url: https://www.sec.gov/Archives/edgar/data/0000012927/000001292701000004/0001.txt.\n",
      "Failed 2285,10-K,2000-12-31 00:00:00,2000-01-01 00:00:00 local variable 'filing_text' referenced before assignment\n"
     ]
    },
    {
     "name": "stderr",
     "output_type": "stream",
     "text": [
      "  6%|▌         | 1853/31192 [1:00:09<15:56:08,  1.96s/it]"
     ]
    },
    {
     "name": "stdout",
     "output_type": "stream",
     "text": [
      "Skipping filing detail download for 'https://www.sec.gov/Archives/edgar/data/0000012927/000001292701000004/0001.txt' due to network error: 404 Client Error: Not Found for url: https://www.sec.gov/Archives/edgar/data/0000012927/000001292701000004/0001.txt.\n",
      "Failed 2285,10-K,2000-12-31 00:00:00,2000-01-01 00:00:00 local variable 'filing_text' referenced before assignment\n"
     ]
    },
    {
     "name": "stderr",
     "output_type": "stream",
     "text": [
      "  6%|▌         | 1855/31192 [1:00:10<13:23:53,  1.64s/it]"
     ]
    },
    {
     "name": "stdout",
     "output_type": "stream",
     "text": [
      "Skipping filing detail download for 'https://www.sec.gov/Archives/edgar/data/0000012927/000001292701000004/0001.txt' due to network error: 404 Client Error: Not Found for url: https://www.sec.gov/Archives/edgar/data/0000012927/000001292701000004/0001.txt.\n",
      "Failed 2285,10-K,2001-12-31 00:00:00,2000-01-01 00:00:00 local variable 'filing_text' referenced before assignment\n"
     ]
    },
    {
     "name": "stderr",
     "output_type": "stream",
     "text": [
      "  6%|▌         | 1857/31192 [1:00:12<12:08:00,  1.49s/it]"
     ]
    },
    {
     "name": "stdout",
     "output_type": "stream",
     "text": [
      "Skipping filing detail download for 'https://www.sec.gov/Archives/edgar/data/0000012927/000001292701000004/0001.txt' due to network error: 404 Client Error: Not Found for url: https://www.sec.gov/Archives/edgar/data/0000012927/000001292701000004/0001.txt.\n",
      "Failed 2285,10-K,2002-12-31 00:00:00,2001-01-01 00:00:00 local variable 'filing_text' referenced before assignment\n"
     ]
    },
    {
     "name": "stderr",
     "output_type": "stream",
     "text": [
      "  6%|▋         | 2017/31192 [1:04:07<30:04:37,  3.71s/it]"
     ]
    },
    {
     "name": "stdout",
     "output_type": "stream",
     "text": [
      "Failed 2408,10-K,2000-12-31 00:00:00,2000-01-01 00:00:00 Sorry, gvkey \"2408\" is invalid. Or we do not have this gvkey in our CIK-gvkey mapping table dataframe.\n",
      "Failed 2408,10-K,2000-12-31 00:00:00,2000-01-01 00:00:00 Sorry, gvkey \"2408\" is invalid. Or we do not have this gvkey in our CIK-gvkey mapping table dataframe.\n",
      "Failed 2408,10-K,2002-12-31 00:00:00,2001-01-01 00:00:00 Sorry, gvkey \"2408\" is invalid. Or we do not have this gvkey in our CIK-gvkey mapping table dataframe.\n",
      "Failed 2408,10-K,2001-12-31 00:00:00,2000-01-01 00:00:00 Sorry, gvkey \"2408\" is invalid. Or we do not have this gvkey in our CIK-gvkey mapping table dataframe.\n",
      "Failed 2408,10-K,2004-12-31 00:00:00,2003-01-01 00:00:00 Sorry, gvkey \"2408\" is invalid. Or we do not have this gvkey in our CIK-gvkey mapping table dataframe.\n",
      "Failed 2408,10-K,2003-12-31 00:00:00,2002-01-01 00:00:00 Sorry, gvkey \"2408\" is invalid. Or we do not have this gvkey in our CIK-gvkey mapping table dataframe.\n",
      "Failed 2408,10-K,2005-12-31 00:00:00,2004-01-01 00:00:00 Sorry, gvkey \"2408\" is invalid. Or we do not have this gvkey in our CIK-gvkey mapping table dataframe.\n",
      "Failed 2408,10-K,2006-12-31 00:00:00,2005-01-01 00:00:00 Sorry, gvkey \"2408\" is invalid. Or we do not have this gvkey in our CIK-gvkey mapping table dataframe.\n",
      "Failed 2408,10-K,2007-12-31 00:00:00,2006-01-01 00:00:00 Sorry, gvkey \"2408\" is invalid. Or we do not have this gvkey in our CIK-gvkey mapping table dataframe.\n",
      "Failed 2408,10-K,2008-12-31 00:00:00,2007-01-01 00:00:00 Sorry, gvkey \"2408\" is invalid. Or we do not have this gvkey in our CIK-gvkey mapping table dataframe.\n",
      "Failed 2408,10-K,2009-12-31 00:00:00,2008-01-01 00:00:00 Sorry, gvkey \"2408\" is invalid. Or we do not have this gvkey in our CIK-gvkey mapping table dataframe.\n",
      "Failed 2408,10-K,2010-12-31 00:00:00,2009-01-01 00:00:00 Sorry, gvkey \"2408\" is invalid. Or we do not have this gvkey in our CIK-gvkey mapping table dataframe.\n",
      "Failed 2408,10-K,2011-12-31 00:00:00,2010-01-01 00:00:00 Sorry, gvkey \"2408\" is invalid. Or we do not have this gvkey in our CIK-gvkey mapping table dataframe.\n",
      "Failed 2408,10-K,2012-12-31 00:00:00,2011-01-01 00:00:00 Sorry, gvkey \"2408\" is invalid. Or we do not have this gvkey in our CIK-gvkey mapping table dataframe.\n",
      "Failed 2408,10-K,2013-12-31 00:00:00,2012-01-01 00:00:00 Sorry, gvkey \"2408\" is invalid. Or we do not have this gvkey in our CIK-gvkey mapping table dataframe.\n",
      "Failed 2408,10-K,2015-12-31 00:00:00,2014-01-01 00:00:00 Sorry, gvkey \"2408\" is invalid. Or we do not have this gvkey in our CIK-gvkey mapping table dataframe.\n",
      "Failed 2408,10-K,2014-12-31 00:00:00,2013-01-01 00:00:00 Sorry, gvkey \"2408\" is invalid. Or we do not have this gvkey in our CIK-gvkey mapping table dataframe.\n"
     ]
    },
    {
     "name": "stderr",
     "output_type": "stream",
     "text": [
      "  7%|▋         | 2097/31192 [1:04:21<2:02:32,  3.96it/s] "
     ]
    },
    {
     "name": "stdout",
     "output_type": "stream",
     "text": [
      "Skipping filing detail download for 'https://www.sec.gov/Archives/edgar/data/0000014693/000001469300000016/0001.txt' due to network error: 404 Client Error: Not Found for url: https://www.sec.gov/Archives/edgar/data/0000014693/000001469300000016/0001.txt.\n",
      "Failed 2435,10-K,2001-12-31 00:00:00,2000-01-01 00:00:00 local variable 'filing_text' referenced before assignment\n"
     ]
    },
    {
     "name": "stderr",
     "output_type": "stream",
     "text": [
      "  7%|▋         | 2099/31192 [1:04:23<4:05:05,  1.98it/s]"
     ]
    },
    {
     "name": "stdout",
     "output_type": "stream",
     "text": [
      "Skipping filing detail download for 'https://www.sec.gov/Archives/edgar/data/0000014693/000001469300000016/0001.txt' due to network error: 404 Client Error: Not Found for url: https://www.sec.gov/Archives/edgar/data/0000014693/000001469300000016/0001.txt.\n",
      "Failed 2435,10-K,2000-12-31 00:00:00,2000-01-01 00:00:00 local variable 'filing_text' referenced before assignment\n"
     ]
    },
    {
     "name": "stderr",
     "output_type": "stream",
     "text": [
      "  7%|▋         | 2119/31192 [1:04:49<11:41:10,  1.45s/it]"
     ]
    },
    {
     "name": "stdout",
     "output_type": "stream",
     "text": [
      "Skipping filing detail download for 'https://www.sec.gov/Archives/edgar/data/0000014930/000095013101001498/0001.txt' due to network error: 404 Client Error: Not Found for url: https://www.sec.gov/Archives/edgar/data/0000014930/000095013101001498/0001.txt.\n",
      "Failed 2444,10-K,2000-12-31 00:00:00,2000-01-01 00:00:00 local variable 'filing_text' referenced before assignment\n"
     ]
    },
    {
     "name": "stderr",
     "output_type": "stream",
     "text": [
      "  7%|▋         | 2121/31192 [1:04:51<10:41:01,  1.32s/it]"
     ]
    },
    {
     "name": "stdout",
     "output_type": "stream",
     "text": [
      "Skipping filing detail download for 'https://www.sec.gov/Archives/edgar/data/0000014930/000095013101001498/0001.txt' due to network error: 404 Client Error: Not Found for url: https://www.sec.gov/Archives/edgar/data/0000014930/000095013101001498/0001.txt.\n",
      "Failed 2444,10-K,2000-12-31 00:00:00,2000-01-01 00:00:00 local variable 'filing_text' referenced before assignment\n"
     ]
    },
    {
     "name": "stderr",
     "output_type": "stream",
     "text": [
      "  7%|▋         | 2123/31192 [1:04:52<8:35:01,  1.06s/it] "
     ]
    },
    {
     "name": "stdout",
     "output_type": "stream",
     "text": [
      "Skipping filing detail download for 'https://www.sec.gov/Archives/edgar/data/0000014930/000095013101001498/0001.txt' due to network error: 404 Client Error: Not Found for url: https://www.sec.gov/Archives/edgar/data/0000014930/000095013101001498/0001.txt.\n",
      "Failed 2444,10-K,2001-12-31 00:00:00,2000-01-01 00:00:00 local variable 'filing_text' referenced before assignment\n"
     ]
    },
    {
     "name": "stderr",
     "output_type": "stream",
     "text": [
      "  7%|▋         | 2125/31192 [1:04:54<7:53:11,  1.02it/s]"
     ]
    },
    {
     "name": "stdout",
     "output_type": "stream",
     "text": [
      "Skipping filing detail download for 'https://www.sec.gov/Archives/edgar/data/0000014930/000095013101001498/0001.txt' due to network error: 404 Client Error: Not Found for url: https://www.sec.gov/Archives/edgar/data/0000014930/000095013101001498/0001.txt.\n",
      "Failed 2444,10-K,2002-12-31 00:00:00,2001-01-01 00:00:00 local variable 'filing_text' referenced before assignment\n"
     ]
    },
    {
     "name": "stderr",
     "output_type": "stream",
     "text": [
      "  7%|▋         | 2143/31192 [1:05:28<11:22:17,  1.41s/it]"
     ]
    },
    {
     "name": "stdout",
     "output_type": "stream",
     "text": [
      "Skipping filing detail download for 'https://www.sec.gov/Archives/edgar/data/0000934612/000093066101000296/0001.txt' due to network error: 404 Client Error: Not Found for url: https://www.sec.gov/Archives/edgar/data/0000934612/000093066101000296/0001.txt.\n",
      "Failed 2490,10-K,2000-12-31 00:00:00,2000-01-01 00:00:00 local variable 'filing_text' referenced before assignment\n"
     ]
    },
    {
     "name": "stderr",
     "output_type": "stream",
     "text": [
      "  7%|▋         | 2147/31192 [1:05:30<8:33:59,  1.06s/it] "
     ]
    },
    {
     "name": "stdout",
     "output_type": "stream",
     "text": [
      "Skipping filing detail download for 'https://www.sec.gov/Archives/edgar/data/0000934612/000093066101000296/0001.txt' due to network error: 404 Client Error: Not Found for url: https://www.sec.gov/Archives/edgar/data/0000934612/000093066101000296/0001.txt.\n",
      "Failed 2490,10-K,2000-12-31 00:00:00,2000-01-01 00:00:00 local variable 'filing_text' referenced before assignment\n"
     ]
    },
    {
     "name": "stderr",
     "output_type": "stream",
     "text": [
      "  7%|▋         | 2149/31192 [1:05:31<7:43:34,  1.04it/s]"
     ]
    },
    {
     "name": "stdout",
     "output_type": "stream",
     "text": [
      "Skipping filing detail download for 'https://www.sec.gov/Archives/edgar/data/0000934612/000093066101000296/0001.txt' due to network error: 404 Client Error: Not Found for url: https://www.sec.gov/Archives/edgar/data/0000934612/000093066101000296/0001.txt.\n",
      "Failed 2490,10-K,2001-12-31 00:00:00,2000-01-01 00:00:00 local variable 'filing_text' referenced before assignment\n"
     ]
    },
    {
     "name": "stderr",
     "output_type": "stream",
     "text": [
      "  7%|▋         | 2151/31192 [1:05:34<8:29:35,  1.05s/it]"
     ]
    },
    {
     "name": "stdout",
     "output_type": "stream",
     "text": [
      "Skipping filing detail download for 'https://www.sec.gov/Archives/edgar/data/0000934612/000093066101000296/0001.txt' due to network error: 404 Client Error: Not Found for url: https://www.sec.gov/Archives/edgar/data/0000934612/000093066101000296/0001.txt.\n",
      "Failed 2490,10-K,2002-12-31 00:00:00,2001-01-01 00:00:00 local variable 'filing_text' referenced before assignment\n"
     ]
    },
    {
     "name": "stderr",
     "output_type": "stream",
     "text": [
      "  7%|▋         | 2179/31192 [1:06:39<15:55:59,  1.98s/it]"
     ]
    },
    {
     "name": "stdout",
     "output_type": "stream",
     "text": [
      "Skipping filing detail download for 'https://www.sec.gov/Archives/edgar/data/0000015615/000001561501000001/0001.txt' due to network error: 404 Client Error: Not Found for url: https://www.sec.gov/Archives/edgar/data/0000015615/000001561501000001/0001.txt.\n",
      "Failed 2497,10-K,2000-12-31 00:00:00,2000-01-01 00:00:00 local variable 'filing_text' referenced before assignment\n"
     ]
    },
    {
     "name": "stderr",
     "output_type": "stream",
     "text": [
      "  7%|▋         | 2181/31192 [1:06:41<14:14:45,  1.77s/it]"
     ]
    },
    {
     "name": "stdout",
     "output_type": "stream",
     "text": [
      "Skipping filing detail download for 'https://www.sec.gov/Archives/edgar/data/0000015615/000001561501000001/0001.txt' due to network error: 404 Client Error: Not Found for url: https://www.sec.gov/Archives/edgar/data/0000015615/000001561501000001/0001.txt.\n",
      "Failed 2497,10-K,2000-12-31 00:00:00,2000-01-01 00:00:00 local variable 'filing_text' referenced before assignment\n"
     ]
    },
    {
     "name": "stderr",
     "output_type": "stream",
     "text": [
      "  7%|▋         | 2183/31192 [1:06:43<11:23:52,  1.41s/it]"
     ]
    },
    {
     "name": "stdout",
     "output_type": "stream",
     "text": [
      "Skipping filing detail download for 'https://www.sec.gov/Archives/edgar/data/0000015615/000001561501000001/0001.txt' due to network error: 404 Client Error: Not Found for url: https://www.sec.gov/Archives/edgar/data/0000015615/000001561501000001/0001.txt.\n",
      "Failed 2497,10-K,2001-12-31 00:00:00,2000-01-01 00:00:00 local variable 'filing_text' referenced before assignment\n"
     ]
    },
    {
     "name": "stderr",
     "output_type": "stream",
     "text": [
      "  7%|▋         | 2185/31192 [1:06:44<10:07:47,  1.26s/it]"
     ]
    },
    {
     "name": "stdout",
     "output_type": "stream",
     "text": [
      "Skipping filing detail download for 'https://www.sec.gov/Archives/edgar/data/0000015615/000001561501000001/0001.txt' due to network error: 404 Client Error: Not Found for url: https://www.sec.gov/Archives/edgar/data/0000015615/000001561501000001/0001.txt.\n",
      "Failed 2497,10-K,2002-12-31 00:00:00,2001-01-01 00:00:00 local variable 'filing_text' referenced before assignment\n"
     ]
    },
    {
     "name": "stderr",
     "output_type": "stream",
     "text": [
      "  7%|▋         | 2211/31192 [1:06:56<4:03:40,  1.98it/s] "
     ]
    },
    {
     "name": "stdout",
     "output_type": "stream",
     "text": [
      "Skipping filing detail download for 'https://www.sec.gov/Archives/edgar/data/0000020388/000089109201000463/0001.txt' due to network error: 404 Client Error: Not Found for url: https://www.sec.gov/Archives/edgar/data/0000020388/000089109201000463/0001.txt.\n",
      "Failed 2549,10-K,2000-12-31 00:00:00,2000-01-01 00:00:00 local variable 'filing_text' referenced before assignment\n"
     ]
    },
    {
     "name": "stderr",
     "output_type": "stream",
     "text": [
      "  7%|▋         | 2213/31192 [1:06:59<5:32:58,  1.45it/s]"
     ]
    },
    {
     "name": "stdout",
     "output_type": "stream",
     "text": [
      "Skipping filing detail download for 'https://www.sec.gov/Archives/edgar/data/0000020388/000089109201000463/0001.txt' due to network error: 404 Client Error: Not Found for url: https://www.sec.gov/Archives/edgar/data/0000020388/000089109201000463/0001.txt.\n",
      "Failed 2549,10-K,2000-12-31 00:00:00,2000-01-01 00:00:00 local variable 'filing_text' referenced before assignment\n"
     ]
    },
    {
     "name": "stderr",
     "output_type": "stream",
     "text": [
      "  7%|▋         | 2215/31192 [1:07:00<5:02:23,  1.60it/s]"
     ]
    },
    {
     "name": "stdout",
     "output_type": "stream",
     "text": [
      "Skipping filing detail download for 'https://www.sec.gov/Archives/edgar/data/0000020388/000089109201000463/0001.txt' due to network error: 404 Client Error: Not Found for url: https://www.sec.gov/Archives/edgar/data/0000020388/000089109201000463/0001.txt.\n",
      "Failed 2549,10-K,2001-12-31 00:00:00,2000-01-01 00:00:00 local variable 'filing_text' referenced before assignment\n"
     ]
    },
    {
     "name": "stderr",
     "output_type": "stream",
     "text": [
      "  7%|▋         | 2217/31192 [1:07:01<4:45:32,  1.69it/s]"
     ]
    },
    {
     "name": "stdout",
     "output_type": "stream",
     "text": [
      "Skipping filing detail download for 'https://www.sec.gov/Archives/edgar/data/0000020388/000089109201000463/0001.txt' due to network error: 404 Client Error: Not Found for url: https://www.sec.gov/Archives/edgar/data/0000020388/000089109201000463/0001.txt.\n",
      "Failed 2549,10-K,2002-12-31 00:00:00,2001-01-01 00:00:00 local variable 'filing_text' referenced before assignment\n"
     ]
    },
    {
     "name": "stderr",
     "output_type": "stream",
     "text": [
      "  7%|▋         | 2231/31192 [1:07:41<24:01:37,  2.99s/it]"
     ]
    },
    {
     "name": "stdout",
     "output_type": "stream",
     "text": [
      "Skipping filing detail download for 'https://www.sec.gov/Archives/edgar/data/0000277948/000102140801001422/0001.txt' due to network error: 404 Client Error: Not Found for url: https://www.sec.gov/Archives/edgar/data/0000277948/000102140801001422/0001.txt.\n",
      "Failed 2574,10-K,2000-12-31 00:00:00,2000-01-01 00:00:00 local variable 'filing_text' referenced before assignment\n"
     ]
    },
    {
     "name": "stderr",
     "output_type": "stream",
     "text": [
      "  7%|▋         | 2233/31192 [1:07:43<19:51:27,  2.47s/it]"
     ]
    },
    {
     "name": "stdout",
     "output_type": "stream",
     "text": [
      "Skipping filing detail download for 'https://www.sec.gov/Archives/edgar/data/0000277948/000102140801001422/0001.txt' due to network error: 404 Client Error: Not Found for url: https://www.sec.gov/Archives/edgar/data/0000277948/000102140801001422/0001.txt.\n",
      "Failed 2574,10-K,2000-12-31 00:00:00,2000-01-01 00:00:00 local variable 'filing_text' referenced before assignment\n"
     ]
    },
    {
     "name": "stderr",
     "output_type": "stream",
     "text": [
      "  7%|▋         | 2235/31192 [1:07:44<15:41:41,  1.95s/it]"
     ]
    },
    {
     "name": "stdout",
     "output_type": "stream",
     "text": [
      "Skipping filing detail download for 'https://www.sec.gov/Archives/edgar/data/0000277948/000102140801001422/0001.txt' due to network error: 404 Client Error: Not Found for url: https://www.sec.gov/Archives/edgar/data/0000277948/000102140801001422/0001.txt.\n",
      "Failed 2574,10-K,2001-12-31 00:00:00,2000-01-01 00:00:00 local variable 'filing_text' referenced before assignment\n"
     ]
    },
    {
     "name": "stderr",
     "output_type": "stream",
     "text": [
      "  7%|▋         | 2237/31192 [1:07:46<13:34:05,  1.69s/it]"
     ]
    },
    {
     "name": "stdout",
     "output_type": "stream",
     "text": [
      "Skipping filing detail download for 'https://www.sec.gov/Archives/edgar/data/0000277948/000102140801001422/0001.txt' due to network error: 404 Client Error: Not Found for url: https://www.sec.gov/Archives/edgar/data/0000277948/000102140801001422/0001.txt.\n",
      "Failed 2574,10-K,2002-12-31 00:00:00,2001-01-01 00:00:00 local variable 'filing_text' referenced before assignment\n"
     ]
    },
    {
     "name": "stderr",
     "output_type": "stream",
     "text": [
      "  7%|▋         | 2309/31192 [1:10:00<3:06:37,  2.58it/s] "
     ]
    },
    {
     "name": "stdout",
     "output_type": "stream",
     "text": [
      "Skipping filing detail download for 'https://www.sec.gov/Archives/edgar/data/0001011659/000109230601000069/0001.txt' due to network error: 404 Client Error: Not Found for url: https://www.sec.gov/Archives/edgar/data/0001011659/000109230601000069/0001.txt.\n",
      "Failed 2620,10-K,2000-12-31 00:00:00,2000-01-01 00:00:00 local variable 'filing_text' referenced before assignment\n"
     ]
    },
    {
     "name": "stderr",
     "output_type": "stream",
     "text": [
      "  7%|▋         | 2311/31192 [1:10:01<4:05:21,  1.96it/s]"
     ]
    },
    {
     "name": "stdout",
     "output_type": "stream",
     "text": [
      "Skipping filing detail download for 'https://www.sec.gov/Archives/edgar/data/0001011659/000109230601000069/0001.txt' due to network error: 404 Client Error: Not Found for url: https://www.sec.gov/Archives/edgar/data/0001011659/000109230601000069/0001.txt.\n",
      "Failed 2620,10-K,2000-12-31 00:00:00,2000-01-01 00:00:00 local variable 'filing_text' referenced before assignment\n"
     ]
    },
    {
     "name": "stderr",
     "output_type": "stream",
     "text": [
      "  7%|▋         | 2313/31192 [1:10:03<4:27:27,  1.80it/s]"
     ]
    },
    {
     "name": "stdout",
     "output_type": "stream",
     "text": [
      "Skipping filing detail download for 'https://www.sec.gov/Archives/edgar/data/0001011659/000109230601000069/0001.txt' due to network error: 404 Client Error: Not Found for url: https://www.sec.gov/Archives/edgar/data/0001011659/000109230601000069/0001.txt.\n",
      "Failed 2620,10-K,2001-12-31 00:00:00,2000-01-01 00:00:00 local variable 'filing_text' referenced before assignment\n"
     ]
    },
    {
     "name": "stderr",
     "output_type": "stream",
     "text": [
      "  7%|▋         | 2315/31192 [1:10:04<5:06:02,  1.57it/s]"
     ]
    },
    {
     "name": "stdout",
     "output_type": "stream",
     "text": [
      "Skipping filing detail download for 'https://www.sec.gov/Archives/edgar/data/0001011659/000109230601000069/0001.txt' due to network error: 404 Client Error: Not Found for url: https://www.sec.gov/Archives/edgar/data/0001011659/000109230601000069/0001.txt.\n",
      "Failed 2620,10-K,2002-12-31 00:00:00,2001-01-01 00:00:00 local variable 'filing_text' referenced before assignment\n"
     ]
    },
    {
     "name": "stderr",
     "output_type": "stream",
     "text": [
      "  8%|▊         | 2343/31192 [1:11:58<40:34:30,  5.06s/it]"
     ]
    },
    {
     "name": "stdout",
     "output_type": "stream",
     "text": [
      "Failed 2647,10-K,2000-12-31 00:00:00,2000-01-01 00:00:00 Sorry, gvkey \"2647\" is invalid. Or we do not have this gvkey in our CIK-gvkey mapping table dataframe.\n",
      "Failed 2647,10-K,2000-12-31 00:00:00,2000-01-01 00:00:00 Sorry, gvkey \"2647\" is invalid. Or we do not have this gvkey in our CIK-gvkey mapping table dataframe.\n"
     ]
    },
    {
     "name": "stderr",
     "output_type": "stream",
     "text": [
      "  8%|▊         | 2429/31192 [1:12:38<1:09:47,  6.87it/s] "
     ]
    },
    {
     "name": "stdout",
     "output_type": "stream",
     "text": [
      "Failed 2696,10-K,2000-12-31 00:00:00,2000-01-01 00:00:00 Sorry, gvkey \"2696\" is invalid. Or we do not have this gvkey in our CIK-gvkey mapping table dataframe.\n",
      "Failed 2696,10-K,2000-12-31 00:00:00,2000-01-01 00:00:00 Sorry, gvkey \"2696\" is invalid. Or we do not have this gvkey in our CIK-gvkey mapping table dataframe.\n",
      "Failed 2696,10-K,2001-12-31 00:00:00,2000-01-01 00:00:00 Sorry, gvkey \"2696\" is invalid. Or we do not have this gvkey in our CIK-gvkey mapping table dataframe.\n",
      "Failed 2696,10-K,2002-12-31 00:00:00,2001-01-01 00:00:00 Sorry, gvkey \"2696\" is invalid. Or we do not have this gvkey in our CIK-gvkey mapping table dataframe.\n",
      "Failed 2696,10-K,2003-12-31 00:00:00,2002-01-01 00:00:00 Sorry, gvkey \"2696\" is invalid. Or we do not have this gvkey in our CIK-gvkey mapping table dataframe.\n",
      "Failed 2696,10-K,2004-12-31 00:00:00,2003-01-01 00:00:00 Sorry, gvkey \"2696\" is invalid. Or we do not have this gvkey in our CIK-gvkey mapping table dataframe.\n",
      "Failed 2696,10-K,2005-12-31 00:00:00,2004-01-01 00:00:00 Sorry, gvkey \"2696\" is invalid. Or we do not have this gvkey in our CIK-gvkey mapping table dataframe.\n",
      "Failed 2696,10-K,2006-12-31 00:00:00,2005-01-01 00:00:00 Sorry, gvkey \"2696\" is invalid. Or we do not have this gvkey in our CIK-gvkey mapping table dataframe.\n",
      "Failed 2696,10-K,2007-12-31 00:00:00,2006-01-01 00:00:00 Sorry, gvkey \"2696\" is invalid. Or we do not have this gvkey in our CIK-gvkey mapping table dataframe.\n",
      "Failed 2696,10-K,2008-12-31 00:00:00,2007-01-01 00:00:00 Sorry, gvkey \"2696\" is invalid. Or we do not have this gvkey in our CIK-gvkey mapping table dataframe.\n",
      "Failed 2696,10-K,2009-12-31 00:00:00,2008-01-01 00:00:00 Sorry, gvkey \"2696\" is invalid. Or we do not have this gvkey in our CIK-gvkey mapping table dataframe.\n",
      "Failed 2696,10-K,2010-12-31 00:00:00,2009-01-01 00:00:00 Sorry, gvkey \"2696\" is invalid. Or we do not have this gvkey in our CIK-gvkey mapping table dataframe.\n",
      "Failed 2696,10-K,2011-12-31 00:00:00,2010-01-01 00:00:00 Sorry, gvkey \"2696\" is invalid. Or we do not have this gvkey in our CIK-gvkey mapping table dataframe.\n",
      "Failed 2696,10-K,2012-12-31 00:00:00,2011-01-01 00:00:00 Sorry, gvkey \"2696\" is invalid. Or we do not have this gvkey in our CIK-gvkey mapping table dataframe.\n",
      "Failed 2696,10-K,2013-12-31 00:00:00,2012-01-01 00:00:00 Sorry, gvkey \"2696\" is invalid. Or we do not have this gvkey in our CIK-gvkey mapping table dataframe.\n",
      "Failed 2696,10-K,2014-12-31 00:00:00,2013-01-01 00:00:00 Sorry, gvkey \"2696\" is invalid. Or we do not have this gvkey in our CIK-gvkey mapping table dataframe.\n",
      "Failed 2696,10-K,2015-12-31 00:00:00,2014-01-01 00:00:00 Sorry, gvkey \"2696\" is invalid. Or we do not have this gvkey in our CIK-gvkey mapping table dataframe.\n",
      "Failed 2696,10-K,2016-12-31 00:00:00,2015-01-01 00:00:00 Sorry, gvkey \"2696\" is invalid. Or we do not have this gvkey in our CIK-gvkey mapping table dataframe.\n",
      "Failed 2697,10-K,2000-12-31 00:00:00,2000-01-01 00:00:00 Sorry, gvkey \"2697\" is invalid. Or we do not have this gvkey in our CIK-gvkey mapping table dataframe.\n",
      "Failed 2697,10-K,2000-12-31 00:00:00,2000-01-01 00:00:00 Sorry, gvkey \"2697\" is invalid. Or we do not have this gvkey in our CIK-gvkey mapping table dataframe.\n",
      "Failed 2697,10-K,2001-12-31 00:00:00,2000-01-01 00:00:00 Sorry, gvkey \"2697\" is invalid. Or we do not have this gvkey in our CIK-gvkey mapping table dataframe.\n",
      "Failed 2697,10-K,2002-12-31 00:00:00,2001-01-01 00:00:00 Sorry, gvkey \"2697\" is invalid. Or we do not have this gvkey in our CIK-gvkey mapping table dataframe.\n",
      "Failed 2697,10-K,2003-12-31 00:00:00,2002-01-01 00:00:00 Sorry, gvkey \"2697\" is invalid. Or we do not have this gvkey in our CIK-gvkey mapping table dataframe.\n",
      "Failed 2697,10-K,2004-12-31 00:00:00,2003-01-01 00:00:00 Sorry, gvkey \"2697\" is invalid. Or we do not have this gvkey in our CIK-gvkey mapping table dataframe.\n",
      "Failed 2698,10-K,2000-12-31 00:00:00,2000-01-01 00:00:00 Sorry, gvkey \"2698\" is invalid. Or we do not have this gvkey in our CIK-gvkey mapping table dataframe.\n",
      "Failed 2698,10-K,2000-12-31 00:00:00,2000-01-01 00:00:00 Sorry, gvkey \"2698\" is invalid. Or we do not have this gvkey in our CIK-gvkey mapping table dataframe.\n",
      "Failed 2698,10-K,2001-12-31 00:00:00,2000-01-01 00:00:00 Sorry, gvkey \"2698\" is invalid. Or we do not have this gvkey in our CIK-gvkey mapping table dataframe.\n",
      "Failed 2698,10-K,2008-12-31 00:00:00,2007-01-01 00:00:00 Sorry, gvkey \"2698\" is invalid. Or we do not have this gvkey in our CIK-gvkey mapping table dataframe.\n",
      "Failed 2698,10-K,2007-12-31 00:00:00,2006-01-01 00:00:00 Sorry, gvkey \"2698\" is invalid. Or we do not have this gvkey in our CIK-gvkey mapping table dataframe.\n",
      "Failed 2698,10-K,2009-12-31 00:00:00,2008-01-01 00:00:00 Sorry, gvkey \"2698\" is invalid. Or we do not have this gvkey in our CIK-gvkey mapping table dataframe.\n",
      "Failed 2698,10-K,2010-12-31 00:00:00,2009-01-01 00:00:00 Sorry, gvkey \"2698\" is invalid. Or we do not have this gvkey in our CIK-gvkey mapping table dataframe.\n",
      "Failed 2698,10-K,2011-12-31 00:00:00,2010-01-01 00:00:00 Sorry, gvkey \"2698\" is invalid. Or we do not have this gvkey in our CIK-gvkey mapping table dataframe.\n",
      "Failed 2698,10-K,2014-12-31 00:00:00,2013-01-01 00:00:00 Sorry, gvkey \"2698\" is invalid. Or we do not have this gvkey in our CIK-gvkey mapping table dataframe.\n",
      "Failed 2698,10-K,2013-12-31 00:00:00,2012-01-01 00:00:00 Sorry, gvkey \"2698\" is invalid. Or we do not have this gvkey in our CIK-gvkey mapping table dataframe.\n",
      "Failed 2698,10-K,2015-12-31 00:00:00,2014-01-01 00:00:00 Sorry, gvkey \"2698\" is invalid. Or we do not have this gvkey in our CIK-gvkey mapping table dataframe.\n",
      "Failed 2698,10-K,2016-12-31 00:00:00,2015-01-01 00:00:00 Sorry, gvkey \"2698\" is invalid. Or we do not have this gvkey in our CIK-gvkey mapping table dataframe.\n"
     ]
    },
    {
     "name": "stderr",
     "output_type": "stream",
     "text": [
      "  8%|▊         | 2557/31192 [1:18:01<79:10:28,  9.95s/it]"
     ]
    },
    {
     "name": "stdout",
     "output_type": "stream",
     "text": [
      "Failed 2784,10-K,2000-12-31 00:00:00,2000-01-01 00:00:00 Sorry, gvkey \"2784\" is invalid. Or we do not have this gvkey in our CIK-gvkey mapping table dataframe.\n",
      "Failed 2784,10-K,2000-12-31 00:00:00,2000-01-01 00:00:00 Sorry, gvkey \"2784\" is invalid. Or we do not have this gvkey in our CIK-gvkey mapping table dataframe.\n",
      "Skipping filing detail download for 'https://www.sec.gov/Archives/edgar/data/0000017843/000001784300000021/0001.htm' due to network error: 404 Client Error: Not Found for url: https://www.sec.gov/Archives/edgar/data/0000017843/000001784300000021/0001.htm.\n",
      "Failed 2787,10-K,2000-12-31 00:00:00,2000-01-01 00:00:00 local variable 'filing_text' referenced before assignment\n"
     ]
    },
    {
     "name": "stderr",
     "output_type": "stream",
     "text": [
      "  8%|▊         | 2561/31192 [1:18:04<44:36:04,  5.61s/it]"
     ]
    },
    {
     "name": "stdout",
     "output_type": "stream",
     "text": [
      "Skipping filing detail download for 'https://www.sec.gov/Archives/edgar/data/0000017843/000001784300000021/0001.htm' due to network error: 404 Client Error: Not Found for url: https://www.sec.gov/Archives/edgar/data/0000017843/000001784300000021/0001.htm.\n",
      "Failed 2787,10-K,2000-12-31 00:00:00,2000-01-01 00:00:00 local variable 'filing_text' referenced before assignment\n"
     ]
    },
    {
     "name": "stderr",
     "output_type": "stream",
     "text": [
      "  8%|▊         | 2563/31192 [1:18:04<34:20:31,  4.32s/it]"
     ]
    },
    {
     "name": "stdout",
     "output_type": "stream",
     "text": [
      "Skipping filing detail download for 'https://www.sec.gov/Archives/edgar/data/0000017843/000001784300000021/0001.htm' due to network error: 404 Client Error: Not Found for url: https://www.sec.gov/Archives/edgar/data/0000017843/000001784300000021/0001.htm.\n",
      "Failed 2787,10-K,2001-12-31 00:00:00,2000-01-01 00:00:00 local variable 'filing_text' referenced before assignment\n"
     ]
    },
    {
     "name": "stderr",
     "output_type": "stream",
     "text": [
      "  9%|▊         | 2687/31192 [1:21:32<36:09:55,  4.57s/it]"
     ]
    },
    {
     "name": "stdout",
     "output_type": "stream",
     "text": [
      "Skipping filing detail download for 'https://www.sec.gov/Archives/edgar/data/0001089819/000089924301000762/0001.txt' due to network error: 404 Client Error: Not Found for url: https://www.sec.gov/Archives/edgar/data/0001089819/000089924301000762/0001.txt.\n",
      "Failed 2859,10-K,2000-12-31 00:00:00,2000-01-01 00:00:00 local variable 'filing_text' referenced before assignment\n"
     ]
    },
    {
     "name": "stderr",
     "output_type": "stream",
     "text": [
      "  9%|▊         | 2691/31192 [1:21:34<21:40:07,  2.74s/it]"
     ]
    },
    {
     "name": "stdout",
     "output_type": "stream",
     "text": [
      "Skipping filing detail download for 'https://www.sec.gov/Archives/edgar/data/0001089819/000089924301000762/0001.txt' due to network error: 404 Client Error: Not Found for url: https://www.sec.gov/Archives/edgar/data/0001089819/000089924301000762/0001.txt.\n",
      "Failed 2859,10-K,2000-12-31 00:00:00,2000-01-01 00:00:00 local variable 'filing_text' referenced before assignment\n"
     ]
    },
    {
     "name": "stderr",
     "output_type": "stream",
     "text": [
      "  9%|▊         | 2693/31192 [1:21:36<18:31:50,  2.34s/it]"
     ]
    },
    {
     "name": "stdout",
     "output_type": "stream",
     "text": [
      "Skipping filing detail download for 'https://www.sec.gov/Archives/edgar/data/0001089819/000089924301000762/0001.txt' due to network error: 404 Client Error: Not Found for url: https://www.sec.gov/Archives/edgar/data/0001089819/000089924301000762/0001.txt.\n",
      "Failed 2859,10-K,2001-12-31 00:00:00,2000-01-01 00:00:00 local variable 'filing_text' referenced before assignment\n"
     ]
    },
    {
     "name": "stderr",
     "output_type": "stream",
     "text": [
      "  9%|▊         | 2695/31192 [1:21:39<16:34:58,  2.09s/it]"
     ]
    },
    {
     "name": "stdout",
     "output_type": "stream",
     "text": [
      "Skipping filing detail download for 'https://www.sec.gov/Archives/edgar/data/0001089819/000089924301000762/0001.txt' due to network error: 404 Client Error: Not Found for url: https://www.sec.gov/Archives/edgar/data/0001089819/000089924301000762/0001.txt.\n",
      "Failed 2859,10-K,2002-12-31 00:00:00,2001-01-01 00:00:00 local variable 'filing_text' referenced before assignment\n"
     ]
    },
    {
     "name": "stderr",
     "output_type": "stream",
     "text": [
      "  9%|▉         | 2755/31192 [1:24:00<2:02:24,  3.87it/s] "
     ]
    },
    {
     "name": "stdout",
     "output_type": "stream",
     "text": [
      "Failed 2866,10-K,2000-12-31 00:00:00,2000-01-01 00:00:00 Sorry, gvkey \"2866\" is invalid. Or we do not have this gvkey in our CIK-gvkey mapping table dataframe.\n",
      "Failed 2866,10-K,2000-12-31 00:00:00,2000-01-01 00:00:00 Sorry, gvkey \"2866\" is invalid. Or we do not have this gvkey in our CIK-gvkey mapping table dataframe.\n",
      "Skipping filing detail download for 'https://www.sec.gov/Archives/edgar/data/0000018926/000001892601000002/0001.txt' due to network error: 404 Client Error: Not Found for url: https://www.sec.gov/Archives/edgar/data/0000018926/000001892601000002/0001.txt.\n",
      "Failed 2884,10-K,2000-12-31 00:00:00,2000-01-01 00:00:00 local variable 'filing_text' referenced before assignment\n"
     ]
    },
    {
     "name": "stderr",
     "output_type": "stream",
     "text": [
      "  9%|▉         | 2759/31192 [1:24:02<2:57:32,  2.67it/s]"
     ]
    },
    {
     "name": "stdout",
     "output_type": "stream",
     "text": [
      "Skipping filing detail download for 'https://www.sec.gov/Archives/edgar/data/0000018926/000001892601000002/0001.txt' due to network error: 404 Client Error: Not Found for url: https://www.sec.gov/Archives/edgar/data/0000018926/000001892601000002/0001.txt.\n",
      "Failed 2884,10-K,2000-12-31 00:00:00,2000-01-01 00:00:00 local variable 'filing_text' referenced before assignment\n",
      "Skipping filing detail download for 'https://www.sec.gov/Archives/edgar/data/0000018926/000001892601000002/0001.txt' due to network error: 404 Client Error: Not Found for url: https://www.sec.gov/Archives/edgar/data/0000018926/000001892601000002/0001.txt.\n",
      "Failed 2884,10-K,2002-12-31 00:00:00,2001-01-01 00:00:00 local variable 'filing_text' referenced before assignment\n"
     ]
    },
    {
     "name": "stderr",
     "output_type": "stream",
     "text": [
      "  9%|▉         | 2761/31192 [1:24:06<5:25:27,  1.46it/s]"
     ]
    },
    {
     "name": "stdout",
     "output_type": "stream",
     "text": [
      "Skipping filing detail download for 'https://www.sec.gov/Archives/edgar/data/0000018926/000001892601000002/0001.txt' due to network error: 404 Client Error: Not Found for url: https://www.sec.gov/Archives/edgar/data/0000018926/000001892601000002/0001.txt.\n",
      "Failed 2884,10-K,2001-12-31 00:00:00,2000-01-01 00:00:00 local variable 'filing_text' referenced before assignment\n"
     ]
    },
    {
     "name": "stderr",
     "output_type": "stream",
     "text": [
      "  9%|▉         | 2771/31192 [1:24:24<14:24:17,  1.82s/it]"
     ]
    },
    {
     "name": "stdout",
     "output_type": "stream",
     "text": [
      "Failed 2917,10-K,2000-12-31 00:00:00,2000-01-01 00:00:00 Sorry, gvkey \"2917\" is invalid. Or we do not have this gvkey in our CIK-gvkey mapping table dataframe.\n",
      "Failed 2917,10-K,2000-12-31 00:00:00,2000-01-01 00:00:00 Sorry, gvkey \"2917\" is invalid. Or we do not have this gvkey in our CIK-gvkey mapping table dataframe.\n"
     ]
    },
    {
     "name": "stderr",
     "output_type": "stream",
     "text": [
      "  9%|▉         | 2853/31192 [1:28:25<2:03:55,  3.81it/s] "
     ]
    },
    {
     "name": "stdout",
     "output_type": "stream",
     "text": [
      "Skipping filing detail download for 'https://www.sec.gov/Archives/edgar/data/0000093410/000009341001000015/0001.txt' due to network error: 404 Client Error: Not Found for url: https://www.sec.gov/Archives/edgar/data/0000093410/000009341001000015/0001.txt.\n",
      "Failed 2991,10-K,2000-12-31 00:00:00,2000-01-01 00:00:00 local variable 'filing_text' referenced before assignment\n"
     ]
    },
    {
     "name": "stderr",
     "output_type": "stream",
     "text": [
      "  9%|▉         | 2855/31192 [1:28:27<3:40:13,  2.14it/s]"
     ]
    },
    {
     "name": "stdout",
     "output_type": "stream",
     "text": [
      "Skipping filing detail download for 'https://www.sec.gov/Archives/edgar/data/0000093410/000009341001000015/0001.txt' due to network error: 404 Client Error: Not Found for url: https://www.sec.gov/Archives/edgar/data/0000093410/000009341001000015/0001.txt.\n",
      "Failed 2991,10-K,2000-12-31 00:00:00,2000-01-01 00:00:00 local variable 'filing_text' referenced before assignment\n"
     ]
    },
    {
     "name": "stderr",
     "output_type": "stream",
     "text": [
      "  9%|▉         | 2857/31192 [1:28:28<3:43:25,  2.11it/s]"
     ]
    },
    {
     "name": "stdout",
     "output_type": "stream",
     "text": [
      "Skipping filing detail download for 'https://www.sec.gov/Archives/edgar/data/0000093410/000009341001000015/0001.txt' due to network error: 404 Client Error: Not Found for url: https://www.sec.gov/Archives/edgar/data/0000093410/000009341001000015/0001.txt.\n",
      "Failed 2991,10-K,2001-12-31 00:00:00,2000-01-01 00:00:00 local variable 'filing_text' referenced before assignment\n"
     ]
    },
    {
     "name": "stderr",
     "output_type": "stream",
     "text": [
      "  9%|▉         | 2859/31192 [1:28:31<6:25:29,  1.22it/s]"
     ]
    },
    {
     "name": "stdout",
     "output_type": "stream",
     "text": [
      "Skipping filing detail download for 'https://www.sec.gov/Archives/edgar/data/0000093410/000009341001000015/0001.txt' due to network error: 404 Client Error: Not Found for url: https://www.sec.gov/Archives/edgar/data/0000093410/000009341001000015/0001.txt.\n",
      "Failed 2991,10-K,2002-12-31 00:00:00,2001-01-01 00:00:00 local variable 'filing_text' referenced before assignment\n"
     ]
    },
    {
     "name": "stderr",
     "output_type": "stream",
     "text": [
      "  9%|▉         | 2883/31192 [1:30:14<28:06:46,  3.58s/it]"
     ]
    },
    {
     "name": "stdout",
     "output_type": "stream",
     "text": [
      "Skipping filing detail download for 'https://www.sec.gov/Archives/edgar/data/0000703351/000070335100000013/0001.txt' due to network error: 404 Client Error: Not Found for url: https://www.sec.gov/Archives/edgar/data/0000703351/000070335100000013/0001.txt.\n",
      "Failed 3007,10-K,2001-12-31 00:00:00,2000-01-01 00:00:00 local variable 'filing_text' referenced before assignment\n"
     ]
    },
    {
     "name": "stderr",
     "output_type": "stream",
     "text": [
      "  9%|▉         | 2903/31192 [1:30:43<20:01:11,  2.55s/it]"
     ]
    },
    {
     "name": "stdout",
     "output_type": "stream",
     "text": [
      "Failed 3023,10-K,2000-12-31 00:00:00,2000-01-01 00:00:00 Sorry, gvkey \"3023\" is invalid. Or we do not have this gvkey in our CIK-gvkey mapping table dataframe.\n",
      "Failed 3023,10-K,2000-12-31 00:00:00,2000-01-01 00:00:00 Sorry, gvkey \"3023\" is invalid. Or we do not have this gvkey in our CIK-gvkey mapping table dataframe.\n"
     ]
    },
    {
     "name": "stderr",
     "output_type": "stream",
     "text": [
      " 10%|▉         | 3073/31192 [1:40:19<35:57:07,  4.60s/it]"
     ]
    },
    {
     "name": "stdout",
     "output_type": "stream",
     "text": [
      "Skipping filing detail download for 'https://www.sec.gov/Archives/edgar/data/0000719547/000101540200002557/0001.txt' due to network error: 404 Client Error: Not Found for url: https://www.sec.gov/Archives/edgar/data/0000719547/000101540200002557/0001.txt.\n",
      "Failed 3103,10-K,2000-12-31 00:00:00,2000-01-01 00:00:00 local variable 'filing_text' referenced before assignment\n"
     ]
    },
    {
     "name": "stderr",
     "output_type": "stream",
     "text": [
      " 10%|▉         | 3075/31192 [1:40:21<27:24:58,  3.51s/it]"
     ]
    },
    {
     "name": "stdout",
     "output_type": "stream",
     "text": [
      "Skipping filing detail download for 'https://www.sec.gov/Archives/edgar/data/0000719547/000101540200002557/0001.txt' due to network error: 404 Client Error: Not Found for url: https://www.sec.gov/Archives/edgar/data/0000719547/000101540200002557/0001.txt.\n",
      "Failed 3103,10-K,2000-12-31 00:00:00,2000-01-01 00:00:00 local variable 'filing_text' referenced before assignment\n"
     ]
    },
    {
     "name": "stderr",
     "output_type": "stream",
     "text": [
      " 10%|▉         | 3077/31192 [1:40:22<20:31:22,  2.63s/it]"
     ]
    },
    {
     "name": "stdout",
     "output_type": "stream",
     "text": [
      "Skipping filing detail download for 'https://www.sec.gov/Archives/edgar/data/0000719547/000101540200002557/0001.txt' due to network error: 404 Client Error: Not Found for url: https://www.sec.gov/Archives/edgar/data/0000719547/000101540200002557/0001.txt.\n",
      "Failed 3103,10-K,2001-12-31 00:00:00,2000-01-01 00:00:00 local variable 'filing_text' referenced before assignment\n"
     ]
    },
    {
     "name": "stderr",
     "output_type": "stream",
     "text": [
      " 10%|▉         | 3081/31192 [1:40:25<13:01:08,  1.67s/it]"
     ]
    },
    {
     "name": "stdout",
     "output_type": "stream",
     "text": [
      "Skipping filing detail download for 'https://www.sec.gov/Archives/edgar/data/0000021076/000002107600000003/0001.txt' due to network error: 404 Client Error: Not Found for url: https://www.sec.gov/Archives/edgar/data/0000021076/000002107600000003/0001.txt.\n",
      "Failed 3121,10-K,2001-12-31 00:00:00,2000-01-01 00:00:00 local variable 'filing_text' referenced before assignment\n"
     ]
    },
    {
     "name": "stderr",
     "output_type": "stream",
     "text": [
      " 10%|▉         | 3083/31192 [1:40:27<11:50:16,  1.52s/it]"
     ]
    },
    {
     "name": "stdout",
     "output_type": "stream",
     "text": [
      "Skipping filing detail download for 'https://www.sec.gov/Archives/edgar/data/0000021076/000002107600000003/0001.txt' due to network error: 404 Client Error: Not Found for url: https://www.sec.gov/Archives/edgar/data/0000021076/000002107600000003/0001.txt.\n",
      "Failed 3121,10-K,2000-12-31 00:00:00,2000-01-01 00:00:00 local variable 'filing_text' referenced before assignment\n"
     ]
    },
    {
     "name": "stderr",
     "output_type": "stream",
     "text": [
      " 10%|▉         | 3109/31192 [1:40:56<6:01:35,  1.29it/s] "
     ]
    },
    {
     "name": "stdout",
     "output_type": "stream",
     "text": [
      "Skipping filing detail download for 'https://www.sec.gov/Archives/edgar/data/0000317540/000095016801000629/0001.txt' due to network error: 404 Client Error: Not Found for url: https://www.sec.gov/Archives/edgar/data/0000317540/000095016801000629/0001.txt.\n",
      "Failed 3138,10-K,2001-12-31 00:00:00,2000-01-01 00:00:00 local variable 'filing_text' referenced before assignment\n"
     ]
    },
    {
     "name": "stderr",
     "output_type": "stream",
     "text": [
      " 10%|▉         | 3113/31192 [1:40:59<5:24:01,  1.44it/s]"
     ]
    },
    {
     "name": "stdout",
     "output_type": "stream",
     "text": [
      "Skipping filing detail download for 'https://www.sec.gov/Archives/edgar/data/0000317540/000095016801000629/0001.txt' due to network error: 404 Client Error: Not Found for url: https://www.sec.gov/Archives/edgar/data/0000317540/000095016801000629/0001.txt.\n",
      "Failed 3138,10-K,2000-12-31 00:00:00,2000-01-01 00:00:00 local variable 'filing_text' referenced before assignment\n"
     ]
    },
    {
     "name": "stderr",
     "output_type": "stream",
     "text": [
      " 10%|▉         | 3115/31192 [1:41:04<9:25:49,  1.21s/it]"
     ]
    },
    {
     "name": "stdout",
     "output_type": "stream",
     "text": [
      "Skipping filing detail download for 'https://www.sec.gov/Archives/edgar/data/0000317540/000095016801000629/0001.txt' due to network error: 404 Client Error: Not Found for url: https://www.sec.gov/Archives/edgar/data/0000317540/000095016801000629/0001.txt.\n",
      "Failed 3138,10-K,2002-12-31 00:00:00,2001-01-01 00:00:00 local variable 'filing_text' referenced before assignment\n"
     ]
    },
    {
     "name": "stderr",
     "output_type": "stream",
     "text": [
      " 10%|█         | 3133/31192 [1:41:52<19:29:43,  2.50s/it]"
     ]
    },
    {
     "name": "stdout",
     "output_type": "stream",
     "text": [
      "Skipping filing detail download for 'https://www.sec.gov/Archives/edgar/data/0000021344/000002134401000005/0001.txt' due to network error: 404 Client Error: Not Found for url: https://www.sec.gov/Archives/edgar/data/0000021344/000002134401000005/0001.txt.\n",
      "Failed 3144,10-K,2001-12-31 00:00:00,2000-01-01 00:00:00 local variable 'filing_text' referenced before assignment\n"
     ]
    },
    {
     "name": "stderr",
     "output_type": "stream",
     "text": [
      " 10%|█         | 3135/31192 [1:41:54<16:25:43,  2.11s/it]"
     ]
    },
    {
     "name": "stdout",
     "output_type": "stream",
     "text": [
      "Skipping filing detail download for 'https://www.sec.gov/Archives/edgar/data/0000021344/000002134401000005/0001.txt' due to network error: 404 Client Error: Not Found for url: https://www.sec.gov/Archives/edgar/data/0000021344/000002134401000005/0001.txt.\n",
      "Failed 3144,10-K,2000-12-31 00:00:00,2000-01-01 00:00:00 local variable 'filing_text' referenced before assignment\n"
     ]
    },
    {
     "name": "stderr",
     "output_type": "stream",
     "text": [
      " 10%|█         | 3137/31192 [1:41:58<16:10:42,  2.08s/it]"
     ]
    },
    {
     "name": "stdout",
     "output_type": "stream",
     "text": [
      "Skipping filing detail download for 'https://www.sec.gov/Archives/edgar/data/0000021344/000002134401000005/0001.txt' due to network error: 404 Client Error: Not Found for url: https://www.sec.gov/Archives/edgar/data/0000021344/000002134401000005/0001.txt.\n",
      "Failed 3144,10-K,2002-12-31 00:00:00,2001-01-01 00:00:00 local variable 'filing_text' referenced before assignment\n"
     ]
    },
    {
     "name": "stderr",
     "output_type": "stream",
     "text": [
      " 10%|█         | 3223/31192 [1:44:58<12:12:48,  1.57s/it]"
     ]
    },
    {
     "name": "stdout",
     "output_type": "stream",
     "text": [
      "Skipping filing detail download for 'https://www.sec.gov/Archives/edgar/data/0000315293/000094857201000011/0001.txt' due to network error: 404 Client Error: Not Found for url: https://www.sec.gov/Archives/edgar/data/0000315293/000094857201000011/0001.txt.\n",
      "Failed 3221,10-K,2000-12-31 00:00:00,2000-01-01 00:00:00 local variable 'filing_text' referenced before assignment\n"
     ]
    },
    {
     "name": "stderr",
     "output_type": "stream",
     "text": [
      " 10%|█         | 3225/31192 [1:45:00<10:40:47,  1.37s/it]"
     ]
    },
    {
     "name": "stdout",
     "output_type": "stream",
     "text": [
      "Skipping filing detail download for 'https://www.sec.gov/Archives/edgar/data/0000315293/000094857201000011/0001.txt' due to network error: 404 Client Error: Not Found for url: https://www.sec.gov/Archives/edgar/data/0000315293/000094857201000011/0001.txt.\n",
      "Failed 3221,10-K,2000-12-31 00:00:00,2000-01-01 00:00:00 local variable 'filing_text' referenced before assignment\n"
     ]
    },
    {
     "name": "stderr",
     "output_type": "stream",
     "text": [
      " 10%|█         | 3227/31192 [1:45:01<8:45:55,  1.13s/it] "
     ]
    },
    {
     "name": "stdout",
     "output_type": "stream",
     "text": [
      "Skipping filing detail download for 'https://www.sec.gov/Archives/edgar/data/0000315293/000094857201000011/0001.txt' due to network error: 404 Client Error: Not Found for url: https://www.sec.gov/Archives/edgar/data/0000315293/000094857201000011/0001.txt.\n",
      "Failed 3221,10-K,2001-12-31 00:00:00,2000-01-01 00:00:00 local variable 'filing_text' referenced before assignment\n"
     ]
    },
    {
     "name": "stderr",
     "output_type": "stream",
     "text": [
      " 10%|█         | 3229/31192 [1:45:03<9:24:36,  1.21s/it]"
     ]
    },
    {
     "name": "stdout",
     "output_type": "stream",
     "text": [
      "Skipping filing detail download for 'https://www.sec.gov/Archives/edgar/data/0000315293/000094857201000011/0001.txt' due to network error: 404 Client Error: Not Found for url: https://www.sec.gov/Archives/edgar/data/0000315293/000094857201000011/0001.txt.\n",
      "Failed 3221,10-K,2002-12-31 00:00:00,2001-01-01 00:00:00 local variable 'filing_text' referenced before assignment\n"
     ]
    },
    {
     "name": "stderr",
     "output_type": "stream",
     "text": [
      " 11%|█         | 3395/31192 [1:53:25<11:33:43,  1.50s/it]"
     ]
    },
    {
     "name": "stdout",
     "output_type": "stream",
     "text": [
      "Failed 3255,10-K,2000-12-31 00:00:00,2000-01-01 00:00:00 Sorry, gvkey \"3255\" is invalid. Or we do not have this gvkey in our CIK-gvkey mapping table dataframe.\n",
      "Failed 3255,10-K,2000-12-31 00:00:00,2000-01-01 00:00:00 Sorry, gvkey \"3255\" is invalid. Or we do not have this gvkey in our CIK-gvkey mapping table dataframe.\n",
      "Failed 3256,10-K,2000-12-31 00:00:00,2000-01-01 00:00:00 Sorry, gvkey \"3256\" is invalid. Or we do not have this gvkey in our CIK-gvkey mapping table dataframe.\n",
      "Failed 3256,10-K,2000-12-31 00:00:00,2000-01-01 00:00:00 Sorry, gvkey \"3256\" is invalid. Or we do not have this gvkey in our CIK-gvkey mapping table dataframe.\n",
      "Failed 3259,10-K,2000-12-31 00:00:00,2000-01-01 00:00:00 Sorry, gvkey \"3259\" is invalid. Or we do not have this gvkey in our CIK-gvkey mapping table dataframe.\n",
      "Failed 3259,10-K,2000-12-31 00:00:00,2000-01-01 00:00:00 Sorry, gvkey \"3259\" is invalid. Or we do not have this gvkey in our CIK-gvkey mapping table dataframe.\n",
      "Failed 3273,10-K,2000-12-31 00:00:00,2000-01-01 00:00:00 Sorry, gvkey \"3273\" is invalid. Or we do not have this gvkey in our CIK-gvkey mapping table dataframe.\n",
      "Failed 3273,10-K,2000-12-31 00:00:00,2000-01-01 00:00:00 Sorry, gvkey \"3273\" is invalid. Or we do not have this gvkey in our CIK-gvkey mapping table dataframe.\n"
     ]
    },
    {
     "name": "stderr",
     "output_type": "stream",
     "text": [
      " 11%|█         | 3421/31192 [1:53:55<15:55:46,  2.06s/it]"
     ]
    },
    {
     "name": "stdout",
     "output_type": "stream",
     "text": [
      "Skipping filing detail download for 'https://www.sec.gov/Archives/edgar/data/0000714154/000089056601000112/0001.txt' due to network error: 404 Client Error: Not Found for url: https://www.sec.gov/Archives/edgar/data/0000714154/000089056601000112/0001.txt.\n",
      "Failed 3282,10-K,2000-12-31 00:00:00,2000-01-01 00:00:00 local variable 'filing_text' referenced before assignment\n"
     ]
    },
    {
     "name": "stderr",
     "output_type": "stream",
     "text": [
      " 11%|█         | 3423/31192 [1:53:58<14:14:06,  1.85s/it]"
     ]
    },
    {
     "name": "stdout",
     "output_type": "stream",
     "text": [
      "Skipping filing detail download for 'https://www.sec.gov/Archives/edgar/data/0000714154/000089056601000112/0001.txt' due to network error: 404 Client Error: Not Found for url: https://www.sec.gov/Archives/edgar/data/0000714154/000089056601000112/0001.txt.\n",
      "Failed 3282,10-K,2000-12-31 00:00:00,2000-01-01 00:00:00 local variable 'filing_text' referenced before assignment\n"
     ]
    },
    {
     "name": "stderr",
     "output_type": "stream",
     "text": [
      " 11%|█         | 3425/31192 [1:54:00<12:11:06,  1.58s/it]"
     ]
    },
    {
     "name": "stdout",
     "output_type": "stream",
     "text": [
      "Skipping filing detail download for 'https://www.sec.gov/Archives/edgar/data/0000714154/000089056601000112/0001.txt' due to network error: 404 Client Error: Not Found for url: https://www.sec.gov/Archives/edgar/data/0000714154/000089056601000112/0001.txt.\n",
      "Failed 3282,10-K,2001-12-31 00:00:00,2000-01-01 00:00:00 local variable 'filing_text' referenced before assignment\n"
     ]
    },
    {
     "name": "stderr",
     "output_type": "stream",
     "text": [
      " 11%|█         | 3427/31192 [1:54:01<10:06:00,  1.31s/it]"
     ]
    },
    {
     "name": "stdout",
     "output_type": "stream",
     "text": [
      "Skipping filing detail download for 'https://www.sec.gov/Archives/edgar/data/0000714154/000089056601000112/0001.txt' due to network error: 404 Client Error: Not Found for url: https://www.sec.gov/Archives/edgar/data/0000714154/000089056601000112/0001.txt.\n",
      "Failed 3282,10-K,2002-12-31 00:00:00,2001-01-01 00:00:00 local variable 'filing_text' referenced before assignment\n"
     ]
    },
    {
     "name": "stderr",
     "output_type": "stream",
     "text": [
      " 11%|█         | 3465/31192 [1:54:49<4:46:08,  1.62it/s] "
     ]
    },
    {
     "name": "stdout",
     "output_type": "stream",
     "text": [
      "Failed 3336,10-K,2004-12-31 00:00:00,2003-01-01 00:00:00 500 Server Error: Internal Server Error for url: https://efts.sec.gov/LATEST/search-index\n"
     ]
    },
    {
     "name": "stderr",
     "output_type": "stream",
     "text": [
      " 11%|█         | 3505/31192 [1:55:31<18:21:16,  2.39s/it]"
     ]
    },
    {
     "name": "stdout",
     "output_type": "stream",
     "text": [
      "Skipping filing detail download for 'https://www.sec.gov/Archives/edgar/data/0000880416/000007274101000075/0001.txt' due to network error: 404 Client Error: Not Found for url: https://www.sec.gov/Archives/edgar/data/0000880416/000007274101000075/0001.txt.\n",
      "Failed 3392,10-K,2001-12-31 00:00:00,2000-01-01 00:00:00 local variable 'filing_text' referenced before assignment\n"
     ]
    },
    {
     "name": "stderr",
     "output_type": "stream",
     "text": [
      " 11%|█         | 3509/31192 [1:55:35<12:43:51,  1.66s/it]"
     ]
    },
    {
     "name": "stdout",
     "output_type": "stream",
     "text": [
      "Skipping filing detail download for 'https://www.sec.gov/Archives/edgar/data/0000880416/000007274101000075/0001.txt' due to network error: 404 Client Error: Not Found for url: https://www.sec.gov/Archives/edgar/data/0000880416/000007274101000075/0001.txt.\n",
      "Failed 3392,10-K,2000-12-31 00:00:00,2000-01-01 00:00:00 local variable 'filing_text' referenced before assignment\n"
     ]
    },
    {
     "name": "stderr",
     "output_type": "stream",
     "text": [
      " 11%|█▏        | 3511/31192 [1:55:36<11:14:21,  1.46s/it]"
     ]
    },
    {
     "name": "stdout",
     "output_type": "stream",
     "text": [
      "Skipping filing detail download for 'https://www.sec.gov/Archives/edgar/data/0000880416/000007274101000075/0001.txt' due to network error: 404 Client Error: Not Found for url: https://www.sec.gov/Archives/edgar/data/0000880416/000007274101000075/0001.txt.\n",
      "Failed 3392,10-K,2002-12-31 00:00:00,2001-01-01 00:00:00 local variable 'filing_text' referenced before assignment\n"
     ]
    },
    {
     "name": "stderr",
     "output_type": "stream",
     "text": [
      " 12%|█▏        | 3595/31192 [2:00:29<36:07:21,  4.71s/it]"
     ]
    },
    {
     "name": "stdout",
     "output_type": "stream",
     "text": [
      "Skipping filing detail download for 'https://www.sec.gov/Archives/edgar/data/0000023675/000002367501000003/0001.txt' due to network error: 404 Client Error: Not Found for url: https://www.sec.gov/Archives/edgar/data/0000023675/000002367501000003/0001.txt.\n",
      "Failed 3416,10-K,2000-12-31 00:00:00,2000-01-01 00:00:00 local variable 'filing_text' referenced before assignment\n"
     ]
    },
    {
     "name": "stderr",
     "output_type": "stream",
     "text": [
      " 12%|█▏        | 3597/31192 [2:00:31<27:32:50,  3.59s/it]"
     ]
    },
    {
     "name": "stdout",
     "output_type": "stream",
     "text": [
      "Skipping filing detail download for 'https://www.sec.gov/Archives/edgar/data/0000023675/000002367501000003/0001.txt' due to network error: 404 Client Error: Not Found for url: https://www.sec.gov/Archives/edgar/data/0000023675/000002367501000003/0001.txt.\n",
      "Failed 3416,10-K,2000-12-31 00:00:00,2000-01-01 00:00:00 local variable 'filing_text' referenced before assignment\n"
     ]
    },
    {
     "name": "stderr",
     "output_type": "stream",
     "text": [
      " 12%|█▏        | 3599/31192 [2:00:32<20:39:43,  2.70s/it]"
     ]
    },
    {
     "name": "stdout",
     "output_type": "stream",
     "text": [
      "Skipping filing detail download for 'https://www.sec.gov/Archives/edgar/data/0000023675/000002367501000003/0001.txt' due to network error: 404 Client Error: Not Found for url: https://www.sec.gov/Archives/edgar/data/0000023675/000002367501000003/0001.txt.\n",
      "Failed 3416,10-K,2001-12-31 00:00:00,2000-01-01 00:00:00 local variable 'filing_text' referenced before assignment\n"
     ]
    },
    {
     "name": "stderr",
     "output_type": "stream",
     "text": [
      " 12%|█▏        | 3799/31192 [2:08:33<13:58:07,  1.84s/it]"
     ]
    },
    {
     "name": "stdout",
     "output_type": "stream",
     "text": [
      "Skipping filing detail download for 'https://www.sec.gov/Archives/edgar/data/0001091862/000109186201000003/0001.txt' due to network error: 404 Client Error: Not Found for url: https://www.sec.gov/Archives/edgar/data/0001091862/000109186201000003/0001.txt.\n",
      "Failed 3607,10-K,2000-12-31 00:00:00,2000-01-01 00:00:00 local variable 'filing_text' referenced before assignment\n"
     ]
    },
    {
     "name": "stderr",
     "output_type": "stream",
     "text": [
      " 12%|█▏        | 3801/31192 [2:08:36<12:22:57,  1.63s/it]"
     ]
    },
    {
     "name": "stdout",
     "output_type": "stream",
     "text": [
      "Skipping filing detail download for 'https://www.sec.gov/Archives/edgar/data/0001091862/000109186201000003/0001.txt' due to network error: 404 Client Error: Not Found for url: https://www.sec.gov/Archives/edgar/data/0001091862/000109186201000003/0001.txt.\n",
      "Failed 3607,10-K,2000-12-31 00:00:00,2000-01-01 00:00:00 local variable 'filing_text' referenced before assignment\n"
     ]
    },
    {
     "name": "stderr",
     "output_type": "stream",
     "text": [
      " 12%|█▏        | 3803/31192 [2:08:37<10:01:44,  1.32s/it]"
     ]
    },
    {
     "name": "stdout",
     "output_type": "stream",
     "text": [
      "Skipping filing detail download for 'https://www.sec.gov/Archives/edgar/data/0001091862/000109186201000003/0001.txt' due to network error: 404 Client Error: Not Found for url: https://www.sec.gov/Archives/edgar/data/0001091862/000109186201000003/0001.txt.\n",
      "Failed 3607,10-K,2001-12-31 00:00:00,2000-01-01 00:00:00 local variable 'filing_text' referenced before assignment\n"
     ]
    },
    {
     "name": "stderr",
     "output_type": "stream",
     "text": [
      " 12%|█▏        | 3843/31192 [2:10:21<26:37:38,  3.51s/it]"
     ]
    },
    {
     "name": "stdout",
     "output_type": "stream",
     "text": [
      "Skipping filing detail download for 'https://www.sec.gov/Archives/edgar/data/0000026172/000002617201000002/0001.txt' due to network error: 404 Client Error: Not Found for url: https://www.sec.gov/Archives/edgar/data/0000026172/000002617201000002/0001.txt.\n",
      "Failed 3650,10-K,2000-12-31 00:00:00,2000-01-01 00:00:00 local variable 'filing_text' referenced before assignment\n"
     ]
    },
    {
     "name": "stderr",
     "output_type": "stream",
     "text": [
      " 12%|█▏        | 3845/31192 [2:10:23<21:19:42,  2.81s/it]"
     ]
    },
    {
     "name": "stdout",
     "output_type": "stream",
     "text": [
      "Skipping filing detail download for 'https://www.sec.gov/Archives/edgar/data/0000026172/000002617201000002/0001.txt' due to network error: 404 Client Error: Not Found for url: https://www.sec.gov/Archives/edgar/data/0000026172/000002617201000002/0001.txt.\n",
      "Failed 3650,10-K,2000-12-31 00:00:00,2000-01-01 00:00:00 local variable 'filing_text' referenced before assignment\n"
     ]
    },
    {
     "name": "stderr",
     "output_type": "stream",
     "text": [
      " 12%|█▏        | 3847/31192 [2:10:25<17:12:34,  2.27s/it]"
     ]
    },
    {
     "name": "stdout",
     "output_type": "stream",
     "text": [
      "Skipping filing detail download for 'https://www.sec.gov/Archives/edgar/data/0000026172/000002617201000002/0001.txt' due to network error: 404 Client Error: Not Found for url: https://www.sec.gov/Archives/edgar/data/0000026172/000002617201000002/0001.txt.\n",
      "Failed 3650,10-K,2001-12-31 00:00:00,2000-01-01 00:00:00 local variable 'filing_text' referenced before assignment\n"
     ]
    },
    {
     "name": "stderr",
     "output_type": "stream",
     "text": [
      " 12%|█▏        | 3849/31192 [2:10:28<15:36:58,  2.06s/it]"
     ]
    },
    {
     "name": "stdout",
     "output_type": "stream",
     "text": [
      "Skipping filing detail download for 'https://www.sec.gov/Archives/edgar/data/0000026172/000002617201000002/0001.txt' due to network error: 404 Client Error: Not Found for url: https://www.sec.gov/Archives/edgar/data/0000026172/000002617201000002/0001.txt.\n",
      "Failed 3650,10-K,2002-12-31 00:00:00,2001-01-01 00:00:00 local variable 'filing_text' referenced before assignment\n"
     ]
    },
    {
     "name": "stderr",
     "output_type": "stream",
     "text": [
      " 13%|█▎        | 3989/31192 [2:15:58<23:48:50,  3.15s/it]"
     ]
    },
    {
     "name": "stdout",
     "output_type": "stream",
     "text": [
      "Skipping filing detail download for 'https://www.sec.gov/Archives/edgar/data/0000027673/000095013101000283/0001.txt' due to network error: 404 Client Error: Not Found for url: https://www.sec.gov/Archives/edgar/data/0000027673/000095013101000283/0001.txt.\n",
      "Failed 3836,10-K,2000-12-31 00:00:00,2000-01-01 00:00:00 local variable 'filing_text' referenced before assignment\n"
     ]
    },
    {
     "name": "stderr",
     "output_type": "stream",
     "text": [
      " 13%|█▎        | 3991/31192 [2:16:00<19:16:03,  2.55s/it]"
     ]
    },
    {
     "name": "stdout",
     "output_type": "stream",
     "text": [
      "Skipping filing detail download for 'https://www.sec.gov/Archives/edgar/data/0000027673/000095013101000283/0001.txt' due to network error: 404 Client Error: Not Found for url: https://www.sec.gov/Archives/edgar/data/0000027673/000095013101000283/0001.txt.\n",
      "Failed 3836,10-K,2000-12-31 00:00:00,2000-01-01 00:00:00 local variable 'filing_text' referenced before assignment\n"
     ]
    },
    {
     "name": "stderr",
     "output_type": "stream",
     "text": [
      " 13%|█▎        | 3993/31192 [2:16:02<15:11:46,  2.01s/it]"
     ]
    },
    {
     "name": "stdout",
     "output_type": "stream",
     "text": [
      "Skipping filing detail download for 'https://www.sec.gov/Archives/edgar/data/0000027673/000095013101000283/0001.txt' due to network error: 404 Client Error: Not Found for url: https://www.sec.gov/Archives/edgar/data/0000027673/000095013101000283/0001.txt.\n",
      "Failed 3836,10-K,2001-12-31 00:00:00,2000-01-01 00:00:00 local variable 'filing_text' referenced before assignment\n"
     ]
    },
    {
     "name": "stderr",
     "output_type": "stream",
     "text": [
      " 13%|█▎        | 3995/31192 [2:16:05<13:59:18,  1.85s/it]"
     ]
    },
    {
     "name": "stdout",
     "output_type": "stream",
     "text": [
      "Skipping filing detail download for 'https://www.sec.gov/Archives/edgar/data/0000027673/000095013101000283/0001.txt' due to network error: 404 Client Error: Not Found for url: https://www.sec.gov/Archives/edgar/data/0000027673/000095013101000283/0001.txt.\n",
      "Failed 3836,10-K,2002-12-31 00:00:00,2001-01-01 00:00:00 local variable 'filing_text' referenced before assignment\n"
     ]
    },
    {
     "name": "stderr",
     "output_type": "stream",
     "text": [
      " 13%|█▎        | 4023/31192 [2:17:02<16:30:08,  2.19s/it]"
     ]
    },
    {
     "name": "stdout",
     "output_type": "stream",
     "text": [
      "Skipping filing detail download for 'https://www.sec.gov/Archives/edgar/data/0001029590/000103605001000404/0001.txt' due to network error: 404 Client Error: Not Found for url: https://www.sec.gov/Archives/edgar/data/0001029590/000103605001000404/0001.txt.\n",
      "Failed 3848,10-K,2000-12-31 00:00:00,2000-01-01 00:00:00 local variable 'filing_text' referenced before assignment\n"
     ]
    },
    {
     "name": "stderr",
     "output_type": "stream",
     "text": [
      " 13%|█▎        | 4025/31192 [2:17:03<13:46:18,  1.82s/it]"
     ]
    },
    {
     "name": "stdout",
     "output_type": "stream",
     "text": [
      "Skipping filing detail download for 'https://www.sec.gov/Archives/edgar/data/0001029590/000103605001000404/0001.txt' due to network error: 404 Client Error: Not Found for url: https://www.sec.gov/Archives/edgar/data/0001029590/000103605001000404/0001.txt.\n",
      "Failed 3848,10-K,2000-12-31 00:00:00,2000-01-01 00:00:00 local variable 'filing_text' referenced before assignment\n"
     ]
    },
    {
     "name": "stderr",
     "output_type": "stream",
     "text": [
      " 13%|█▎        | 4027/31192 [2:17:04<10:41:16,  1.42s/it]"
     ]
    },
    {
     "name": "stdout",
     "output_type": "stream",
     "text": [
      "Skipping filing detail download for 'https://www.sec.gov/Archives/edgar/data/0001029590/000103605001000404/0001.txt' due to network error: 404 Client Error: Not Found for url: https://www.sec.gov/Archives/edgar/data/0001029590/000103605001000404/0001.txt.\n",
      "Failed 3848,10-K,2001-12-31 00:00:00,2000-01-01 00:00:00 local variable 'filing_text' referenced before assignment\n"
     ]
    },
    {
     "name": "stderr",
     "output_type": "stream",
     "text": [
      " 13%|█▎        | 4029/31192 [2:17:09<12:10:48,  1.61s/it]"
     ]
    },
    {
     "name": "stdout",
     "output_type": "stream",
     "text": [
      "Skipping filing detail download for 'https://www.sec.gov/Archives/edgar/data/0001029590/000103605001000404/0001.txt' due to network error: 404 Client Error: Not Found for url: https://www.sec.gov/Archives/edgar/data/0001029590/000103605001000404/0001.txt.\n",
      "Failed 3848,10-K,2002-12-31 00:00:00,2001-01-01 00:00:00 local variable 'filing_text' referenced before assignment\n"
     ]
    },
    {
     "name": "stderr",
     "output_type": "stream",
     "text": [
      " 13%|█▎        | 4079/31192 [2:19:16<27:37:36,  3.67s/it]"
     ]
    },
    {
     "name": "stdout",
     "output_type": "stream",
     "text": [
      "Failed 3911,10-K,2000-12-31 00:00:00,2000-01-01 00:00:00 Sorry, gvkey \"3911\" is invalid. Or we do not have this gvkey in our CIK-gvkey mapping table dataframe.\n",
      "Failed 3911,10-K,2000-12-31 00:00:00,2000-01-01 00:00:00 Sorry, gvkey \"3911\" is invalid. Or we do not have this gvkey in our CIK-gvkey mapping table dataframe.\n"
     ]
    },
    {
     "name": "stderr",
     "output_type": "stream",
     "text": [
      " 13%|█▎        | 4125/31192 [2:20:04<10:38:33,  1.42s/it]"
     ]
    },
    {
     "name": "stdout",
     "output_type": "stream",
     "text": [
      "Failed 4017,10-K,2001-12-31 00:00:00,2000-01-01 00:00:00 Sorry, gvkey \"4017\" is invalid. Or we do not have this gvkey in our CIK-gvkey mapping table dataframe.\n",
      "Failed 4017,10-K,2000-12-31 00:00:00,2000-01-01 00:00:00 Sorry, gvkey \"4017\" is invalid. Or we do not have this gvkey in our CIK-gvkey mapping table dataframe.\n",
      "Failed 4017,10-K,2002-12-31 00:00:00,2001-01-01 00:00:00 Sorry, gvkey \"4017\" is invalid. Or we do not have this gvkey in our CIK-gvkey mapping table dataframe.\n",
      "Failed 4017,10-K,2003-12-31 00:00:00,2002-01-01 00:00:00 Sorry, gvkey \"4017\" is invalid. Or we do not have this gvkey in our CIK-gvkey mapping table dataframe.\n",
      "Failed 4017,10-K,2004-12-31 00:00:00,2003-01-01 00:00:00 Sorry, gvkey \"4017\" is invalid. Or we do not have this gvkey in our CIK-gvkey mapping table dataframe.\n",
      "Failed 4017,10-K,2005-12-31 00:00:00,2004-01-01 00:00:00 Sorry, gvkey \"4017\" is invalid. Or we do not have this gvkey in our CIK-gvkey mapping table dataframe.\n",
      "Failed 4017,10-K,2006-12-31 00:00:00,2005-01-01 00:00:00 Sorry, gvkey \"4017\" is invalid. Or we do not have this gvkey in our CIK-gvkey mapping table dataframe.\n",
      "Failed 4017,10-K,2007-12-31 00:00:00,2006-01-01 00:00:00 Sorry, gvkey \"4017\" is invalid. Or we do not have this gvkey in our CIK-gvkey mapping table dataframe.\n",
      "Failed 4017,10-K,2008-12-31 00:00:00,2007-01-01 00:00:00 Sorry, gvkey \"4017\" is invalid. Or we do not have this gvkey in our CIK-gvkey mapping table dataframe.\n",
      "Failed 4017,10-K,2009-12-31 00:00:00,2008-01-01 00:00:00 Sorry, gvkey \"4017\" is invalid. Or we do not have this gvkey in our CIK-gvkey mapping table dataframe.\n"
     ]
    },
    {
     "name": "stderr",
     "output_type": "stream",
     "text": [
      " 13%|█▎        | 4199/31192 [2:23:14<18:52:56,  2.52s/it]"
     ]
    },
    {
     "name": "stdout",
     "output_type": "stream",
     "text": [
      "Failed 4041,10-K,2000-12-31 00:00:00,2000-01-01 00:00:00 Sorry, gvkey \"4041\" is invalid. Or we do not have this gvkey in our CIK-gvkey mapping table dataframe.\n",
      "Failed 4041,10-K,2000-12-31 00:00:00,2000-01-01 00:00:00 Sorry, gvkey \"4041\" is invalid. Or we do not have this gvkey in our CIK-gvkey mapping table dataframe.\n"
     ]
    },
    {
     "name": "stderr",
     "output_type": "stream",
     "text": [
      " 14%|█▎        | 4273/31192 [2:24:48<3:17:09,  2.28it/s] "
     ]
    },
    {
     "name": "stdout",
     "output_type": "stream",
     "text": [
      "Skipping filing detail download for 'https://www.sec.gov/Archives/edgar/data/0000029924/000002992401000007/0001.txt' due to network error: 404 Client Error: Not Found for url: https://www.sec.gov/Archives/edgar/data/0000029924/000002992401000007/0001.txt.\n",
      "Failed 4062,10-K,2000-12-31 00:00:00,2000-01-01 00:00:00 local variable 'filing_text' referenced before assignment\n"
     ]
    },
    {
     "name": "stderr",
     "output_type": "stream",
     "text": [
      " 14%|█▎        | 4275/31192 [2:24:50<4:08:20,  1.81it/s]"
     ]
    },
    {
     "name": "stdout",
     "output_type": "stream",
     "text": [
      "Skipping filing detail download for 'https://www.sec.gov/Archives/edgar/data/0000029924/000002992401000007/0001.txt' due to network error: 404 Client Error: Not Found for url: https://www.sec.gov/Archives/edgar/data/0000029924/000002992401000007/0001.txt.\n",
      "Failed 4062,10-K,2000-12-31 00:00:00,2000-01-01 00:00:00 local variable 'filing_text' referenced before assignment\n"
     ]
    },
    {
     "name": "stderr",
     "output_type": "stream",
     "text": [
      " 14%|█▎        | 4277/31192 [2:24:51<4:17:20,  1.74it/s]"
     ]
    },
    {
     "name": "stdout",
     "output_type": "stream",
     "text": [
      "Skipping filing detail download for 'https://www.sec.gov/Archives/edgar/data/0000029924/000002992401000007/0001.txt' due to network error: 404 Client Error: Not Found for url: https://www.sec.gov/Archives/edgar/data/0000029924/000002992401000007/0001.txt.\n",
      "Failed 4062,10-K,2001-12-31 00:00:00,2000-01-01 00:00:00 local variable 'filing_text' referenced before assignment\n"
     ]
    },
    {
     "name": "stderr",
     "output_type": "stream",
     "text": [
      " 14%|█▎        | 4279/31192 [2:24:53<5:00:42,  1.49it/s]"
     ]
    },
    {
     "name": "stdout",
     "output_type": "stream",
     "text": [
      "Skipping filing detail download for 'https://www.sec.gov/Archives/edgar/data/0000029924/000002992401000007/0001.txt' due to network error: 404 Client Error: Not Found for url: https://www.sec.gov/Archives/edgar/data/0000029924/000002992401000007/0001.txt.\n",
      "Failed 4062,10-K,2002-12-31 00:00:00,2001-01-01 00:00:00 local variable 'filing_text' referenced before assignment\n"
     ]
    },
    {
     "name": "stderr",
     "output_type": "stream",
     "text": [
      " 14%|█▍        | 4293/31192 [2:25:38<28:18:53,  3.79s/it]"
     ]
    },
    {
     "name": "stdout",
     "output_type": "stream",
     "text": [
      "Skipping filing detail download for 'https://www.sec.gov/Archives/edgar/data/0000029989/000089109201000449/0001.txt' due to network error: 404 Client Error: Not Found for url: https://www.sec.gov/Archives/edgar/data/0000029989/000089109201000449/0001.txt.\n",
      "Failed 4066,10-K,2000-12-31 00:00:00,2000-01-01 00:00:00 local variable 'filing_text' referenced before assignment\n"
     ]
    },
    {
     "name": "stderr",
     "output_type": "stream",
     "text": [
      " 14%|█▍        | 4297/31192 [2:25:41<18:14:48,  2.44s/it]"
     ]
    },
    {
     "name": "stdout",
     "output_type": "stream",
     "text": [
      "Skipping filing detail download for 'https://www.sec.gov/Archives/edgar/data/0000029989/000089109201000449/0001.txt' due to network error: 404 Client Error: Not Found for url: https://www.sec.gov/Archives/edgar/data/0000029989/000089109201000449/0001.txt.\n",
      "Failed 4066,10-K,2000-12-31 00:00:00,2000-01-01 00:00:00 local variable 'filing_text' referenced before assignment\n",
      "Skipping filing detail download for 'https://www.sec.gov/Archives/edgar/data/0000029989/000089109201000449/0001.txt' due to network error: 404 Client Error: Not Found for url: https://www.sec.gov/Archives/edgar/data/0000029989/000089109201000449/0001.txt.\n",
      "Failed 4066,10-K,2002-12-31 00:00:00,2001-01-01 00:00:00 local variable 'filing_text' referenced before assignment\n"
     ]
    },
    {
     "name": "stderr",
     "output_type": "stream",
     "text": [
      " 14%|█▍        | 4299/31192 [2:25:44<16:39:01,  2.23s/it]"
     ]
    },
    {
     "name": "stdout",
     "output_type": "stream",
     "text": [
      "Skipping filing detail download for 'https://www.sec.gov/Archives/edgar/data/0000029989/000089109201000449/0001.txt' due to network error: 404 Client Error: Not Found for url: https://www.sec.gov/Archives/edgar/data/0000029989/000089109201000449/0001.txt.\n",
      "Failed 4066,10-K,2001-12-31 00:00:00,2000-01-01 00:00:00 local variable 'filing_text' referenced before assignment\n"
     ]
    },
    {
     "name": "stderr",
     "output_type": "stream",
     "text": [
      " 14%|█▍        | 4321/31192 [2:26:34<24:07:43,  3.23s/it]"
     ]
    },
    {
     "name": "stdout",
     "output_type": "stream",
     "text": [
      "Skipping filing detail download for 'https://www.sec.gov/Archives/edgar/data/0000030554/000103605001000424/0001.txt' due to network error: 404 Client Error: Not Found for url: https://www.sec.gov/Archives/edgar/data/0000030554/000103605001000424/0001.txt.\n",
      "Failed 4087,10-K,2000-12-31 00:00:00,2000-01-01 00:00:00 local variable 'filing_text' referenced before assignment\n"
     ]
    },
    {
     "name": "stderr",
     "output_type": "stream",
     "text": [
      " 14%|█▍        | 4323/31192 [2:26:36<19:28:36,  2.61s/it]"
     ]
    },
    {
     "name": "stdout",
     "output_type": "stream",
     "text": [
      "Skipping filing detail download for 'https://www.sec.gov/Archives/edgar/data/0000030554/000103605001000424/0001.txt' due to network error: 404 Client Error: Not Found for url: https://www.sec.gov/Archives/edgar/data/0000030554/000103605001000424/0001.txt.\n",
      "Failed 4087,10-K,2000-12-31 00:00:00,2000-01-01 00:00:00 local variable 'filing_text' referenced before assignment\n"
     ]
    },
    {
     "name": "stderr",
     "output_type": "stream",
     "text": [
      " 14%|█▍        | 4325/31192 [2:26:37<15:10:58,  2.03s/it]"
     ]
    },
    {
     "name": "stdout",
     "output_type": "stream",
     "text": [
      "Skipping filing detail download for 'https://www.sec.gov/Archives/edgar/data/0000030554/000103605001000424/0001.txt' due to network error: 404 Client Error: Not Found for url: https://www.sec.gov/Archives/edgar/data/0000030554/000103605001000424/0001.txt.\n",
      "Failed 4087,10-K,2001-12-31 00:00:00,2000-01-01 00:00:00 local variable 'filing_text' referenced before assignment\n"
     ]
    },
    {
     "name": "stderr",
     "output_type": "stream",
     "text": [
      " 14%|█▍        | 4327/31192 [2:26:39<13:08:15,  1.76s/it]"
     ]
    },
    {
     "name": "stdout",
     "output_type": "stream",
     "text": [
      "Skipping filing detail download for 'https://www.sec.gov/Archives/edgar/data/0000030554/000103605001000424/0001.txt' due to network error: 404 Client Error: Not Found for url: https://www.sec.gov/Archives/edgar/data/0000030554/000103605001000424/0001.txt.\n",
      "Failed 4087,10-K,2002-12-31 00:00:00,2001-01-01 00:00:00 local variable 'filing_text' referenced before assignment\n"
     ]
    },
    {
     "name": "stderr",
     "output_type": "stream",
     "text": [
      " 14%|█▍        | 4459/31192 [2:33:05<18:57:09,  2.55s/it]"
     ]
    },
    {
     "name": "stdout",
     "output_type": "stream",
     "text": [
      "Failed 4187,10-K,2000-12-31 00:00:00,2000-01-01 00:00:00 Sorry, gvkey \"4187\" is invalid. Or we do not have this gvkey in our CIK-gvkey mapping table dataframe.\n",
      "Failed 4187,10-K,2000-12-31 00:00:00,2000-01-01 00:00:00 Sorry, gvkey \"4187\" is invalid. Or we do not have this gvkey in our CIK-gvkey mapping table dataframe.\n",
      "Skipping filing detail download for 'https://www.sec.gov/Archives/edgar/data/0000031235/000003123501000011/0001.txt' due to network error: 404 Client Error: Not Found for url: https://www.sec.gov/Archives/edgar/data/0000031235/000003123501000011/0001.txt.\n",
      "Failed 4194,10-K,2000-12-31 00:00:00,2000-01-01 00:00:00 local variable 'filing_text' referenced before assignment\n"
     ]
    },
    {
     "name": "stderr",
     "output_type": "stream",
     "text": [
      " 14%|█▍        | 4463/31192 [2:33:07<12:17:10,  1.65s/it]"
     ]
    },
    {
     "name": "stdout",
     "output_type": "stream",
     "text": [
      "Skipping filing detail download for 'https://www.sec.gov/Archives/edgar/data/0000031235/000003123501000011/0001.txt' due to network error: 404 Client Error: Not Found for url: https://www.sec.gov/Archives/edgar/data/0000031235/000003123501000011/0001.txt.\n",
      "Failed 4194,10-K,2000-12-31 00:00:00,2000-01-01 00:00:00 local variable 'filing_text' referenced before assignment\n"
     ]
    },
    {
     "name": "stderr",
     "output_type": "stream",
     "text": [
      " 14%|█▍        | 4465/31192 [2:33:09<11:10:39,  1.51s/it]"
     ]
    },
    {
     "name": "stdout",
     "output_type": "stream",
     "text": [
      "Skipping filing detail download for 'https://www.sec.gov/Archives/edgar/data/0000031235/000003123501000011/0001.txt' due to network error: 404 Client Error: Not Found for url: https://www.sec.gov/Archives/edgar/data/0000031235/000003123501000011/0001.txt.\n",
      "Failed 4194,10-K,2001-12-31 00:00:00,2000-01-01 00:00:00 local variable 'filing_text' referenced before assignment\n"
     ]
    },
    {
     "name": "stderr",
     "output_type": "stream",
     "text": [
      " 14%|█▍        | 4467/31192 [2:33:11<10:08:29,  1.37s/it]"
     ]
    },
    {
     "name": "stdout",
     "output_type": "stream",
     "text": [
      "Skipping filing detail download for 'https://www.sec.gov/Archives/edgar/data/0000031235/000003123501000011/0001.txt' due to network error: 404 Client Error: Not Found for url: https://www.sec.gov/Archives/edgar/data/0000031235/000003123501000011/0001.txt.\n",
      "Failed 4194,10-K,2002-12-31 00:00:00,2001-01-01 00:00:00 local variable 'filing_text' referenced before assignment\n"
     ]
    },
    {
     "name": "stderr",
     "output_type": "stream",
     "text": [
      " 15%|█▍        | 4591/31192 [2:36:46<4:18:18,  1.72it/s] "
     ]
    },
    {
     "name": "stdout",
     "output_type": "stream",
     "text": [
      "Skipping filing detail download for 'https://www.sec.gov/Archives/edgar/data/0000032604/000003260400000030/0001.txt' due to network error: 404 Client Error: Not Found for url: https://www.sec.gov/Archives/edgar/data/0000032604/000003260400000030/0001.txt.\n",
      "Failed 4321,10-K,2000-12-31 00:00:00,2000-01-01 00:00:00 local variable 'filing_text' referenced before assignment\n"
     ]
    },
    {
     "name": "stderr",
     "output_type": "stream",
     "text": [
      " 15%|█▍        | 4595/31192 [2:36:48<4:13:34,  1.75it/s]"
     ]
    },
    {
     "name": "stdout",
     "output_type": "stream",
     "text": [
      "Skipping filing detail download for 'https://www.sec.gov/Archives/edgar/data/0000032604/000003260400000030/0001.txt' due to network error: 404 Client Error: Not Found for url: https://www.sec.gov/Archives/edgar/data/0000032604/000003260400000030/0001.txt.\n",
      "Failed 4321,10-K,2000-12-31 00:00:00,2000-01-01 00:00:00 local variable 'filing_text' referenced before assignment\n"
     ]
    },
    {
     "name": "stderr",
     "output_type": "stream",
     "text": [
      " 15%|█▍        | 4597/31192 [2:36:50<4:41:48,  1.57it/s]"
     ]
    },
    {
     "name": "stdout",
     "output_type": "stream",
     "text": [
      "Skipping filing detail download for 'https://www.sec.gov/Archives/edgar/data/0000032604/000003260400000030/0001.txt' due to network error: 404 Client Error: Not Found for url: https://www.sec.gov/Archives/edgar/data/0000032604/000003260400000030/0001.txt.\n",
      "Failed 4321,10-K,2001-12-31 00:00:00,2000-01-01 00:00:00 local variable 'filing_text' referenced before assignment\n"
     ]
    },
    {
     "name": "stderr",
     "output_type": "stream",
     "text": [
      " 15%|█▍        | 4627/31192 [2:37:15<6:57:30,  1.06it/s]"
     ]
    },
    {
     "name": "stdout",
     "output_type": "stream",
     "text": [
      "Skipping filing detail download for 'https://www.sec.gov/Archives/edgar/data/0000032689/000003268901000013/0001.txt' due to network error: 404 Client Error: Not Found for url: https://www.sec.gov/Archives/edgar/data/0000032689/000003268901000013/0001.txt.\n",
      "Failed 4331,10-K,2000-12-31 00:00:00,2000-01-01 00:00:00 local variable 'filing_text' referenced before assignment\n"
     ]
    },
    {
     "name": "stderr",
     "output_type": "stream",
     "text": [
      " 15%|█▍        | 4629/31192 [2:37:17<6:53:41,  1.07it/s]"
     ]
    },
    {
     "name": "stdout",
     "output_type": "stream",
     "text": [
      "Skipping filing detail download for 'https://www.sec.gov/Archives/edgar/data/0000032689/000003268901000013/0001.txt' due to network error: 404 Client Error: Not Found for url: https://www.sec.gov/Archives/edgar/data/0000032689/000003268901000013/0001.txt.\n",
      "Failed 4331,10-K,2000-12-31 00:00:00,2000-01-01 00:00:00 local variable 'filing_text' referenced before assignment\n"
     ]
    },
    {
     "name": "stderr",
     "output_type": "stream",
     "text": [
      " 15%|█▍        | 4631/31192 [2:37:19<7:03:19,  1.05it/s]"
     ]
    },
    {
     "name": "stdout",
     "output_type": "stream",
     "text": [
      "Skipping filing detail download for 'https://www.sec.gov/Archives/edgar/data/0000032689/000003268901000013/0001.txt' due to network error: 404 Client Error: Not Found for url: https://www.sec.gov/Archives/edgar/data/0000032689/000003268901000013/0001.txt.\n",
      "Failed 4331,10-K,2001-12-31 00:00:00,2000-01-01 00:00:00 local variable 'filing_text' referenced before assignment\n"
     ]
    },
    {
     "name": "stderr",
     "output_type": "stream",
     "text": [
      " 15%|█▍        | 4633/31192 [2:37:22<8:03:19,  1.09s/it]"
     ]
    },
    {
     "name": "stdout",
     "output_type": "stream",
     "text": [
      "Skipping filing detail download for 'https://www.sec.gov/Archives/edgar/data/0000032689/000003268901000013/0001.txt' due to network error: 404 Client Error: Not Found for url: https://www.sec.gov/Archives/edgar/data/0000032689/000003268901000013/0001.txt.\n",
      "Failed 4331,10-K,2002-12-31 00:00:00,2001-01-01 00:00:00 local variable 'filing_text' referenced before assignment\n"
     ]
    },
    {
     "name": "stderr",
     "output_type": "stream",
     "text": [
      " 15%|█▌        | 4693/31192 [2:39:16<5:53:39,  1.25it/s] "
     ]
    },
    {
     "name": "stdout",
     "output_type": "stream",
     "text": [
      "Skipping filing detail download for 'https://www.sec.gov/Archives/edgar/data/0000352947/000035294701000002/0001.txt' due to network error: 404 Client Error: Not Found for url: https://www.sec.gov/Archives/edgar/data/0000352947/000035294701000002/0001.txt.\n",
      "Failed 4371,10-K,2000-12-31 00:00:00,2000-01-01 00:00:00 local variable 'filing_text' referenced before assignment\n"
     ]
    },
    {
     "name": "stderr",
     "output_type": "stream",
     "text": [
      " 15%|█▌        | 4697/31192 [2:39:18<4:42:38,  1.56it/s]"
     ]
    },
    {
     "name": "stdout",
     "output_type": "stream",
     "text": [
      "Skipping filing detail download for 'https://www.sec.gov/Archives/edgar/data/0000352947/000035294701000002/0001.txt' due to network error: 404 Client Error: Not Found for url: https://www.sec.gov/Archives/edgar/data/0000352947/000035294701000002/0001.txt.\n",
      "Failed 4371,10-K,2000-12-31 00:00:00,2000-01-01 00:00:00 local variable 'filing_text' referenced before assignment\n"
     ]
    },
    {
     "name": "stderr",
     "output_type": "stream",
     "text": [
      " 15%|█▌        | 4699/31192 [2:39:19<4:48:03,  1.53it/s]"
     ]
    },
    {
     "name": "stdout",
     "output_type": "stream",
     "text": [
      "Skipping filing detail download for 'https://www.sec.gov/Archives/edgar/data/0000352947/000035294701000002/0001.txt' due to network error: 404 Client Error: Not Found for url: https://www.sec.gov/Archives/edgar/data/0000352947/000035294701000002/0001.txt.\n",
      "Failed 4371,10-K,2001-12-31 00:00:00,2000-01-01 00:00:00 local variable 'filing_text' referenced before assignment\n"
     ]
    },
    {
     "name": "stderr",
     "output_type": "stream",
     "text": [
      " 15%|█▌        | 4701/31192 [2:39:22<6:06:10,  1.21it/s]"
     ]
    },
    {
     "name": "stdout",
     "output_type": "stream",
     "text": [
      "Skipping filing detail download for 'https://www.sec.gov/Archives/edgar/data/0000352947/000035294701000002/0001.txt' due to network error: 404 Client Error: Not Found for url: https://www.sec.gov/Archives/edgar/data/0000352947/000035294701000002/0001.txt.\n",
      "Failed 4371,10-K,2002-12-31 00:00:00,2001-01-01 00:00:00 local variable 'filing_text' referenced before assignment\n"
     ]
    },
    {
     "name": "stderr",
     "output_type": "stream",
     "text": [
      " 16%|█▌        | 4845/31192 [2:44:31<15:44:23,  2.15s/it]"
     ]
    },
    {
     "name": "stdout",
     "output_type": "stream",
     "text": [
      "Skipping filing detail download for 'https://www.sec.gov/Archives/edgar/data/0000034088/000093066101000781/0001.txt' due to network error: 404 Client Error: Not Found for url: https://www.sec.gov/Archives/edgar/data/0000034088/000093066101000781/0001.txt.\n",
      "Failed 4503,10-K,2000-12-31 00:00:00,2000-01-01 00:00:00 local variable 'filing_text' referenced before assignment\n"
     ]
    },
    {
     "name": "stderr",
     "output_type": "stream",
     "text": [
      " 16%|█▌        | 4847/31192 [2:44:34<13:28:06,  1.84s/it]"
     ]
    },
    {
     "name": "stdout",
     "output_type": "stream",
     "text": [
      "Skipping filing detail download for 'https://www.sec.gov/Archives/edgar/data/0000034088/000093066101000781/0001.txt' due to network error: 404 Client Error: Not Found for url: https://www.sec.gov/Archives/edgar/data/0000034088/000093066101000781/0001.txt.\n",
      "Failed 4503,10-K,2000-12-31 00:00:00,2000-01-01 00:00:00 local variable 'filing_text' referenced before assignment\n"
     ]
    },
    {
     "name": "stderr",
     "output_type": "stream",
     "text": [
      " 16%|█▌        | 4849/31192 [2:44:35<10:46:25,  1.47s/it]"
     ]
    },
    {
     "name": "stdout",
     "output_type": "stream",
     "text": [
      "Skipping filing detail download for 'https://www.sec.gov/Archives/edgar/data/0000034088/000093066101000781/0001.txt' due to network error: 404 Client Error: Not Found for url: https://www.sec.gov/Archives/edgar/data/0000034088/000093066101000781/0001.txt.\n",
      "Failed 4503,10-K,2001-12-31 00:00:00,2000-01-01 00:00:00 local variable 'filing_text' referenced before assignment\n"
     ]
    },
    {
     "name": "stderr",
     "output_type": "stream",
     "text": [
      " 16%|█▌        | 4851/31192 [2:44:39<11:48:21,  1.61s/it]"
     ]
    },
    {
     "name": "stdout",
     "output_type": "stream",
     "text": [
      "Skipping filing detail download for 'https://www.sec.gov/Archives/edgar/data/0000034088/000093066101000781/0001.txt' due to network error: 404 Client Error: Not Found for url: https://www.sec.gov/Archives/edgar/data/0000034088/000093066101000781/0001.txt.\n",
      "Failed 4503,10-K,2002-12-31 00:00:00,2001-01-01 00:00:00 local variable 'filing_text' referenced before assignment\n"
     ]
    },
    {
     "name": "stderr",
     "output_type": "stream",
     "text": [
      " 16%|█▋        | 5129/31192 [3:00:37<34:17:20,  4.74s/it]"
     ]
    },
    {
     "name": "stdout",
     "output_type": "stream",
     "text": [
      "Skipping filing detail download for 'https://www.sec.gov/Archives/edgar/data/0000036146/000003614601000009/0001.txt' due to network error: 404 Client Error: Not Found for url: https://www.sec.gov/Archives/edgar/data/0000036146/000003614601000009/0001.txt.\n",
      "Failed 4685,10-K,2002-12-31 00:00:00,2001-01-01 00:00:00 local variable 'filing_text' referenced before assignment\n"
     ]
    },
    {
     "name": "stderr",
     "output_type": "stream",
     "text": [
      " 16%|█▋        | 5131/31192 [3:00:43<30:32:57,  4.22s/it]"
     ]
    },
    {
     "name": "stdout",
     "output_type": "stream",
     "text": [
      "Skipping filing detail download for 'https://www.sec.gov/Archives/edgar/data/0000036146/000003614601000009/0001.txt' due to network error: 404 Client Error: Not Found for url: https://www.sec.gov/Archives/edgar/data/0000036146/000003614601000009/0001.txt.\n",
      "Failed 4685,10-K,2001-12-31 00:00:00,2000-01-01 00:00:00 local variable 'filing_text' referenced before assignment\n"
     ]
    },
    {
     "name": "stderr",
     "output_type": "stream",
     "text": [
      " 17%|█▋        | 5235/31192 [3:06:32<8:54:34,  1.24s/it] "
     ]
    },
    {
     "name": "stdout",
     "output_type": "stream",
     "text": [
      "Failed 4736,10-K,2000-12-31 00:00:00,2000-01-01 00:00:00 Sorry, gvkey \"4736\" is invalid. Or we do not have this gvkey in our CIK-gvkey mapping table dataframe.\n",
      "Failed 4736,10-K,2000-12-31 00:00:00,2000-01-01 00:00:00 Sorry, gvkey \"4736\" is invalid. Or we do not have this gvkey in our CIK-gvkey mapping table dataframe.\n"
     ]
    },
    {
     "name": "stderr",
     "output_type": "stream",
     "text": [
      " 17%|█▋        | 5381/31192 [3:13:51<14:22:07,  2.00s/it]"
     ]
    },
    {
     "name": "stdout",
     "output_type": "stream",
     "text": [
      "Skipping filing detail download for 'https://www.sec.gov/Archives/edgar/data/0001124198/000101706201000119/0001.txt' due to network error: 404 Client Error: Not Found for url: https://www.sec.gov/Archives/edgar/data/0001124198/000101706201000119/0001.txt.\n",
      "Failed 4818,10-K,2000-12-31 00:00:00,2000-01-01 00:00:00 local variable 'filing_text' referenced before assignment\n"
     ]
    },
    {
     "name": "stderr",
     "output_type": "stream",
     "text": [
      " 17%|█▋        | 5383/31192 [3:13:53<12:11:43,  1.70s/it]"
     ]
    },
    {
     "name": "stdout",
     "output_type": "stream",
     "text": [
      "Skipping filing detail download for 'https://www.sec.gov/Archives/edgar/data/0001124198/000101706201000119/0001.txt' due to network error: 404 Client Error: Not Found for url: https://www.sec.gov/Archives/edgar/data/0001124198/000101706201000119/0001.txt.\n",
      "Failed 4818,10-K,2000-12-31 00:00:00,2000-01-01 00:00:00 local variable 'filing_text' referenced before assignment\n"
     ]
    },
    {
     "name": "stderr",
     "output_type": "stream",
     "text": [
      " 17%|█▋        | 5385/31192 [3:13:56<11:18:09,  1.58s/it]"
     ]
    },
    {
     "name": "stdout",
     "output_type": "stream",
     "text": [
      "Skipping filing detail download for 'https://www.sec.gov/Archives/edgar/data/0001124198/000101706201000119/0001.txt' due to network error: 404 Client Error: Not Found for url: https://www.sec.gov/Archives/edgar/data/0001124198/000101706201000119/0001.txt.\n",
      "Failed 4818,10-K,2001-12-31 00:00:00,2000-01-01 00:00:00 local variable 'filing_text' referenced before assignment\n"
     ]
    },
    {
     "name": "stderr",
     "output_type": "stream",
     "text": [
      " 17%|█▋        | 5387/31192 [3:13:59<11:26:37,  1.60s/it]"
     ]
    },
    {
     "name": "stdout",
     "output_type": "stream",
     "text": [
      "Skipping filing detail download for 'https://www.sec.gov/Archives/edgar/data/0001124198/000101706201000119/0001.txt' due to network error: 404 Client Error: Not Found for url: https://www.sec.gov/Archives/edgar/data/0001124198/000101706201000119/0001.txt.\n",
      "Failed 4818,10-K,2002-12-31 00:00:00,2001-01-01 00:00:00 local variable 'filing_text' referenced before assignment\n"
     ]
    },
    {
     "name": "stderr",
     "output_type": "stream",
     "text": [
      " 17%|█▋        | 5415/31192 [3:15:01<16:54:31,  2.36s/it]"
     ]
    },
    {
     "name": "stdout",
     "output_type": "stream",
     "text": [
      "Skipping filing detail download for 'https://www.sec.gov/Archives/edgar/data/0000037996/000003799601000014/0001.txt' due to network error: 404 Client Error: Not Found for url: https://www.sec.gov/Archives/edgar/data/0000037996/000003799601000014/0001.txt.\n",
      "Failed 4839,10-K,2000-12-31 00:00:00,2000-01-01 00:00:00 local variable 'filing_text' referenced before assignment\n"
     ]
    },
    {
     "name": "stderr",
     "output_type": "stream",
     "text": [
      " 17%|█▋        | 5417/31192 [3:15:03<14:07:45,  1.97s/it]"
     ]
    },
    {
     "name": "stdout",
     "output_type": "stream",
     "text": [
      "Skipping filing detail download for 'https://www.sec.gov/Archives/edgar/data/0000037996/000003799601000014/0001.txt' due to network error: 404 Client Error: Not Found for url: https://www.sec.gov/Archives/edgar/data/0000037996/000003799601000014/0001.txt.\n",
      "Failed 4839,10-K,2000-12-31 00:00:00,2000-01-01 00:00:00 local variable 'filing_text' referenced before assignment\n"
     ]
    },
    {
     "name": "stderr",
     "output_type": "stream",
     "text": [
      " 17%|█▋        | 5419/31192 [3:15:04<11:21:53,  1.59s/it]"
     ]
    },
    {
     "name": "stdout",
     "output_type": "stream",
     "text": [
      "Skipping filing detail download for 'https://www.sec.gov/Archives/edgar/data/0000037996/000003799601000014/0001.txt' due to network error: 404 Client Error: Not Found for url: https://www.sec.gov/Archives/edgar/data/0000037996/000003799601000014/0001.txt.\n",
      "Failed 4839,10-K,2001-12-31 00:00:00,2000-01-01 00:00:00 local variable 'filing_text' referenced before assignment\n"
     ]
    },
    {
     "name": "stderr",
     "output_type": "stream",
     "text": [
      " 17%|█▋        | 5421/31192 [3:15:06<9:22:55,  1.31s/it] "
     ]
    },
    {
     "name": "stdout",
     "output_type": "stream",
     "text": [
      "Skipping filing detail download for 'https://www.sec.gov/Archives/edgar/data/0000037996/000003799602000015/v7.txt' due to network error: 403 Client Error: Forbidden for url: https://www.sec.gov/Archives/edgar/data/0000037996/000003799602000015/v7.txt.\n",
      "Failed 4839,10-K,2002-12-31 00:00:00,2001-01-01 00:00:00 local variable 'filing_text' referenced before assignment\n"
     ]
    },
    {
     "name": "stderr",
     "output_type": "stream",
     "text": [
      " 17%|█▋        | 5441/31192 [3:16:06<20:09:49,  2.82s/it]"
     ]
    },
    {
     "name": "stdout",
     "output_type": "stream",
     "text": [
      "Skipping filing detail download for 'https://www.sec.gov/Archives/edgar/data/0000038777/000003877700000380/0001.txt' due to network error: 404 Client Error: Not Found for url: https://www.sec.gov/Archives/edgar/data/0000038777/000003877700000380/0001.txt.\n",
      "Failed 4885,10-K,2000-12-31 00:00:00,2000-01-01 00:00:00 local variable 'filing_text' referenced before assignment\n"
     ]
    },
    {
     "name": "stderr",
     "output_type": "stream",
     "text": [
      " 17%|█▋        | 5443/31192 [3:16:08<16:52:39,  2.36s/it]"
     ]
    },
    {
     "name": "stdout",
     "output_type": "stream",
     "text": [
      "Skipping filing detail download for 'https://www.sec.gov/Archives/edgar/data/0000038777/000003877700000380/0001.txt' due to network error: 404 Client Error: Not Found for url: https://www.sec.gov/Archives/edgar/data/0000038777/000003877700000380/0001.txt.\n",
      "Failed 4885,10-K,2000-12-31 00:00:00,2000-01-01 00:00:00 local variable 'filing_text' referenced before assignment\n"
     ]
    },
    {
     "name": "stderr",
     "output_type": "stream",
     "text": [
      " 17%|█▋        | 5445/31192 [3:16:10<13:46:55,  1.93s/it]"
     ]
    },
    {
     "name": "stdout",
     "output_type": "stream",
     "text": [
      "Skipping filing detail download for 'https://www.sec.gov/Archives/edgar/data/0000038777/000003877700000380/0001.txt' due to network error: 404 Client Error: Not Found for url: https://www.sec.gov/Archives/edgar/data/0000038777/000003877700000380/0001.txt.\n",
      "Failed 4885,10-K,2001-12-31 00:00:00,2000-01-01 00:00:00 local variable 'filing_text' referenced before assignment\n"
     ]
    },
    {
     "name": "stderr",
     "output_type": "stream",
     "text": [
      " 18%|█▊        | 5571/31192 [3:19:29<18:40:32,  2.62s/it]"
     ]
    },
    {
     "name": "stdout",
     "output_type": "stream",
     "text": [
      "Failed 4961,10-K,2000-12-31 00:00:00,2000-01-01 00:00:00 Sorry, gvkey \"4961\" is invalid. Or we do not have this gvkey in our CIK-gvkey mapping table dataframe.\n",
      "Failed 4961,10-K,2000-12-31 00:00:00,2000-01-01 00:00:00 Sorry, gvkey \"4961\" is invalid. Or we do not have this gvkey in our CIK-gvkey mapping table dataframe.\n"
     ]
    },
    {
     "name": "stderr",
     "output_type": "stream",
     "text": [
      " 18%|█▊        | 5593/31192 [3:20:09<10:01:41,  1.41s/it]"
     ]
    },
    {
     "name": "stdout",
     "output_type": "stream",
     "text": [
      "Skipping filing detail download for 'https://www.sec.gov/Archives/edgar/data/0000039911/000092962401000565/0001.txt' due to network error: 404 Client Error: Not Found for url: https://www.sec.gov/Archives/edgar/data/0000039911/000092962401000565/0001.txt.\n",
      "Failed 4990,10-K,2001-12-31 00:00:00,2000-01-01 00:00:00 local variable 'filing_text' referenced before assignment\n"
     ]
    },
    {
     "name": "stderr",
     "output_type": "stream",
     "text": [
      " 18%|█▊        | 5595/31192 [3:20:11<8:44:19,  1.23s/it] "
     ]
    },
    {
     "name": "stdout",
     "output_type": "stream",
     "text": [
      "Skipping filing detail download for 'https://www.sec.gov/Archives/edgar/data/0000039911/000092962401000565/0001.txt' due to network error: 404 Client Error: Not Found for url: https://www.sec.gov/Archives/edgar/data/0000039911/000092962401000565/0001.txt.\n",
      "Failed 4990,10-K,2002-12-31 00:00:00,2001-01-01 00:00:00 local variable 'filing_text' referenced before assignment\n"
     ]
    },
    {
     "name": "stderr",
     "output_type": "stream",
     "text": [
      " 18%|█▊        | 5715/31192 [3:25:29<27:08:07,  3.83s/it]"
     ]
    },
    {
     "name": "stdout",
     "output_type": "stream",
     "text": [
      "Skipping filing detail download for 'https://www.sec.gov/Archives/edgar/data/0000040704/000089710100000853/0001.txt' due to network error: 404 Client Error: Not Found for url: https://www.sec.gov/Archives/edgar/data/0000040704/000089710100000853/0001.txt.\n",
      "Failed 5071,10-K,2001-12-31 00:00:00,2000-01-01 00:00:00 local variable 'filing_text' referenced before assignment\n"
     ]
    },
    {
     "name": "stderr",
     "output_type": "stream",
     "text": [
      " 18%|█▊        | 5717/31192 [3:25:30<20:56:06,  2.96s/it]"
     ]
    },
    {
     "name": "stdout",
     "output_type": "stream",
     "text": [
      "Skipping filing detail download for 'https://www.sec.gov/Archives/edgar/data/0000040704/000089710100000853/0001.txt' due to network error: 404 Client Error: Not Found for url: https://www.sec.gov/Archives/edgar/data/0000040704/000089710100000853/0001.txt.\n",
      "Failed 5071,10-K,2000-12-31 00:00:00,2000-01-01 00:00:00 local variable 'filing_text' referenced before assignment\n"
     ]
    },
    {
     "name": "stderr",
     "output_type": "stream",
     "text": [
      " 19%|█▉        | 5885/31192 [3:31:34<70:19:32, 10.00s/it]"
     ]
    },
    {
     "name": "stdout",
     "output_type": "stream",
     "text": [
      "Skipping filing detail download for 'https://www.sec.gov/Archives/edgar/data/0000041499/000100547701001941/0001.txt' due to network error: 404 Client Error: Not Found for url: https://www.sec.gov/Archives/edgar/data/0000041499/000100547701001941/0001.txt.\n",
      "Failed 5169,10-K,2001-12-31 00:00:00,2000-01-01 00:00:00 local variable 'filing_text' referenced before assignment\n"
     ]
    },
    {
     "name": "stderr",
     "output_type": "stream",
     "text": [
      " 19%|█▉        | 5887/31192 [3:31:36<51:34:54,  7.34s/it]"
     ]
    },
    {
     "name": "stdout",
     "output_type": "stream",
     "text": [
      "Skipping filing detail download for 'https://www.sec.gov/Archives/edgar/data/0000041499/000100547701001941/0001.txt' due to network error: 404 Client Error: Not Found for url: https://www.sec.gov/Archives/edgar/data/0000041499/000100547701001941/0001.txt.\n",
      "Failed 5169,10-K,2000-12-31 00:00:00,2000-01-01 00:00:00 local variable 'filing_text' referenced before assignment\n"
     ]
    },
    {
     "name": "stderr",
     "output_type": "stream",
     "text": [
      " 19%|█▉        | 5889/31192 [3:31:39<39:31:54,  5.62s/it]"
     ]
    },
    {
     "name": "stdout",
     "output_type": "stream",
     "text": [
      "Skipping filing detail download for 'https://www.sec.gov/Archives/edgar/data/0000041499/000100547701001941/0001.txt' due to network error: 404 Client Error: Not Found for url: https://www.sec.gov/Archives/edgar/data/0000041499/000100547701001941/0001.txt.\n",
      "Failed 5169,10-K,2002-12-31 00:00:00,2001-01-01 00:00:00 local variable 'filing_text' referenced before assignment\n"
     ]
    },
    {
     "name": "stderr",
     "output_type": "stream",
     "text": [
      " 19%|█▉        | 5943/31192 [3:32:31<15:27:25,  2.20s/it]"
     ]
    },
    {
     "name": "stdout",
     "output_type": "stream",
     "text": [
      "Failed 5211,10-K,2000-12-31 00:00:00,2000-01-01 00:00:00 Sorry, gvkey \"5211\" is invalid. Or we do not have this gvkey in our CIK-gvkey mapping table dataframe.\n",
      "Failed 5211,10-K,2000-12-31 00:00:00,2000-01-01 00:00:00 Sorry, gvkey \"5211\" is invalid. Or we do not have this gvkey in our CIK-gvkey mapping table dataframe.\n"
     ]
    },
    {
     "name": "stderr",
     "output_type": "stream",
     "text": [
      " 19%|█▉        | 6035/31192 [3:35:19<11:43:21,  1.68s/it]"
     ]
    },
    {
     "name": "stdout",
     "output_type": "stream",
     "text": [
      "Failed 5307,10-K,2000-12-31 00:00:00,2000-01-01 00:00:00 Sorry, gvkey \"5307\" is invalid. Or we do not have this gvkey in our CIK-gvkey mapping table dataframe.\n",
      "Failed 5307,10-K,2000-12-31 00:00:00,2000-01-01 00:00:00 Sorry, gvkey \"5307\" is invalid. Or we do not have this gvkey in our CIK-gvkey mapping table dataframe.\n",
      "Failed 5307,10-K,2001-12-31 00:00:00,2000-01-01 00:00:00 Sorry, gvkey \"5307\" is invalid. Or we do not have this gvkey in our CIK-gvkey mapping table dataframe.\n",
      "Failed 5307,10-K,2002-12-31 00:00:00,2001-01-01 00:00:00 Sorry, gvkey \"5307\" is invalid. Or we do not have this gvkey in our CIK-gvkey mapping table dataframe.\n"
     ]
    },
    {
     "name": "stderr",
     "output_type": "stream",
     "text": [
      " 20%|█▉        | 6123/31192 [3:43:38<59:28:28,  8.54s/it]"
     ]
    },
    {
     "name": "stdout",
     "output_type": "stream",
     "text": [
      "Skipping filing detail download for 'https://www.sec.gov/Archives/edgar/data/0000045012/000004501201000009/0001.txt' due to network error: 404 Client Error: Not Found for url: https://www.sec.gov/Archives/edgar/data/0000045012/000004501201000009/0001.txt.\n",
      "Failed 5439,10-K,2000-12-31 00:00:00,2000-01-01 00:00:00 local variable 'filing_text' referenced before assignment\n"
     ]
    },
    {
     "name": "stderr",
     "output_type": "stream",
     "text": [
      " 20%|█▉        | 6125/31192 [3:43:41<45:24:34,  6.52s/it]"
     ]
    },
    {
     "name": "stdout",
     "output_type": "stream",
     "text": [
      "Skipping filing detail download for 'https://www.sec.gov/Archives/edgar/data/0000045012/000004501201000009/0001.txt' due to network error: 404 Client Error: Not Found for url: https://www.sec.gov/Archives/edgar/data/0000045012/000004501201000009/0001.txt.\n",
      "Failed 5439,10-K,2000-12-31 00:00:00,2000-01-01 00:00:00 local variable 'filing_text' referenced before assignment\n"
     ]
    },
    {
     "name": "stderr",
     "output_type": "stream",
     "text": [
      " 20%|█▉        | 6127/31192 [3:43:43<33:25:50,  4.80s/it]"
     ]
    },
    {
     "name": "stdout",
     "output_type": "stream",
     "text": [
      "Skipping filing detail download for 'https://www.sec.gov/Archives/edgar/data/0000045012/000004501201000009/0001.txt' due to network error: 404 Client Error: Not Found for url: https://www.sec.gov/Archives/edgar/data/0000045012/000004501201000009/0001.txt.\n",
      "Failed 5439,10-K,2001-12-31 00:00:00,2000-01-01 00:00:00 local variable 'filing_text' referenced before assignment\n"
     ]
    },
    {
     "name": "stderr",
     "output_type": "stream",
     "text": [
      " 20%|█▉        | 6129/31192 [3:43:45<25:40:43,  3.69s/it]"
     ]
    },
    {
     "name": "stdout",
     "output_type": "stream",
     "text": [
      "Skipping filing detail download for 'https://www.sec.gov/Archives/edgar/data/0000045012/000004501201000009/0001.txt' due to network error: 404 Client Error: Not Found for url: https://www.sec.gov/Archives/edgar/data/0000045012/000004501201000009/0001.txt.\n",
      "Failed 5439,10-K,2002-12-31 00:00:00,2001-01-01 00:00:00 local variable 'filing_text' referenced before assignment\n"
     ]
    },
    {
     "name": "stderr",
     "output_type": "stream",
     "text": [
      " 20%|█▉        | 6151/31192 [3:44:53<18:35:07,  2.67s/it]"
     ]
    },
    {
     "name": "stdout",
     "output_type": "stream",
     "text": [
      "Failed 5464,10-K,2000-12-31 00:00:00,2000-01-01 00:00:00 Sorry, gvkey \"5464\" is invalid. Or we do not have this gvkey in our CIK-gvkey mapping table dataframe.\n",
      "Failed 5464,10-K,2000-12-31 00:00:00,2000-01-01 00:00:00 Sorry, gvkey \"5464\" is invalid. Or we do not have this gvkey in our CIK-gvkey mapping table dataframe.\n"
     ]
    },
    {
     "name": "stderr",
     "output_type": "stream",
     "text": [
      " 20%|█▉        | 6215/31192 [3:46:57<21:40:42,  3.12s/it]"
     ]
    },
    {
     "name": "stdout",
     "output_type": "stream",
     "text": [
      "Failed 5503,10-K,2000-12-31 00:00:00,2000-01-01 00:00:00 Sorry, gvkey \"5503\" is invalid. Or we do not have this gvkey in our CIK-gvkey mapping table dataframe.\n",
      "Failed 5503,10-K,2000-12-31 00:00:00,2000-01-01 00:00:00 Sorry, gvkey \"5503\" is invalid. Or we do not have this gvkey in our CIK-gvkey mapping table dataframe.\n"
     ]
    },
    {
     "name": "stderr",
     "output_type": "stream",
     "text": [
      " 21%|██        | 6571/31192 [3:58:06<9:59:12,  1.46s/it] "
     ]
    },
    {
     "name": "stdout",
     "output_type": "stream",
     "text": [
      "Skipping filing detail download for 'https://www.sec.gov/Archives/edgar/data/0000354964/000095013101001626/0001.txt' due to network error: 404 Client Error: Not Found for url: https://www.sec.gov/Archives/edgar/data/0000354964/000095013101001626/0001.txt.\n",
      "Failed 5735,10-K,2000-12-31 00:00:00,2000-01-01 00:00:00 local variable 'filing_text' referenced before assignment\n"
     ]
    },
    {
     "name": "stderr",
     "output_type": "stream",
     "text": [
      " 21%|██        | 6573/31192 [3:58:09<9:38:32,  1.41s/it]"
     ]
    },
    {
     "name": "stdout",
     "output_type": "stream",
     "text": [
      "Skipping filing detail download for 'https://www.sec.gov/Archives/edgar/data/0000354964/000095013101001626/0001.txt' due to network error: 404 Client Error: Not Found for url: https://www.sec.gov/Archives/edgar/data/0000354964/000095013101001626/0001.txt.\n",
      "Failed 5735,10-K,2000-12-31 00:00:00,2000-01-01 00:00:00 local variable 'filing_text' referenced before assignment\n"
     ]
    },
    {
     "name": "stderr",
     "output_type": "stream",
     "text": [
      " 21%|██        | 6575/31192 [3:58:10<7:55:45,  1.16s/it]"
     ]
    },
    {
     "name": "stdout",
     "output_type": "stream",
     "text": [
      "Skipping filing detail download for 'https://www.sec.gov/Archives/edgar/data/0000354964/000095013101001626/0001.txt' due to network error: 404 Client Error: Not Found for url: https://www.sec.gov/Archives/edgar/data/0000354964/000095013101001626/0001.txt.\n",
      "Failed 5735,10-K,2001-12-31 00:00:00,2000-01-01 00:00:00 local variable 'filing_text' referenced before assignment\n"
     ]
    },
    {
     "name": "stderr",
     "output_type": "stream",
     "text": [
      " 21%|██        | 6577/31192 [3:58:12<7:11:58,  1.05s/it]"
     ]
    },
    {
     "name": "stdout",
     "output_type": "stream",
     "text": [
      "Skipping filing detail download for 'https://www.sec.gov/Archives/edgar/data/0000354964/000095013101001626/0001.txt' due to network error: 404 Client Error: Not Found for url: https://www.sec.gov/Archives/edgar/data/0000354964/000095013101001626/0001.txt.\n",
      "Failed 5735,10-K,2002-12-31 00:00:00,2001-01-01 00:00:00 local variable 'filing_text' referenced before assignment\n"
     ]
    },
    {
     "name": "stderr",
     "output_type": "stream",
     "text": [
      " 22%|██▏       | 6739/31192 [4:06:10<45:25:46,  6.69s/it]"
     ]
    },
    {
     "name": "stdout",
     "output_type": "stream",
     "text": [
      "Failed 5803,10-K,2000-12-31 00:00:00,2000-01-01 00:00:00 Sorry, gvkey \"5803\" is invalid. Or we do not have this gvkey in our CIK-gvkey mapping table dataframe.\n",
      "Failed 5803,10-K,2000-12-31 00:00:00,2000-01-01 00:00:00 Sorry, gvkey \"5803\" is invalid. Or we do not have this gvkey in our CIK-gvkey mapping table dataframe.\n"
     ]
    },
    {
     "name": "stderr",
     "output_type": "stream",
     "text": [
      " 22%|██▏       | 6747/31192 [4:06:15<16:58:25,  2.50s/it]"
     ]
    },
    {
     "name": "stdout",
     "output_type": "stream",
     "text": [
      "Skipping filing detail download for 'https://www.sec.gov/Archives/edgar/data/0001084230/000108423001000005/0001.txt' due to network error: 404 Client Error: Not Found for url: https://www.sec.gov/Archives/edgar/data/0001084230/000108423001000005/0001.txt.\n",
      "Failed 5824,10-K,2001-12-31 00:00:00,2000-01-01 00:00:00 local variable 'filing_text' referenced before assignment\n"
     ]
    },
    {
     "name": "stderr",
     "output_type": "stream",
     "text": [
      " 22%|██▏       | 6749/31192 [4:06:18<14:32:48,  2.14s/it]"
     ]
    },
    {
     "name": "stdout",
     "output_type": "stream",
     "text": [
      "Skipping filing detail download for 'https://www.sec.gov/Archives/edgar/data/0001084230/000108423001000005/0001.txt' due to network error: 404 Client Error: Not Found for url: https://www.sec.gov/Archives/edgar/data/0001084230/000108423001000005/0001.txt.\n",
      "Failed 5824,10-K,2000-12-31 00:00:00,2000-01-01 00:00:00 local variable 'filing_text' referenced before assignment\n"
     ]
    },
    {
     "name": "stderr",
     "output_type": "stream",
     "text": [
      " 22%|██▏       | 6751/31192 [4:06:23<15:03:35,  2.22s/it]"
     ]
    },
    {
     "name": "stdout",
     "output_type": "stream",
     "text": [
      "Skipping filing detail download for 'https://www.sec.gov/Archives/edgar/data/0001084230/000108423001000005/0001.txt' due to network error: 404 Client Error: Not Found for url: https://www.sec.gov/Archives/edgar/data/0001084230/000108423001000005/0001.txt.\n",
      "Failed 5824,10-K,2002-12-31 00:00:00,2001-01-01 00:00:00 local variable 'filing_text' referenced before assignment\n"
     ]
    },
    {
     "name": "stderr",
     "output_type": "stream",
     "text": [
      " 22%|██▏       | 6839/31192 [4:10:33<24:00:33,  3.55s/it]"
     ]
    },
    {
     "name": "stdout",
     "output_type": "stream",
     "text": [
      "Failed 5875,10-K,2000-12-31 00:00:00,2000-01-01 00:00:00 Sorry, gvkey \"5875\" is invalid. Or we do not have this gvkey in our CIK-gvkey mapping table dataframe.\n",
      "Failed 5875,10-K,2000-12-31 00:00:00,2000-01-01 00:00:00 Sorry, gvkey \"5875\" is invalid. Or we do not have this gvkey in our CIK-gvkey mapping table dataframe.\n",
      "Failed 5876,10-K,2000-12-31 00:00:00,2000-01-01 00:00:00 Sorry, gvkey \"5876\" is invalid. Or we do not have this gvkey in our CIK-gvkey mapping table dataframe.\n",
      "Failed 5876,10-K,2000-12-31 00:00:00,2000-01-01 00:00:00 Sorry, gvkey \"5876\" is invalid. Or we do not have this gvkey in our CIK-gvkey mapping table dataframe.\n",
      "Failed 5876,10-K,2001-12-31 00:00:00,2000-01-01 00:00:00 Sorry, gvkey \"5876\" is invalid. Or we do not have this gvkey in our CIK-gvkey mapping table dataframe.\n",
      "Failed 5877,10-K,2000-12-31 00:00:00,2000-01-01 00:00:00 Sorry, gvkey \"5877\" is invalid. Or we do not have this gvkey in our CIK-gvkey mapping table dataframe.\n",
      "Failed 5877,10-K,2000-12-31 00:00:00,2000-01-01 00:00:00 Sorry, gvkey \"5877\" is invalid. Or we do not have this gvkey in our CIK-gvkey mapping table dataframe.\n"
     ]
    },
    {
     "name": "stderr",
     "output_type": "stream",
     "text": [
      " 22%|██▏       | 6899/31192 [4:11:37<2:04:50,  3.24it/s] "
     ]
    },
    {
     "name": "stdout",
     "output_type": "stream",
     "text": [
      "Failed 5903,10-K,2000-12-31 00:00:00,2000-01-01 00:00:00 Sorry, gvkey \"5903\" is invalid. Or we do not have this gvkey in our CIK-gvkey mapping table dataframe.\n",
      "Failed 5903,10-K,2000-12-31 00:00:00,2000-01-01 00:00:00 Sorry, gvkey \"5903\" is invalid. Or we do not have this gvkey in our CIK-gvkey mapping table dataframe.\n",
      "Failed 5903,10-K,2001-12-31 00:00:00,2000-01-01 00:00:00 Sorry, gvkey \"5903\" is invalid. Or we do not have this gvkey in our CIK-gvkey mapping table dataframe.\n",
      "Failed 5903,10-K,2002-12-31 00:00:00,2001-01-01 00:00:00 Sorry, gvkey \"5903\" is invalid. Or we do not have this gvkey in our CIK-gvkey mapping table dataframe.\n",
      "Failed 5903,10-K,2003-12-31 00:00:00,2002-01-01 00:00:00 Sorry, gvkey \"5903\" is invalid. Or we do not have this gvkey in our CIK-gvkey mapping table dataframe.\n",
      "Failed 5903,10-K,2004-12-31 00:00:00,2003-01-01 00:00:00 Sorry, gvkey \"5903\" is invalid. Or we do not have this gvkey in our CIK-gvkey mapping table dataframe.\n",
      "Failed 5903,10-K,2005-12-31 00:00:00,2004-01-01 00:00:00 Sorry, gvkey \"5903\" is invalid. Or we do not have this gvkey in our CIK-gvkey mapping table dataframe.\n",
      "Failed 5903,10-K,2006-12-31 00:00:00,2005-01-01 00:00:00 Sorry, gvkey \"5903\" is invalid. Or we do not have this gvkey in our CIK-gvkey mapping table dataframe.\n",
      "Failed 5903,10-K,2009-12-31 00:00:00,2008-01-01 00:00:00 Sorry, gvkey \"5903\" is invalid. Or we do not have this gvkey in our CIK-gvkey mapping table dataframe.\n",
      "Failed 5903,10-K,2008-12-31 00:00:00,2007-01-01 00:00:00 Sorry, gvkey \"5903\" is invalid. Or we do not have this gvkey in our CIK-gvkey mapping table dataframe.\n",
      "Failed 5903,10-K,2010-12-31 00:00:00,2009-01-01 00:00:00 Sorry, gvkey \"5903\" is invalid. Or we do not have this gvkey in our CIK-gvkey mapping table dataframe.\n",
      "Failed 5903,10-K,2012-12-31 00:00:00,2011-01-01 00:00:00 Sorry, gvkey \"5903\" is invalid. Or we do not have this gvkey in our CIK-gvkey mapping table dataframe.\n",
      "Failed 5903,10-K,2011-12-31 00:00:00,2010-01-01 00:00:00 Sorry, gvkey \"5903\" is invalid. Or we do not have this gvkey in our CIK-gvkey mapping table dataframe.\n",
      "Failed 5903,10-K,2013-12-31 00:00:00,2012-01-01 00:00:00 Sorry, gvkey \"5903\" is invalid. Or we do not have this gvkey in our CIK-gvkey mapping table dataframe.\n",
      "Failed 5903,10-K,2014-12-31 00:00:00,2013-01-01 00:00:00 Sorry, gvkey \"5903\" is invalid. Or we do not have this gvkey in our CIK-gvkey mapping table dataframe.\n",
      "Failed 5903,10-K,2015-12-31 00:00:00,2014-01-01 00:00:00 Sorry, gvkey \"5903\" is invalid. Or we do not have this gvkey in our CIK-gvkey mapping table dataframe.\n",
      "Failed 5903,10-K,2016-12-31 00:00:00,2015-01-01 00:00:00 Sorry, gvkey \"5903\" is invalid. Or we do not have this gvkey in our CIK-gvkey mapping table dataframe.\n"
     ]
    },
    {
     "name": "stderr",
     "output_type": "stream",
     "text": [
      " 22%|██▏       | 6963/31192 [4:12:55<15:24:14,  2.29s/it]"
     ]
    },
    {
     "name": "stdout",
     "output_type": "stream",
     "text": [
      "Failed 5915,10-K,2000-12-31 00:00:00,2000-01-01 00:00:00 Sorry, gvkey \"5915\" is invalid. Or we do not have this gvkey in our CIK-gvkey mapping table dataframe.\n",
      "Failed 5915,10-K,2000-12-31 00:00:00,2000-01-01 00:00:00 Sorry, gvkey \"5915\" is invalid. Or we do not have this gvkey in our CIK-gvkey mapping table dataframe.\n"
     ]
    },
    {
     "name": "stderr",
     "output_type": "stream",
     "text": [
      " 22%|██▏       | 6997/31192 [4:14:03<17:07:54,  2.55s/it]"
     ]
    },
    {
     "name": "stdout",
     "output_type": "stream",
     "text": [
      "Failed 5921,10-K,2000-12-31 00:00:00,2000-01-01 00:00:00 Sorry, gvkey \"5921\" is invalid. Or we do not have this gvkey in our CIK-gvkey mapping table dataframe.\n",
      "Failed 5921,10-K,2000-12-31 00:00:00,2000-01-01 00:00:00 Sorry, gvkey \"5921\" is invalid. Or we do not have this gvkey in our CIK-gvkey mapping table dataframe.\n",
      "Failed 5921,10-K,2001-12-31 00:00:00,2000-01-01 00:00:00 Sorry, gvkey \"5921\" is invalid. Or we do not have this gvkey in our CIK-gvkey mapping table dataframe.\n"
     ]
    },
    {
     "name": "stderr",
     "output_type": "stream",
     "text": [
      " 23%|██▎       | 7071/31192 [4:16:26<20:45:28,  3.10s/it]"
     ]
    },
    {
     "name": "stdout",
     "output_type": "stream",
     "text": [
      "Skipping filing detail download for 'https://www.sec.gov/Archives/edgar/data/0000050957/000005095701000009/0001.txt' due to network error: 404 Client Error: Not Found for url: https://www.sec.gov/Archives/edgar/data/0000050957/000005095701000009/0001.txt.\n",
      "Failed 6025,10-K,2000-12-31 00:00:00,2000-01-01 00:00:00 local variable 'filing_text' referenced before assignment\n"
     ]
    },
    {
     "name": "stderr",
     "output_type": "stream",
     "text": [
      " 23%|██▎       | 7073/31192 [4:16:28<16:34:40,  2.47s/it]"
     ]
    },
    {
     "name": "stdout",
     "output_type": "stream",
     "text": [
      "Skipping filing detail download for 'https://www.sec.gov/Archives/edgar/data/0000050957/000005095701000009/0001.txt' due to network error: 404 Client Error: Not Found for url: https://www.sec.gov/Archives/edgar/data/0000050957/000005095701000009/0001.txt.\n",
      "Failed 6025,10-K,2000-12-31 00:00:00,2000-01-01 00:00:00 local variable 'filing_text' referenced before assignment\n"
     ]
    },
    {
     "name": "stderr",
     "output_type": "stream",
     "text": [
      " 23%|██▎       | 7075/31192 [4:16:30<12:54:52,  1.93s/it]"
     ]
    },
    {
     "name": "stdout",
     "output_type": "stream",
     "text": [
      "Skipping filing detail download for 'https://www.sec.gov/Archives/edgar/data/0000050957/000005095701000009/0001.txt' due to network error: 404 Client Error: Not Found for url: https://www.sec.gov/Archives/edgar/data/0000050957/000005095701000009/0001.txt.\n",
      "Failed 6025,10-K,2001-12-31 00:00:00,2000-01-01 00:00:00 local variable 'filing_text' referenced before assignment\n"
     ]
    },
    {
     "name": "stderr",
     "output_type": "stream",
     "text": [
      " 23%|██▎       | 7077/31192 [4:16:31<10:46:21,  1.61s/it]"
     ]
    },
    {
     "name": "stdout",
     "output_type": "stream",
     "text": [
      "Skipping filing detail download for 'https://www.sec.gov/Archives/edgar/data/0000050957/000005095701000009/0001.txt' due to network error: 404 Client Error: Not Found for url: https://www.sec.gov/Archives/edgar/data/0000050957/000005095701000009/0001.txt.\n",
      "Failed 6025,10-K,2002-12-31 00:00:00,2001-01-01 00:00:00 local variable 'filing_text' referenced before assignment\n"
     ]
    },
    {
     "name": "stderr",
     "output_type": "stream",
     "text": [
      " 23%|██▎       | 7121/31192 [4:17:23<8:28:04,  1.27s/it] "
     ]
    },
    {
     "name": "stdout",
     "output_type": "stream",
     "text": [
      "Skipping filing detail download for 'https://www.sec.gov/Archives/edgar/data/0000051253/000095010901000802/0001.txt' due to network error: 404 Client Error: Not Found for url: https://www.sec.gov/Archives/edgar/data/0000051253/000095010901000802/0001.txt.\n",
      "Failed 6078,10-K,2000-12-31 00:00:00,2000-01-01 00:00:00 local variable 'filing_text' referenced before assignment\n"
     ]
    },
    {
     "name": "stderr",
     "output_type": "stream",
     "text": [
      " 23%|██▎       | 7123/31192 [4:17:25<7:43:49,  1.16s/it]"
     ]
    },
    {
     "name": "stdout",
     "output_type": "stream",
     "text": [
      "Skipping filing detail download for 'https://www.sec.gov/Archives/edgar/data/0000051253/000095010901000802/0001.txt' due to network error: 404 Client Error: Not Found for url: https://www.sec.gov/Archives/edgar/data/0000051253/000095010901000802/0001.txt.\n",
      "Failed 6078,10-K,2000-12-31 00:00:00,2000-01-01 00:00:00 local variable 'filing_text' referenced before assignment\n"
     ]
    },
    {
     "name": "stderr",
     "output_type": "stream",
     "text": [
      " 23%|██▎       | 7125/31192 [4:17:26<6:49:03,  1.02s/it]"
     ]
    },
    {
     "name": "stdout",
     "output_type": "stream",
     "text": [
      "Skipping filing detail download for 'https://www.sec.gov/Archives/edgar/data/0000051253/000095010901000802/0001.txt' due to network error: 404 Client Error: Not Found for url: https://www.sec.gov/Archives/edgar/data/0000051253/000095010901000802/0001.txt.\n",
      "Failed 6078,10-K,2001-12-31 00:00:00,2000-01-01 00:00:00 local variable 'filing_text' referenced before assignment\n"
     ]
    },
    {
     "name": "stderr",
     "output_type": "stream",
     "text": [
      " 23%|██▎       | 7127/31192 [4:17:27<6:13:33,  1.07it/s]"
     ]
    },
    {
     "name": "stdout",
     "output_type": "stream",
     "text": [
      "Skipping filing detail download for 'https://www.sec.gov/Archives/edgar/data/0000051253/000095010901000802/0001.txt' due to network error: 404 Client Error: Not Found for url: https://www.sec.gov/Archives/edgar/data/0000051253/000095010901000802/0001.txt.\n",
      "Failed 6078,10-K,2002-12-31 00:00:00,2001-01-01 00:00:00 local variable 'filing_text' referenced before assignment\n"
     ]
    },
    {
     "name": "stderr",
     "output_type": "stream",
     "text": [
      " 23%|██▎       | 7175/31192 [4:19:04<13:52:37,  2.08s/it]"
     ]
    },
    {
     "name": "stdout",
     "output_type": "stream",
     "text": [
      "Skipping filing detail download for 'https://www.sec.gov/Archives/edgar/data/0000051396/000095013100005101/0001.txt' due to network error: 404 Client Error: Not Found for url: https://www.sec.gov/Archives/edgar/data/0000051396/000095013100005101/0001.txt.\n",
      "Failed 6096,10-K,2000-12-31 00:00:00,2000-01-01 00:00:00 local variable 'filing_text' referenced before assignment\n"
     ]
    },
    {
     "name": "stderr",
     "output_type": "stream",
     "text": [
      " 23%|██▎       | 7179/31192 [4:19:06<9:13:32,  1.38s/it] "
     ]
    },
    {
     "name": "stdout",
     "output_type": "stream",
     "text": [
      "Skipping filing detail download for 'https://www.sec.gov/Archives/edgar/data/0000051396/000095013100005101/0001.txt' due to network error: 404 Client Error: Not Found for url: https://www.sec.gov/Archives/edgar/data/0000051396/000095013100005101/0001.txt.\n",
      "Failed 6096,10-K,2000-12-31 00:00:00,2000-01-01 00:00:00 local variable 'filing_text' referenced before assignment\n"
     ]
    },
    {
     "name": "stderr",
     "output_type": "stream",
     "text": [
      " 23%|██▎       | 7199/31192 [4:19:51<15:44:34,  2.36s/it]"
     ]
    },
    {
     "name": "stdout",
     "output_type": "stream",
     "text": [
      "Skipping filing detail download for 'https://www.sec.gov/Archives/edgar/data/0000051434/000095011701000558/0001.txt' due to network error: 404 Client Error: Not Found for url: https://www.sec.gov/Archives/edgar/data/0000051434/000095011701000558/0001.txt.\n",
      "Failed 6104,10-K,2000-12-31 00:00:00,2000-01-01 00:00:00 local variable 'filing_text' referenced before assignment\n"
     ]
    },
    {
     "name": "stderr",
     "output_type": "stream",
     "text": [
      " 23%|██▎       | 7203/31192 [4:19:53<10:33:10,  1.58s/it]"
     ]
    },
    {
     "name": "stdout",
     "output_type": "stream",
     "text": [
      "Skipping filing detail download for 'https://www.sec.gov/Archives/edgar/data/0000051434/000095011701000558/0001.txt' due to network error: 404 Client Error: Not Found for url: https://www.sec.gov/Archives/edgar/data/0000051434/000095011701000558/0001.txt.\n",
      "Failed 6104,10-K,2000-12-31 00:00:00,2000-01-01 00:00:00 local variable 'filing_text' referenced before assignment\n"
     ]
    },
    {
     "name": "stderr",
     "output_type": "stream",
     "text": [
      " 23%|██▎       | 7205/31192 [4:19:54<8:59:21,  1.35s/it] "
     ]
    },
    {
     "name": "stdout",
     "output_type": "stream",
     "text": [
      "Skipping filing detail download for 'https://www.sec.gov/Archives/edgar/data/0000051434/000095011701000558/0001.txt' due to network error: 404 Client Error: Not Found for url: https://www.sec.gov/Archives/edgar/data/0000051434/000095011701000558/0001.txt.\n",
      "Failed 6104,10-K,2001-12-31 00:00:00,2000-01-01 00:00:00 local variable 'filing_text' referenced before assignment\n"
     ]
    },
    {
     "name": "stderr",
     "output_type": "stream",
     "text": [
      " 23%|██▎       | 7207/31192 [4:19:56<7:58:04,  1.20s/it]"
     ]
    },
    {
     "name": "stdout",
     "output_type": "stream",
     "text": [
      "Skipping filing detail download for 'https://www.sec.gov/Archives/edgar/data/0000051434/000095011701000558/0001.txt' due to network error: 404 Client Error: Not Found for url: https://www.sec.gov/Archives/edgar/data/0000051434/000095011701000558/0001.txt.\n",
      "Failed 6104,10-K,2002-12-31 00:00:00,2001-01-01 00:00:00 local variable 'filing_text' referenced before assignment\n"
     ]
    },
    {
     "name": "stderr",
     "output_type": "stream",
     "text": [
      " 23%|██▎       | 7257/31192 [4:22:03<9:57:39,  1.50s/it] "
     ]
    },
    {
     "name": "stdout",
     "output_type": "stream",
     "text": [
      "Failed 6135,10-K,2001-12-31 00:00:00,2000-01-01 00:00:00 Sorry, gvkey \"6135\" is invalid. Or we do not have this gvkey in our CIK-gvkey mapping table dataframe.\n",
      "Failed 6135,10-K,2000-12-31 00:00:00,2000-01-01 00:00:00 Sorry, gvkey \"6135\" is invalid. Or we do not have this gvkey in our CIK-gvkey mapping table dataframe.\n",
      "Failed 6135,10-K,2002-12-31 00:00:00,2001-01-01 00:00:00 Sorry, gvkey \"6135\" is invalid. Or we do not have this gvkey in our CIK-gvkey mapping table dataframe.\n",
      "Failed 6135,10-K,2003-12-31 00:00:00,2002-01-01 00:00:00 Sorry, gvkey \"6135\" is invalid. Or we do not have this gvkey in our CIK-gvkey mapping table dataframe.\n",
      "Failed 6135,10-K,2004-12-31 00:00:00,2003-01-01 00:00:00 Sorry, gvkey \"6135\" is invalid. Or we do not have this gvkey in our CIK-gvkey mapping table dataframe.\n",
      "Failed 6135,10-K,2005-12-31 00:00:00,2004-01-01 00:00:00 Sorry, gvkey \"6135\" is invalid. Or we do not have this gvkey in our CIK-gvkey mapping table dataframe.\n",
      "Failed 6135,10-K,2006-12-31 00:00:00,2005-01-01 00:00:00 Sorry, gvkey \"6135\" is invalid. Or we do not have this gvkey in our CIK-gvkey mapping table dataframe.\n",
      "Failed 6135,10-K,2009-12-31 00:00:00,2008-01-01 00:00:00 Sorry, gvkey \"6135\" is invalid. Or we do not have this gvkey in our CIK-gvkey mapping table dataframe.\n",
      "Failed 6135,10-K,2008-12-31 00:00:00,2007-01-01 00:00:00 Sorry, gvkey \"6135\" is invalid. Or we do not have this gvkey in our CIK-gvkey mapping table dataframe.\n",
      "Failed 6135,10-K,2010-12-31 00:00:00,2009-01-01 00:00:00 Sorry, gvkey \"6135\" is invalid. Or we do not have this gvkey in our CIK-gvkey mapping table dataframe.\n",
      "Failed 6135,10-K,2012-12-31 00:00:00,2011-01-01 00:00:00 Sorry, gvkey \"6135\" is invalid. Or we do not have this gvkey in our CIK-gvkey mapping table dataframe.\n",
      "Failed 6135,10-K,2011-12-31 00:00:00,2010-01-01 00:00:00 Sorry, gvkey \"6135\" is invalid. Or we do not have this gvkey in our CIK-gvkey mapping table dataframe.\n",
      "Failed 6135,10-K,2013-12-31 00:00:00,2012-01-01 00:00:00 Sorry, gvkey \"6135\" is invalid. Or we do not have this gvkey in our CIK-gvkey mapping table dataframe.\n",
      "Failed 6135,10-K,2014-12-31 00:00:00,2013-01-01 00:00:00 Sorry, gvkey \"6135\" is invalid. Or we do not have this gvkey in our CIK-gvkey mapping table dataframe.\n",
      "Failed 6135,10-K,2015-12-31 00:00:00,2014-01-01 00:00:00 Sorry, gvkey \"6135\" is invalid. Or we do not have this gvkey in our CIK-gvkey mapping table dataframe.\n",
      "Failed 6135,10-K,2016-12-31 00:00:00,2015-01-01 00:00:00 Sorry, gvkey \"6135\" is invalid. Or we do not have this gvkey in our CIK-gvkey mapping table dataframe.\n",
      "Skipping filing detail download for 'https://www.sec.gov/Archives/edgar/data/0000051644/000005164401000011/0001.txt' due to network error: 404 Client Error: Not Found for url: https://www.sec.gov/Archives/edgar/data/0000051644/000005164401000011/0001.txt.\n",
      "Failed 6136,10-K,2000-12-31 00:00:00,2000-01-01 00:00:00 local variable 'filing_text' referenced before assignment\n"
     ]
    },
    {
     "name": "stderr",
     "output_type": "stream",
     "text": [
      " 23%|██▎       | 7287/31192 [4:22:05<1:40:44,  3.95it/s]"
     ]
    },
    {
     "name": "stdout",
     "output_type": "stream",
     "text": [
      "Skipping filing detail download for 'https://www.sec.gov/Archives/edgar/data/0000051644/000005164401000011/0001.txt' due to network error: 404 Client Error: Not Found for url: https://www.sec.gov/Archives/edgar/data/0000051644/000005164401000011/0001.txt.\n",
      "Failed 6136,10-K,2000-12-31 00:00:00,2000-01-01 00:00:00 local variable 'filing_text' referenced before assignment\n",
      "Skipping filing detail download for 'https://www.sec.gov/Archives/edgar/data/0000051644/000005164401000011/0001.txt' due to network error: 404 Client Error: Not Found for url: https://www.sec.gov/Archives/edgar/data/0000051644/000005164401000011/0001.txt.\n",
      "Failed 6136,10-K,2002-12-31 00:00:00,2001-01-01 00:00:00 local variable 'filing_text' referenced before assignment\n"
     ]
    },
    {
     "name": "stderr",
     "output_type": "stream",
     "text": [
      " 23%|██▎       | 7289/31192 [4:22:09<2:41:53,  2.46it/s]"
     ]
    },
    {
     "name": "stdout",
     "output_type": "stream",
     "text": [
      "Skipping filing detail download for 'https://www.sec.gov/Archives/edgar/data/0000051644/000005164401000011/0001.txt' due to network error: 404 Client Error: Not Found for url: https://www.sec.gov/Archives/edgar/data/0000051644/000005164401000011/0001.txt.\n",
      "Failed 6136,10-K,2001-12-31 00:00:00,2000-01-01 00:00:00 local variable 'filing_text' referenced before assignment\n"
     ]
    },
    {
     "name": "stderr",
     "output_type": "stream",
     "text": [
      " 24%|██▍       | 7429/31192 [4:26:34<15:43:39,  2.38s/it]"
     ]
    },
    {
     "name": "stdout",
     "output_type": "stream",
     "text": [
      "Failed 6282,10-K,2000-12-31 00:00:00,2000-01-01 00:00:00 Sorry, gvkey \"6282\" is invalid. Or we do not have this gvkey in our CIK-gvkey mapping table dataframe.\n",
      "Failed 6282,10-K,2000-12-31 00:00:00,2000-01-01 00:00:00 Sorry, gvkey \"6282\" is invalid. Or we do not have this gvkey in our CIK-gvkey mapping table dataframe.\n",
      "Failed 6288,10-K,2000-12-31 00:00:00,2000-01-01 00:00:00 Sorry, gvkey \"6288\" is invalid. Or we do not have this gvkey in our CIK-gvkey mapping table dataframe.\n",
      "Failed 6288,10-K,2000-12-31 00:00:00,2000-01-01 00:00:00 Sorry, gvkey \"6288\" is invalid. Or we do not have this gvkey in our CIK-gvkey mapping table dataframe.\n"
     ]
    },
    {
     "name": "stderr",
     "output_type": "stream",
     "text": [
      " 24%|██▍       | 7479/31192 [4:27:29<6:08:10,  1.07it/s] "
     ]
    },
    {
     "name": "stdout",
     "output_type": "stream",
     "text": [
      "Skipping filing detail download for 'https://www.sec.gov/Archives/edgar/data/0000054473/000005447301000004/0001.txt' due to network error: 404 Client Error: Not Found for url: https://www.sec.gov/Archives/edgar/data/0000054473/000005447301000004/0001.txt.\n",
      "Failed 6333,10-K,2000-12-31 00:00:00,2000-01-01 00:00:00 local variable 'filing_text' referenced before assignment\n"
     ]
    },
    {
     "name": "stderr",
     "output_type": "stream",
     "text": [
      " 24%|██▍       | 7483/31192 [4:27:32<5:04:38,  1.30it/s]"
     ]
    },
    {
     "name": "stdout",
     "output_type": "stream",
     "text": [
      "Skipping filing detail download for 'https://www.sec.gov/Archives/edgar/data/0000054473/000005447301000004/0001.txt' due to network error: 404 Client Error: Not Found for url: https://www.sec.gov/Archives/edgar/data/0000054473/000005447301000004/0001.txt.\n",
      "Failed 6333,10-K,2000-12-31 00:00:00,2000-01-01 00:00:00 local variable 'filing_text' referenced before assignment\n"
     ]
    },
    {
     "name": "stderr",
     "output_type": "stream",
     "text": [
      " 24%|██▍       | 7485/31192 [4:27:33<5:00:25,  1.32it/s]"
     ]
    },
    {
     "name": "stdout",
     "output_type": "stream",
     "text": [
      "Skipping filing detail download for 'https://www.sec.gov/Archives/edgar/data/0000054473/000005447301000004/0001.txt' due to network error: 404 Client Error: Not Found for url: https://www.sec.gov/Archives/edgar/data/0000054473/000005447301000004/0001.txt.\n",
      "Failed 6333,10-K,2001-12-31 00:00:00,2000-01-01 00:00:00 local variable 'filing_text' referenced before assignment\n"
     ]
    },
    {
     "name": "stderr",
     "output_type": "stream",
     "text": [
      " 24%|██▍       | 7487/31192 [4:27:35<5:32:16,  1.19it/s]"
     ]
    },
    {
     "name": "stdout",
     "output_type": "stream",
     "text": [
      "Skipping filing detail download for 'https://www.sec.gov/Archives/edgar/data/0000054473/000005447301000004/0001.txt' due to network error: 404 Client Error: Not Found for url: https://www.sec.gov/Archives/edgar/data/0000054473/000005447301000004/0001.txt.\n",
      "Failed 6333,10-K,2002-12-31 00:00:00,2001-01-01 00:00:00 local variable 'filing_text' referenced before assignment\n"
     ]
    },
    {
     "name": "stderr",
     "output_type": "stream",
     "text": [
      " 24%|██▍       | 7521/31192 [4:29:16<20:02:48,  3.05s/it]"
     ]
    },
    {
     "name": "stdout",
     "output_type": "stream",
     "text": [
      "Failed 6334,10-K,2010-12-31 00:00:00,2009-01-01 00:00:00 500 Server Error: Internal Server Error for url: https://efts.sec.gov/LATEST/search-index\n"
     ]
    },
    {
     "name": "stderr",
     "output_type": "stream",
     "text": [
      " 25%|██▍       | 7663/31192 [4:32:43<12:13:08,  1.87s/it]"
     ]
    },
    {
     "name": "stdout",
     "output_type": "stream",
     "text": [
      "Skipping filing detail download for 'https://www.sec.gov/Archives/edgar/data/0000055785/000005578501000003/0001.txt' due to network error: 404 Client Error: Not Found for url: https://www.sec.gov/Archives/edgar/data/0000055785/000005578501000003/0001.txt.\n",
      "Failed 6435,10-K,2001-12-31 00:00:00,2000-01-01 00:00:00 local variable 'filing_text' referenced before assignment\n"
     ]
    },
    {
     "name": "stderr",
     "output_type": "stream",
     "text": [
      " 25%|██▍       | 7667/31192 [4:32:46<8:45:13,  1.34s/it] "
     ]
    },
    {
     "name": "stdout",
     "output_type": "stream",
     "text": [
      "Skipping filing detail download for 'https://www.sec.gov/Archives/edgar/data/0000055785/000005578501000003/0001.txt' due to network error: 404 Client Error: Not Found for url: https://www.sec.gov/Archives/edgar/data/0000055785/000005578501000003/0001.txt.\n",
      "Failed 6435,10-K,2000-12-31 00:00:00,2000-01-01 00:00:00 local variable 'filing_text' referenced before assignment\n"
     ]
    },
    {
     "name": "stderr",
     "output_type": "stream",
     "text": [
      " 25%|██▍       | 7669/31192 [4:32:50<10:12:49,  1.56s/it]"
     ]
    },
    {
     "name": "stdout",
     "output_type": "stream",
     "text": [
      "Skipping filing detail download for 'https://www.sec.gov/Archives/edgar/data/0000055785/000005578501000003/0001.txt' due to network error: 404 Client Error: Not Found for url: https://www.sec.gov/Archives/edgar/data/0000055785/000005578501000003/0001.txt.\n",
      "Failed 6435,10-K,2002-12-31 00:00:00,2001-01-01 00:00:00 local variable 'filing_text' referenced before assignment\n"
     ]
    },
    {
     "name": "stderr",
     "output_type": "stream",
     "text": [
      " 25%|██▌       | 7945/31192 [4:41:48<30:28:10,  4.72s/it]"
     ]
    },
    {
     "name": "stdout",
     "output_type": "stream",
     "text": [
      "Skipping filing detail download for 'https://www.sec.gov/Archives/edgar/data/0000059478/000095013101001634/0001.htm' due to network error: 404 Client Error: Not Found for url: https://www.sec.gov/Archives/edgar/data/0000059478/000095013101001634/0001.htm.\n",
      "Failed 6730,10-K,2000-12-31 00:00:00,2000-01-01 00:00:00 local variable 'filing_text' referenced before assignment\n"
     ]
    },
    {
     "name": "stderr",
     "output_type": "stream",
     "text": [
      " 25%|██▌       | 7949/31192 [4:41:50<19:29:04,  3.02s/it]"
     ]
    },
    {
     "name": "stdout",
     "output_type": "stream",
     "text": [
      "Skipping filing detail download for 'https://www.sec.gov/Archives/edgar/data/0000059478/000095013101001634/0001.htm' due to network error: 404 Client Error: Not Found for url: https://www.sec.gov/Archives/edgar/data/0000059478/000095013101001634/0001.htm.\n",
      "Failed 6730,10-K,2000-12-31 00:00:00,2000-01-01 00:00:00 local variable 'filing_text' referenced before assignment\n"
     ]
    },
    {
     "name": "stderr",
     "output_type": "stream",
     "text": [
      " 25%|██▌       | 7951/31192 [4:41:51<15:53:59,  2.46s/it]"
     ]
    },
    {
     "name": "stdout",
     "output_type": "stream",
     "text": [
      "Skipping filing detail download for 'https://www.sec.gov/Archives/edgar/data/0000059478/000095013101001634/0001.htm' due to network error: 404 Client Error: Not Found for url: https://www.sec.gov/Archives/edgar/data/0000059478/000095013101001634/0001.htm.\n",
      "Failed 6730,10-K,2001-12-31 00:00:00,2000-01-01 00:00:00 local variable 'filing_text' referenced before assignment\n"
     ]
    },
    {
     "name": "stderr",
     "output_type": "stream",
     "text": [
      " 25%|██▌       | 7953/31192 [4:41:52<13:11:38,  2.04s/it]"
     ]
    },
    {
     "name": "stdout",
     "output_type": "stream",
     "text": [
      "Skipping filing detail download for 'https://www.sec.gov/Archives/edgar/data/0000059478/000095013101001634/0001.htm' due to network error: 404 Client Error: Not Found for url: https://www.sec.gov/Archives/edgar/data/0000059478/000095013101001634/0001.htm.\n",
      "Failed 6730,10-K,2002-12-31 00:00:00,2001-01-01 00:00:00 local variable 'filing_text' referenced before assignment\n"
     ]
    },
    {
     "name": "stderr",
     "output_type": "stream",
     "text": [
      " 26%|██▌       | 7971/31192 [4:42:35<16:19:18,  2.53s/it]"
     ]
    },
    {
     "name": "stdout",
     "output_type": "stream",
     "text": [
      "Failed 6731,10-K,2000-12-31 00:00:00,2000-01-01 00:00:00 Sorry, gvkey \"6731\" is invalid. Or we do not have this gvkey in our CIK-gvkey mapping table dataframe.\n",
      "Failed 6731,10-K,2000-12-31 00:00:00,2000-01-01 00:00:00 Sorry, gvkey \"6731\" is invalid. Or we do not have this gvkey in our CIK-gvkey mapping table dataframe.\n"
     ]
    },
    {
     "name": "stderr",
     "output_type": "stream",
     "text": [
      " 26%|██▌       | 7989/31192 [4:42:53<8:17:36,  1.29s/it] "
     ]
    },
    {
     "name": "stdout",
     "output_type": "stream",
     "text": [
      "Skipping filing detail download for 'https://www.sec.gov/Archives/edgar/data/0000059558/000092881601000123/0001.txt' due to network error: 404 Client Error: Not Found for url: https://www.sec.gov/Archives/edgar/data/0000059558/000092881601000123/0001.txt.\n",
      "Failed 6742,10-K,2000-12-31 00:00:00,2000-01-01 00:00:00 local variable 'filing_text' referenced before assignment\n"
     ]
    },
    {
     "name": "stderr",
     "output_type": "stream",
     "text": [
      " 26%|██▌       | 7993/31192 [4:42:56<6:25:39,  1.00it/s]"
     ]
    },
    {
     "name": "stdout",
     "output_type": "stream",
     "text": [
      "Skipping filing detail download for 'https://www.sec.gov/Archives/edgar/data/0000059558/000092881601000123/0001.txt' due to network error: 404 Client Error: Not Found for url: https://www.sec.gov/Archives/edgar/data/0000059558/000092881601000123/0001.txt.\n",
      "Failed 6742,10-K,2000-12-31 00:00:00,2000-01-01 00:00:00 local variable 'filing_text' referenced before assignment\n"
     ]
    },
    {
     "name": "stderr",
     "output_type": "stream",
     "text": [
      " 26%|██▌       | 7995/31192 [4:42:57<6:06:21,  1.06it/s]"
     ]
    },
    {
     "name": "stdout",
     "output_type": "stream",
     "text": [
      "Skipping filing detail download for 'https://www.sec.gov/Archives/edgar/data/0000059558/000092881601000123/0001.txt' due to network error: 404 Client Error: Not Found for url: https://www.sec.gov/Archives/edgar/data/0000059558/000092881601000123/0001.txt.\n",
      "Failed 6742,10-K,2001-12-31 00:00:00,2000-01-01 00:00:00 local variable 'filing_text' referenced before assignment\n"
     ]
    },
    {
     "name": "stderr",
     "output_type": "stream",
     "text": [
      " 26%|██▌       | 7997/31192 [4:43:02<8:11:16,  1.27s/it]"
     ]
    },
    {
     "name": "stdout",
     "output_type": "stream",
     "text": [
      "Skipping filing detail download for 'https://www.sec.gov/Archives/edgar/data/0000059558/000092881601000123/0001.txt' due to network error: 404 Client Error: Not Found for url: https://www.sec.gov/Archives/edgar/data/0000059558/000092881601000123/0001.txt.\n",
      "Failed 6742,10-K,2002-12-31 00:00:00,2001-01-01 00:00:00 local variable 'filing_text' referenced before assignment\n"
     ]
    },
    {
     "name": "stderr",
     "output_type": "stream",
     "text": [
      " 26%|██▌       | 8029/31192 [4:46:35<30:51:05,  4.79s/it]"
     ]
    },
    {
     "name": "stdout",
     "output_type": "stream",
     "text": [
      "Skipping filing detail download for 'https://www.sec.gov/Archives/edgar/data/0000352363/000035236301000005/0001.txt' due to network error: 404 Client Error: Not Found for url: https://www.sec.gov/Archives/edgar/data/0000352363/000035236301000005/0001.txt.\n",
      "Failed 6768,10-K,2000-12-31 00:00:00,2000-01-01 00:00:00 local variable 'filing_text' referenced before assignment\n"
     ]
    },
    {
     "name": "stderr",
     "output_type": "stream",
     "text": [
      " 26%|██▌       | 8031/31192 [4:46:37<23:51:33,  3.71s/it]"
     ]
    },
    {
     "name": "stdout",
     "output_type": "stream",
     "text": [
      "Skipping filing detail download for 'https://www.sec.gov/Archives/edgar/data/0000352363/000035236301000005/0001.txt' due to network error: 404 Client Error: Not Found for url: https://www.sec.gov/Archives/edgar/data/0000352363/000035236301000005/0001.txt.\n",
      "Failed 6768,10-K,2000-12-31 00:00:00,2000-01-01 00:00:00 local variable 'filing_text' referenced before assignment\n"
     ]
    },
    {
     "name": "stderr",
     "output_type": "stream",
     "text": [
      " 26%|██▌       | 8033/31192 [4:46:39<17:59:15,  2.80s/it]"
     ]
    },
    {
     "name": "stdout",
     "output_type": "stream",
     "text": [
      "Skipping filing detail download for 'https://www.sec.gov/Archives/edgar/data/0000352363/000035236301000005/0001.txt' due to network error: 404 Client Error: Not Found for url: https://www.sec.gov/Archives/edgar/data/0000352363/000035236301000005/0001.txt.\n",
      "Failed 6768,10-K,2001-12-31 00:00:00,2000-01-01 00:00:00 local variable 'filing_text' referenced before assignment\n"
     ]
    },
    {
     "name": "stderr",
     "output_type": "stream",
     "text": [
      " 26%|██▌       | 8035/31192 [4:46:41<14:24:20,  2.24s/it]"
     ]
    },
    {
     "name": "stdout",
     "output_type": "stream",
     "text": [
      "Skipping filing detail download for 'https://www.sec.gov/Archives/edgar/data/0000352363/000035236301000005/0001.txt' due to network error: 404 Client Error: Not Found for url: https://www.sec.gov/Archives/edgar/data/0000352363/000035236301000005/0001.txt.\n",
      "Failed 6768,10-K,2002-12-31 00:00:00,2001-01-01 00:00:00 local variable 'filing_text' referenced before assignment\n"
     ]
    },
    {
     "name": "stderr",
     "output_type": "stream",
     "text": [
      " 26%|██▌       | 8047/31192 [4:47:00<12:09:43,  1.89s/it]"
     ]
    },
    {
     "name": "stdout",
     "output_type": "stream",
     "text": [
      "Failed 6771,10-K,2001-12-31 00:00:00,2000-01-01 00:00:00 Sorry, gvkey \"6771\" is invalid. Or we do not have this gvkey in our CIK-gvkey mapping table dataframe.\n",
      "Failed 6771,10-K,2000-12-31 00:00:00,2000-01-01 00:00:00 Sorry, gvkey \"6771\" is invalid. Or we do not have this gvkey in our CIK-gvkey mapping table dataframe.\n",
      "Failed 6771,10-K,2003-12-31 00:00:00,2002-01-01 00:00:00 Sorry, gvkey \"6771\" is invalid. Or we do not have this gvkey in our CIK-gvkey mapping table dataframe.\n",
      "Failed 6771,10-K,2002-12-31 00:00:00,2001-01-01 00:00:00 Sorry, gvkey \"6771\" is invalid. Or we do not have this gvkey in our CIK-gvkey mapping table dataframe.\n",
      "Failed 6771,10-K,2005-12-31 00:00:00,2004-01-01 00:00:00 Sorry, gvkey \"6771\" is invalid. Or we do not have this gvkey in our CIK-gvkey mapping table dataframe.\n",
      "Failed 6771,10-K,2004-12-31 00:00:00,2003-01-01 00:00:00 Sorry, gvkey \"6771\" is invalid. Or we do not have this gvkey in our CIK-gvkey mapping table dataframe.\n",
      "Failed 6771,10-K,2006-12-31 00:00:00,2005-01-01 00:00:00 Sorry, gvkey \"6771\" is invalid. Or we do not have this gvkey in our CIK-gvkey mapping table dataframe.\n",
      "Failed 6771,10-K,2007-12-31 00:00:00,2006-01-01 00:00:00 Sorry, gvkey \"6771\" is invalid. Or we do not have this gvkey in our CIK-gvkey mapping table dataframe.\n",
      "Failed 6771,10-K,2008-12-31 00:00:00,2007-01-01 00:00:00 Sorry, gvkey \"6771\" is invalid. Or we do not have this gvkey in our CIK-gvkey mapping table dataframe.\n",
      "Failed 6771,10-K,2009-12-31 00:00:00,2008-01-01 00:00:00 Sorry, gvkey \"6771\" is invalid. Or we do not have this gvkey in our CIK-gvkey mapping table dataframe.\n",
      "Failed 6771,10-K,2012-12-31 00:00:00,2011-01-01 00:00:00 Sorry, gvkey \"6771\" is invalid. Or we do not have this gvkey in our CIK-gvkey mapping table dataframe.\n",
      "Failed 6771,10-K,2011-12-31 00:00:00,2010-01-01 00:00:00 Sorry, gvkey \"6771\" is invalid. Or we do not have this gvkey in our CIK-gvkey mapping table dataframe.\n",
      "Failed 6771,10-K,2013-12-31 00:00:00,2012-01-01 00:00:00 Sorry, gvkey \"6771\" is invalid. Or we do not have this gvkey in our CIK-gvkey mapping table dataframe.\n",
      "Failed 6771,10-K,2014-12-31 00:00:00,2013-01-01 00:00:00 Sorry, gvkey \"6771\" is invalid. Or we do not have this gvkey in our CIK-gvkey mapping table dataframe.\n",
      "Failed 6771,10-K,2015-12-31 00:00:00,2014-01-01 00:00:00 Sorry, gvkey \"6771\" is invalid. Or we do not have this gvkey in our CIK-gvkey mapping table dataframe.\n",
      "Skipping filing detail download for 'https://www.sec.gov/Archives/edgar/data/0000936468/000092838501000795/0001.txt' due to network error: 404 Client Error: Not Found for url: https://www.sec.gov/Archives/edgar/data/0000936468/000092838501000795/0001.txt.\n",
      "Failed 6774,10-K,2002-12-31 00:00:00,2001-01-01 00:00:00 local variable 'filing_text' referenced before assignment\n"
     ]
    },
    {
     "name": "stderr",
     "output_type": "stream",
     "text": [
      " 26%|██▌       | 8073/31192 [4:47:05<2:48:58,  2.28it/s] "
     ]
    },
    {
     "name": "stdout",
     "output_type": "stream",
     "text": [
      "Skipping filing detail download for 'https://www.sec.gov/Archives/edgar/data/0000936468/000092838501000795/0001.txt' due to network error: 404 Client Error: Not Found for url: https://www.sec.gov/Archives/edgar/data/0000936468/000092838501000795/0001.txt.\n",
      "Failed 6774,10-K,2001-12-31 00:00:00,2000-01-01 00:00:00 local variable 'filing_text' referenced before assignment\n"
     ]
    },
    {
     "name": "stderr",
     "output_type": "stream",
     "text": [
      " 26%|██▌       | 8135/31192 [4:50:35<30:37:54,  4.78s/it]"
     ]
    },
    {
     "name": "stdout",
     "output_type": "stream",
     "text": [
      "Skipping filing detail download for 'https://www.sec.gov/Archives/edgar/data/0001062379/000106237901000022/0001.txt' due to network error: 404 Client Error: Not Found for url: https://www.sec.gov/Archives/edgar/data/0001062379/000106237901000022/0001.txt.\n",
      "Failed 6799,10-K,2000-12-31 00:00:00,2000-01-01 00:00:00 local variable 'filing_text' referenced before assignment\n"
     ]
    },
    {
     "name": "stderr",
     "output_type": "stream",
     "text": [
      " 26%|██▌       | 8137/31192 [4:50:37<22:59:47,  3.59s/it]"
     ]
    },
    {
     "name": "stdout",
     "output_type": "stream",
     "text": [
      "Skipping filing detail download for 'https://www.sec.gov/Archives/edgar/data/0001062379/000106237901000022/0001.txt' due to network error: 404 Client Error: Not Found for url: https://www.sec.gov/Archives/edgar/data/0001062379/000106237901000022/0001.txt.\n",
      "Failed 6799,10-K,2000-12-31 00:00:00,2000-01-01 00:00:00 local variable 'filing_text' referenced before assignment\n"
     ]
    },
    {
     "name": "stderr",
     "output_type": "stream",
     "text": [
      " 26%|██▌       | 8139/31192 [4:50:38<17:24:32,  2.72s/it]"
     ]
    },
    {
     "name": "stdout",
     "output_type": "stream",
     "text": [
      "Skipping filing detail download for 'https://www.sec.gov/Archives/edgar/data/0001062379/000106237901000022/0001.txt' due to network error: 404 Client Error: Not Found for url: https://www.sec.gov/Archives/edgar/data/0001062379/000106237901000022/0001.txt.\n",
      "Failed 6799,10-K,2001-12-31 00:00:00,2000-01-01 00:00:00 local variable 'filing_text' referenced before assignment\n"
     ]
    },
    {
     "name": "stderr",
     "output_type": "stream",
     "text": [
      " 26%|██▌       | 8141/31192 [4:50:41<15:01:34,  2.35s/it]"
     ]
    },
    {
     "name": "stdout",
     "output_type": "stream",
     "text": [
      "Skipping filing detail download for 'https://www.sec.gov/Archives/edgar/data/0001062379/000106237901000022/0001.txt' due to network error: 404 Client Error: Not Found for url: https://www.sec.gov/Archives/edgar/data/0001062379/000106237901000022/0001.txt.\n",
      "Failed 6799,10-K,2002-12-31 00:00:00,2001-01-01 00:00:00 local variable 'filing_text' referenced before assignment\n"
     ]
    },
    {
     "name": "stderr",
     "output_type": "stream",
     "text": [
      " 26%|██▌       | 8187/31192 [4:54:54<72:11:47, 11.30s/it]"
     ]
    },
    {
     "name": "stdout",
     "output_type": "stream",
     "text": [
      "Failed 6825,10-K,2000-12-31 00:00:00,2000-01-01 00:00:00 Sorry, gvkey \"6825\" is invalid. Or we do not have this gvkey in our CIK-gvkey mapping table dataframe.\n",
      "Failed 6825,10-K,2000-12-31 00:00:00,2000-01-01 00:00:00 Sorry, gvkey \"6825\" is invalid. Or we do not have this gvkey in our CIK-gvkey mapping table dataframe.\n"
     ]
    },
    {
     "name": "stderr",
     "output_type": "stream",
     "text": [
      " 27%|██▋       | 8329/31192 [4:57:55<1:16:06,  5.01it/s] "
     ]
    },
    {
     "name": "stdout",
     "output_type": "stream",
     "text": [
      "Skipping filing detail download for 'https://www.sec.gov/Archives/edgar/data/0000101778/000095013201000164/0001.txt' due to network error: 404 Client Error: Not Found for url: https://www.sec.gov/Archives/edgar/data/0000101778/000095013201000164/0001.txt.\n",
      "Failed 7017,10-K,2001-12-31 00:00:00,2000-01-01 00:00:00 local variable 'filing_text' referenced before assignment\n"
     ]
    },
    {
     "name": "stderr",
     "output_type": "stream",
     "text": [
      " 27%|██▋       | 8331/31192 [4:57:58<3:27:24,  1.84it/s]"
     ]
    },
    {
     "name": "stdout",
     "output_type": "stream",
     "text": [
      "Skipping filing detail download for 'https://www.sec.gov/Archives/edgar/data/0000101778/000095013201000164/0001.txt' due to network error: 404 Client Error: Not Found for url: https://www.sec.gov/Archives/edgar/data/0000101778/000095013201000164/0001.txt.\n",
      "Failed 7017,10-K,2000-12-31 00:00:00,2000-01-01 00:00:00 local variable 'filing_text' referenced before assignment\n"
     ]
    },
    {
     "name": "stderr",
     "output_type": "stream",
     "text": [
      " 27%|██▋       | 8333/31192 [4:58:03<7:12:12,  1.13s/it]"
     ]
    },
    {
     "name": "stdout",
     "output_type": "stream",
     "text": [
      "Skipping filing detail download for 'https://www.sec.gov/Archives/edgar/data/0000101778/000095013201000164/0001.txt' due to network error: 404 Client Error: Not Found for url: https://www.sec.gov/Archives/edgar/data/0000101778/000095013201000164/0001.txt.\n",
      "Failed 7017,10-K,2002-12-31 00:00:00,2001-01-01 00:00:00 local variable 'filing_text' referenced before assignment\n"
     ]
    },
    {
     "name": "stderr",
     "output_type": "stream",
     "text": [
      " 27%|██▋       | 8355/31192 [4:59:54<29:41:41,  4.68s/it]"
     ]
    },
    {
     "name": "stdout",
     "output_type": "stream",
     "text": [
      "Failed 7043,10-K,2000-12-31 00:00:00,2000-01-01 00:00:00 Sorry, gvkey \"7043\" is invalid. Or we do not have this gvkey in our CIK-gvkey mapping table dataframe.\n",
      "Failed 7043,10-K,2000-12-31 00:00:00,2000-01-01 00:00:00 Sorry, gvkey \"7043\" is invalid. Or we do not have this gvkey in our CIK-gvkey mapping table dataframe.\n",
      "Failed 7043,10-K,2002-12-31 00:00:00,2001-01-01 00:00:00 Sorry, gvkey \"7043\" is invalid. Or we do not have this gvkey in our CIK-gvkey mapping table dataframe.\n",
      "Failed 7043,10-K,2001-12-31 00:00:00,2000-01-01 00:00:00 Sorry, gvkey \"7043\" is invalid. Or we do not have this gvkey in our CIK-gvkey mapping table dataframe.\n",
      "Failed 7043,10-K,2004-12-31 00:00:00,2003-01-01 00:00:00 Sorry, gvkey \"7043\" is invalid. Or we do not have this gvkey in our CIK-gvkey mapping table dataframe.\n",
      "Failed 7043,10-K,2003-12-31 00:00:00,2002-01-01 00:00:00 Sorry, gvkey \"7043\" is invalid. Or we do not have this gvkey in our CIK-gvkey mapping table dataframe.\n",
      "Failed 7043,10-K,2005-12-31 00:00:00,2004-01-01 00:00:00 Sorry, gvkey \"7043\" is invalid. Or we do not have this gvkey in our CIK-gvkey mapping table dataframe.\n",
      "Failed 7043,10-K,2006-12-31 00:00:00,2005-01-01 00:00:00 Sorry, gvkey \"7043\" is invalid. Or we do not have this gvkey in our CIK-gvkey mapping table dataframe.\n",
      "Failed 7043,10-K,2007-12-31 00:00:00,2006-01-01 00:00:00 Sorry, gvkey \"7043\" is invalid. Or we do not have this gvkey in our CIK-gvkey mapping table dataframe.\n",
      "Failed 7043,10-K,2008-12-31 00:00:00,2007-01-01 00:00:00 Sorry, gvkey \"7043\" is invalid. Or we do not have this gvkey in our CIK-gvkey mapping table dataframe.\n",
      "Failed 7043,10-K,2009-12-31 00:00:00,2008-01-01 00:00:00 Sorry, gvkey \"7043\" is invalid. Or we do not have this gvkey in our CIK-gvkey mapping table dataframe.\n",
      "Failed 7043,10-K,2010-12-31 00:00:00,2009-01-01 00:00:00 Sorry, gvkey \"7043\" is invalid. Or we do not have this gvkey in our CIK-gvkey mapping table dataframe.\n",
      "Failed 7043,10-K,2011-12-31 00:00:00,2010-01-01 00:00:00 Sorry, gvkey \"7043\" is invalid. Or we do not have this gvkey in our CIK-gvkey mapping table dataframe.\n",
      "Failed 7043,10-K,2012-12-31 00:00:00,2011-01-01 00:00:00 Sorry, gvkey \"7043\" is invalid. Or we do not have this gvkey in our CIK-gvkey mapping table dataframe.\n",
      "Failed 7043,10-K,2013-12-31 00:00:00,2012-01-01 00:00:00 Sorry, gvkey \"7043\" is invalid. Or we do not have this gvkey in our CIK-gvkey mapping table dataframe.\n",
      "Failed 7043,10-K,2015-12-31 00:00:00,2014-01-01 00:00:00 Sorry, gvkey \"7043\" is invalid. Or we do not have this gvkey in our CIK-gvkey mapping table dataframe.\n",
      "Failed 7043,10-K,2014-12-31 00:00:00,2013-01-01 00:00:00 Sorry, gvkey \"7043\" is invalid. Or we do not have this gvkey in our CIK-gvkey mapping table dataframe.\n"
     ]
    },
    {
     "name": "stderr",
     "output_type": "stream",
     "text": [
      " 27%|██▋       | 8463/31192 [5:02:17<18:14:50,  2.89s/it]"
     ]
    },
    {
     "name": "stdout",
     "output_type": "stream",
     "text": [
      "Failed 7093,10-K,2000-12-31 00:00:00,2000-01-01 00:00:00 Sorry, gvkey \"7093\" is invalid. Or we do not have this gvkey in our CIK-gvkey mapping table dataframe.\n",
      "Failed 7093,10-K,2000-12-31 00:00:00,2000-01-01 00:00:00 Sorry, gvkey \"7093\" is invalid. Or we do not have this gvkey in our CIK-gvkey mapping table dataframe.\n",
      "Failed 7093,10-K,2001-12-31 00:00:00,2000-01-01 00:00:00 Sorry, gvkey \"7093\" is invalid. Or we do not have this gvkey in our CIK-gvkey mapping table dataframe.\n",
      "Failed 7093,10-K,2002-12-31 00:00:00,2001-01-01 00:00:00 Sorry, gvkey \"7093\" is invalid. Or we do not have this gvkey in our CIK-gvkey mapping table dataframe.\n",
      "Failed 7093,10-K,2003-12-31 00:00:00,2002-01-01 00:00:00 Sorry, gvkey \"7093\" is invalid. Or we do not have this gvkey in our CIK-gvkey mapping table dataframe.\n"
     ]
    },
    {
     "name": "stderr",
     "output_type": "stream",
     "text": [
      " 28%|██▊       | 8707/31192 [5:07:56<11:12:16,  1.79s/it]"
     ]
    },
    {
     "name": "stdout",
     "output_type": "stream",
     "text": [
      "Skipping filing detail download for 'https://www.sec.gov/Archives/edgar/data/0000064908/000102140801001876/0001.txt' due to network error: 404 Client Error: Not Found for url: https://www.sec.gov/Archives/edgar/data/0000064908/000102140801001876/0001.txt.\n",
      "Failed 7253,10-K,2002-12-31 00:00:00,2001-01-01 00:00:00 local variable 'filing_text' referenced before assignment\n"
     ]
    },
    {
     "name": "stderr",
     "output_type": "stream",
     "text": [
      " 28%|██▊       | 8789/31192 [5:11:39<26:08:12,  4.20s/it]"
     ]
    },
    {
     "name": "stdout",
     "output_type": "stream",
     "text": [
      "Failed 7317,10-K,2000-12-31 00:00:00,2000-01-01 00:00:00 Sorry, gvkey \"7317\" is invalid. Or we do not have this gvkey in our CIK-gvkey mapping table dataframe.\n",
      "Failed 7317,10-K,2000-12-31 00:00:00,2000-01-01 00:00:00 Sorry, gvkey \"7317\" is invalid. Or we do not have this gvkey in our CIK-gvkey mapping table dataframe.\n"
     ]
    },
    {
     "name": "stderr",
     "output_type": "stream",
     "text": [
      " 28%|██▊       | 8811/31192 [5:15:37<70:16:08, 11.30s/it]"
     ]
    },
    {
     "name": "stdout",
     "output_type": "stream",
     "text": [
      "Skipping filing detail download for 'https://www.sec.gov/Archives/edgar/data/0000202584/000006598401000070/0001.txt' due to network error: 404 Client Error: Not Found for url: https://www.sec.gov/Archives/edgar/data/0000202584/000006598401000070/0001.txt.\n",
      "Failed 7366,10-K,2001-12-31 00:00:00,2000-01-01 00:00:00 local variable 'filing_text' referenced before assignment\n"
     ]
    },
    {
     "name": "stderr",
     "output_type": "stream",
     "text": [
      " 28%|██▊       | 8813/31192 [5:15:39<51:33:15,  8.29s/it]"
     ]
    },
    {
     "name": "stdout",
     "output_type": "stream",
     "text": [
      "Skipping filing detail download for 'https://www.sec.gov/Archives/edgar/data/0000202584/000006598401000070/0001.txt' due to network error: 404 Client Error: Not Found for url: https://www.sec.gov/Archives/edgar/data/0000202584/000006598401000070/0001.txt.\n",
      "Failed 7366,10-K,2000-12-31 00:00:00,2000-01-01 00:00:00 local variable 'filing_text' referenced before assignment\n"
     ]
    },
    {
     "name": "stderr",
     "output_type": "stream",
     "text": [
      " 28%|██▊       | 8815/31192 [5:15:43<39:57:32,  6.43s/it]"
     ]
    },
    {
     "name": "stdout",
     "output_type": "stream",
     "text": [
      "Skipping filing detail download for 'https://www.sec.gov/Archives/edgar/data/0000202584/000006598401000070/0001.txt' due to network error: 404 Client Error: Not Found for url: https://www.sec.gov/Archives/edgar/data/0000202584/000006598401000070/0001.txt.\n",
      "Failed 7366,10-K,2002-12-31 00:00:00,2001-01-01 00:00:00 local variable 'filing_text' referenced before assignment\n"
     ]
    },
    {
     "name": "stderr",
     "output_type": "stream",
     "text": [
      " 28%|██▊       | 8841/31192 [5:20:05<69:11:58, 11.15s/it]"
     ]
    },
    {
     "name": "stdout",
     "output_type": "stream",
     "text": [
      "Skipping filing detail download for 'https://www.sec.gov/Archives/edgar/data/0000066004/000091431701000218/0001.txt' due to network error: 404 Client Error: Not Found for url: https://www.sec.gov/Archives/edgar/data/0000066004/000091431701000218/0001.txt.\n",
      "Failed 7368,10-K,2000-12-31 00:00:00,2000-01-01 00:00:00 local variable 'filing_text' referenced before assignment\n"
     ]
    },
    {
     "name": "stderr",
     "output_type": "stream",
     "text": [
      " 28%|██▊       | 8843/31192 [5:20:07<50:16:17,  8.10s/it]"
     ]
    },
    {
     "name": "stdout",
     "output_type": "stream",
     "text": [
      "Skipping filing detail download for 'https://www.sec.gov/Archives/edgar/data/0000066004/000091431701000218/0001.txt' due to network error: 404 Client Error: Not Found for url: https://www.sec.gov/Archives/edgar/data/0000066004/000091431701000218/0001.txt.\n",
      "Failed 7368,10-K,2000-12-31 00:00:00,2000-01-01 00:00:00 local variable 'filing_text' referenced before assignment\n"
     ]
    },
    {
     "name": "stderr",
     "output_type": "stream",
     "text": [
      " 28%|██▊       | 8845/31192 [5:20:09<36:42:56,  5.91s/it]"
     ]
    },
    {
     "name": "stdout",
     "output_type": "stream",
     "text": [
      "Skipping filing detail download for 'https://www.sec.gov/Archives/edgar/data/0000066004/000091431701000218/0001.txt' due to network error: 404 Client Error: Not Found for url: https://www.sec.gov/Archives/edgar/data/0000066004/000091431701000218/0001.txt.\n",
      "Failed 7368,10-K,2001-12-31 00:00:00,2000-01-01 00:00:00 local variable 'filing_text' referenced before assignment\n"
     ]
    },
    {
     "name": "stderr",
     "output_type": "stream",
     "text": [
      " 28%|██▊       | 8847/31192 [5:20:10<26:55:50,  4.34s/it]"
     ]
    },
    {
     "name": "stdout",
     "output_type": "stream",
     "text": [
      "Skipping filing detail download for 'https://www.sec.gov/Archives/edgar/data/0000066004/000091431701000218/0001.txt' due to network error: 404 Client Error: Not Found for url: https://www.sec.gov/Archives/edgar/data/0000066004/000091431701000218/0001.txt.\n",
      "Failed 7368,10-K,2002-12-31 00:00:00,2001-01-01 00:00:00 local variable 'filing_text' referenced before assignment\n"
     ]
    },
    {
     "name": "stderr",
     "output_type": "stream",
     "text": [
      " 29%|██▊       | 8905/31192 [5:21:36<7:38:03,  1.23s/it] "
     ]
    },
    {
     "name": "stdout",
     "output_type": "stream",
     "text": [
      "Skipping filing detail download for 'https://www.sec.gov/Archives/edgar/data/0000066479/000092701601001316/0001.txt' due to network error: 404 Client Error: Not Found for url: https://www.sec.gov/Archives/edgar/data/0000066479/000092701601001316/0001.txt.\n",
      "Failed 7409,10-K,2002-12-31 00:00:00,2001-01-01 00:00:00 local variable 'filing_text' referenced before assignment\n"
     ]
    },
    {
     "name": "stderr",
     "output_type": "stream",
     "text": [
      " 29%|██▊       | 8941/31192 [5:23:18<19:06:17,  3.09s/it]"
     ]
    },
    {
     "name": "stdout",
     "output_type": "stream",
     "text": [
      "Failed 7435,10-K,2015-12-31 00:00:00,2014-01-01 00:00:00 500 Server Error: Internal Server Error for url: https://efts.sec.gov/LATEST/search-index\n"
     ]
    },
    {
     "name": "stderr",
     "output_type": "stream",
     "text": [
      " 29%|██▊       | 8943/31192 [5:23:28<23:03:53,  3.73s/it]"
     ]
    },
    {
     "name": "stdout",
     "output_type": "stream",
     "text": [
      "Skipping filing detail download for 'https://www.sec.gov/Archives/edgar/data/0000066756/000006675601000014/0001.txt' due to network error: 404 Client Error: Not Found for url: https://www.sec.gov/Archives/edgar/data/0000066756/000006675601000014/0001.txt.\n",
      "Failed 7437,10-K,2000-12-31 00:00:00,2000-01-01 00:00:00 local variable 'filing_text' referenced before assignment\n"
     ]
    },
    {
     "name": "stderr",
     "output_type": "stream",
     "text": [
      " 29%|██▊       | 8945/31192 [5:23:30<17:56:02,  2.90s/it]"
     ]
    },
    {
     "name": "stdout",
     "output_type": "stream",
     "text": [
      "Skipping filing detail download for 'https://www.sec.gov/Archives/edgar/data/0000066756/000006675601000014/0001.txt' due to network error: 404 Client Error: Not Found for url: https://www.sec.gov/Archives/edgar/data/0000066756/000006675601000014/0001.txt.\n",
      "Failed 7437,10-K,2000-12-31 00:00:00,2000-01-01 00:00:00 local variable 'filing_text' referenced before assignment\n"
     ]
    },
    {
     "name": "stderr",
     "output_type": "stream",
     "text": [
      " 29%|██▊       | 8947/31192 [5:23:31<13:24:08,  2.17s/it]"
     ]
    },
    {
     "name": "stdout",
     "output_type": "stream",
     "text": [
      "Skipping filing detail download for 'https://www.sec.gov/Archives/edgar/data/0000066756/000006675601000014/0001.txt' due to network error: 404 Client Error: Not Found for url: https://www.sec.gov/Archives/edgar/data/0000066756/000006675601000014/0001.txt.\n",
      "Failed 7437,10-K,2001-12-31 00:00:00,2000-01-01 00:00:00 local variable 'filing_text' referenced before assignment\n"
     ]
    },
    {
     "name": "stderr",
     "output_type": "stream",
     "text": [
      " 29%|██▊       | 8949/31192 [5:23:33<10:41:18,  1.73s/it]"
     ]
    },
    {
     "name": "stdout",
     "output_type": "stream",
     "text": [
      "Skipping filing detail download for 'https://www.sec.gov/Archives/edgar/data/0000066756/000006675601000014/0001.txt' due to network error: 404 Client Error: Not Found for url: https://www.sec.gov/Archives/edgar/data/0000066756/000006675601000014/0001.txt.\n",
      "Failed 7437,10-K,2002-12-31 00:00:00,2001-01-01 00:00:00 local variable 'filing_text' referenced before assignment\n"
     ]
    },
    {
     "name": "stderr",
     "output_type": "stream",
     "text": [
      " 29%|██▉       | 8975/31192 [5:24:27<15:43:09,  2.55s/it]"
     ]
    },
    {
     "name": "stdout",
     "output_type": "stream",
     "text": [
      "Skipping filing detail download for 'https://www.sec.gov/Archives/edgar/data/0000202584/000006598401000070/0001.txt' due to network error: 404 Client Error: Not Found for url: https://www.sec.gov/Archives/edgar/data/0000202584/000006598401000070/0001.txt.\n",
      "Failed 7449,10-K,2000-12-31 00:00:00,2000-01-01 00:00:00 local variable 'filing_text' referenced before assignment\n"
     ]
    },
    {
     "name": "stderr",
     "output_type": "stream",
     "text": [
      " 29%|██▉       | 8977/31192 [5:24:29<12:50:52,  2.08s/it]"
     ]
    },
    {
     "name": "stdout",
     "output_type": "stream",
     "text": [
      "Skipping filing detail download for 'https://www.sec.gov/Archives/edgar/data/0000202584/000006598401000070/0001.txt' due to network error: 404 Client Error: Not Found for url: https://www.sec.gov/Archives/edgar/data/0000202584/000006598401000070/0001.txt.\n",
      "Failed 7449,10-K,2000-12-31 00:00:00,2000-01-01 00:00:00 local variable 'filing_text' referenced before assignment\n"
     ]
    },
    {
     "name": "stderr",
     "output_type": "stream",
     "text": [
      " 29%|██▉       | 8979/31192 [5:24:30<9:48:12,  1.59s/it] "
     ]
    },
    {
     "name": "stdout",
     "output_type": "stream",
     "text": [
      "Skipping filing detail download for 'https://www.sec.gov/Archives/edgar/data/0000202584/000006598401000070/0001.txt' due to network error: 404 Client Error: Not Found for url: https://www.sec.gov/Archives/edgar/data/0000202584/000006598401000070/0001.txt.\n",
      "Failed 7449,10-K,2001-12-31 00:00:00,2000-01-01 00:00:00 local variable 'filing_text' referenced before assignment\n"
     ]
    },
    {
     "name": "stderr",
     "output_type": "stream",
     "text": [
      " 29%|██▉       | 8981/31192 [5:24:33<9:01:36,  1.46s/it]"
     ]
    },
    {
     "name": "stdout",
     "output_type": "stream",
     "text": [
      "Skipping filing detail download for 'https://www.sec.gov/Archives/edgar/data/0000202584/000006598401000070/0001.txt' due to network error: 404 Client Error: Not Found for url: https://www.sec.gov/Archives/edgar/data/0000202584/000006598401000070/0001.txt.\n",
      "Failed 7449,10-K,2002-12-31 00:00:00,2001-01-01 00:00:00 local variable 'filing_text' referenced before assignment\n"
     ]
    },
    {
     "name": "stderr",
     "output_type": "stream",
     "text": [
      " 29%|██▉       | 9071/31192 [5:32:50<1:12:44,  5.07it/s] "
     ]
    },
    {
     "name": "stdout",
     "output_type": "stream",
     "text": [
      "Failed 7507,10-K,2001-12-31 00:00:00,2000-01-01 00:00:00 Sorry, gvkey \"7507\" is invalid. Or we do not have this gvkey in our CIK-gvkey mapping table dataframe.\n",
      "Failed 7507,10-K,2000-12-31 00:00:00,2000-01-01 00:00:00 Sorry, gvkey \"7507\" is invalid. Or we do not have this gvkey in our CIK-gvkey mapping table dataframe.\n",
      "Failed 7507,10-K,2003-12-31 00:00:00,2002-01-01 00:00:00 Sorry, gvkey \"7507\" is invalid. Or we do not have this gvkey in our CIK-gvkey mapping table dataframe.\n",
      "Failed 7507,10-K,2002-12-31 00:00:00,2001-01-01 00:00:00 Sorry, gvkey \"7507\" is invalid. Or we do not have this gvkey in our CIK-gvkey mapping table dataframe.\n",
      "Failed 7507,10-K,2005-12-31 00:00:00,2004-01-01 00:00:00 Sorry, gvkey \"7507\" is invalid. Or we do not have this gvkey in our CIK-gvkey mapping table dataframe.\n",
      "Failed 7507,10-K,2004-12-31 00:00:00,2003-01-01 00:00:00 Sorry, gvkey \"7507\" is invalid. Or we do not have this gvkey in our CIK-gvkey mapping table dataframe.\n"
     ]
    },
    {
     "name": "stderr",
     "output_type": "stream",
     "text": [
      " 29%|██▉       | 9099/31192 [5:33:16<5:50:06,  1.05it/s]"
     ]
    },
    {
     "name": "stdout",
     "output_type": "stream",
     "text": [
      "Failed 7562,10-K,2000-12-31 00:00:00,2000-01-01 00:00:00 Sorry, gvkey \"7562\" is invalid. Or we do not have this gvkey in our CIK-gvkey mapping table dataframe.\n",
      "Failed 7562,10-K,2000-12-31 00:00:00,2000-01-01 00:00:00 Sorry, gvkey \"7562\" is invalid. Or we do not have this gvkey in our CIK-gvkey mapping table dataframe.\n",
      "Failed 7574,10-K,2000-12-31 00:00:00,2000-01-01 00:00:00 Sorry, gvkey \"7574\" is invalid. Or we do not have this gvkey in our CIK-gvkey mapping table dataframe.\n",
      "Failed 7574,10-K,2000-12-31 00:00:00,2000-01-01 00:00:00 Sorry, gvkey \"7574\" is invalid. Or we do not have this gvkey in our CIK-gvkey mapping table dataframe.\n"
     ]
    },
    {
     "name": "stderr",
     "output_type": "stream",
     "text": [
      " 29%|██▉       | 9133/31192 [5:34:29<17:06:51,  2.79s/it]"
     ]
    },
    {
     "name": "stdout",
     "output_type": "stream",
     "text": [
      "Skipping filing detail download for 'https://www.sec.gov/Archives/edgar/data/0000764044/000076404401000004/0001.txt' due to network error: 404 Client Error: Not Found for url: https://www.sec.gov/Archives/edgar/data/0000764044/000076404401000004/0001.txt.\n",
      "Failed 7589,10-K,2000-12-31 00:00:00,2000-01-01 00:00:00 local variable 'filing_text' referenced before assignment\n"
     ]
    },
    {
     "name": "stderr",
     "output_type": "stream",
     "text": [
      " 29%|██▉       | 9137/31192 [5:34:30<10:49:31,  1.77s/it]"
     ]
    },
    {
     "name": "stdout",
     "output_type": "stream",
     "text": [
      "Skipping filing detail download for 'https://www.sec.gov/Archives/edgar/data/0000764044/000076404401000004/0001.txt' due to network error: 404 Client Error: Not Found for url: https://www.sec.gov/Archives/edgar/data/0000764044/000076404401000004/0001.txt.\n",
      "Failed 7589,10-K,2000-12-31 00:00:00,2000-01-01 00:00:00 local variable 'filing_text' referenced before assignment\n"
     ]
    },
    {
     "name": "stderr",
     "output_type": "stream",
     "text": [
      " 29%|██▉       | 9139/31192 [5:34:32<9:12:00,  1.50s/it] "
     ]
    },
    {
     "name": "stdout",
     "output_type": "stream",
     "text": [
      "Skipping filing detail download for 'https://www.sec.gov/Archives/edgar/data/0000764044/000076404401000004/0001.txt' due to network error: 404 Client Error: Not Found for url: https://www.sec.gov/Archives/edgar/data/0000764044/000076404401000004/0001.txt.\n",
      "Failed 7589,10-K,2001-12-31 00:00:00,2000-01-01 00:00:00 local variable 'filing_text' referenced before assignment\n"
     ]
    },
    {
     "name": "stderr",
     "output_type": "stream",
     "text": [
      " 29%|██▉       | 9141/31192 [5:34:34<8:15:06,  1.35s/it]"
     ]
    },
    {
     "name": "stdout",
     "output_type": "stream",
     "text": [
      "Skipping filing detail download for 'https://www.sec.gov/Archives/edgar/data/0000764044/000076404401000004/0001.txt' due to network error: 404 Client Error: Not Found for url: https://www.sec.gov/Archives/edgar/data/0000764044/000076404401000004/0001.txt.\n",
      "Failed 7589,10-K,2002-12-31 00:00:00,2001-01-01 00:00:00 local variable 'filing_text' referenced before assignment\n"
     ]
    },
    {
     "name": "stderr",
     "output_type": "stream",
     "text": [
      " 29%|██▉       | 9163/31192 [5:35:24<17:00:56,  2.78s/it]"
     ]
    },
    {
     "name": "stdout",
     "output_type": "stream",
     "text": [
      "Skipping filing detail download for 'https://www.sec.gov/Archives/edgar/data/0000068589/000006858901000002/0001.txt' due to network error: 404 Client Error: Not Found for url: https://www.sec.gov/Archives/edgar/data/0000068589/000006858901000002/0001.txt.\n",
      "Failed 7590,10-K,2000-12-31 00:00:00,2000-01-01 00:00:00 local variable 'filing_text' referenced before assignment\n"
     ]
    },
    {
     "name": "stderr",
     "output_type": "stream",
     "text": [
      " 29%|██▉       | 9165/31192 [5:35:26<13:43:44,  2.24s/it]"
     ]
    },
    {
     "name": "stdout",
     "output_type": "stream",
     "text": [
      "Skipping filing detail download for 'https://www.sec.gov/Archives/edgar/data/0000068589/000006858901000002/0001.txt' due to network error: 404 Client Error: Not Found for url: https://www.sec.gov/Archives/edgar/data/0000068589/000006858901000002/0001.txt.\n",
      "Failed 7590,10-K,2000-12-31 00:00:00,2000-01-01 00:00:00 local variable 'filing_text' referenced before assignment\n"
     ]
    },
    {
     "name": "stderr",
     "output_type": "stream",
     "text": [
      " 29%|██▉       | 9167/31192 [5:35:27<10:51:52,  1.78s/it]"
     ]
    },
    {
     "name": "stdout",
     "output_type": "stream",
     "text": [
      "Skipping filing detail download for 'https://www.sec.gov/Archives/edgar/data/0000068589/000006858901000002/0001.txt' due to network error: 404 Client Error: Not Found for url: https://www.sec.gov/Archives/edgar/data/0000068589/000006858901000002/0001.txt.\n",
      "Failed 7590,10-K,2001-12-31 00:00:00,2000-01-01 00:00:00 local variable 'filing_text' referenced before assignment\n"
     ]
    },
    {
     "name": "stderr",
     "output_type": "stream",
     "text": [
      " 29%|██▉       | 9169/31192 [5:35:29<9:24:19,  1.54s/it] "
     ]
    },
    {
     "name": "stdout",
     "output_type": "stream",
     "text": [
      "Skipping filing detail download for 'https://www.sec.gov/Archives/edgar/data/0000068589/000006858901000002/0001.txt' due to network error: 404 Client Error: Not Found for url: https://www.sec.gov/Archives/edgar/data/0000068589/000006858901000002/0001.txt.\n",
      "Failed 7590,10-K,2002-12-31 00:00:00,2001-01-01 00:00:00 local variable 'filing_text' referenced before assignment\n"
     ]
    },
    {
     "name": "stderr",
     "output_type": "stream",
     "text": [
      " 29%|██▉       | 9195/31192 [5:36:22<16:38:43,  2.72s/it]"
     ]
    },
    {
     "name": "stdout",
     "output_type": "stream",
     "text": [
      "Skipping filing detail download for 'https://www.sec.gov/Archives/edgar/data/0000717423/000093066101000634/0001.txt' due to network error: 404 Client Error: Not Found for url: https://www.sec.gov/Archives/edgar/data/0000717423/000093066101000634/0001.txt.\n",
      "Failed 7620,10-K,2000-12-31 00:00:00,2000-01-01 00:00:00 local variable 'filing_text' referenced before assignment\n"
     ]
    },
    {
     "name": "stderr",
     "output_type": "stream",
     "text": [
      " 29%|██▉       | 9197/31192 [5:36:24<13:33:09,  2.22s/it]"
     ]
    },
    {
     "name": "stdout",
     "output_type": "stream",
     "text": [
      "Skipping filing detail download for 'https://www.sec.gov/Archives/edgar/data/0000717423/000093066101000634/0001.txt' due to network error: 404 Client Error: Not Found for url: https://www.sec.gov/Archives/edgar/data/0000717423/000093066101000634/0001.txt.\n",
      "Failed 7620,10-K,2000-12-31 00:00:00,2000-01-01 00:00:00 local variable 'filing_text' referenced before assignment\n"
     ]
    },
    {
     "name": "stderr",
     "output_type": "stream",
     "text": [
      " 29%|██▉       | 9199/31192 [5:36:25<10:49:10,  1.77s/it]"
     ]
    },
    {
     "name": "stdout",
     "output_type": "stream",
     "text": [
      "Skipping filing detail download for 'https://www.sec.gov/Archives/edgar/data/0000717423/000093066101000634/0001.txt' due to network error: 404 Client Error: Not Found for url: https://www.sec.gov/Archives/edgar/data/0000717423/000093066101000634/0001.txt.\n",
      "Failed 7620,10-K,2001-12-31 00:00:00,2000-01-01 00:00:00 local variable 'filing_text' referenced before assignment\n"
     ]
    },
    {
     "name": "stderr",
     "output_type": "stream",
     "text": [
      " 29%|██▉       | 9201/31192 [5:36:28<10:28:40,  1.72s/it]"
     ]
    },
    {
     "name": "stdout",
     "output_type": "stream",
     "text": [
      "Skipping filing detail download for 'https://www.sec.gov/Archives/edgar/data/0000717423/000093066101000634/0001.txt' due to network error: 404 Client Error: Not Found for url: https://www.sec.gov/Archives/edgar/data/0000717423/000093066101000634/0001.txt.\n",
      "Failed 7620,10-K,2002-12-31 00:00:00,2001-01-01 00:00:00 local variable 'filing_text' referenced before assignment\n"
     ]
    },
    {
     "name": "stderr",
     "output_type": "stream",
     "text": [
      " 30%|██▉       | 9223/31192 [5:37:54<24:22:06,  3.99s/it]"
     ]
    },
    {
     "name": "stdout",
     "output_type": "stream",
     "text": [
      "Skipping filing detail download for 'https://www.sec.gov/Archives/edgar/data/0000070858/000095016801000538/0001.txt' due to network error: 404 Client Error: Not Found for url: https://www.sec.gov/Archives/edgar/data/0000070858/000095016801000538/0001.txt.\n",
      "Failed 7647,10-K,2000-12-31 00:00:00,2000-01-01 00:00:00 local variable 'filing_text' referenced before assignment\n"
     ]
    },
    {
     "name": "stderr",
     "output_type": "stream",
     "text": [
      " 30%|██▉       | 9225/31192 [5:37:56<18:47:11,  3.08s/it]"
     ]
    },
    {
     "name": "stdout",
     "output_type": "stream",
     "text": [
      "Skipping filing detail download for 'https://www.sec.gov/Archives/edgar/data/0000070858/000095016801000538/0001.txt' due to network error: 404 Client Error: Not Found for url: https://www.sec.gov/Archives/edgar/data/0000070858/000095016801000538/0001.txt.\n",
      "Failed 7647,10-K,2000-12-31 00:00:00,2000-01-01 00:00:00 local variable 'filing_text' referenced before assignment\n"
     ]
    },
    {
     "name": "stderr",
     "output_type": "stream",
     "text": [
      " 30%|██▉       | 9227/31192 [5:37:57<14:25:43,  2.36s/it]"
     ]
    },
    {
     "name": "stdout",
     "output_type": "stream",
     "text": [
      "Skipping filing detail download for 'https://www.sec.gov/Archives/edgar/data/0000070858/000095016801000538/0001.txt' due to network error: 404 Client Error: Not Found for url: https://www.sec.gov/Archives/edgar/data/0000070858/000095016801000538/0001.txt.\n",
      "Failed 7647,10-K,2001-12-31 00:00:00,2000-01-01 00:00:00 local variable 'filing_text' referenced before assignment\n"
     ]
    },
    {
     "name": "stderr",
     "output_type": "stream",
     "text": [
      " 30%|██▉       | 9229/31192 [5:37:59<11:36:26,  1.90s/it]"
     ]
    },
    {
     "name": "stdout",
     "output_type": "stream",
     "text": [
      "Skipping filing detail download for 'https://www.sec.gov/Archives/edgar/data/0000070858/000095016801000538/0001.txt' due to network error: 404 Client Error: Not Found for url: https://www.sec.gov/Archives/edgar/data/0000070858/000095016801000538/0001.txt.\n",
      "Failed 7647,10-K,2002-12-31 00:00:00,2001-01-01 00:00:00 local variable 'filing_text' referenced before assignment\n"
     ]
    },
    {
     "name": "stderr",
     "output_type": "stream",
     "text": [
      " 30%|██▉       | 9283/31192 [5:41:46<5:33:02,  1.10it/s] "
     ]
    },
    {
     "name": "stdout",
     "output_type": "stream",
     "text": [
      "Failed 7689,10-K,2000-12-31 00:00:00,2000-01-01 00:00:00 Sorry, gvkey \"7689\" is invalid. Or we do not have this gvkey in our CIK-gvkey mapping table dataframe.\n",
      "Failed 7689,10-K,2000-12-31 00:00:00,2000-01-01 00:00:00 Sorry, gvkey \"7689\" is invalid. Or we do not have this gvkey in our CIK-gvkey mapping table dataframe.\n",
      "Failed 7689,10-K,2001-12-31 00:00:00,2000-01-01 00:00:00 Sorry, gvkey \"7689\" is invalid. Or we do not have this gvkey in our CIK-gvkey mapping table dataframe.\n",
      "Failed 7689,10-K,2002-12-31 00:00:00,2001-01-01 00:00:00 Sorry, gvkey \"7689\" is invalid. Or we do not have this gvkey in our CIK-gvkey mapping table dataframe.\n"
     ]
    },
    {
     "name": "stderr",
     "output_type": "stream",
     "text": [
      " 30%|██▉       | 9309/31192 [5:42:24<16:07:35,  2.65s/it]"
     ]
    },
    {
     "name": "stdout",
     "output_type": "stream",
     "text": [
      "Skipping filing detail download for 'https://www.sec.gov/Archives/edgar/data/0000070145/000007014500000049/0001.htm' due to network error: 404 Client Error: Not Found for url: https://www.sec.gov/Archives/edgar/data/0000070145/000007014500000049/0001.htm.\n",
      "Failed 7733,10-K,2000-12-31 00:00:00,2000-01-01 00:00:00 local variable 'filing_text' referenced before assignment\n"
     ]
    },
    {
     "name": "stderr",
     "output_type": "stream",
     "text": [
      " 30%|██▉       | 9311/31192 [5:42:26<13:24:01,  2.20s/it]"
     ]
    },
    {
     "name": "stdout",
     "output_type": "stream",
     "text": [
      "Skipping filing detail download for 'https://www.sec.gov/Archives/edgar/data/0000070145/000007014500000049/0001.htm' due to network error: 404 Client Error: Not Found for url: https://www.sec.gov/Archives/edgar/data/0000070145/000007014500000049/0001.htm.\n",
      "Failed 7733,10-K,2000-12-31 00:00:00,2000-01-01 00:00:00 local variable 'filing_text' referenced before assignment\n"
     ]
    },
    {
     "name": "stderr",
     "output_type": "stream",
     "text": [
      " 30%|██▉       | 9313/31192 [5:42:28<11:03:21,  1.82s/it]"
     ]
    },
    {
     "name": "stdout",
     "output_type": "stream",
     "text": [
      "Skipping filing detail download for 'https://www.sec.gov/Archives/edgar/data/0000070145/000007014500000049/0001.htm' due to network error: 404 Client Error: Not Found for url: https://www.sec.gov/Archives/edgar/data/0000070145/000007014500000049/0001.htm.\n",
      "Failed 7733,10-K,2001-12-31 00:00:00,2000-01-01 00:00:00 local variable 'filing_text' referenced before assignment\n"
     ]
    },
    {
     "name": "stderr",
     "output_type": "stream",
     "text": [
      " 30%|███       | 9379/31192 [5:45:17<16:32:30,  2.73s/it]"
     ]
    },
    {
     "name": "stdout",
     "output_type": "stream",
     "text": [
      "Skipping filing detail download for 'https://www.sec.gov/Archives/edgar/data/0000070538/000007053800000040/0001.htm' due to network error: 404 Client Error: Not Found for url: https://www.sec.gov/Archives/edgar/data/0000070538/000007053800000040/0001.htm.\n",
      "Failed 7773,10-K,2000-12-31 00:00:00,2000-01-01 00:00:00 local variable 'filing_text' referenced before assignment\n"
     ]
    },
    {
     "name": "stderr",
     "output_type": "stream",
     "text": [
      " 30%|███       | 9383/31192 [5:45:19<10:30:48,  1.74s/it]"
     ]
    },
    {
     "name": "stdout",
     "output_type": "stream",
     "text": [
      "Skipping filing detail download for 'https://www.sec.gov/Archives/edgar/data/0000070538/000007053800000040/0001.htm' due to network error: 404 Client Error: Not Found for url: https://www.sec.gov/Archives/edgar/data/0000070538/000007053800000040/0001.htm.\n",
      "Failed 7773,10-K,2000-12-31 00:00:00,2000-01-01 00:00:00 local variable 'filing_text' referenced before assignment\n"
     ]
    },
    {
     "name": "stderr",
     "output_type": "stream",
     "text": [
      " 30%|███       | 9385/31192 [5:45:21<8:58:29,  1.48s/it] "
     ]
    },
    {
     "name": "stdout",
     "output_type": "stream",
     "text": [
      "Skipping filing detail download for 'https://www.sec.gov/Archives/edgar/data/0000070538/000007053800000040/0001.htm' due to network error: 404 Client Error: Not Found for url: https://www.sec.gov/Archives/edgar/data/0000070538/000007053800000040/0001.htm.\n",
      "Failed 7773,10-K,2001-12-31 00:00:00,2000-01-01 00:00:00 local variable 'filing_text' referenced before assignment\n"
     ]
    },
    {
     "name": "stderr",
     "output_type": "stream",
     "text": [
      " 30%|███       | 9395/31192 [5:45:50<20:09:48,  3.33s/it]"
     ]
    },
    {
     "name": "stdout",
     "output_type": "stream",
     "text": [
      "Failed 7837,10-K,2000-12-31 00:00:00,2000-01-01 00:00:00 Sorry, gvkey \"7837\" is invalid. Or we do not have this gvkey in our CIK-gvkey mapping table dataframe.\n",
      "Failed 7837,10-K,2000-12-31 00:00:00,2000-01-01 00:00:00 Sorry, gvkey \"7837\" is invalid. Or we do not have this gvkey in our CIK-gvkey mapping table dataframe.\n"
     ]
    },
    {
     "name": "stderr",
     "output_type": "stream",
     "text": [
      " 30%|███       | 9447/31192 [5:46:27<1:53:10,  3.20it/s] "
     ]
    },
    {
     "name": "stdout",
     "output_type": "stream",
     "text": [
      "Skipping filing detail download for 'https://www.sec.gov/Archives/edgar/data/0000202584/000006598401000070/0001.txt' due to network error: 404 Client Error: Not Found for url: https://www.sec.gov/Archives/edgar/data/0000202584/000006598401000070/0001.txt.\n",
      "Failed 7851,10-K,2000-12-31 00:00:00,2000-01-01 00:00:00 local variable 'filing_text' referenced before assignment\n"
     ]
    },
    {
     "name": "stderr",
     "output_type": "stream",
     "text": [
      " 30%|███       | 9449/31192 [5:46:29<3:17:47,  1.83it/s]"
     ]
    },
    {
     "name": "stdout",
     "output_type": "stream",
     "text": [
      "Skipping filing detail download for 'https://www.sec.gov/Archives/edgar/data/0000202584/000006598401000070/0001.txt' due to network error: 404 Client Error: Not Found for url: https://www.sec.gov/Archives/edgar/data/0000202584/000006598401000070/0001.txt.\n",
      "Failed 7851,10-K,2000-12-31 00:00:00,2000-01-01 00:00:00 local variable 'filing_text' referenced before assignment\n"
     ]
    },
    {
     "name": "stderr",
     "output_type": "stream",
     "text": [
      " 30%|███       | 9451/31192 [5:46:30<3:11:45,  1.89it/s]"
     ]
    },
    {
     "name": "stdout",
     "output_type": "stream",
     "text": [
      "Skipping filing detail download for 'https://www.sec.gov/Archives/edgar/data/0000202584/000006598401000070/0001.txt' due to network error: 404 Client Error: Not Found for url: https://www.sec.gov/Archives/edgar/data/0000202584/000006598401000070/0001.txt.\n",
      "Failed 7851,10-K,2001-12-31 00:00:00,2000-01-01 00:00:00 local variable 'filing_text' referenced before assignment\n"
     ]
    },
    {
     "name": "stderr",
     "output_type": "stream",
     "text": [
      " 30%|███       | 9453/31192 [5:46:32<4:20:01,  1.39it/s]"
     ]
    },
    {
     "name": "stdout",
     "output_type": "stream",
     "text": [
      "Skipping filing detail download for 'https://www.sec.gov/Archives/edgar/data/0000202584/000006598401000070/0001.txt' due to network error: 404 Client Error: Not Found for url: https://www.sec.gov/Archives/edgar/data/0000202584/000006598401000070/0001.txt.\n",
      "Failed 7851,10-K,2002-12-31 00:00:00,2001-01-01 00:00:00 local variable 'filing_text' referenced before assignment\n"
     ]
    },
    {
     "name": "stderr",
     "output_type": "stream",
     "text": [
      " 30%|███       | 9511/31192 [5:51:05<17:34:38,  2.92s/it]"
     ]
    },
    {
     "name": "stdout",
     "output_type": "stream",
     "text": [
      "Skipping filing detail download for 'https://www.sec.gov/Archives/edgar/data/0000814453/000089581301000111/0001.txt' due to network error: 404 Client Error: Not Found for url: https://www.sec.gov/Archives/edgar/data/0000814453/000089581301000111/0001.txt.\n",
      "Failed 7875,10-K,2000-12-31 00:00:00,2000-01-01 00:00:00 local variable 'filing_text' referenced before assignment\n"
     ]
    },
    {
     "name": "stderr",
     "output_type": "stream",
     "text": [
      " 31%|███       | 9515/31192 [5:51:07<10:57:59,  1.82s/it]"
     ]
    },
    {
     "name": "stdout",
     "output_type": "stream",
     "text": [
      "Skipping filing detail download for 'https://www.sec.gov/Archives/edgar/data/0000814453/000089581301000111/0001.txt' due to network error: 404 Client Error: Not Found for url: https://www.sec.gov/Archives/edgar/data/0000814453/000089581301000111/0001.txt.\n",
      "Failed 7875,10-K,2000-12-31 00:00:00,2000-01-01 00:00:00 local variable 'filing_text' referenced before assignment\n"
     ]
    },
    {
     "name": "stderr",
     "output_type": "stream",
     "text": [
      " 31%|███       | 9517/31192 [5:51:09<9:21:57,  1.56s/it] "
     ]
    },
    {
     "name": "stdout",
     "output_type": "stream",
     "text": [
      "Skipping filing detail download for 'https://www.sec.gov/Archives/edgar/data/0000814453/000089581301000111/0001.txt' due to network error: 404 Client Error: Not Found for url: https://www.sec.gov/Archives/edgar/data/0000814453/000089581301000111/0001.txt.\n",
      "Failed 7875,10-K,2001-12-31 00:00:00,2000-01-01 00:00:00 local variable 'filing_text' referenced before assignment\n"
     ]
    },
    {
     "name": "stderr",
     "output_type": "stream",
     "text": [
      " 31%|███       | 9519/31192 [5:51:10<8:22:47,  1.39s/it]"
     ]
    },
    {
     "name": "stdout",
     "output_type": "stream",
     "text": [
      "Skipping filing detail download for 'https://www.sec.gov/Archives/edgar/data/0000814453/000089581301000111/0001.txt' due to network error: 404 Client Error: Not Found for url: https://www.sec.gov/Archives/edgar/data/0000814453/000089581301000111/0001.txt.\n",
      "Failed 7875,10-K,2002-12-31 00:00:00,2001-01-01 00:00:00 local variable 'filing_text' referenced before assignment\n"
     ]
    },
    {
     "name": "stderr",
     "output_type": "stream",
     "text": [
      " 31%|███       | 9567/31192 [5:54:26<42:00:52,  6.99s/it]"
     ]
    },
    {
     "name": "stdout",
     "output_type": "stream",
     "text": [
      "Skipping filing detail download for 'https://www.sec.gov/Archives/edgar/data/0001079182/000107918201000020/0001.htm' due to network error: 404 Client Error: Not Found for url: https://www.sec.gov/Archives/edgar/data/0001079182/000107918201000020/0001.htm.\n",
      "Failed 7892,10-K,2000-12-31 00:00:00,2000-01-01 00:00:00 local variable 'filing_text' referenced before assignment\n"
     ]
    },
    {
     "name": "stderr",
     "output_type": "stream",
     "text": [
      " 31%|███       | 9569/31192 [5:54:29<31:34:08,  5.26s/it]"
     ]
    },
    {
     "name": "stdout",
     "output_type": "stream",
     "text": [
      "Skipping filing detail download for 'https://www.sec.gov/Archives/edgar/data/0001079182/000107918201000020/0001.htm' due to network error: 404 Client Error: Not Found for url: https://www.sec.gov/Archives/edgar/data/0001079182/000107918201000020/0001.htm.\n",
      "Failed 7892,10-K,2000-12-31 00:00:00,2000-01-01 00:00:00 local variable 'filing_text' referenced before assignment\n"
     ]
    },
    {
     "name": "stderr",
     "output_type": "stream",
     "text": [
      " 31%|███       | 9571/31192 [5:54:30<22:56:52,  3.82s/it]"
     ]
    },
    {
     "name": "stdout",
     "output_type": "stream",
     "text": [
      "Skipping filing detail download for 'https://www.sec.gov/Archives/edgar/data/0001079182/000107918201000020/0001.htm' due to network error: 404 Client Error: Not Found for url: https://www.sec.gov/Archives/edgar/data/0001079182/000107918201000020/0001.htm.\n",
      "Failed 7892,10-K,2001-12-31 00:00:00,2000-01-01 00:00:00 local variable 'filing_text' referenced before assignment\n"
     ]
    },
    {
     "name": "stderr",
     "output_type": "stream",
     "text": [
      " 31%|███       | 9573/31192 [5:54:31<16:58:29,  2.83s/it]"
     ]
    },
    {
     "name": "stdout",
     "output_type": "stream",
     "text": [
      "Skipping filing detail download for 'https://www.sec.gov/Archives/edgar/data/0001079182/000107918201000020/0001.htm' due to network error: 404 Client Error: Not Found for url: https://www.sec.gov/Archives/edgar/data/0001079182/000107918201000020/0001.htm.\n",
      "Failed 7892,10-K,2002-12-31 00:00:00,2001-01-01 00:00:00 local variable 'filing_text' referenced before assignment\n"
     ]
    },
    {
     "name": "stderr",
     "output_type": "stream",
     "text": [
      " 31%|███       | 9729/31192 [5:59:05<8:34:09,  1.44s/it] "
     ]
    }
   ],
   "source": [
    "os.makedirs('fallen_angels/raw', exist_ok = True)\n",
    "\n",
    "cached_reports = {}\n",
    "total = cache_miss = 0\n",
    "\n",
    "counter = 0\n",
    "# for _ in itertools.product(fallen_angels.values.tolist(), ['10-K','10-Q']):\n",
    "for _ in itertools.product(scrape_edgar.values.tolist(), ['10-K','10-Q']):\n",
    "    counter += 1\n",
    "\n",
    "# for rows, report_type in (pbar:=tqdm(itertools.product(fallen_angels.values.tolist(), ['10-K','10-Q']), total= counter)):\n",
    "for rows, report_type in (pbar:=tqdm(itertools.product(scrape_edgar.values.tolist(), ['10-K','10-Q']), total= counter)):\n",
    "\n",
    "    gvkey, gsector, year, ticker, cik, grade, date = rows\n",
    "    # pbar.set_description(f\"{report_type}, {date.strftime('%Y-%m-%d')}, {ticker}, {grade}\")\n",
    " \n",
    "    if gvkey not in cached_reports:                             ## GVKEY is not in the cache\n",
    "        cached_reports[gvkey] = set()\n",
    "    \n",
    "    if year not in cached_reports[gvkey]:                           ## year is NOT in the cache\n",
    "        cache_miss += 1\n",
    "        date = datetime(year=date.year, month=12, day=31)\n",
    "        fetch_reports((report_type, date, gvkey, grade))\n",
    "        cached_reports[gvkey].add(year)\n",
    "\n",
    "    if year - 1 not in cached_reports[gvkey]:                       ## year - 1 is NOT in the cache\n",
    "        cache_miss += 1\n",
    "        date = datetime(year=max(2000, date.year - 1), month=12, day=31)\n",
    "        fetch_reports((report_type, date, gvkey, grade))\n",
    "        cached_reports[gvkey].add(year-1)\n",
    "    total += 2"
   ]
  },
  {
   "cell_type": "code",
   "execution_count": null,
   "id": "e5c5eb1d",
   "metadata": {},
   "outputs": [
    {
     "name": "stdout",
     "output_type": "stream",
     "text": [
      "62384 17806 Cache Speedup: 0.714574249807643\n"
     ]
    }
   ],
   "source": [
    "print(total, cache_miss, \"Cache Speedup:\", (total - cache_miss)/total)"
   ]
  },
  {
   "cell_type": "code",
   "execution_count": null,
   "id": "6514427d",
   "metadata": {},
   "outputs": [
    {
     "data": {
      "text/plain": [
       "17806"
      ]
     },
     "execution_count": 115,
     "metadata": {},
     "output_type": "execute_result"
    }
   ],
   "source": [
    "cache_miss"
   ]
  },
  {
   "cell_type": "code",
   "execution_count": 28,
   "id": "7b571a91",
   "metadata": {},
   "outputs": [
    {
     "name": "stdout",
     "output_type": "stream",
     "text": [
      "/Users/rchaks/.zshenv:1: bad assignment\n",
      "/Users/rchaks/Code/GitHub/fin-modelling/all_industries\n"
     ]
    }
   ],
   "source": [
    "!pwd"
   ]
  },
  {
   "cell_type": "code",
   "execution_count": 123,
   "id": "6ffbb9be",
   "metadata": {},
   "outputs": [
    {
     "data": {
      "text/plain": [
       "124"
      ]
     },
     "execution_count": 123,
     "metadata": {},
     "output_type": "execute_result"
    }
   ],
   "source": [
    "def find_files(directory: str, extension: str = '.html'):\n",
    "    file_list = []\n",
    "    for path, dirnames, filenames in os.walk(directory):\n",
    "        for file in filenames:\n",
    "            if (os.path.isfile(f'{path}/{file}') and file.endswith(extension)):\n",
    "                file_list.append(f'{path}/{file}')\n",
    "    return file_list\n",
    "\n",
    "len(find_files('./data/raw'))"
   ]
  },
  {
   "cell_type": "markdown",
   "id": "b8706960",
   "metadata": {},
   "source": [
    "# Parse Files"
   ]
  },
  {
   "cell_type": "code",
   "execution_count": 124,
   "id": "e1532111",
   "metadata": {},
   "outputs": [
    {
     "name": "stdout",
     "output_type": "stream",
     "text": [
      "/Users/rchaks/.zshenv:1: bad assignment\n",
      "data/raw: 100%|█████████████████████████████████| 1/1 [00:00<00:00, 1170.94it/s]\n",
      "\n",
      "\n",
      "Number of cores used: 8\n",
      "\n",
      "Number of files found: 124\n",
      "\n",
      "Processing form:10-K.html, Ticker:0000789073; dated: 2007-12-31: 100%|█| 124/124\n",
      "\n",
      "\n"
     ]
    }
   ],
   "source": [
    "!python3 parse.py -m x -f data/raw -o data/processed"
   ]
  },
  {
   "cell_type": "markdown",
   "id": "cbdf162a",
   "metadata": {},
   "source": [
    "# Save Text"
   ]
  },
  {
   "cell_type": "code",
   "execution_count": 125,
   "id": "3c1ec9a4",
   "metadata": {},
   "outputs": [
    {
     "data": {
      "text/html": [
       "<div>\n",
       "<style scoped>\n",
       "    .dataframe tbody tr th:only-of-type {\n",
       "        vertical-align: middle;\n",
       "    }\n",
       "\n",
       "    .dataframe tbody tr th {\n",
       "        vertical-align: top;\n",
       "    }\n",
       "\n",
       "    .dataframe thead th {\n",
       "        text-align: right;\n",
       "    }\n",
       "</style>\n",
       "<table border=\"1\" class=\"dataframe\">\n",
       "  <thead>\n",
       "    <tr style=\"text-align: right;\">\n",
       "      <th></th>\n",
       "      <th>filename</th>\n",
       "    </tr>\n",
       "  </thead>\n",
       "  <tbody>\n",
       "    <tr>\n",
       "      <th>0</th>\n",
       "      <td>./data/processed/txt/fallen/0001144519_2005-12...</td>\n",
       "    </tr>\n",
       "    <tr>\n",
       "      <th>1</th>\n",
       "      <td>./data/processed/txt/fallen/0000027500_2001-11...</td>\n",
       "    </tr>\n",
       "    <tr>\n",
       "      <th>2</th>\n",
       "      <td>./data/processed/txt/fallen/0000095521_2005-12...</td>\n",
       "    </tr>\n",
       "    <tr>\n",
       "      <th>3</th>\n",
       "      <td>./data/processed/txt/fallen/0000003333_2005-05...</td>\n",
       "    </tr>\n",
       "    <tr>\n",
       "      <th>4</th>\n",
       "      <td>./data/processed/txt/fallen/0001016179_2001-06...</td>\n",
       "    </tr>\n",
       "    <tr>\n",
       "      <th>...</th>\n",
       "      <td>...</td>\n",
       "    </tr>\n",
       "    <tr>\n",
       "      <th>119</th>\n",
       "      <td>./data/processed/txt/invest/0000003333_2003-05...</td>\n",
       "    </tr>\n",
       "    <tr>\n",
       "      <th>120</th>\n",
       "      <td>./data/processed/txt/invest/0000100493_2004-12...</td>\n",
       "    </tr>\n",
       "    <tr>\n",
       "      <th>121</th>\n",
       "      <td>./data/processed/txt/invest/0000003333_2003-07...</td>\n",
       "    </tr>\n",
       "    <tr>\n",
       "      <th>122</th>\n",
       "      <td>./data/processed/txt/invest/0000008868_2011-03...</td>\n",
       "    </tr>\n",
       "    <tr>\n",
       "      <th>123</th>\n",
       "      <td>./data/processed/txt/invest/0000095521_2005-06...</td>\n",
       "    </tr>\n",
       "  </tbody>\n",
       "</table>\n",
       "<p>124 rows × 1 columns</p>\n",
       "</div>"
      ],
      "text/plain": [
       "                                              filename\n",
       "0    ./data/processed/txt/fallen/0001144519_2005-12...\n",
       "1    ./data/processed/txt/fallen/0000027500_2001-11...\n",
       "2    ./data/processed/txt/fallen/0000095521_2005-12...\n",
       "3    ./data/processed/txt/fallen/0000003333_2005-05...\n",
       "4    ./data/processed/txt/fallen/0001016179_2001-06...\n",
       "..                                                 ...\n",
       "119  ./data/processed/txt/invest/0000003333_2003-05...\n",
       "120  ./data/processed/txt/invest/0000100493_2004-12...\n",
       "121  ./data/processed/txt/invest/0000003333_2003-07...\n",
       "122  ./data/processed/txt/invest/0000008868_2011-03...\n",
       "123  ./data/processed/txt/invest/0000095521_2005-06...\n",
       "\n",
       "[124 rows x 1 columns]"
      ]
     },
     "execution_count": 125,
     "metadata": {},
     "output_type": "execute_result"
    }
   ],
   "source": [
    "path = './data/processed'\n",
    "\n",
    "text_data = pd.DataFrame(find_files(path, '.txt'),columns=['filename'])\n",
    "# text_data['text'] = 'hi'    \n",
    "text_data"
   ]
  },
  {
   "cell_type": "code",
   "execution_count": 126,
   "id": "bf487354",
   "metadata": {},
   "outputs": [
    {
     "name": "stdout",
     "output_type": "stream",
     "text": [
      "(124, 1)\n"
     ]
    },
    {
     "data": {
      "text/html": [
       "<div>\n",
       "<style scoped>\n",
       "    .dataframe tbody tr th:only-of-type {\n",
       "        vertical-align: middle;\n",
       "    }\n",
       "\n",
       "    .dataframe tbody tr th {\n",
       "        vertical-align: top;\n",
       "    }\n",
       "\n",
       "    .dataframe thead th {\n",
       "        text-align: right;\n",
       "    }\n",
       "</style>\n",
       "<table border=\"1\" class=\"dataframe\">\n",
       "  <thead>\n",
       "    <tr style=\"text-align: right;\">\n",
       "      <th></th>\n",
       "      <th>filename</th>\n",
       "    </tr>\n",
       "  </thead>\n",
       "  <tbody>\n",
       "    <tr>\n",
       "      <th>0</th>\n",
       "      <td>./data/processed/txt/fallen/0001144519_2005-12...</td>\n",
       "    </tr>\n",
       "    <tr>\n",
       "      <th>1</th>\n",
       "      <td>./data/processed/txt/fallen/0000027500_2001-11...</td>\n",
       "    </tr>\n",
       "    <tr>\n",
       "      <th>2</th>\n",
       "      <td>./data/processed/txt/fallen/0000095521_2005-12...</td>\n",
       "    </tr>\n",
       "  </tbody>\n",
       "</table>\n",
       "</div>"
      ],
      "text/plain": [
       "                                            filename\n",
       "0  ./data/processed/txt/fallen/0001144519_2005-12...\n",
       "1  ./data/processed/txt/fallen/0000027500_2001-11...\n",
       "2  ./data/processed/txt/fallen/0000095521_2005-12..."
      ]
     },
     "execution_count": 126,
     "metadata": {},
     "output_type": "execute_result"
    }
   ],
   "source": [
    "print(text_data.shape)\n",
    "text_data.head(3)"
   ]
  },
  {
   "cell_type": "code",
   "execution_count": 127,
   "id": "738e7e61",
   "metadata": {},
   "outputs": [
    {
     "data": {
      "text/html": [
       "<div>\n",
       "<style scoped>\n",
       "    .dataframe tbody tr th:only-of-type {\n",
       "        vertical-align: middle;\n",
       "    }\n",
       "\n",
       "    .dataframe tbody tr th {\n",
       "        vertical-align: top;\n",
       "    }\n",
       "\n",
       "    .dataframe thead th {\n",
       "        text-align: right;\n",
       "    }\n",
       "</style>\n",
       "<table border=\"1\" class=\"dataframe\">\n",
       "  <thead>\n",
       "    <tr style=\"text-align: right;\">\n",
       "      <th></th>\n",
       "      <th>filename</th>\n",
       "      <th>text</th>\n",
       "      <th>cik</th>\n",
       "      <th>date</th>\n",
       "      <th>grade</th>\n",
       "    </tr>\n",
       "  </thead>\n",
       "  <tbody>\n",
       "    <tr>\n",
       "      <th>0</th>\n",
       "      <td>./data/processed/txt/fallen/0001144519_2005-12...</td>\n",
       "      <td>10-K 1 a06-6603_110k.htm ANNUAL REPORT PURSUAN...</td>\n",
       "      <td>1144519</td>\n",
       "      <td>2005-12-31</td>\n",
       "      <td>fallen</td>\n",
       "    </tr>\n",
       "    <tr>\n",
       "      <th>1</th>\n",
       "      <td>./data/processed/txt/fallen/0000027500_2001-11...</td>\n",
       "      <td>10-Q 1 d93287e10-q.txt FORM 10-Q FOR QUARTER E...</td>\n",
       "      <td>27500</td>\n",
       "      <td>2001-11-25</td>\n",
       "      <td>fallen</td>\n",
       "    </tr>\n",
       "    <tr>\n",
       "      <th>2</th>\n",
       "      <td>./data/processed/txt/fallen/0000095521_2005-12...</td>\n",
       "      <td>10-Q 1 d10q.htm FORM 10-Q Form 10-Q UNITED STA...</td>\n",
       "      <td>95521</td>\n",
       "      <td>2005-12-03</td>\n",
       "      <td>fallen</td>\n",
       "    </tr>\n",
       "    <tr>\n",
       "      <th>3</th>\n",
       "      <td>./data/processed/txt/fallen/0000003333_2005-05...</td>\n",
       "      <td>10-Q 1 v09820e10vq.htm FORM 10-Q e10vq Table o...</td>\n",
       "      <td>3333</td>\n",
       "      <td>2005-05-05</td>\n",
       "      <td>fallen</td>\n",
       "    </tr>\n",
       "    <tr>\n",
       "      <th>4</th>\n",
       "      <td>./data/processed/txt/fallen/0001016179_2001-06...</td>\n",
       "      <td>10-Q 1 p65397e10-q.htm 10-Q e10-q UNITED STATE...</td>\n",
       "      <td>1016179</td>\n",
       "      <td>2001-06-30</td>\n",
       "      <td>fallen</td>\n",
       "    </tr>\n",
       "  </tbody>\n",
       "</table>\n",
       "</div>"
      ],
      "text/plain": [
       "                                            filename  \\\n",
       "0  ./data/processed/txt/fallen/0001144519_2005-12...   \n",
       "1  ./data/processed/txt/fallen/0000027500_2001-11...   \n",
       "2  ./data/processed/txt/fallen/0000095521_2005-12...   \n",
       "3  ./data/processed/txt/fallen/0000003333_2005-05...   \n",
       "4  ./data/processed/txt/fallen/0001016179_2001-06...   \n",
       "\n",
       "                                                text      cik       date  \\\n",
       "0  10-K 1 a06-6603_110k.htm ANNUAL REPORT PURSUAN...  1144519 2005-12-31   \n",
       "1  10-Q 1 d93287e10-q.txt FORM 10-Q FOR QUARTER E...    27500 2001-11-25   \n",
       "2  10-Q 1 d10q.htm FORM 10-Q Form 10-Q UNITED STA...    95521 2005-12-03   \n",
       "3  10-Q 1 v09820e10vq.htm FORM 10-Q e10vq Table o...     3333 2005-05-05   \n",
       "4  10-Q 1 p65397e10-q.htm 10-Q e10-q UNITED STATE...  1016179 2001-06-30   \n",
       "\n",
       "    grade  \n",
       "0  fallen  \n",
       "1  fallen  \n",
       "2  fallen  \n",
       "3  fallen  \n",
       "4  fallen  "
      ]
     },
     "execution_count": 127,
     "metadata": {},
     "output_type": "execute_result"
    }
   ],
   "source": [
    "for i in range(len(text_data)):\n",
    "    with open(text_data.loc[i,'filename'],mode='r',encoding = 'cp850') as file:\n",
    "        all_of_it = file.read()\n",
    "        text_data.loc[i,'text'] = all_of_it\n",
    "    \n",
    "\n",
    "text_data['cik'] = text_data.filename.str.split('/').apply(lambda x: int(x[-1].split('_')[0]))\n",
    "text_data['date'] = pd.to_datetime(text_data.filename.str.split('/').apply(lambda x: (x[-1].split('_')[1])))\n",
    "text_data['grade'] = text_data.filename.str.split('/').apply(lambda x: (x[-2]))\n",
    "text_data.head()"
   ]
  },
  {
   "cell_type": "code",
   "execution_count": 143,
   "id": "e6d10e3a",
   "metadata": {},
   "outputs": [
    {
     "data": {
      "text/html": [
       "<div>\n",
       "<style scoped>\n",
       "    .dataframe tbody tr th:only-of-type {\n",
       "        vertical-align: middle;\n",
       "    }\n",
       "\n",
       "    .dataframe tbody tr th {\n",
       "        vertical-align: top;\n",
       "    }\n",
       "\n",
       "    .dataframe thead th {\n",
       "        text-align: right;\n",
       "    }\n",
       "</style>\n",
       "<table border=\"1\" class=\"dataframe\">\n",
       "  <thead>\n",
       "    <tr style=\"text-align: right;\">\n",
       "      <th></th>\n",
       "      <th>filename</th>\n",
       "      <th>text</th>\n",
       "      <th>cik</th>\n",
       "      <th>date</th>\n",
       "      <th>grade</th>\n",
       "      <th>clean_text</th>\n",
       "      <th>positive_sentiment_mean</th>\n",
       "      <th>positive_sentiment_std</th>\n",
       "      <th>negetive_sentiment_mean</th>\n",
       "      <th>negetive_sentiment_std</th>\n",
       "      <th>total_words</th>\n",
       "      <th>risky_words</th>\n",
       "    </tr>\n",
       "  </thead>\n",
       "  <tbody>\n",
       "    <tr>\n",
       "      <th>0</th>\n",
       "      <td>./data/processed/txt/fallen/0001144519_2005-12...</td>\n",
       "      <td>10-K 1 a06-6603_110k.htm ANNUAL REPORT PURSUAN...</td>\n",
       "      <td>1144519</td>\n",
       "      <td>2005-12-31</td>\n",
       "      <td>fallen</td>\n",
       "      <td>10k 1 a066603110k.htm annual report pursuant s...</td>\n",
       "      <td>0.116778</td>\n",
       "      <td>0.159499</td>\n",
       "      <td>0.043752</td>\n",
       "      <td>0.098366</td>\n",
       "      <td>39397</td>\n",
       "      <td>72</td>\n",
       "    </tr>\n",
       "    <tr>\n",
       "      <th>1</th>\n",
       "      <td>./data/processed/txt/fallen/0000027500_2001-11...</td>\n",
       "      <td>10-Q 1 d93287e10-q.txt FORM 10-Q FOR QUARTER E...</td>\n",
       "      <td>27500</td>\n",
       "      <td>2001-11-25</td>\n",
       "      <td>fallen</td>\n",
       "      <td>10q 1 d93287e10q.txt form 10q quarter ended no...</td>\n",
       "      <td>0.020338</td>\n",
       "      <td>0.090538</td>\n",
       "      <td>0.004755</td>\n",
       "      <td>0.044588</td>\n",
       "      <td>4064</td>\n",
       "      <td>6</td>\n",
       "    </tr>\n",
       "    <tr>\n",
       "      <th>2</th>\n",
       "      <td>./data/processed/txt/fallen/0000095521_2005-12...</td>\n",
       "      <td>10-Q 1 d10q.htm FORM 10-Q Form 10-Q UNITED STA...</td>\n",
       "      <td>95521</td>\n",
       "      <td>2005-12-03</td>\n",
       "      <td>fallen</td>\n",
       "      <td>10q 1 d10q.htm form 10q form 10q united state ...</td>\n",
       "      <td>0.112517</td>\n",
       "      <td>0.163165</td>\n",
       "      <td>0.023437</td>\n",
       "      <td>0.069721</td>\n",
       "      <td>7228</td>\n",
       "      <td>7</td>\n",
       "    </tr>\n",
       "    <tr>\n",
       "      <th>3</th>\n",
       "      <td>./data/processed/txt/fallen/0000003333_2005-05...</td>\n",
       "      <td>10-Q 1 v09820e10vq.htm FORM 10-Q e10vq Table o...</td>\n",
       "      <td>3333</td>\n",
       "      <td>2005-05-05</td>\n",
       "      <td>fallen</td>\n",
       "      <td>10q 1 v09820e10vq.htm form 10q e10vq table con...</td>\n",
       "      <td>0.119319</td>\n",
       "      <td>0.158512</td>\n",
       "      <td>0.045622</td>\n",
       "      <td>0.107093</td>\n",
       "      <td>9659</td>\n",
       "      <td>4</td>\n",
       "    </tr>\n",
       "    <tr>\n",
       "      <th>4</th>\n",
       "      <td>./data/processed/txt/fallen/0001016179_2001-06...</td>\n",
       "      <td>10-Q 1 p65397e10-q.htm 10-Q e10-q UNITED STATE...</td>\n",
       "      <td>1016179</td>\n",
       "      <td>2001-06-30</td>\n",
       "      <td>fallen</td>\n",
       "      <td>10q 1 p65397e10q.htm 10q e10q united state sec...</td>\n",
       "      <td>0.103316</td>\n",
       "      <td>0.156175</td>\n",
       "      <td>0.024699</td>\n",
       "      <td>0.084460</td>\n",
       "      <td>6439</td>\n",
       "      <td>3</td>\n",
       "    </tr>\n",
       "  </tbody>\n",
       "</table>\n",
       "</div>"
      ],
      "text/plain": [
       "                                            filename  \\\n",
       "0  ./data/processed/txt/fallen/0001144519_2005-12...   \n",
       "1  ./data/processed/txt/fallen/0000027500_2001-11...   \n",
       "2  ./data/processed/txt/fallen/0000095521_2005-12...   \n",
       "3  ./data/processed/txt/fallen/0000003333_2005-05...   \n",
       "4  ./data/processed/txt/fallen/0001016179_2001-06...   \n",
       "\n",
       "                                                text      cik        date  \\\n",
       "0  10-K 1 a06-6603_110k.htm ANNUAL REPORT PURSUAN...  1144519  2005-12-31   \n",
       "1  10-Q 1 d93287e10-q.txt FORM 10-Q FOR QUARTER E...    27500  2001-11-25   \n",
       "2  10-Q 1 d10q.htm FORM 10-Q Form 10-Q UNITED STA...    95521  2005-12-03   \n",
       "3  10-Q 1 v09820e10vq.htm FORM 10-Q e10vq Table o...     3333  2005-05-05   \n",
       "4  10-Q 1 p65397e10-q.htm 10-Q e10-q UNITED STATE...  1016179  2001-06-30   \n",
       "\n",
       "    grade                                         clean_text  \\\n",
       "0  fallen  10k 1 a066603110k.htm annual report pursuant s...   \n",
       "1  fallen  10q 1 d93287e10q.txt form 10q quarter ended no...   \n",
       "2  fallen  10q 1 d10q.htm form 10q form 10q united state ...   \n",
       "3  fallen  10q 1 v09820e10vq.htm form 10q e10vq table con...   \n",
       "4  fallen  10q 1 p65397e10q.htm 10q e10q united state sec...   \n",
       "\n",
       "   positive_sentiment_mean  positive_sentiment_std  negetive_sentiment_mean  \\\n",
       "0                 0.116778                0.159499                 0.043752   \n",
       "1                 0.020338                0.090538                 0.004755   \n",
       "2                 0.112517                0.163165                 0.023437   \n",
       "3                 0.119319                0.158512                 0.045622   \n",
       "4                 0.103316                0.156175                 0.024699   \n",
       "\n",
       "   negetive_sentiment_std  total_words  risky_words  \n",
       "0                0.098366        39397           72  \n",
       "1                0.044588         4064            6  \n",
       "2                0.069721         7228            7  \n",
       "3                0.107093         9659            4  \n",
       "4                0.084460         6439            3  "
      ]
     },
     "execution_count": 143,
     "metadata": {},
     "output_type": "execute_result"
    }
   ],
   "source": [
    "text_data.to_csv('./all_text.csv', index = False)\n",
    "text_data.head()"
   ]
  },
  {
   "cell_type": "markdown",
   "id": "efa14a48",
   "metadata": {},
   "source": [
    "# Text Analytics"
   ]
  },
  {
   "cell_type": "code",
   "execution_count": 6,
   "id": "f0d9bcde",
   "metadata": {},
   "outputs": [
    {
     "data": {
      "text/html": [
       "<div>\n",
       "<style scoped>\n",
       "    .dataframe tbody tr th:only-of-type {\n",
       "        vertical-align: middle;\n",
       "    }\n",
       "\n",
       "    .dataframe tbody tr th {\n",
       "        vertical-align: top;\n",
       "    }\n",
       "\n",
       "    .dataframe thead th {\n",
       "        text-align: right;\n",
       "    }\n",
       "</style>\n",
       "<table border=\"1\" class=\"dataframe\">\n",
       "  <thead>\n",
       "    <tr style=\"text-align: right;\">\n",
       "      <th></th>\n",
       "      <th>Unnamed: 0</th>\n",
       "      <th>gvkey</th>\n",
       "      <th>gsector</th>\n",
       "      <th>year</th>\n",
       "      <th>tic</th>\n",
       "      <th>cik</th>\n",
       "      <th>grade</th>\n",
       "      <th>datadate</th>\n",
       "      <th>text</th>\n",
       "    </tr>\n",
       "  </thead>\n",
       "  <tbody>\n",
       "    <tr>\n",
       "      <th>0</th>\n",
       "      <td>0</td>\n",
       "      <td>1048</td>\n",
       "      <td>10</td>\n",
       "      <td>2002</td>\n",
       "      <td>4267A</td>\n",
       "      <td>65695</td>\n",
       "      <td>fallen</td>\n",
       "      <td>2002-11-30</td>\n",
       "      <td>10-Q 1 h95964e10-q.txt ANR PIPELINE COMPANY - ...</td>\n",
       "    </tr>\n",
       "    <tr>\n",
       "      <th>1</th>\n",
       "      <td>1</td>\n",
       "      <td>1048</td>\n",
       "      <td>10</td>\n",
       "      <td>2002</td>\n",
       "      <td>4267A</td>\n",
       "      <td>65695</td>\n",
       "      <td>invest</td>\n",
       "      <td>2002-10-31</td>\n",
       "      <td>10-Q 1 h95964e10-q.txt ANR PIPELINE COMPANY - ...</td>\n",
       "    </tr>\n",
       "    <tr>\n",
       "      <th>2</th>\n",
       "      <td>2</td>\n",
       "      <td>1048</td>\n",
       "      <td>10</td>\n",
       "      <td>2009</td>\n",
       "      <td>4267A</td>\n",
       "      <td>65695</td>\n",
       "      <td>invest</td>\n",
       "      <td>2009-12-31</td>\n",
       "      <td>NaN</td>\n",
       "    </tr>\n",
       "    <tr>\n",
       "      <th>3</th>\n",
       "      <td>3</td>\n",
       "      <td>1048</td>\n",
       "      <td>10</td>\n",
       "      <td>2010</td>\n",
       "      <td>4267A</td>\n",
       "      <td>65695</td>\n",
       "      <td>invest</td>\n",
       "      <td>2010-02-28</td>\n",
       "      <td>NaN</td>\n",
       "    </tr>\n",
       "    <tr>\n",
       "      <th>4</th>\n",
       "      <td>4</td>\n",
       "      <td>1075</td>\n",
       "      <td>55</td>\n",
       "      <td>2002</td>\n",
       "      <td>PNW</td>\n",
       "      <td>764622</td>\n",
       "      <td>invest</td>\n",
       "      <td>2002-12-31</td>\n",
       "      <td>10-Q 1 e-8506.txt QUARTERLY REPORT FOR THE QTR...</td>\n",
       "    </tr>\n",
       "    <tr>\n",
       "      <th>...</th>\n",
       "      <td>...</td>\n",
       "      <td>...</td>\n",
       "      <td>...</td>\n",
       "      <td>...</td>\n",
       "      <td>...</td>\n",
       "      <td>...</td>\n",
       "      <td>...</td>\n",
       "      <td>...</td>\n",
       "      <td>...</td>\n",
       "    </tr>\n",
       "    <tr>\n",
       "      <th>13328</th>\n",
       "      <td>13328</td>\n",
       "      <td>266257</td>\n",
       "      <td>40</td>\n",
       "      <td>2016</td>\n",
       "      <td>AINV</td>\n",
       "      <td>1278752</td>\n",
       "      <td>fallen</td>\n",
       "      <td>2016-01-31</td>\n",
       "      <td>NaN</td>\n",
       "    </tr>\n",
       "    <tr>\n",
       "      <th>13329</th>\n",
       "      <td>13329</td>\n",
       "      <td>287882</td>\n",
       "      <td>10</td>\n",
       "      <td>2013</td>\n",
       "      <td>EC</td>\n",
       "      <td>1444406</td>\n",
       "      <td>invest</td>\n",
       "      <td>2013-12-31</td>\n",
       "      <td>NaN</td>\n",
       "    </tr>\n",
       "    <tr>\n",
       "      <th>13330</th>\n",
       "      <td>13330</td>\n",
       "      <td>287882</td>\n",
       "      <td>10</td>\n",
       "      <td>2014</td>\n",
       "      <td>EC</td>\n",
       "      <td>1444406</td>\n",
       "      <td>invest</td>\n",
       "      <td>2014-12-31</td>\n",
       "      <td>NaN</td>\n",
       "    </tr>\n",
       "    <tr>\n",
       "      <th>13331</th>\n",
       "      <td>13331</td>\n",
       "      <td>287882</td>\n",
       "      <td>10</td>\n",
       "      <td>2015</td>\n",
       "      <td>EC</td>\n",
       "      <td>1444406</td>\n",
       "      <td>invest</td>\n",
       "      <td>2015-12-31</td>\n",
       "      <td>NaN</td>\n",
       "    </tr>\n",
       "    <tr>\n",
       "      <th>13332</th>\n",
       "      <td>13332</td>\n",
       "      <td>287882</td>\n",
       "      <td>10</td>\n",
       "      <td>2016</td>\n",
       "      <td>EC</td>\n",
       "      <td>1444406</td>\n",
       "      <td>invest</td>\n",
       "      <td>2016-12-31</td>\n",
       "      <td>NaN</td>\n",
       "    </tr>\n",
       "  </tbody>\n",
       "</table>\n",
       "<p>13333 rows × 9 columns</p>\n",
       "</div>"
      ],
      "text/plain": [
       "       Unnamed: 0   gvkey  gsector  year    tic      cik   grade    datadate  \\\n",
       "0               0    1048       10  2002  4267A    65695  fallen  2002-11-30   \n",
       "1               1    1048       10  2002  4267A    65695  invest  2002-10-31   \n",
       "2               2    1048       10  2009  4267A    65695  invest  2009-12-31   \n",
       "3               3    1048       10  2010  4267A    65695  invest  2010-02-28   \n",
       "4               4    1075       55  2002    PNW   764622  invest  2002-12-31   \n",
       "...           ...     ...      ...   ...    ...      ...     ...         ...   \n",
       "13328       13328  266257       40  2016   AINV  1278752  fallen  2016-01-31   \n",
       "13329       13329  287882       10  2013     EC  1444406  invest  2013-12-31   \n",
       "13330       13330  287882       10  2014     EC  1444406  invest  2014-12-31   \n",
       "13331       13331  287882       10  2015     EC  1444406  invest  2015-12-31   \n",
       "13332       13332  287882       10  2016     EC  1444406  invest  2016-12-31   \n",
       "\n",
       "                                                    text  \n",
       "0      10-Q 1 h95964e10-q.txt ANR PIPELINE COMPANY - ...  \n",
       "1      10-Q 1 h95964e10-q.txt ANR PIPELINE COMPANY - ...  \n",
       "2                                                    NaN  \n",
       "3                                                    NaN  \n",
       "4      10-Q 1 e-8506.txt QUARTERLY REPORT FOR THE QTR...  \n",
       "...                                                  ...  \n",
       "13328                                                NaN  \n",
       "13329                                                NaN  \n",
       "13330                                                NaN  \n",
       "13331                                                NaN  \n",
       "13332                                                NaN  \n",
       "\n",
       "[13333 rows x 9 columns]"
      ]
     },
     "execution_count": 6,
     "metadata": {},
     "output_type": "execute_result"
    }
   ],
   "source": [
    "import pandas as pd\n",
    "text_data = pd.read_csv('data_files/all_text.csv', low_memory=False)\n",
    "# text_data = pd.read_hdf('data_files/all_text.hdf')\n",
    "text_data"
   ]
  },
  {
   "cell_type": "code",
   "execution_count": 11,
   "id": "503cdc1f",
   "metadata": {},
   "outputs": [
    {
     "name": "stdout",
     "output_type": "stream",
     "text": [
      "(5360, 8)\n"
     ]
    },
    {
     "data": {
      "text/html": [
       "<div>\n",
       "<style scoped>\n",
       "    .dataframe tbody tr th:only-of-type {\n",
       "        vertical-align: middle;\n",
       "    }\n",
       "\n",
       "    .dataframe tbody tr th {\n",
       "        vertical-align: top;\n",
       "    }\n",
       "\n",
       "    .dataframe thead th {\n",
       "        text-align: right;\n",
       "    }\n",
       "</style>\n",
       "<table border=\"1\" class=\"dataframe\">\n",
       "  <thead>\n",
       "    <tr style=\"text-align: right;\">\n",
       "      <th></th>\n",
       "      <th>gvkey</th>\n",
       "      <th>gsector</th>\n",
       "      <th>year</th>\n",
       "      <th>tic</th>\n",
       "      <th>cik</th>\n",
       "      <th>grade</th>\n",
       "      <th>datadate</th>\n",
       "      <th>text</th>\n",
       "    </tr>\n",
       "  </thead>\n",
       "  <tbody>\n",
       "    <tr>\n",
       "      <th>0</th>\n",
       "      <td>1048</td>\n",
       "      <td>10</td>\n",
       "      <td>2002</td>\n",
       "      <td>4267A</td>\n",
       "      <td>65695</td>\n",
       "      <td>fallen</td>\n",
       "      <td>2002-11-30</td>\n",
       "      <td>10-Q 1 h95964e10-q.txt ANR PIPELINE COMPANY - ...</td>\n",
       "    </tr>\n",
       "    <tr>\n",
       "      <th>1</th>\n",
       "      <td>1048</td>\n",
       "      <td>10</td>\n",
       "      <td>2002</td>\n",
       "      <td>4267A</td>\n",
       "      <td>65695</td>\n",
       "      <td>invest</td>\n",
       "      <td>2002-10-31</td>\n",
       "      <td>10-Q 1 h95964e10-q.txt ANR PIPELINE COMPANY - ...</td>\n",
       "    </tr>\n",
       "    <tr>\n",
       "      <th>4</th>\n",
       "      <td>1075</td>\n",
       "      <td>55</td>\n",
       "      <td>2002</td>\n",
       "      <td>PNW</td>\n",
       "      <td>764622</td>\n",
       "      <td>invest</td>\n",
       "      <td>2002-12-31</td>\n",
       "      <td>10-Q 1 e-8506.txt QUARTERLY REPORT FOR THE QTR...</td>\n",
       "    </tr>\n",
       "    <tr>\n",
       "      <th>5</th>\n",
       "      <td>1075</td>\n",
       "      <td>55</td>\n",
       "      <td>2003</td>\n",
       "      <td>PNW</td>\n",
       "      <td>764622</td>\n",
       "      <td>invest</td>\n",
       "      <td>2003-12-31</td>\n",
       "      <td>10-K 1 e-9738.txt ANNUAL REPORT FOR THE YEAR E...</td>\n",
       "    </tr>\n",
       "    <tr>\n",
       "      <th>6</th>\n",
       "      <td>1075</td>\n",
       "      <td>55</td>\n",
       "      <td>2005</td>\n",
       "      <td>PNW</td>\n",
       "      <td>764622</td>\n",
       "      <td>fallen</td>\n",
       "      <td>2005-11-30</td>\n",
       "      <td>10-K 1 p70328e10vk.htm 10-K e10vk Table of Con...</td>\n",
       "    </tr>\n",
       "  </tbody>\n",
       "</table>\n",
       "</div>"
      ],
      "text/plain": [
       "   gvkey  gsector  year    tic     cik   grade   datadate  \\\n",
       "0   1048       10  2002  4267A   65695  fallen 2002-11-30   \n",
       "1   1048       10  2002  4267A   65695  invest 2002-10-31   \n",
       "4   1075       55  2002    PNW  764622  invest 2002-12-31   \n",
       "5   1075       55  2003    PNW  764622  invest 2003-12-31   \n",
       "6   1075       55  2005    PNW  764622  fallen 2005-11-30   \n",
       "\n",
       "                                                text  \n",
       "0  10-Q 1 h95964e10-q.txt ANR PIPELINE COMPANY - ...  \n",
       "1  10-Q 1 h95964e10-q.txt ANR PIPELINE COMPANY - ...  \n",
       "4  10-Q 1 e-8506.txt QUARTERLY REPORT FOR THE QTR...  \n",
       "5  10-K 1 e-9738.txt ANNUAL REPORT FOR THE YEAR E...  \n",
       "6  10-K 1 p70328e10vk.htm 10-K e10vk Table of Con...  "
      ]
     },
     "execution_count": 11,
     "metadata": {},
     "output_type": "execute_result"
    }
   ],
   "source": [
    "text_data = text_data.dropna(subset=['text']).drop(['Unnamed: 0'], axis=1)\n",
    "text_data.datadate = pd.to_datetime(text_data.datadate)\n",
    "print(text_data.shape)\n",
    "text_data.head()"
   ]
  },
  {
   "cell_type": "code",
   "execution_count": 12,
   "id": "ec62f6d2",
   "metadata": {},
   "outputs": [
    {
     "data": {
      "text/plain": [
       "invest    5176\n",
       "fallen     184\n",
       "Name: grade, dtype: int64"
      ]
     },
     "execution_count": 12,
     "metadata": {},
     "output_type": "execute_result"
    }
   ],
   "source": [
    "text_data.grade.value_counts()"
   ]
  },
  {
   "cell_type": "code",
   "execution_count": 17,
   "id": "88d83314",
   "metadata": {},
   "outputs": [
    {
     "data": {
      "application/vnd.jupyter.widget-view+json": {
       "model_id": "d04cb1c1294e453b8cebfc871407105a",
       "version_major": 2,
       "version_minor": 0
      },
      "text/plain": [
       "  0%|          | 0/5360 [00:00<?, ?it/s]"
      ]
     },
     "metadata": {},
     "output_type": "display_data"
    },
    {
     "data": {
      "application/vnd.jupyter.widget-view+json": {
       "model_id": "2bb1f6355ac040749c58b9832d86ac97",
       "version_major": 2,
       "version_minor": 0
      },
      "text/plain": [
       "  0%|          | 0/5360 [00:00<?, ?it/s]"
      ]
     },
     "metadata": {},
     "output_type": "display_data"
    },
    {
     "data": {
      "text/html": [
       "<div>\n",
       "<style scoped>\n",
       "    .dataframe tbody tr th:only-of-type {\n",
       "        vertical-align: middle;\n",
       "    }\n",
       "\n",
       "    .dataframe tbody tr th {\n",
       "        vertical-align: top;\n",
       "    }\n",
       "\n",
       "    .dataframe thead th {\n",
       "        text-align: right;\n",
       "    }\n",
       "</style>\n",
       "<table border=\"1\" class=\"dataframe\">\n",
       "  <thead>\n",
       "    <tr style=\"text-align: right;\">\n",
       "      <th></th>\n",
       "      <th>gvkey</th>\n",
       "      <th>gsector</th>\n",
       "      <th>year</th>\n",
       "      <th>tic</th>\n",
       "      <th>cik</th>\n",
       "      <th>grade</th>\n",
       "      <th>datadate</th>\n",
       "      <th>text</th>\n",
       "      <th>clean_text</th>\n",
       "      <th>review_clean_tokenize</th>\n",
       "    </tr>\n",
       "  </thead>\n",
       "  <tbody>\n",
       "    <tr>\n",
       "      <th>0</th>\n",
       "      <td>1048</td>\n",
       "      <td>10</td>\n",
       "      <td>2002</td>\n",
       "      <td>4267A</td>\n",
       "      <td>65695</td>\n",
       "      <td>fallen</td>\n",
       "      <td>2002-11-30</td>\n",
       "      <td>10-Q 1 h95964e10-q.txt ANR PIPELINE COMPANY - ...</td>\n",
       "      <td>10q 1 h95964e10q.txt anr pipeline company date...</td>\n",
       "      <td>[10q, 1, h95964e10q.txt, anr, pipeline, compan...</td>\n",
       "    </tr>\n",
       "    <tr>\n",
       "      <th>1</th>\n",
       "      <td>1048</td>\n",
       "      <td>10</td>\n",
       "      <td>2002</td>\n",
       "      <td>4267A</td>\n",
       "      <td>65695</td>\n",
       "      <td>invest</td>\n",
       "      <td>2002-10-31</td>\n",
       "      <td>10-Q 1 h95964e10-q.txt ANR PIPELINE COMPANY - ...</td>\n",
       "      <td>10q 1 h95964e10q.txt anr pipeline company date...</td>\n",
       "      <td>[10q, 1, h95964e10q.txt, anr, pipeline, compan...</td>\n",
       "    </tr>\n",
       "    <tr>\n",
       "      <th>4</th>\n",
       "      <td>1075</td>\n",
       "      <td>55</td>\n",
       "      <td>2002</td>\n",
       "      <td>PNW</td>\n",
       "      <td>764622</td>\n",
       "      <td>invest</td>\n",
       "      <td>2002-12-31</td>\n",
       "      <td>10-Q 1 e-8506.txt QUARTERLY REPORT FOR THE QTR...</td>\n",
       "      <td>10q 1 e8506.txt quarterly report qtr ended 033...</td>\n",
       "      <td>[10q, 1, e8506.txt, quarterly, report, qtr, en...</td>\n",
       "    </tr>\n",
       "    <tr>\n",
       "      <th>5</th>\n",
       "      <td>1075</td>\n",
       "      <td>55</td>\n",
       "      <td>2003</td>\n",
       "      <td>PNW</td>\n",
       "      <td>764622</td>\n",
       "      <td>invest</td>\n",
       "      <td>2003-12-31</td>\n",
       "      <td>10-K 1 e-9738.txt ANNUAL REPORT FOR THE YEAR E...</td>\n",
       "      <td>10k 1 e9738.txt annual report year ended 12312...</td>\n",
       "      <td>[10k, 1, e9738.txt, annual, report, year, ende...</td>\n",
       "    </tr>\n",
       "    <tr>\n",
       "      <th>6</th>\n",
       "      <td>1075</td>\n",
       "      <td>55</td>\n",
       "      <td>2005</td>\n",
       "      <td>PNW</td>\n",
       "      <td>764622</td>\n",
       "      <td>fallen</td>\n",
       "      <td>2005-11-30</td>\n",
       "      <td>10-K 1 p70328e10vk.htm 10-K e10vk Table of Con...</td>\n",
       "      <td>10k 1 p70328e10vk.htm 10k e10vk table content ...</td>\n",
       "      <td>[10k, 1, p70328e10vk.htm, 10k, e10vk, table, c...</td>\n",
       "    </tr>\n",
       "  </tbody>\n",
       "</table>\n",
       "</div>"
      ],
      "text/plain": [
       "   gvkey  gsector  year    tic     cik   grade   datadate  \\\n",
       "0   1048       10  2002  4267A   65695  fallen 2002-11-30   \n",
       "1   1048       10  2002  4267A   65695  invest 2002-10-31   \n",
       "4   1075       55  2002    PNW  764622  invest 2002-12-31   \n",
       "5   1075       55  2003    PNW  764622  invest 2003-12-31   \n",
       "6   1075       55  2005    PNW  764622  fallen 2005-11-30   \n",
       "\n",
       "                                                text  \\\n",
       "0  10-Q 1 h95964e10-q.txt ANR PIPELINE COMPANY - ...   \n",
       "1  10-Q 1 h95964e10-q.txt ANR PIPELINE COMPANY - ...   \n",
       "4  10-Q 1 e-8506.txt QUARTERLY REPORT FOR THE QTR...   \n",
       "5  10-K 1 e-9738.txt ANNUAL REPORT FOR THE YEAR E...   \n",
       "6  10-K 1 p70328e10vk.htm 10-K e10vk Table of Con...   \n",
       "\n",
       "                                          clean_text  \\\n",
       "0  10q 1 h95964e10q.txt anr pipeline company date...   \n",
       "1  10q 1 h95964e10q.txt anr pipeline company date...   \n",
       "4  10q 1 e8506.txt quarterly report qtr ended 033...   \n",
       "5  10k 1 e9738.txt annual report year ended 12312...   \n",
       "6  10k 1 p70328e10vk.htm 10k e10vk table content ...   \n",
       "\n",
       "                               review_clean_tokenize  \n",
       "0  [10q, 1, h95964e10q.txt, anr, pipeline, compan...  \n",
       "1  [10q, 1, h95964e10q.txt, anr, pipeline, compan...  \n",
       "4  [10q, 1, e8506.txt, quarterly, report, qtr, en...  \n",
       "5  [10k, 1, e9738.txt, annual, report, year, ende...  \n",
       "6  [10k, 1, p70328e10vk.htm, 10k, e10vk, table, c...  "
      ]
     },
     "execution_count": 17,
     "metadata": {},
     "output_type": "execute_result"
    }
   ],
   "source": [
    "stop = set(stopwords.words('english'))\n",
    "exclude = set(string.punctuation) - {'.'}\n",
    "lemma = WordNetLemmatizer() \n",
    "\n",
    "\n",
    "# One function for all the steps:\n",
    "def clean(doc):\n",
    "    # convert text into lower case + split into words\n",
    "    stop_free = \" \".join([i for i in doc.lower().split() if i not in stop])\n",
    "    # remove any stop words present\n",
    "    punc_free = ''.join(ch for ch in stop_free if ch not in exclude)  \n",
    "    # remove punctuations + normalize the text\n",
    "    normalized = \" \".join(lemma.lemmatize(word) for word in punc_free.split())  \n",
    "    \n",
    "    return normalized\n",
    "\n",
    "text_data['clean_text'] = text_data['text'].progress_apply(clean)\n",
    "text_data['review_clean_tokenize'] = text_data['clean_text'].progress_apply(word_tokenize)\n",
    "text_data.head()"
   ]
  },
  {
   "cell_type": "code",
   "execution_count": 18,
   "id": "2b77bca7",
   "metadata": {},
   "outputs": [],
   "source": [
    "analyser = SentimentIntensityAnalyzer()\n",
    "\n",
    "def get_sentiment(review, **kwargs):\n",
    "    sentiment_scores = [analyser.polarity_scores(sentence) for sentence in review.split('.')]\n",
    "    sentiment_scores = [(item['pos'], item['neg']) for item in sentiment_scores]\n",
    "    pos, neg = list(zip(*sentiment_scores))\n",
    "    return np.mean(pos), np.std(pos), np.mean(neg), np.std(neg)"
   ]
  },
  {
   "cell_type": "code",
   "execution_count": 19,
   "id": "a3b52910",
   "metadata": {},
   "outputs": [
    {
     "data": {
      "text/plain": [
       "(0.013141242203742203,\n",
       " 0.06452628985819978,\n",
       " 0.004962707900207901,\n",
       " 0.037019366695645865)"
      ]
     },
     "execution_count": 19,
     "metadata": {},
     "output_type": "execute_result"
    }
   ],
   "source": [
    "get_sentiment(text_data['clean_text'].iloc[0])"
   ]
  },
  {
   "cell_type": "code",
   "execution_count": 20,
   "id": "b9370d89",
   "metadata": {},
   "outputs": [
    {
     "data": {
      "application/vnd.jupyter.widget-view+json": {
       "model_id": "5bd1ae93519f41d3bf082f0a1d295495",
       "version_major": 2,
       "version_minor": 0
      },
      "text/plain": [
       "  0%|          | 0/5360 [00:00<?, ?it/s]"
      ]
     },
     "metadata": {},
     "output_type": "display_data"
    },
    {
     "data": {
      "text/html": [
       "<div>\n",
       "<style scoped>\n",
       "    .dataframe tbody tr th:only-of-type {\n",
       "        vertical-align: middle;\n",
       "    }\n",
       "\n",
       "    .dataframe tbody tr th {\n",
       "        vertical-align: top;\n",
       "    }\n",
       "\n",
       "    .dataframe thead th {\n",
       "        text-align: right;\n",
       "    }\n",
       "</style>\n",
       "<table border=\"1\" class=\"dataframe\">\n",
       "  <thead>\n",
       "    <tr style=\"text-align: right;\">\n",
       "      <th></th>\n",
       "      <th>gvkey</th>\n",
       "      <th>gsector</th>\n",
       "      <th>year</th>\n",
       "      <th>tic</th>\n",
       "      <th>cik</th>\n",
       "      <th>grade</th>\n",
       "      <th>datadate</th>\n",
       "      <th>text</th>\n",
       "      <th>clean_text</th>\n",
       "      <th>review_clean_tokenize</th>\n",
       "      <th>positive_sentiment_mean</th>\n",
       "      <th>positive_sentiment_std</th>\n",
       "      <th>negetive_sentiment_mean</th>\n",
       "      <th>negetive_sentiment_std</th>\n",
       "    </tr>\n",
       "  </thead>\n",
       "  <tbody>\n",
       "    <tr>\n",
       "      <th>0</th>\n",
       "      <td>1048</td>\n",
       "      <td>10</td>\n",
       "      <td>2002</td>\n",
       "      <td>4267A</td>\n",
       "      <td>65695</td>\n",
       "      <td>fallen</td>\n",
       "      <td>2002-11-30</td>\n",
       "      <td>10-Q 1 h95964e10-q.txt ANR PIPELINE COMPANY - ...</td>\n",
       "      <td>10q 1 h95964e10q.txt anr pipeline company date...</td>\n",
       "      <td>[10q, 1, h95964e10q.txt, anr, pipeline, compan...</td>\n",
       "      <td>0.013141</td>\n",
       "      <td>0.064526</td>\n",
       "      <td>0.004963</td>\n",
       "      <td>0.037019</td>\n",
       "    </tr>\n",
       "    <tr>\n",
       "      <th>1</th>\n",
       "      <td>1048</td>\n",
       "      <td>10</td>\n",
       "      <td>2002</td>\n",
       "      <td>4267A</td>\n",
       "      <td>65695</td>\n",
       "      <td>invest</td>\n",
       "      <td>2002-10-31</td>\n",
       "      <td>10-Q 1 h95964e10-q.txt ANR PIPELINE COMPANY - ...</td>\n",
       "      <td>10q 1 h95964e10q.txt anr pipeline company date...</td>\n",
       "      <td>[10q, 1, h95964e10q.txt, anr, pipeline, compan...</td>\n",
       "      <td>0.011630</td>\n",
       "      <td>0.060736</td>\n",
       "      <td>0.004810</td>\n",
       "      <td>0.036187</td>\n",
       "    </tr>\n",
       "    <tr>\n",
       "      <th>4</th>\n",
       "      <td>1075</td>\n",
       "      <td>55</td>\n",
       "      <td>2002</td>\n",
       "      <td>PNW</td>\n",
       "      <td>764622</td>\n",
       "      <td>invest</td>\n",
       "      <td>2002-12-31</td>\n",
       "      <td>10-Q 1 e-8506.txt QUARTERLY REPORT FOR THE QTR...</td>\n",
       "      <td>10q 1 e8506.txt quarterly report qtr ended 033...</td>\n",
       "      <td>[10q, 1, e8506.txt, quarterly, report, qtr, en...</td>\n",
       "      <td>0.123875</td>\n",
       "      <td>0.147400</td>\n",
       "      <td>0.044916</td>\n",
       "      <td>0.097766</td>\n",
       "    </tr>\n",
       "    <tr>\n",
       "      <th>5</th>\n",
       "      <td>1075</td>\n",
       "      <td>55</td>\n",
       "      <td>2003</td>\n",
       "      <td>PNW</td>\n",
       "      <td>764622</td>\n",
       "      <td>invest</td>\n",
       "      <td>2003-12-31</td>\n",
       "      <td>10-K 1 e-9738.txt ANNUAL REPORT FOR THE YEAR E...</td>\n",
       "      <td>10k 1 e9738.txt annual report year ended 12312...</td>\n",
       "      <td>[10k, 1, e9738.txt, annual, report, year, ende...</td>\n",
       "      <td>0.099414</td>\n",
       "      <td>0.146669</td>\n",
       "      <td>0.037760</td>\n",
       "      <td>0.094784</td>\n",
       "    </tr>\n",
       "    <tr>\n",
       "      <th>6</th>\n",
       "      <td>1075</td>\n",
       "      <td>55</td>\n",
       "      <td>2005</td>\n",
       "      <td>PNW</td>\n",
       "      <td>764622</td>\n",
       "      <td>fallen</td>\n",
       "      <td>2005-11-30</td>\n",
       "      <td>10-K 1 p70328e10vk.htm 10-K e10vk Table of Con...</td>\n",
       "      <td>10k 1 p70328e10vk.htm 10k e10vk table content ...</td>\n",
       "      <td>[10k, 1, p70328e10vk.htm, 10k, e10vk, table, c...</td>\n",
       "      <td>0.112401</td>\n",
       "      <td>0.147411</td>\n",
       "      <td>0.044053</td>\n",
       "      <td>0.096230</td>\n",
       "    </tr>\n",
       "  </tbody>\n",
       "</table>\n",
       "</div>"
      ],
      "text/plain": [
       "   gvkey  gsector  year    tic     cik   grade   datadate  \\\n",
       "0   1048       10  2002  4267A   65695  fallen 2002-11-30   \n",
       "1   1048       10  2002  4267A   65695  invest 2002-10-31   \n",
       "4   1075       55  2002    PNW  764622  invest 2002-12-31   \n",
       "5   1075       55  2003    PNW  764622  invest 2003-12-31   \n",
       "6   1075       55  2005    PNW  764622  fallen 2005-11-30   \n",
       "\n",
       "                                                text  \\\n",
       "0  10-Q 1 h95964e10-q.txt ANR PIPELINE COMPANY - ...   \n",
       "1  10-Q 1 h95964e10-q.txt ANR PIPELINE COMPANY - ...   \n",
       "4  10-Q 1 e-8506.txt QUARTERLY REPORT FOR THE QTR...   \n",
       "5  10-K 1 e-9738.txt ANNUAL REPORT FOR THE YEAR E...   \n",
       "6  10-K 1 p70328e10vk.htm 10-K e10vk Table of Con...   \n",
       "\n",
       "                                          clean_text  \\\n",
       "0  10q 1 h95964e10q.txt anr pipeline company date...   \n",
       "1  10q 1 h95964e10q.txt anr pipeline company date...   \n",
       "4  10q 1 e8506.txt quarterly report qtr ended 033...   \n",
       "5  10k 1 e9738.txt annual report year ended 12312...   \n",
       "6  10k 1 p70328e10vk.htm 10k e10vk table content ...   \n",
       "\n",
       "                               review_clean_tokenize  positive_sentiment_mean  \\\n",
       "0  [10q, 1, h95964e10q.txt, anr, pipeline, compan...                 0.013141   \n",
       "1  [10q, 1, h95964e10q.txt, anr, pipeline, compan...                 0.011630   \n",
       "4  [10q, 1, e8506.txt, quarterly, report, qtr, en...                 0.123875   \n",
       "5  [10k, 1, e9738.txt, annual, report, year, ende...                 0.099414   \n",
       "6  [10k, 1, p70328e10vk.htm, 10k, e10vk, table, c...                 0.112401   \n",
       "\n",
       "   positive_sentiment_std  negetive_sentiment_mean  negetive_sentiment_std  \n",
       "0                0.064526                 0.004963                0.037019  \n",
       "1                0.060736                 0.004810                0.036187  \n",
       "4                0.147400                 0.044916                0.097766  \n",
       "5                0.146669                 0.037760                0.094784  \n",
       "6                0.147411                 0.044053                0.096230  "
      ]
     },
     "execution_count": 20,
     "metadata": {},
     "output_type": "execute_result"
    }
   ],
   "source": [
    "# text_data['postive_sentiment']\n",
    "sentiment = text_data['clean_text'].progress_apply(get_sentiment)\n",
    "sentiment = list(zip(*sentiment))\n",
    "text_data['positive_sentiment_mean'] = sentiment[0]\n",
    "text_data['positive_sentiment_std'] = sentiment[1]\n",
    "text_data['negetive_sentiment_mean'] = sentiment[2]\n",
    "text_data['negetive_sentiment_std'] = sentiment[3]\n",
    "text_data.head()"
   ]
  },
  {
   "cell_type": "code",
   "execution_count": 23,
   "id": "a4252e77",
   "metadata": {},
   "outputs": [],
   "source": [
    "text_data.drop(['text','clean_text','review_clean_tokenize'], axis=1).to_hdf('sentiment_score.hdf', key='sentiment_score', mode='w')\n",
    "text_data.drop(['text','clean_text','review_clean_tokenize'], axis=1).to_csv('sentiment_score.csv')"
   ]
  },
  {
   "cell_type": "code",
   "execution_count": 4,
   "id": "67c8a5ab",
   "metadata": {},
   "outputs": [
    {
     "data": {
      "text/html": [
       "<div>\n",
       "<style scoped>\n",
       "    .dataframe tbody tr th:only-of-type {\n",
       "        vertical-align: middle;\n",
       "    }\n",
       "\n",
       "    .dataframe tbody tr th {\n",
       "        vertical-align: top;\n",
       "    }\n",
       "\n",
       "    .dataframe thead th {\n",
       "        text-align: right;\n",
       "    }\n",
       "</style>\n",
       "<table border=\"1\" class=\"dataframe\">\n",
       "  <thead>\n",
       "    <tr style=\"text-align: right;\">\n",
       "      <th></th>\n",
       "      <th>Unnamed: 0</th>\n",
       "      <th>gvkey</th>\n",
       "      <th>gsector</th>\n",
       "      <th>year</th>\n",
       "      <th>tic</th>\n",
       "      <th>cik</th>\n",
       "      <th>grade</th>\n",
       "      <th>datadate</th>\n",
       "      <th>text</th>\n",
       "      <th>clean_text</th>\n",
       "      <th>review_clean_tokenize</th>\n",
       "      <th>positive_sentiment_mean</th>\n",
       "      <th>positive_sentiment_std</th>\n",
       "      <th>negetive_sentiment_mean</th>\n",
       "      <th>negetive_sentiment_std</th>\n",
       "    </tr>\n",
       "  </thead>\n",
       "  <tbody>\n",
       "    <tr>\n",
       "      <th>0</th>\n",
       "      <td>0</td>\n",
       "      <td>1048</td>\n",
       "      <td>10</td>\n",
       "      <td>2002</td>\n",
       "      <td>4267A</td>\n",
       "      <td>65695</td>\n",
       "      <td>fallen</td>\n",
       "      <td>2002-11-30</td>\n",
       "      <td>10-Q 1 h95964e10-q.txt ANR PIPELINE COMPANY - ...</td>\n",
       "      <td>10q 1 h95964e10q.txt anr pipeline company date...</td>\n",
       "      <td>['10q', '1', 'h95964e10q.txt', 'anr', 'pipelin...</td>\n",
       "      <td>0.013141</td>\n",
       "      <td>0.064526</td>\n",
       "      <td>0.004963</td>\n",
       "      <td>0.037019</td>\n",
       "    </tr>\n",
       "    <tr>\n",
       "      <th>1</th>\n",
       "      <td>1</td>\n",
       "      <td>1048</td>\n",
       "      <td>10</td>\n",
       "      <td>2002</td>\n",
       "      <td>4267A</td>\n",
       "      <td>65695</td>\n",
       "      <td>invest</td>\n",
       "      <td>2002-10-31</td>\n",
       "      <td>10-Q 1 h95964e10-q.txt ANR PIPELINE COMPANY - ...</td>\n",
       "      <td>10q 1 h95964e10q.txt anr pipeline company date...</td>\n",
       "      <td>['10q', '1', 'h95964e10q.txt', 'anr', 'pipelin...</td>\n",
       "      <td>0.011630</td>\n",
       "      <td>0.060736</td>\n",
       "      <td>0.004810</td>\n",
       "      <td>0.036187</td>\n",
       "    </tr>\n",
       "    <tr>\n",
       "      <th>2</th>\n",
       "      <td>4</td>\n",
       "      <td>1075</td>\n",
       "      <td>55</td>\n",
       "      <td>2002</td>\n",
       "      <td>PNW</td>\n",
       "      <td>764622</td>\n",
       "      <td>invest</td>\n",
       "      <td>2002-12-31</td>\n",
       "      <td>10-Q 1 e-8506.txt QUARTERLY REPORT FOR THE QTR...</td>\n",
       "      <td>10q 1 e8506.txt quarterly report qtr ended 033...</td>\n",
       "      <td>['10q', '1', 'e8506.txt', 'quarterly', 'report...</td>\n",
       "      <td>0.123875</td>\n",
       "      <td>0.147400</td>\n",
       "      <td>0.044916</td>\n",
       "      <td>0.097766</td>\n",
       "    </tr>\n",
       "    <tr>\n",
       "      <th>3</th>\n",
       "      <td>5</td>\n",
       "      <td>1075</td>\n",
       "      <td>55</td>\n",
       "      <td>2003</td>\n",
       "      <td>PNW</td>\n",
       "      <td>764622</td>\n",
       "      <td>invest</td>\n",
       "      <td>2003-12-31</td>\n",
       "      <td>10-K 1 e-9738.txt ANNUAL REPORT FOR THE YEAR E...</td>\n",
       "      <td>10k 1 e9738.txt annual report year ended 12312...</td>\n",
       "      <td>['10k', '1', 'e9738.txt', 'annual', 'report', ...</td>\n",
       "      <td>0.099414</td>\n",
       "      <td>0.146669</td>\n",
       "      <td>0.037760</td>\n",
       "      <td>0.094784</td>\n",
       "    </tr>\n",
       "    <tr>\n",
       "      <th>4</th>\n",
       "      <td>6</td>\n",
       "      <td>1075</td>\n",
       "      <td>55</td>\n",
       "      <td>2005</td>\n",
       "      <td>PNW</td>\n",
       "      <td>764622</td>\n",
       "      <td>fallen</td>\n",
       "      <td>2005-11-30</td>\n",
       "      <td>10-K 1 p70328e10vk.htm 10-K e10vk Table of Con...</td>\n",
       "      <td>10k 1 p70328e10vk.htm 10k e10vk table content ...</td>\n",
       "      <td>['10k', '1', 'p70328e10vk.htm', '10k', 'e10vk'...</td>\n",
       "      <td>0.112401</td>\n",
       "      <td>0.147411</td>\n",
       "      <td>0.044053</td>\n",
       "      <td>0.096230</td>\n",
       "    </tr>\n",
       "  </tbody>\n",
       "</table>\n",
       "</div>"
      ],
      "text/plain": [
       "   Unnamed: 0  gvkey  gsector  year    tic     cik   grade    datadate  \\\n",
       "0           0   1048       10  2002  4267A   65695  fallen  2002-11-30   \n",
       "1           1   1048       10  2002  4267A   65695  invest  2002-10-31   \n",
       "2           4   1075       55  2002    PNW  764622  invest  2002-12-31   \n",
       "3           5   1075       55  2003    PNW  764622  invest  2003-12-31   \n",
       "4           6   1075       55  2005    PNW  764622  fallen  2005-11-30   \n",
       "\n",
       "                                                text  \\\n",
       "0  10-Q 1 h95964e10-q.txt ANR PIPELINE COMPANY - ...   \n",
       "1  10-Q 1 h95964e10-q.txt ANR PIPELINE COMPANY - ...   \n",
       "2  10-Q 1 e-8506.txt QUARTERLY REPORT FOR THE QTR...   \n",
       "3  10-K 1 e-9738.txt ANNUAL REPORT FOR THE YEAR E...   \n",
       "4  10-K 1 p70328e10vk.htm 10-K e10vk Table of Con...   \n",
       "\n",
       "                                          clean_text  \\\n",
       "0  10q 1 h95964e10q.txt anr pipeline company date...   \n",
       "1  10q 1 h95964e10q.txt anr pipeline company date...   \n",
       "2  10q 1 e8506.txt quarterly report qtr ended 033...   \n",
       "3  10k 1 e9738.txt annual report year ended 12312...   \n",
       "4  10k 1 p70328e10vk.htm 10k e10vk table content ...   \n",
       "\n",
       "                               review_clean_tokenize  positive_sentiment_mean  \\\n",
       "0  ['10q', '1', 'h95964e10q.txt', 'anr', 'pipelin...                 0.013141   \n",
       "1  ['10q', '1', 'h95964e10q.txt', 'anr', 'pipelin...                 0.011630   \n",
       "2  ['10q', '1', 'e8506.txt', 'quarterly', 'report...                 0.123875   \n",
       "3  ['10k', '1', 'e9738.txt', 'annual', 'report', ...                 0.099414   \n",
       "4  ['10k', '1', 'p70328e10vk.htm', '10k', 'e10vk'...                 0.112401   \n",
       "\n",
       "   positive_sentiment_std  negetive_sentiment_mean  negetive_sentiment_std  \n",
       "0                0.064526                 0.004963                0.037019  \n",
       "1                0.060736                 0.004810                0.036187  \n",
       "2                0.147400                 0.044916                0.097766  \n",
       "3                0.146669                 0.037760                0.094784  \n",
       "4                0.147411                 0.044053                0.096230  "
      ]
     },
     "execution_count": 4,
     "metadata": {},
     "output_type": "execute_result"
    }
   ],
   "source": [
    "text_data = pd.read_csv('sentiment_data_pre_fog.csv', low_memory= False)\n",
    "text_data.head()"
   ]
  },
  {
   "cell_type": "code",
   "execution_count": 24,
   "id": "e320068f",
   "metadata": {},
   "outputs": [],
   "source": [
    "text_data.to_hdf('sentiment_data_pre_fog.hdf', key='sentiment_data_pre_fog')\n",
    "\n",
    "\n",
    "risky_words = ['risk','bankrupt','distress','bad','poor','unexpected','competitor','dilute','saturate','low','underperform','decline','drop','decelarate','deficit','cost','downsize','crunch']\n",
    "text_data['total_words'] = 0\n",
    "text_data['risky_words'] = 0\n",
    "\n",
    "for i in tqdm(range(len(text_data))):\n",
    "    p = 0\n",
    "    \n",
    "    for words in text_data.iloc[i,'review_clean_tokenize']:\n",
    "        if words in risky_words:\n",
    "            p+=1\n",
    "            \n",
    "    text_data.loc[i,'risky_words'] = p\n",
    "    text_data.loc[i,'total_words'] = len(text_data.loc[i,'review_clean_tokenize'])\n",
    "text_data.head()"
   ]
  },
  {
   "cell_type": "code",
   "execution_count": 1,
   "metadata": {},
   "outputs": [
    {
     "ename": "NameError",
     "evalue": "name 'text_data' is not defined",
     "output_type": "error",
     "traceback": [
      "\u001b[0;31m---------------------------------------------------------------------------\u001b[0m",
      "\u001b[0;31mNameError\u001b[0m                                 Traceback (most recent call last)",
      "\u001b[0;32m/var/folders/y3/v6fyb_rs72bcn7ftc3lvwvmw0000gn/T/ipykernel_68947/4131471184.py\u001b[0m in \u001b[0;36m<module>\u001b[0;34m\u001b[0m\n\u001b[0;32m----> 1\u001b[0;31m \u001b[0mtext_data\u001b[0m\u001b[0;34m.\u001b[0m\u001b[0mshape\u001b[0m\u001b[0;34m\u001b[0m\u001b[0;34m\u001b[0m\u001b[0m\n\u001b[0m",
      "\u001b[0;31mNameError\u001b[0m: name 'text_data' is not defined"
     ]
    }
   ],
   "source": [
    "text_data.shape"
   ]
  },
  {
   "cell_type": "markdown",
   "id": "b8c8b991",
   "metadata": {},
   "source": [
    "# EDA"
   ]
  },
  {
   "cell_type": "code",
   "execution_count": null,
   "id": "190662c4",
   "metadata": {},
   "outputs": [],
   "source": [
    "import matplotlib.pyplot as plt"
   ]
  },
  {
   "cell_type": "code",
   "execution_count": null,
   "id": "90dcac6a",
   "metadata": {},
   "outputs": [
    {
     "data": {
      "text/plain": [
       "Text(0, 0.5, 'Overall Sentiment')"
      ]
     },
     "execution_count": 214,
     "metadata": {},
     "output_type": "execute_result"
    },
    {
     "data": {
      "image/png": "[encoded data removed]",
      "text/plain": [
       "<Figure size 432x288 with 1 Axes>"
      ]
     },
     "metadata": {
      "needs_background": "light"
     },
     "output_type": "display_data"
    }
   ],
   "source": [
    "# color_dict = {'fallen':'r', 'invest':'b'}\n",
    "# plt.scatter(y = text_data.positive_sentiment_mean-text_data.negetive_sentiment_mean, \n",
    "#             x = text_data.risky_words, c= text_data.grade.apply(lambda x: color_dict[x]))\n",
    "# plt.xlabel('# Risky Words')\n",
    "# plt.ylabel('Overall Sentiment')\n",
    "\n",
    "# plt.scatter(text_data.risky_words, text_data.total_words, c= text_data.grade.apply(lambda x: color_dict[x]))"
   ]
  },
  {
   "cell_type": "code",
   "execution_count": null,
   "id": "9e6990df",
   "metadata": {},
   "outputs": [
    {
     "data": {
      "text/html": [
       "<div>\n",
       "<style scoped>\n",
       "    .dataframe tbody tr th:only-of-type {\n",
       "        vertical-align: middle;\n",
       "    }\n",
       "\n",
       "    .dataframe tbody tr th {\n",
       "        vertical-align: top;\n",
       "    }\n",
       "\n",
       "    .dataframe thead th {\n",
       "        text-align: right;\n",
       "    }\n",
       "</style>\n",
       "<table border=\"1\" class=\"dataframe\">\n",
       "  <thead>\n",
       "    <tr style=\"text-align: right;\">\n",
       "      <th></th>\n",
       "      <th>filename</th>\n",
       "      <th>text</th>\n",
       "      <th>cik</th>\n",
       "      <th>date</th>\n",
       "      <th>grade</th>\n",
       "      <th>clean_text</th>\n",
       "      <th>positive_sentiment_mean</th>\n",
       "      <th>positive_sentiment_std</th>\n",
       "      <th>negetive_sentiment_mean</th>\n",
       "      <th>negetive_sentiment_std</th>\n",
       "      <th>total_words</th>\n",
       "      <th>risky_words</th>\n",
       "      <th>fog_index</th>\n",
       "      <th>year</th>\n",
       "    </tr>\n",
       "  </thead>\n",
       "  <tbody>\n",
       "    <tr>\n",
       "      <th>112</th>\n",
       "      <td>./data/processed/txt/invest/0001144519_2004-12...</td>\n",
       "      <td>10-K 1 a2153218z10-k.htm FORM 10-K QuickLinks ...</td>\n",
       "      <td>1144519</td>\n",
       "      <td>2004-12-31</td>\n",
       "      <td>invest</td>\n",
       "      <td>10k 1 a2153218z10k.htm form 10k quicklinks cli...</td>\n",
       "      <td>0.118746</td>\n",
       "      <td>0.158838</td>\n",
       "      <td>0.045956</td>\n",
       "      <td>0.108753</td>\n",
       "      <td>38742</td>\n",
       "      <td>75</td>\n",
       "      <td>11.960581</td>\n",
       "      <td>2004</td>\n",
       "    </tr>\n",
       "    <tr>\n",
       "      <th>113</th>\n",
       "      <td>./data/processed/txt/invest/0001144519_2005-03...</td>\n",
       "      <td>10-Q 1 a2157783z10-q.htm FORM 10-Q UNITED STAT...</td>\n",
       "      <td>1144519</td>\n",
       "      <td>2005-03-31</td>\n",
       "      <td>invest</td>\n",
       "      <td>10q 1 a2157783z10q.htm form 10q united state s...</td>\n",
       "      <td>0.142794</td>\n",
       "      <td>0.168242</td>\n",
       "      <td>0.051462</td>\n",
       "      <td>0.099700</td>\n",
       "      <td>9002</td>\n",
       "      <td>30</td>\n",
       "      <td>14.486495</td>\n",
       "      <td>2005</td>\n",
       "    </tr>\n",
       "    <tr>\n",
       "      <th>114</th>\n",
       "      <td>./data/processed/txt/invest/0001144519_2005-06...</td>\n",
       "      <td>10-Q 1 a2161887z10-q.htm 10-Q QuickLinks -- Cl...</td>\n",
       "      <td>1144519</td>\n",
       "      <td>2005-06-30</td>\n",
       "      <td>invest</td>\n",
       "      <td>10q 1 a2161887z10q.htm 10q quicklinks click ra...</td>\n",
       "      <td>0.121578</td>\n",
       "      <td>0.158142</td>\n",
       "      <td>0.065937</td>\n",
       "      <td>0.128164</td>\n",
       "      <td>12385</td>\n",
       "      <td>30</td>\n",
       "      <td>13.916105</td>\n",
       "      <td>2005</td>\n",
       "    </tr>\n",
       "    <tr>\n",
       "      <th>115</th>\n",
       "      <td>./data/processed/txt/invest/0001144519_2005-09...</td>\n",
       "      <td>10-Q 1 a2164857z10-q.htm 10-Q QuickLinks -- Cl...</td>\n",
       "      <td>1144519</td>\n",
       "      <td>2005-09-30</td>\n",
       "      <td>invest</td>\n",
       "      <td>10q 1 a2164857z10q.htm 10q quicklinks click ra...</td>\n",
       "      <td>0.127065</td>\n",
       "      <td>0.157534</td>\n",
       "      <td>0.066094</td>\n",
       "      <td>0.126130</td>\n",
       "      <td>12979</td>\n",
       "      <td>29</td>\n",
       "      <td>13.699765</td>\n",
       "      <td>2005</td>\n",
       "    </tr>\n",
       "    <tr>\n",
       "      <th>116</th>\n",
       "      <td>./data/processed/txt/fallen/0001144519_2005-12...</td>\n",
       "      <td>10-K 1 a06-6603_110k.htm ANNUAL REPORT PURSUAN...</td>\n",
       "      <td>1144519</td>\n",
       "      <td>2005-12-31</td>\n",
       "      <td>fallen</td>\n",
       "      <td>10k 1 a066603110k.htm annual report pursuant s...</td>\n",
       "      <td>0.116778</td>\n",
       "      <td>0.159499</td>\n",
       "      <td>0.043752</td>\n",
       "      <td>0.098366</td>\n",
       "      <td>39397</td>\n",
       "      <td>72</td>\n",
       "      <td>12.034930</td>\n",
       "      <td>2005</td>\n",
       "    </tr>\n",
       "    <tr>\n",
       "      <th>117</th>\n",
       "      <td>./data/processed/txt/invest/0001144519_2006-03...</td>\n",
       "      <td>10-Q 1 a2170198z10-q.htm FORM 10-Q QuickLinks ...</td>\n",
       "      <td>1144519</td>\n",
       "      <td>2006-03-31</td>\n",
       "      <td>invest</td>\n",
       "      <td>10q 1 a2170198z10q.htm form 10q quicklinks cli...</td>\n",
       "      <td>0.145937</td>\n",
       "      <td>0.169145</td>\n",
       "      <td>0.056757</td>\n",
       "      <td>0.105738</td>\n",
       "      <td>11203</td>\n",
       "      <td>35</td>\n",
       "      <td>13.970685</td>\n",
       "      <td>2006</td>\n",
       "    </tr>\n",
       "    <tr>\n",
       "      <th>118</th>\n",
       "      <td>./data/processed/txt/invest/0001144519_2006-06...</td>\n",
       "      <td>10-Q 1 a2172491z10-q.htm FORM 10-Q QuickLinks ...</td>\n",
       "      <td>1144519</td>\n",
       "      <td>2006-06-30</td>\n",
       "      <td>invest</td>\n",
       "      <td>10q 1 a2172491z10q.htm form 10q quicklinks cli...</td>\n",
       "      <td>0.136948</td>\n",
       "      <td>0.163651</td>\n",
       "      <td>0.063783</td>\n",
       "      <td>0.117457</td>\n",
       "      <td>14969</td>\n",
       "      <td>37</td>\n",
       "      <td>13.692816</td>\n",
       "      <td>2006</td>\n",
       "    </tr>\n",
       "    <tr>\n",
       "      <th>119</th>\n",
       "      <td>./data/processed/txt/fallen/0001144519_2006-09...</td>\n",
       "      <td>10-Q 1 a2174355z10-q.htm 10-Q QuickLinks -- Cl...</td>\n",
       "      <td>1144519</td>\n",
       "      <td>2006-09-30</td>\n",
       "      <td>fallen</td>\n",
       "      <td>10q 1 a2174355z10q.htm 10q quicklinks click ra...</td>\n",
       "      <td>0.143736</td>\n",
       "      <td>0.168690</td>\n",
       "      <td>0.074237</td>\n",
       "      <td>0.136981</td>\n",
       "      <td>15946</td>\n",
       "      <td>40</td>\n",
       "      <td>13.143720</td>\n",
       "      <td>2006</td>\n",
       "    </tr>\n",
       "  </tbody>\n",
       "</table>\n",
       "</div>"
      ],
      "text/plain": [
       "                                              filename  \\\n",
       "112  ./data/processed/txt/invest/0001144519_2004-12...   \n",
       "113  ./data/processed/txt/invest/0001144519_2005-03...   \n",
       "114  ./data/processed/txt/invest/0001144519_2005-06...   \n",
       "115  ./data/processed/txt/invest/0001144519_2005-09...   \n",
       "116  ./data/processed/txt/fallen/0001144519_2005-12...   \n",
       "117  ./data/processed/txt/invest/0001144519_2006-03...   \n",
       "118  ./data/processed/txt/invest/0001144519_2006-06...   \n",
       "119  ./data/processed/txt/fallen/0001144519_2006-09...   \n",
       "\n",
       "                                                  text      cik       date  \\\n",
       "112  10-K 1 a2153218z10-k.htm FORM 10-K QuickLinks ...  1144519 2004-12-31   \n",
       "113  10-Q 1 a2157783z10-q.htm FORM 10-Q UNITED STAT...  1144519 2005-03-31   \n",
       "114  10-Q 1 a2161887z10-q.htm 10-Q QuickLinks -- Cl...  1144519 2005-06-30   \n",
       "115  10-Q 1 a2164857z10-q.htm 10-Q QuickLinks -- Cl...  1144519 2005-09-30   \n",
       "116  10-K 1 a06-6603_110k.htm ANNUAL REPORT PURSUAN...  1144519 2005-12-31   \n",
       "117  10-Q 1 a2170198z10-q.htm FORM 10-Q QuickLinks ...  1144519 2006-03-31   \n",
       "118  10-Q 1 a2172491z10-q.htm FORM 10-Q QuickLinks ...  1144519 2006-06-30   \n",
       "119  10-Q 1 a2174355z10-q.htm 10-Q QuickLinks -- Cl...  1144519 2006-09-30   \n",
       "\n",
       "      grade                                         clean_text  \\\n",
       "112  invest  10k 1 a2153218z10k.htm form 10k quicklinks cli...   \n",
       "113  invest  10q 1 a2157783z10q.htm form 10q united state s...   \n",
       "114  invest  10q 1 a2161887z10q.htm 10q quicklinks click ra...   \n",
       "115  invest  10q 1 a2164857z10q.htm 10q quicklinks click ra...   \n",
       "116  fallen  10k 1 a066603110k.htm annual report pursuant s...   \n",
       "117  invest  10q 1 a2170198z10q.htm form 10q quicklinks cli...   \n",
       "118  invest  10q 1 a2172491z10q.htm form 10q quicklinks cli...   \n",
       "119  fallen  10q 1 a2174355z10q.htm 10q quicklinks click ra...   \n",
       "\n",
       "     positive_sentiment_mean  positive_sentiment_std  negetive_sentiment_mean  \\\n",
       "112                 0.118746                0.158838                 0.045956   \n",
       "113                 0.142794                0.168242                 0.051462   \n",
       "114                 0.121578                0.158142                 0.065937   \n",
       "115                 0.127065                0.157534                 0.066094   \n",
       "116                 0.116778                0.159499                 0.043752   \n",
       "117                 0.145937                0.169145                 0.056757   \n",
       "118                 0.136948                0.163651                 0.063783   \n",
       "119                 0.143736                0.168690                 0.074237   \n",
       "\n",
       "     negetive_sentiment_std  total_words  risky_words  fog_index  year  \n",
       "112                0.108753        38742           75  11.960581  2004  \n",
       "113                0.099700         9002           30  14.486495  2005  \n",
       "114                0.128164        12385           30  13.916105  2005  \n",
       "115                0.126130        12979           29  13.699765  2005  \n",
       "116                0.098366        39397           72  12.034930  2005  \n",
       "117                0.105738        11203           35  13.970685  2006  \n",
       "118                0.117457        14969           37  13.692816  2006  \n",
       "119                0.136981        15946           40  13.143720  2006  "
      ]
     },
     "execution_count": 227,
     "metadata": {},
     "output_type": "execute_result"
    }
   ],
   "source": [
    "text_data['date'] = pd.to_datetime(text_data['date'])\n",
    "text_data = text_data.sort_values(by=  ['cik','date'], ascending= True).reset_index(drop = True)\n",
    "text_data[text_data['cik'] == 1144519]\n",
    "# text_data"
   ]
  },
  {
   "cell_type": "code",
   "execution_count": null,
   "id": "e5a81ea1",
   "metadata": {},
   "outputs": [],
   "source": []
  },
  {
   "cell_type": "code",
   "execution_count": null,
   "id": "88a9c4b7",
   "metadata": {},
   "outputs": [],
   "source": []
  },
  {
   "cell_type": "code",
   "execution_count": null,
   "id": "b0cb6450",
   "metadata": {},
   "outputs": [],
   "source": []
  },
  {
   "cell_type": "markdown",
   "id": "4b6096dd",
   "metadata": {},
   "source": [
    "# Fog Score"
   ]
  },
  {
   "cell_type": "code",
   "execution_count": null,
   "id": "5c8b1b04",
   "metadata": {},
   "outputs": [],
   "source": [
    "import spacy\n",
    "from textstat.textstat import textstatistics,legacy_round\n",
    " \n",
    "# Splits the text into sentences, using\n",
    "# Spacy's sentence segmentation which can\n",
    "# be found at https://spacy.io/usage/spacy-101\n",
    "nlp = spacy.load('en_core_web_lg')\n",
    "def break_sentences(text):\n",
    "    # nlp = spacy.load('en_core_web_lg')\n",
    "    doc = nlp(text)\n",
    "    return list(doc.sents)\n",
    " \n",
    "# Returns Number of Words in the text\n",
    "def word_count(text):\n",
    "    sentences = break_sentences(text)\n",
    "    words = 0\n",
    "    for sentence in sentences:\n",
    "        words += len([token for token in sentence])\n",
    "    return words\n",
    " \n",
    "# Returns the number of sentences in the text\n",
    "def sentence_count(text):\n",
    "    sentences = break_sentences(text)\n",
    "    return len(sentences)\n",
    " \n",
    "# Returns average sentence length\n",
    "def avg_sentence_length(text):\n",
    "    words = word_count(text)\n",
    "    sentences = sentence_count(text)\n",
    "    average_sentence_length = float(words / sentences)\n",
    "    return average_sentence_length\n",
    " \n",
    "# Textstat is a python package, to calculate statistics from\n",
    "# text to determine readability,\n",
    "# complexity and grade level of a particular corpus.\n",
    "# Package can be found at https://pypi.python.org/pypi/textstat\n",
    "def syllables_count(word):\n",
    "    return textstatistics().syllable_count(word)\n",
    " \n",
    "# Returns the average number of syllables per\n",
    "# word in the text\n",
    "def avg_syllables_per_word(text):\n",
    "    syllable = syllables_count(text)\n",
    "    words = word_count(text)\n",
    "    ASPW = float(syllable) / float(words)\n",
    "    return legacy_round(ASPW, 1)\n",
    " \n",
    "# Return total Difficult Words in a text\n",
    "def difficult_words(text):\n",
    "    doc = nlp(text)\n",
    "    # Find all words in the text\n",
    "    words = []\n",
    "    sentences = break_sentences(text)\n",
    "    for sentence in sentences:\n",
    "        words += [str(token) for token in sentence]\n",
    " \n",
    "    # difficult words are those with syllables >= 2\n",
    "    # easy_word_set is provide by Textstat as\n",
    "    # a list of common words\n",
    "    diff_words_set = set()\n",
    "     \n",
    "    for word in words:\n",
    "        syllable_count = syllables_count(word)\n",
    "        if word not in nlp.Defaults.stop_words and syllable_count >= 2:\n",
    "            diff_words_set.add(word)\n",
    " \n",
    "    return len(diff_words_set)\n",
    " \n",
    "# A word is polysyllablic if it has more than 3 syllables\n",
    "# this functions returns the number of all such words\n",
    "# present in the text\n",
    "def poly_syllable_count(text):\n",
    "    count = 0\n",
    "    words = []\n",
    "    sentences = break_sentences(text)\n",
    "    for sentence in sentences:\n",
    "        words += [token for token in sentence]\n",
    "     \n",
    " \n",
    "    for word in words:\n",
    "        syllable_count = syllables_count(word)\n",
    "        if syllable_count >= 3:\n",
    "            count += 1\n",
    "    return count\n",
    " \n",
    " \n",
    " \n",
    "def gunning_fog(text):\n",
    "    per_diff_words = (difficult_words(text) / word_count(text) * 100) + 5\n",
    "    grade = 0.4 * (avg_sentence_length(text) + per_diff_words)\n",
    "    return grade\n",
    "\n",
    "text_data['fog_index'] = 0"
   ]
  },
  {
   "cell_type": "code",
   "execution_count": null,
   "id": "b01c6ed0",
   "metadata": {},
   "outputs": [
    {
     "data": {
      "text/plain": [
       "12.034929933614144"
      ]
     },
     "execution_count": 166,
     "metadata": {},
     "output_type": "execute_result"
    }
   ],
   "source": [
    "text_data.to_csv('sentiment_data_pre_fog.csv')\n",
    "print(gunning_fog(text_data.clean_text.iloc[0]))"
   ]
  },
  {
   "cell_type": "code",
   "execution_count": null,
   "id": "31da7ce2",
   "metadata": {},
   "outputs": [
    {
     "data": {
      "application/vnd.jupyter.widget-view+json": {
       "model_id": "2f09a6a967d3477b9f7cf41089c870ac",
       "version_major": 2,
       "version_minor": 0
      },
      "text/plain": [
       "  0%|          | 0/124 [00:00<?, ?it/s]"
      ]
     },
     "metadata": {},
     "output_type": "display_data"
    }
   ],
   "source": [
    "# fog_index\n",
    "\n",
    "text_data['fog_index'] = text_data.clean_text.progress_apply(lambda x: gunning_fog(x))"
   ]
  },
  {
   "cell_type": "code",
   "execution_count": null,
   "id": "16a02cf7",
   "metadata": {},
   "outputs": [
    {
     "data": {
      "text/html": [
       "<div>\n",
       "<style scoped>\n",
       "    .dataframe tbody tr th:only-of-type {\n",
       "        vertical-align: middle;\n",
       "    }\n",
       "\n",
       "    .dataframe tbody tr th {\n",
       "        vertical-align: top;\n",
       "    }\n",
       "\n",
       "    .dataframe thead th {\n",
       "        text-align: right;\n",
       "    }\n",
       "</style>\n",
       "<table border=\"1\" class=\"dataframe\">\n",
       "  <thead>\n",
       "    <tr style=\"text-align: right;\">\n",
       "      <th></th>\n",
       "      <th>filename</th>\n",
       "      <th>text</th>\n",
       "      <th>cik</th>\n",
       "      <th>date</th>\n",
       "      <th>grade</th>\n",
       "      <th>clean_text</th>\n",
       "      <th>positive_sentiment_mean</th>\n",
       "      <th>positive_sentiment_std</th>\n",
       "      <th>negetive_sentiment_mean</th>\n",
       "      <th>negetive_sentiment_std</th>\n",
       "      <th>total_words</th>\n",
       "      <th>risky_words</th>\n",
       "      <th>fog_index</th>\n",
       "    </tr>\n",
       "  </thead>\n",
       "  <tbody>\n",
       "    <tr>\n",
       "      <th>0</th>\n",
       "      <td>./data/processed/txt/fallen/0001144519_2005-12...</td>\n",
       "      <td>10-K 1 a06-6603_110k.htm ANNUAL REPORT PURSUAN...</td>\n",
       "      <td>1144519</td>\n",
       "      <td>2005-12-31</td>\n",
       "      <td>fallen</td>\n",
       "      <td>10k 1 a066603110k.htm annual report pursuant s...</td>\n",
       "      <td>0.116778</td>\n",
       "      <td>0.159499</td>\n",
       "      <td>0.043752</td>\n",
       "      <td>0.098366</td>\n",
       "      <td>39397</td>\n",
       "      <td>72</td>\n",
       "      <td>12.034930</td>\n",
       "    </tr>\n",
       "    <tr>\n",
       "      <th>1</th>\n",
       "      <td>./data/processed/txt/fallen/0000027500_2001-11...</td>\n",
       "      <td>10-Q 1 d93287e10-q.txt FORM 10-Q FOR QUARTER E...</td>\n",
       "      <td>27500</td>\n",
       "      <td>2001-11-25</td>\n",
       "      <td>fallen</td>\n",
       "      <td>10q 1 d93287e10q.txt form 10q quarter ended no...</td>\n",
       "      <td>0.020338</td>\n",
       "      <td>0.090538</td>\n",
       "      <td>0.004755</td>\n",
       "      <td>0.044588</td>\n",
       "      <td>4064</td>\n",
       "      <td>6</td>\n",
       "      <td>14.708014</td>\n",
       "    </tr>\n",
       "    <tr>\n",
       "      <th>2</th>\n",
       "      <td>./data/processed/txt/fallen/0000095521_2005-12...</td>\n",
       "      <td>10-Q 1 d10q.htm FORM 10-Q Form 10-Q UNITED STA...</td>\n",
       "      <td>95521</td>\n",
       "      <td>2005-12-03</td>\n",
       "      <td>fallen</td>\n",
       "      <td>10q 1 d10q.htm form 10q form 10q united state ...</td>\n",
       "      <td>0.112517</td>\n",
       "      <td>0.163165</td>\n",
       "      <td>0.023437</td>\n",
       "      <td>0.069721</td>\n",
       "      <td>7228</td>\n",
       "      <td>7</td>\n",
       "      <td>15.203633</td>\n",
       "    </tr>\n",
       "    <tr>\n",
       "      <th>3</th>\n",
       "      <td>./data/processed/txt/fallen/0000003333_2005-05...</td>\n",
       "      <td>10-Q 1 v09820e10vq.htm FORM 10-Q e10vq Table o...</td>\n",
       "      <td>3333</td>\n",
       "      <td>2005-05-05</td>\n",
       "      <td>fallen</td>\n",
       "      <td>10q 1 v09820e10vq.htm form 10q e10vq table con...</td>\n",
       "      <td>0.119319</td>\n",
       "      <td>0.158512</td>\n",
       "      <td>0.045622</td>\n",
       "      <td>0.107093</td>\n",
       "      <td>9659</td>\n",
       "      <td>4</td>\n",
       "      <td>14.915270</td>\n",
       "    </tr>\n",
       "    <tr>\n",
       "      <th>4</th>\n",
       "      <td>./data/processed/txt/fallen/0001016179_2001-06...</td>\n",
       "      <td>10-Q 1 p65397e10-q.htm 10-Q e10-q UNITED STATE...</td>\n",
       "      <td>1016179</td>\n",
       "      <td>2001-06-30</td>\n",
       "      <td>fallen</td>\n",
       "      <td>10q 1 p65397e10q.htm 10q e10q united state sec...</td>\n",
       "      <td>0.103316</td>\n",
       "      <td>0.156175</td>\n",
       "      <td>0.024699</td>\n",
       "      <td>0.084460</td>\n",
       "      <td>6439</td>\n",
       "      <td>3</td>\n",
       "      <td>15.558712</td>\n",
       "    </tr>\n",
       "  </tbody>\n",
       "</table>\n",
       "</div>"
      ],
      "text/plain": [
       "                                            filename  \\\n",
       "0  ./data/processed/txt/fallen/0001144519_2005-12...   \n",
       "1  ./data/processed/txt/fallen/0000027500_2001-11...   \n",
       "2  ./data/processed/txt/fallen/0000095521_2005-12...   \n",
       "3  ./data/processed/txt/fallen/0000003333_2005-05...   \n",
       "4  ./data/processed/txt/fallen/0001016179_2001-06...   \n",
       "\n",
       "                                                text      cik        date  \\\n",
       "0  10-K 1 a06-6603_110k.htm ANNUAL REPORT PURSUAN...  1144519  2005-12-31   \n",
       "1  10-Q 1 d93287e10-q.txt FORM 10-Q FOR QUARTER E...    27500  2001-11-25   \n",
       "2  10-Q 1 d10q.htm FORM 10-Q Form 10-Q UNITED STA...    95521  2005-12-03   \n",
       "3  10-Q 1 v09820e10vq.htm FORM 10-Q e10vq Table o...     3333  2005-05-05   \n",
       "4  10-Q 1 p65397e10-q.htm 10-Q e10-q UNITED STATE...  1016179  2001-06-30   \n",
       "\n",
       "    grade                                         clean_text  \\\n",
       "0  fallen  10k 1 a066603110k.htm annual report pursuant s...   \n",
       "1  fallen  10q 1 d93287e10q.txt form 10q quarter ended no...   \n",
       "2  fallen  10q 1 d10q.htm form 10q form 10q united state ...   \n",
       "3  fallen  10q 1 v09820e10vq.htm form 10q e10vq table con...   \n",
       "4  fallen  10q 1 p65397e10q.htm 10q e10q united state sec...   \n",
       "\n",
       "   positive_sentiment_mean  positive_sentiment_std  negetive_sentiment_mean  \\\n",
       "0                 0.116778                0.159499                 0.043752   \n",
       "1                 0.020338                0.090538                 0.004755   \n",
       "2                 0.112517                0.163165                 0.023437   \n",
       "3                 0.119319                0.158512                 0.045622   \n",
       "4                 0.103316                0.156175                 0.024699   \n",
       "\n",
       "   negetive_sentiment_std  total_words  risky_words  fog_index  \n",
       "0                0.098366        39397           72  12.034930  \n",
       "1                0.044588         4064            6  14.708014  \n",
       "2                0.069721         7228            7  15.203633  \n",
       "3                0.107093         9659            4  14.915270  \n",
       "4                0.084460         6439            3  15.558712  "
      ]
     },
     "execution_count": 171,
     "metadata": {},
     "output_type": "execute_result"
    }
   ],
   "source": [
    "text_data.to_csv('sentiment_data.csv')\n",
    "text_data.head()"
   ]
  },
  {
   "cell_type": "markdown",
   "id": "e31684d3",
   "metadata": {},
   "source": [
    "# TF-IDF"
   ]
  },
  {
   "cell_type": "code",
   "execution_count": 151,
   "id": "3bbfc339",
   "metadata": {},
   "outputs": [
    {
     "data": {
      "text/html": [
       "<div>\n",
       "<style scoped>\n",
       "    .dataframe tbody tr th:only-of-type {\n",
       "        vertical-align: middle;\n",
       "    }\n",
       "\n",
       "    .dataframe tbody tr th {\n",
       "        vertical-align: top;\n",
       "    }\n",
       "\n",
       "    .dataframe thead th {\n",
       "        text-align: right;\n",
       "    }\n",
       "</style>\n",
       "<table border=\"1\" class=\"dataframe\">\n",
       "  <thead>\n",
       "    <tr style=\"text-align: right;\">\n",
       "      <th></th>\n",
       "      <th>filename</th>\n",
       "      <th>text</th>\n",
       "      <th>cik</th>\n",
       "      <th>date</th>\n",
       "      <th>clean_text</th>\n",
       "      <th>review_clean_tokanize</th>\n",
       "      <th>postive_sentiment</th>\n",
       "      <th>negative_sentiment</th>\n",
       "      <th>total_words</th>\n",
       "      <th>risky_words</th>\n",
       "      <th>fog_index</th>\n",
       "    </tr>\n",
       "  </thead>\n",
       "  <tbody>\n",
       "    <tr>\n",
       "      <th>0</th>\n",
       "      <td>0000001750_2015-05-31_10-K.txt</td>\n",
       "      <td>10-K 1 a2225345z10-k.htm 10-K Use these links ...</td>\n",
       "      <td>1750</td>\n",
       "      <td>2015-05-31 00:00:00</td>\n",
       "      <td>10k 1 a2225345z10khtm 10k use link rapidly rev...</td>\n",
       "      <td>[10k, 1, a2225345z10khtm, 10k, use, link, rapi...</td>\n",
       "      <td>0.14</td>\n",
       "      <td>0.04</td>\n",
       "      <td>28486</td>\n",
       "      <td>36</td>\n",
       "      <td>8.182045</td>\n",
       "    </tr>\n",
       "    <tr>\n",
       "      <th>1</th>\n",
       "      <td>0000894315_2006-09-30_10-Q.txt</td>\n",
       "      <td>10-Q 1 l22661ae10vq.htm DEVELOPERS DIVERSIFIED...</td>\n",
       "      <td>894315</td>\n",
       "      <td>2006-09-30 00:00:00</td>\n",
       "      <td>10q 1 l22661ae10vqhtm developer diversified re...</td>\n",
       "      <td>[10q, 1, l22661ae10vqhtm, developer, diversifi...</td>\n",
       "      <td>0.19</td>\n",
       "      <td>0.04</td>\n",
       "      <td>19455</td>\n",
       "      <td>28</td>\n",
       "      <td>146.530731</td>\n",
       "    </tr>\n",
       "    <tr>\n",
       "      <th>2</th>\n",
       "      <td>0000894315_2006-12-31_10-K.txt</td>\n",
       "      <td>10-K 1 l24241ae10vk.htm DEVELOPERS DIVERSIFIED...</td>\n",
       "      <td>894315</td>\n",
       "      <td>2006-12-31 00:00:00</td>\n",
       "      <td>10k 1 l24241ae10vkhtm developer diversified re...</td>\n",
       "      <td>[10k, 1, l24241ae10vkhtm, developer, diversifi...</td>\n",
       "      <td>0.14</td>\n",
       "      <td>0.03</td>\n",
       "      <td>68034</td>\n",
       "      <td>61</td>\n",
       "      <td>90.189559</td>\n",
       "    </tr>\n",
       "    <tr>\n",
       "      <th>3</th>\n",
       "      <td>0000894315_2007-03-31_10-Q.txt</td>\n",
       "      <td>10-Q 1 l25860ae10vq.htm DEVELOPERS DIVERSIFIED...</td>\n",
       "      <td>894315</td>\n",
       "      <td>2007-03-31 00:00:00</td>\n",
       "      <td>10q 1 l25860ae10vqhtm developer diversified re...</td>\n",
       "      <td>[10q, 1, l25860ae10vqhtm, developer, diversifi...</td>\n",
       "      <td>0.18</td>\n",
       "      <td>0.04</td>\n",
       "      <td>14261</td>\n",
       "      <td>23</td>\n",
       "      <td>195.820049</td>\n",
       "    </tr>\n",
       "    <tr>\n",
       "      <th>4</th>\n",
       "      <td>0000894315_2007-06-30_10-Q.txt</td>\n",
       "      <td>10-Q 1 l27074ae10vq.htm DEVELOPERS DIVERSIFIED...</td>\n",
       "      <td>894315</td>\n",
       "      <td>2007-06-30 00:00:00</td>\n",
       "      <td>10q 1 l27074ae10vqhtm developer diversified re...</td>\n",
       "      <td>[10q, 1, l27074ae10vqhtm, developer, diversifi...</td>\n",
       "      <td>0.18</td>\n",
       "      <td>0.04</td>\n",
       "      <td>17321</td>\n",
       "      <td>21</td>\n",
       "      <td>166.295835</td>\n",
       "    </tr>\n",
       "  </tbody>\n",
       "</table>\n",
       "</div>"
      ],
      "text/plain": [
       "                         filename  \\\n",
       "0  0000001750_2015-05-31_10-K.txt   \n",
       "1  0000894315_2006-09-30_10-Q.txt   \n",
       "2  0000894315_2006-12-31_10-K.txt   \n",
       "3  0000894315_2007-03-31_10-Q.txt   \n",
       "4  0000894315_2007-06-30_10-Q.txt   \n",
       "\n",
       "                                                text     cik  \\\n",
       "0  10-K 1 a2225345z10-k.htm 10-K Use these links ...    1750   \n",
       "1  10-Q 1 l22661ae10vq.htm DEVELOPERS DIVERSIFIED...  894315   \n",
       "2  10-K 1 l24241ae10vk.htm DEVELOPERS DIVERSIFIED...  894315   \n",
       "3  10-Q 1 l25860ae10vq.htm DEVELOPERS DIVERSIFIED...  894315   \n",
       "4  10-Q 1 l27074ae10vq.htm DEVELOPERS DIVERSIFIED...  894315   \n",
       "\n",
       "                  date                                         clean_text  \\\n",
       "0  2015-05-31 00:00:00  10k 1 a2225345z10khtm 10k use link rapidly rev...   \n",
       "1  2006-09-30 00:00:00  10q 1 l22661ae10vqhtm developer diversified re...   \n",
       "2  2006-12-31 00:00:00  10k 1 l24241ae10vkhtm developer diversified re...   \n",
       "3  2007-03-31 00:00:00  10q 1 l25860ae10vqhtm developer diversified re...   \n",
       "4  2007-06-30 00:00:00  10q 1 l27074ae10vqhtm developer diversified re...   \n",
       "\n",
       "                               review_clean_tokanize  postive_sentiment  \\\n",
       "0  [10k, 1, a2225345z10khtm, 10k, use, link, rapi...               0.14   \n",
       "1  [10q, 1, l22661ae10vqhtm, developer, diversifi...               0.19   \n",
       "2  [10k, 1, l24241ae10vkhtm, developer, diversifi...               0.14   \n",
       "3  [10q, 1, l25860ae10vqhtm, developer, diversifi...               0.18   \n",
       "4  [10q, 1, l27074ae10vqhtm, developer, diversifi...               0.18   \n",
       "\n",
       "   negative_sentiment  total_words  risky_words   fog_index  \n",
       "0                0.04        28486           36    8.182045  \n",
       "1                0.04        19455           28  146.530731  \n",
       "2                0.03        68034           61   90.189559  \n",
       "3                0.04        14261           23  195.820049  \n",
       "4                0.04        17321           21  166.295835  "
      ]
     },
     "execution_count": 151,
     "metadata": {},
     "output_type": "execute_result"
    }
   ],
   "source": [
    "text_data.head()"
   ]
  },
  {
   "cell_type": "code",
   "execution_count": 152,
   "id": "4ee76cd7",
   "metadata": {},
   "outputs": [
    {
     "data": {
      "text/plain": [
       "(36, 11)"
      ]
     },
     "execution_count": 152,
     "metadata": {},
     "output_type": "execute_result"
    }
   ],
   "source": [
    "text_data.shape"
   ]
  },
  {
   "cell_type": "code",
   "execution_count": null,
   "id": "db6c3e2d",
   "metadata": {},
   "outputs": [],
   "source": []
  }
 ],
 "metadata": {
  "colab": {
   "name": "Ratings Downgrade Prediction.ipynb",
   "provenance": []
  },
  "kernelspec": {
   "display_name": "Python 3",
   "language": "python",
   "name": "python3"
  },
  "language_info": {
   "codemirror_mode": {
    "name": "ipython",
    "version": 3
   },
   "file_extension": ".py",
   "mimetype": "text/x-python",
   "name": "python",
   "nbconvert_exporter": "python",
   "pygments_lexer": "ipython3",
   "version": "3.9.7"
  }
 },
 "nbformat": 4,
 "nbformat_minor": 5
}
